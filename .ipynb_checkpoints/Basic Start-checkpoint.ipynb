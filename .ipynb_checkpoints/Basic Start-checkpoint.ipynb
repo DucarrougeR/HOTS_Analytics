{
 "cells": [
  {
   "cell_type": "markdown",
   "metadata": {},
   "source": [
    "# <font color='red'>Basic Analytics Applied to Training Set of Heroes of the Storm Game Data</font>\n",
    "\n",
    "        Patches         Release Date\n",
    "        0.11.0.35529\tMay 18, 2015\t\t\n",
    "        0.11.0.35360\tMay 12, 2015"
   ]
  },
  {
   "cell_type": "markdown",
   "metadata": {},
   "source": [
    "# <font color=blue>1. Decide on the objectives</font>\n",
    "\n",
    "Focus analysis only on Competitive Gameplay (Hero League: ~1.7million lines)\n",
    "\n",
    "\n",
    "### 1. Determine the best Heroes(in terms of win rate) in each category:\n",
    "* Support\n",
    "* Assassin\n",
    "* Warrior\n",
    "* Specialist\n",
    "\n",
    "### 2. Determine the best Team Composition in term of win rate\n",
    "\n",
    "### 3. Does the map affect the team composition?\n",
    "\n",
    "### 4. Which Assassin is better; ranged or melee?\n",
    "\n",
    "### 5. What are the most played Heroes in each category?  Are they the most likely heroes to win?"
   ]
  },
  {
   "cell_type": "markdown",
   "metadata": {},
   "source": [
    "# <font color=blue>2. Data collection</font>\n",
    "\n",
    "Sources for CSV Data Files gathering:  \n",
    "*https://www.reddit.com/r/heroesofthestorm/comments/43q3jc/hots_logs_data_export_19_million_games/*  \n",
    "*https://www.reddit.com/r/heroesofthestorm/comments/371q6a/hots_logs_data_export_600k_games/*"
   ]
  },
  {
   "cell_type": "markdown",
   "metadata": {},
   "source": [
    "# <font color=blue>3. Data Cleaning</font>"
   ]
  },
  {
   "cell_type": "code",
   "execution_count": 3,
   "metadata": {
    "collapsed": false
   },
   "outputs": [],
   "source": [
    "#import required libraries\n",
    "import pandas as pd\n",
    "import numpy as np\n",
    "import matplotlib.pyplot as plt\n",
    "import seaborn as sns\n",
    "import csv\n",
    "import sys\n",
    "\n",
    "#%matplotlib inline\n",
    "#using files to format dataframe display\n",
    "from IPython.display import display, HTML\n",
    "css = open('style-table.css').read() + open('style-notebook.css').read()\n",
    "HTML('<style>{}</style>'.format(css))\n",
    "\n",
    "#load both csv files into respective dataframes\n",
    "DF_Replay = pd.read_csv(\"TSReplay.csv\")\n",
    "\n",
    "DF_Characters = pd.read_csv(\"TSCharacters.csv\")\n",
    "\n",
    "DF_Map_Groups = pd.read_csv(\"HeroAndMap.csv\")"
   ]
  },
  {
   "cell_type": "code",
   "execution_count": 4,
   "metadata": {
    "collapsed": false
   },
   "outputs": [
    {
     "data": {
      "text/html": [
       "<div>\n",
       "<table border=\"1\" class=\"dataframe\">\n",
       "  <thead>\n",
       "    <tr style=\"text-align: right;\">\n",
       "      <th></th>\n",
       "      <th>ReplayID</th>\n",
       "      <th>GameMode(3=Quick Match 4=Hero League 5=Team League)</th>\n",
       "      <th>Map</th>\n",
       "      <th>Replay Length</th>\n",
       "      <th>Timestamp (UTC)</th>\n",
       "    </tr>\n",
       "  </thead>\n",
       "  <tbody>\n",
       "    <tr>\n",
       "      <th>0</th>\n",
       "      <td>23915730</td>\n",
       "      <td>4</td>\n",
       "      <td>Haunted Mines</td>\n",
       "      <td>00:12:00</td>\n",
       "      <td>5/14/2015 12:55:26 AM</td>\n",
       "    </tr>\n",
       "    <tr>\n",
       "      <th>1</th>\n",
       "      <td>23927005</td>\n",
       "      <td>3</td>\n",
       "      <td>Cursed Hollow</td>\n",
       "      <td>00:21:00</td>\n",
       "      <td>5/14/2015 12:55:26 AM</td>\n",
       "    </tr>\n",
       "  </tbody>\n",
       "</table>\n",
       "</div>"
      ],
      "text/plain": [
       "   ReplayID  GameMode(3=Quick Match 4=Hero League 5=Team League)  \\\n",
       "0  23915730                                                  4     \n",
       "1  23927005                                                  3     \n",
       "\n",
       "             Map Replay Length        Timestamp (UTC)  \n",
       "0  Haunted Mines      00:12:00  5/14/2015 12:55:26 AM  \n",
       "1  Cursed Hollow      00:21:00  5/14/2015 12:55:26 AM  "
      ]
     },
     "execution_count": 4,
     "metadata": {},
     "output_type": "execute_result"
    }
   ],
   "source": [
    "DF_Replay.head(2)"
   ]
  },
  {
   "cell_type": "code",
   "execution_count": 5,
   "metadata": {
    "collapsed": false
   },
   "outputs": [
    {
     "data": {
      "text/html": [
       "<div>\n",
       "<table border=\"1\" class=\"dataframe\">\n",
       "  <thead>\n",
       "    <tr style=\"text-align: right;\">\n",
       "      <th></th>\n",
       "      <th>ReplayID</th>\n",
       "      <th>GameMode</th>\n",
       "      <th>Map</th>\n",
       "      <th>ReplayLength</th>\n",
       "      <th>Timestamp</th>\n",
       "    </tr>\n",
       "  </thead>\n",
       "  <tbody>\n",
       "    <tr>\n",
       "      <th>0</th>\n",
       "      <td>23915730</td>\n",
       "      <td>4</td>\n",
       "      <td>Haunted Mines</td>\n",
       "      <td>00:12:00</td>\n",
       "      <td>5/14/2015 12:55:26 AM</td>\n",
       "    </tr>\n",
       "    <tr>\n",
       "      <th>2</th>\n",
       "      <td>23915740</td>\n",
       "      <td>4</td>\n",
       "      <td>Garden of Terror</td>\n",
       "      <td>00:26:18</td>\n",
       "      <td>5/14/2015 12:55:27 AM</td>\n",
       "    </tr>\n",
       "    <tr>\n",
       "      <th>10</th>\n",
       "      <td>23924385</td>\n",
       "      <td>4</td>\n",
       "      <td>Garden of Terror</td>\n",
       "      <td>00:34:37</td>\n",
       "      <td>5/14/2015 12:55:39 AM</td>\n",
       "    </tr>\n",
       "  </tbody>\n",
       "</table>\n",
       "</div>"
      ],
      "text/plain": [
       "    ReplayID  GameMode               Map ReplayLength              Timestamp\n",
       "0   23915730         4     Haunted Mines     00:12:00  5/14/2015 12:55:26 AM\n",
       "2   23915740         4  Garden of Terror     00:26:18  5/14/2015 12:55:27 AM\n",
       "10  23924385         4  Garden of Terror     00:34:37  5/14/2015 12:55:39 AM"
      ]
     },
     "execution_count": 5,
     "metadata": {},
     "output_type": "execute_result"
    }
   ],
   "source": [
    "#Renaming columns in the dataframe\n",
    "DF_Replay.columns = ['ReplayID', 'GameMode', 'Map', 'ReplayLength', 'Timestamp']\n",
    "#Only keeping rows relating to competitive gameplay (4 = Hero League)\n",
    "DF_Replay = DF_Replay[DF_Replay['GameMode'] == 4]\n",
    "DF_Replay.head(3)"
   ]
  },
  {
   "cell_type": "code",
   "execution_count": 6,
   "metadata": {
    "collapsed": false
   },
   "outputs": [
    {
     "data": {
      "text/html": [
       "<div>\n",
       "<table border=\"1\" class=\"dataframe\">\n",
       "  <thead>\n",
       "    <tr style=\"text-align: right;\">\n",
       "      <th></th>\n",
       "      <th>ReplayID</th>\n",
       "      <th>GameMode</th>\n",
       "      <th>Map</th>\n",
       "      <th>ReplayLength</th>\n",
       "      <th>Timestamp</th>\n",
       "    </tr>\n",
       "  </thead>\n",
       "  <tbody>\n",
       "    <tr>\n",
       "      <th>0</th>\n",
       "      <td>23915730</td>\n",
       "      <td>4</td>\n",
       "      <td>Haunted Mines</td>\n",
       "      <td>720</td>\n",
       "      <td>5/14/2015 12:55:26 AM</td>\n",
       "    </tr>\n",
       "    <tr>\n",
       "      <th>2</th>\n",
       "      <td>23915740</td>\n",
       "      <td>4</td>\n",
       "      <td>Garden of Terror</td>\n",
       "      <td>1578</td>\n",
       "      <td>5/14/2015 12:55:27 AM</td>\n",
       "    </tr>\n",
       "    <tr>\n",
       "      <th>10</th>\n",
       "      <td>23924385</td>\n",
       "      <td>4</td>\n",
       "      <td>Garden of Terror</td>\n",
       "      <td>2077</td>\n",
       "      <td>5/14/2015 12:55:39 AM</td>\n",
       "    </tr>\n",
       "    <tr>\n",
       "      <th>22</th>\n",
       "      <td>23915858</td>\n",
       "      <td>4</td>\n",
       "      <td>Sky Temple</td>\n",
       "      <td>1352</td>\n",
       "      <td>5/14/2015 12:56:00 AM</td>\n",
       "    </tr>\n",
       "    <tr>\n",
       "      <th>23</th>\n",
       "      <td>23915915</td>\n",
       "      <td>4</td>\n",
       "      <td>Dragon Shire</td>\n",
       "      <td>1440</td>\n",
       "      <td>5/14/2015 12:56:01 AM</td>\n",
       "    </tr>\n",
       "  </tbody>\n",
       "</table>\n",
       "</div>"
      ],
      "text/plain": [
       "    ReplayID  GameMode               Map  ReplayLength              Timestamp\n",
       "0   23915730         4     Haunted Mines           720  5/14/2015 12:55:26 AM\n",
       "2   23915740         4  Garden of Terror          1578  5/14/2015 12:55:27 AM\n",
       "10  23924385         4  Garden of Terror          2077  5/14/2015 12:55:39 AM\n",
       "22  23915858         4        Sky Temple          1352  5/14/2015 12:56:00 AM\n",
       "23  23915915         4      Dragon Shire          1440  5/14/2015 12:56:01 AM"
      ]
     },
     "execution_count": 6,
     "metadata": {},
     "output_type": "execute_result"
    }
   ],
   "source": [
    "#Split the string for ReplayLength into several sub-cells based on the ':'\n",
    "# XX : YY : ZZ\n",
    "# X *60 *60 (for float(sec))\n",
    "# Y *1 *60  (for float(sec))\n",
    "# Z *1      (for float(sec))\n",
    "\n",
    "#from format   |  hh:mm:mm  |\n",
    "#to format     |  hh  |  :  | mm:ss  |\n",
    "ChangeTime = DF_Replay['ReplayLength'].str.partition(':')\n",
    "ChangeTime.columns = ['Hour', 'Col2', 'MinSec']\n",
    "#Now we have one column for hours, and one for both minutes and seconds to partition again\n",
    "\n",
    "#from format  |  mm:ss  |\n",
    "#to format    |  mm  |  :  |  ss  |\n",
    "ChangeTime2 = ChangeTime['MinSec'].str.partition(':')\n",
    "ChangeTime2.columns = ['Min', 'Space', 'Second']\n",
    "#now we have one column for minutes and one for seconds\n",
    "\n",
    "#Get both column in float type\n",
    "ChangeTime2['Min'] = ChangeTime2['Min'].astype(float)\n",
    "ChangeTime2['Second'] = ChangeTime2['Second'].astype(float)\n",
    "\n",
    "#Apply math to convert min to sec, then add minutes and seconds together\n",
    "ChangeTime2['Min']= ChangeTime2['Min'] * 60\n",
    "ChangeTime2['Second'] = ChangeTime2['Min'] + ChangeTime2['Second']\n",
    "ChangeTime2 = ChangeTime2[[2]]\n",
    "\n",
    "ChangeTime = ChangeTime.drop('MinSec', axis=1)\n",
    "ChangeTime['Hour'] = ChangeTime['Hour'].astype(float)\n",
    "#change the values in the column with *60 to get in minutes, and *60 again to get result in seconds\n",
    "ChangeTime['Hour'] = ChangeTime['Hour'] * 60 * 60     \n",
    "\n",
    "ChangeTime['Col2'] = (ChangeTime2['Second'] + ChangeTime['Hour'])\n",
    "\n",
    "DF_Replay['ReplayLength'] = ChangeTime['Col2']\n",
    "DF_Replay.head()"
   ]
  },
  {
   "cell_type": "code",
   "execution_count": 7,
   "metadata": {
    "collapsed": false
   },
   "outputs": [
    {
     "data": {
      "text/html": [
       "<div>\n",
       "<table border=\"1\" class=\"dataframe\">\n",
       "  <thead>\n",
       "    <tr style=\"text-align: right;\">\n",
       "      <th></th>\n",
       "      <th>ReplayID</th>\n",
       "      <th>Is Auto Select</th>\n",
       "      <th>Hero</th>\n",
       "      <th>Hero Level</th>\n",
       "      <th>Is Winner</th>\n",
       "      <th>MMR Before</th>\n",
       "    </tr>\n",
       "  </thead>\n",
       "  <tbody>\n",
       "    <tr>\n",
       "      <th>0</th>\n",
       "      <td>23915730</td>\n",
       "      <td>False</td>\n",
       "      <td>Rehgar</td>\n",
       "      <td>14</td>\n",
       "      <td>False</td>\n",
       "      <td>3170</td>\n",
       "    </tr>\n",
       "    <tr>\n",
       "      <th>1</th>\n",
       "      <td>23915730</td>\n",
       "      <td>False</td>\n",
       "      <td>Falstad</td>\n",
       "      <td>10</td>\n",
       "      <td>False</td>\n",
       "      <td>3330</td>\n",
       "    </tr>\n",
       "  </tbody>\n",
       "</table>\n",
       "</div>"
      ],
      "text/plain": [
       "   ReplayID Is Auto Select     Hero  Hero Level Is Winner  MMR Before\n",
       "0  23915730          False   Rehgar          14     False        3170\n",
       "1  23915730          False  Falstad          10     False        3330"
      ]
     },
     "execution_count": 7,
     "metadata": {},
     "output_type": "execute_result"
    }
   ],
   "source": [
    "DF_Characters.head(2)"
   ]
  },
  {
   "cell_type": "code",
   "execution_count": 8,
   "metadata": {
    "collapsed": false
   },
   "outputs": [
    {
     "data": {
      "text/html": [
       "<div>\n",
       "<table border=\"1\" class=\"dataframe\">\n",
       "  <thead>\n",
       "    <tr style=\"text-align: right;\">\n",
       "      <th></th>\n",
       "      <th>ID</th>\n",
       "      <th>Name</th>\n",
       "      <th>Group</th>\n",
       "      <th>SubGroup</th>\n",
       "    </tr>\n",
       "  </thead>\n",
       "  <tbody>\n",
       "    <tr>\n",
       "      <th>0</th>\n",
       "      <td>0</td>\n",
       "      <td>Unknown</td>\n",
       "      <td>NaN</td>\n",
       "      <td>NaN</td>\n",
       "    </tr>\n",
       "    <tr>\n",
       "      <th>1</th>\n",
       "      <td>1</td>\n",
       "      <td>Abathur</td>\n",
       "      <td>Specialist</td>\n",
       "      <td>Utility</td>\n",
       "    </tr>\n",
       "  </tbody>\n",
       "</table>\n",
       "</div>"
      ],
      "text/plain": [
       "   ID     Name       Group SubGroup\n",
       "0   0  Unknown         NaN      NaN\n",
       "1   1  Abathur  Specialist  Utility"
      ]
     },
     "execution_count": 8,
     "metadata": {},
     "output_type": "execute_result"
    }
   ],
   "source": [
    "DF_Map_Groups.head(2)"
   ]
  },
  {
   "cell_type": "code",
   "execution_count": 9,
   "metadata": {
    "collapsed": false
   },
   "outputs": [
    {
     "data": {
      "text/html": [
       "<div>\n",
       "<table border=\"1\" class=\"dataframe\">\n",
       "  <thead>\n",
       "    <tr style=\"text-align: right;\">\n",
       "      <th></th>\n",
       "      <th>Name</th>\n",
       "      <th>Group</th>\n",
       "    </tr>\n",
       "  </thead>\n",
       "  <tbody>\n",
       "    <tr>\n",
       "      <th>45</th>\n",
       "      <td>Gall</td>\n",
       "      <td>Assassin</td>\n",
       "    </tr>\n",
       "    <tr>\n",
       "      <th>46</th>\n",
       "      <td>Lunara</td>\n",
       "      <td>Assassin</td>\n",
       "    </tr>\n",
       "    <tr>\n",
       "      <th>47</th>\n",
       "      <td>Greymane</td>\n",
       "      <td>Assassin</td>\n",
       "    </tr>\n",
       "  </tbody>\n",
       "</table>\n",
       "</div>"
      ],
      "text/plain": [
       "        Name     Group\n",
       "45      Gall  Assassin\n",
       "46    Lunara  Assassin\n",
       "47  Greymane  Assassin"
      ]
     },
     "execution_count": 9,
     "metadata": {},
     "output_type": "execute_result"
    }
   ],
   "source": [
    "#Remove all after row 49, to remove map IDs and keep all data for Heroes\n",
    "DF_Map_Groups = DF_Map_Groups[:48]\n",
    "\n",
    "DF_Map_Groups = DF_Map_Groups.drop('SubGroup', axis=1).drop('ID', axis=1)\n",
    "\n",
    "#Returning last 3 elements to check\n",
    "DF_Map_Groups.iloc[45:]"
   ]
  },
  {
   "cell_type": "code",
   "execution_count": 10,
   "metadata": {
    "collapsed": false,
    "scrolled": true
   },
   "outputs": [],
   "source": [
    "#Need to merge on 'ReplayID' and duplicate entries\n",
    "from pandas import merge\n",
    "DF1 = pd.merge(DF_Replay, DF_Characters, left_on=[\"ReplayID\"], right_on=['ReplayID'], how='left')\n",
    "DF1.head(4)\n",
    "\n",
    "#deleting previous dataframes created for memory reasons\n",
    "del DF_Replay\n",
    "del DF_Characters"
   ]
  },
  {
   "cell_type": "code",
   "execution_count": 11,
   "metadata": {
    "collapsed": true
   },
   "outputs": [],
   "source": [
    "#Need to merge on 'Name' \n",
    "DF = pd.merge(DF1, DF_Map_Groups, left_on=[\"Hero\"], right_on=[\"Name\"], how='left')\n",
    "\n",
    "#delete the former dataframe DF_Map_Groups for memory's optimization\n",
    "del DF_Map_Groups\n",
    "del DF1"
   ]
  },
  {
   "cell_type": "code",
   "execution_count": 12,
   "metadata": {
    "collapsed": true
   },
   "outputs": [],
   "source": [
    "#Saving the merged Dataframe to a csv file\n",
    "DF.to_csv(\"HeroLeagueData.csv\")"
   ]
  },
  {
   "cell_type": "code",
   "execution_count": 13,
   "metadata": {
    "collapsed": false,
    "scrolled": false
   },
   "outputs": [
    {
     "data": {
      "text/html": [
       "<div>\n",
       "<table border=\"1\" class=\"dataframe\">\n",
       "  <thead>\n",
       "    <tr style=\"text-align: right;\">\n",
       "      <th></th>\n",
       "      <th>Unnamed: 0</th>\n",
       "      <th>ReplayID</th>\n",
       "      <th>GameMode</th>\n",
       "      <th>Map</th>\n",
       "      <th>ReplayLength</th>\n",
       "      <th>Timestamp</th>\n",
       "      <th>Is Auto Select</th>\n",
       "      <th>Hero</th>\n",
       "      <th>Hero Level</th>\n",
       "      <th>Is Winner</th>\n",
       "      <th>MMR Before</th>\n",
       "      <th>Name</th>\n",
       "      <th>Group</th>\n",
       "    </tr>\n",
       "  </thead>\n",
       "  <tbody>\n",
       "    <tr>\n",
       "      <th>0</th>\n",
       "      <td>0</td>\n",
       "      <td>23915730</td>\n",
       "      <td>4</td>\n",
       "      <td>Haunted Mines</td>\n",
       "      <td>720</td>\n",
       "      <td>5/14/2015 12:55:26 AM</td>\n",
       "      <td>False</td>\n",
       "      <td>Rehgar</td>\n",
       "      <td>14</td>\n",
       "      <td>False</td>\n",
       "      <td>3170</td>\n",
       "      <td>Rehgar</td>\n",
       "      <td>Support</td>\n",
       "    </tr>\n",
       "    <tr>\n",
       "      <th>1</th>\n",
       "      <td>1</td>\n",
       "      <td>23915730</td>\n",
       "      <td>4</td>\n",
       "      <td>Haunted Mines</td>\n",
       "      <td>720</td>\n",
       "      <td>5/14/2015 12:55:26 AM</td>\n",
       "      <td>False</td>\n",
       "      <td>Falstad</td>\n",
       "      <td>10</td>\n",
       "      <td>False</td>\n",
       "      <td>3330</td>\n",
       "      <td>Falstad</td>\n",
       "      <td>Assassin</td>\n",
       "    </tr>\n",
       "    <tr>\n",
       "      <th>2</th>\n",
       "      <td>2</td>\n",
       "      <td>23915730</td>\n",
       "      <td>4</td>\n",
       "      <td>Haunted Mines</td>\n",
       "      <td>720</td>\n",
       "      <td>5/14/2015 12:55:26 AM</td>\n",
       "      <td>False</td>\n",
       "      <td>Jaina</td>\n",
       "      <td>7</td>\n",
       "      <td>True</td>\n",
       "      <td>3442</td>\n",
       "      <td>Jaina</td>\n",
       "      <td>Assassin</td>\n",
       "    </tr>\n",
       "    <tr>\n",
       "      <th>3</th>\n",
       "      <td>3</td>\n",
       "      <td>23915730</td>\n",
       "      <td>4</td>\n",
       "      <td>Haunted Mines</td>\n",
       "      <td>720</td>\n",
       "      <td>5/14/2015 12:55:26 AM</td>\n",
       "      <td>False</td>\n",
       "      <td>Sylvanas</td>\n",
       "      <td>13</td>\n",
       "      <td>False</td>\n",
       "      <td>2666</td>\n",
       "      <td>Sylvanas</td>\n",
       "      <td>Specialist</td>\n",
       "    </tr>\n",
       "    <tr>\n",
       "      <th>4</th>\n",
       "      <td>4</td>\n",
       "      <td>23915730</td>\n",
       "      <td>4</td>\n",
       "      <td>Haunted Mines</td>\n",
       "      <td>720</td>\n",
       "      <td>5/14/2015 12:55:26 AM</td>\n",
       "      <td>False</td>\n",
       "      <td>Zagara</td>\n",
       "      <td>10</td>\n",
       "      <td>True</td>\n",
       "      <td>3198</td>\n",
       "      <td>Zagara</td>\n",
       "      <td>Specialist</td>\n",
       "    </tr>\n",
       "  </tbody>\n",
       "</table>\n",
       "</div>"
      ],
      "text/plain": [
       "   Unnamed: 0  ReplayID  GameMode            Map  ReplayLength  \\\n",
       "0           0  23915730         4  Haunted Mines           720   \n",
       "1           1  23915730         4  Haunted Mines           720   \n",
       "2           2  23915730         4  Haunted Mines           720   \n",
       "3           3  23915730         4  Haunted Mines           720   \n",
       "4           4  23915730         4  Haunted Mines           720   \n",
       "\n",
       "               Timestamp Is Auto Select      Hero  Hero Level Is Winner  \\\n",
       "0  5/14/2015 12:55:26 AM          False    Rehgar          14     False   \n",
       "1  5/14/2015 12:55:26 AM          False   Falstad          10     False   \n",
       "2  5/14/2015 12:55:26 AM          False     Jaina           7      True   \n",
       "3  5/14/2015 12:55:26 AM          False  Sylvanas          13     False   \n",
       "4  5/14/2015 12:55:26 AM          False    Zagara          10      True   \n",
       "\n",
       "   MMR Before      Name       Group  \n",
       "0        3170    Rehgar     Support  \n",
       "1        3330   Falstad    Assassin  \n",
       "2        3442     Jaina    Assassin  \n",
       "3        2666  Sylvanas  Specialist  \n",
       "4        3198    Zagara  Specialist  "
      ]
     },
     "execution_count": 13,
     "metadata": {},
     "output_type": "execute_result"
    }
   ],
   "source": [
    "DataFrame = pd.read_csv(\"HeroLeagueData.csv\")\n",
    "del DF\n",
    "DataFrame.head()"
   ]
  },
  {
   "cell_type": "code",
   "execution_count": 14,
   "metadata": {
    "collapsed": false
   },
   "outputs": [],
   "source": [
    "#drop these columns from dataframe as they are no longer relevant\n",
    "#DataFrame.drop(DataFrame.columns[0], axis=1)\n",
    "DataFrame = DataFrame.drop(\"Unnamed: 0\", axis=1).drop('GameMode', axis=1).drop('Is Auto Select', axis=1).drop('Timestamp', axis=1).drop('Name', axis=1)"
   ]
  },
  {
   "cell_type": "code",
   "execution_count": 15,
   "metadata": {
    "collapsed": false
   },
   "outputs": [
    {
     "data": {
      "text/html": [
       "<div>\n",
       "<table border=\"1\" class=\"dataframe\">\n",
       "  <thead>\n",
       "    <tr style=\"text-align: right;\">\n",
       "      <th></th>\n",
       "      <th>ReplayID</th>\n",
       "      <th>Map</th>\n",
       "      <th>ReplayLength</th>\n",
       "      <th>Hero</th>\n",
       "      <th>HeroLevel</th>\n",
       "      <th>IsWinner</th>\n",
       "      <th>MMRbefore</th>\n",
       "      <th>Group</th>\n",
       "    </tr>\n",
       "  </thead>\n",
       "  <tbody>\n",
       "    <tr>\n",
       "      <th>0</th>\n",
       "      <td>23915730</td>\n",
       "      <td>Haunted Mines</td>\n",
       "      <td>720</td>\n",
       "      <td>Rehgar</td>\n",
       "      <td>14</td>\n",
       "      <td>False</td>\n",
       "      <td>3170</td>\n",
       "      <td>Support</td>\n",
       "    </tr>\n",
       "    <tr>\n",
       "      <th>1</th>\n",
       "      <td>23915730</td>\n",
       "      <td>Haunted Mines</td>\n",
       "      <td>720</td>\n",
       "      <td>Falstad</td>\n",
       "      <td>10</td>\n",
       "      <td>False</td>\n",
       "      <td>3330</td>\n",
       "      <td>Assassin</td>\n",
       "    </tr>\n",
       "    <tr>\n",
       "      <th>2</th>\n",
       "      <td>23915730</td>\n",
       "      <td>Haunted Mines</td>\n",
       "      <td>720</td>\n",
       "      <td>Jaina</td>\n",
       "      <td>7</td>\n",
       "      <td>True</td>\n",
       "      <td>3442</td>\n",
       "      <td>Assassin</td>\n",
       "    </tr>\n",
       "    <tr>\n",
       "      <th>3</th>\n",
       "      <td>23915730</td>\n",
       "      <td>Haunted Mines</td>\n",
       "      <td>720</td>\n",
       "      <td>Sylvanas</td>\n",
       "      <td>13</td>\n",
       "      <td>False</td>\n",
       "      <td>2666</td>\n",
       "      <td>Specialist</td>\n",
       "    </tr>\n",
       "    <tr>\n",
       "      <th>4</th>\n",
       "      <td>23915730</td>\n",
       "      <td>Haunted Mines</td>\n",
       "      <td>720</td>\n",
       "      <td>Zagara</td>\n",
       "      <td>10</td>\n",
       "      <td>True</td>\n",
       "      <td>3198</td>\n",
       "      <td>Specialist</td>\n",
       "    </tr>\n",
       "  </tbody>\n",
       "</table>\n",
       "</div>"
      ],
      "text/plain": [
       "   ReplayID            Map  ReplayLength      Hero  HeroLevel IsWinner  \\\n",
       "0  23915730  Haunted Mines           720    Rehgar         14    False   \n",
       "1  23915730  Haunted Mines           720   Falstad         10    False   \n",
       "2  23915730  Haunted Mines           720     Jaina          7     True   \n",
       "3  23915730  Haunted Mines           720  Sylvanas         13    False   \n",
       "4  23915730  Haunted Mines           720    Zagara         10     True   \n",
       "\n",
       "   MMRbefore       Group  \n",
       "0       3170     Support  \n",
       "1       3330    Assassin  \n",
       "2       3442    Assassin  \n",
       "3       2666  Specialist  \n",
       "4       3198  Specialist  "
      ]
     },
     "execution_count": 15,
     "metadata": {},
     "output_type": "execute_result"
    }
   ],
   "source": [
    "#Overwrite the DataFrame's Column names to get it into correct format for future use\n",
    "DataFrame.columns = ['ReplayID', 'Map', 'ReplayLength', 'Hero', 'HeroLevel', 'IsWinner', 'MMRbefore', 'Group']\n",
    "#similar to:\n",
    "#DF = DF.rename(columns = ('Replay Length':'ReplayLength'))\n",
    "#DF = DF.rename(columns = {'Timestamp (UTC)':'Timestamp'})\n",
    "#DF = DF.rename(columns = {'Is Auto Select':'AutoSelect'})\n",
    "#...\n",
    "\n",
    "list(DataFrame.columns.values)\n",
    "DataFrame.head()"
   ]
  },
  {
   "cell_type": "code",
   "execution_count": 16,
   "metadata": {
    "collapsed": false
   },
   "outputs": [
    {
     "data": {
      "text/html": [
       "<div>\n",
       "<table border=\"1\" class=\"dataframe\">\n",
       "  <thead>\n",
       "    <tr style=\"text-align: right;\">\n",
       "      <th></th>\n",
       "      <th>ReplayID</th>\n",
       "      <th>ReplayLength</th>\n",
       "      <th>HeroLevel</th>\n",
       "      <th>IsWinner</th>\n",
       "      <th>MMRbefore</th>\n",
       "    </tr>\n",
       "  </thead>\n",
       "  <tbody>\n",
       "    <tr>\n",
       "      <th>count</th>\n",
       "      <td>1873240.000000</td>\n",
       "      <td>1873240.000000</td>\n",
       "      <td>1873240.000000</td>\n",
       "      <td>1873240</td>\n",
       "      <td>1697780.000000</td>\n",
       "    </tr>\n",
       "    <tr>\n",
       "      <th>mean</th>\n",
       "      <td>24784003.430564</td>\n",
       "      <td>1220.175979</td>\n",
       "      <td>8.088986</td>\n",
       "      <td>0.5</td>\n",
       "      <td>2141.214666</td>\n",
       "    </tr>\n",
       "    <tr>\n",
       "      <th>std</th>\n",
       "      <td>376986.380860</td>\n",
       "      <td>277.507023</td>\n",
       "      <td>2.399024</td>\n",
       "      <td>0.5</td>\n",
       "      <td>674.830751</td>\n",
       "    </tr>\n",
       "    <tr>\n",
       "      <th>min</th>\n",
       "      <td>23812009.000000</td>\n",
       "      <td>225.000000</td>\n",
       "      <td>0.000000</td>\n",
       "      <td>False</td>\n",
       "      <td>-747.000000</td>\n",
       "    </tr>\n",
       "    <tr>\n",
       "      <th>25%</th>\n",
       "      <td>24510660.000000</td>\n",
       "      <td>1027.000000</td>\n",
       "      <td>7.000000</td>\n",
       "      <td>0</td>\n",
       "      <td>1688.000000</td>\n",
       "    </tr>\n",
       "    <tr>\n",
       "      <th>50%</th>\n",
       "      <td>24846690.000000</td>\n",
       "      <td>1185.000000</td>\n",
       "      <td>8.000000</td>\n",
       "      <td>0.5</td>\n",
       "      <td>2110.000000</td>\n",
       "    </tr>\n",
       "    <tr>\n",
       "      <th>75%</th>\n",
       "      <td>25095007.750000</td>\n",
       "      <td>1380.000000</td>\n",
       "      <td>9.000000</td>\n",
       "      <td>1</td>\n",
       "      <td>2596.000000</td>\n",
       "    </tr>\n",
       "    <tr>\n",
       "      <th>max</th>\n",
       "      <td>25335020.000000</td>\n",
       "      <td>9708.000000</td>\n",
       "      <td>20.000000</td>\n",
       "      <td>True</td>\n",
       "      <td>4951.000000</td>\n",
       "    </tr>\n",
       "  </tbody>\n",
       "</table>\n",
       "</div>"
      ],
      "text/plain": [
       "              ReplayID    ReplayLength       HeroLevel IsWinner  \\\n",
       "count   1873240.000000  1873240.000000  1873240.000000  1873240   \n",
       "mean   24784003.430564     1220.175979        8.088986      0.5   \n",
       "std      376986.380860      277.507023        2.399024      0.5   \n",
       "min    23812009.000000      225.000000        0.000000    False   \n",
       "25%    24510660.000000     1027.000000        7.000000        0   \n",
       "50%    24846690.000000     1185.000000        8.000000      0.5   \n",
       "75%    25095007.750000     1380.000000        9.000000        1   \n",
       "max    25335020.000000     9708.000000       20.000000     True   \n",
       "\n",
       "            MMRbefore  \n",
       "count  1697780.000000  \n",
       "mean      2141.214666  \n",
       "std        674.830751  \n",
       "min       -747.000000  \n",
       "25%       1688.000000  \n",
       "50%       2110.000000  \n",
       "75%       2596.000000  \n",
       "max       4951.000000  "
      ]
     },
     "execution_count": 16,
     "metadata": {},
     "output_type": "execute_result"
    }
   ],
   "source": [
    "#Identify Outliers in our competitive Data set\n",
    "\n",
    "DataFrame.describe()"
   ]
  },
  {
   "cell_type": "code",
   "execution_count": 17,
   "metadata": {
    "collapsed": false
   },
   "outputs": [],
   "source": [
    "#Removing the Outliers\n",
    "\n",
    "\n",
    "\n",
    "\n",
    "\n",
    "\n"
   ]
  },
  {
   "cell_type": "code",
   "execution_count": 18,
   "metadata": {
    "collapsed": false
   },
   "outputs": [
    {
     "data": {
      "text/html": [
       "<div>\n",
       "<table border=\"1\" class=\"dataframe\">\n",
       "  <thead>\n",
       "    <tr style=\"text-align: right;\">\n",
       "      <th></th>\n",
       "      <th>ReplayID</th>\n",
       "      <th>ReplayLength</th>\n",
       "      <th>HeroLevel</th>\n",
       "      <th>IsWinner</th>\n",
       "      <th>MMRbefore</th>\n",
       "    </tr>\n",
       "  </thead>\n",
       "  <tbody>\n",
       "    <tr>\n",
       "      <th>ReplayID</th>\n",
       "      <td>1.000000</td>\n",
       "      <td>0.008054</td>\n",
       "      <td>0.001980</td>\n",
       "      <td>0.000000</td>\n",
       "      <td>-0.032212</td>\n",
       "    </tr>\n",
       "    <tr>\n",
       "      <th>ReplayLength</th>\n",
       "      <td>0.008054</td>\n",
       "      <td>1.000000</td>\n",
       "      <td>-0.002819</td>\n",
       "      <td>0.000000</td>\n",
       "      <td>-0.050528</td>\n",
       "    </tr>\n",
       "    <tr>\n",
       "      <th>HeroLevel</th>\n",
       "      <td>0.001980</td>\n",
       "      <td>-0.002819</td>\n",
       "      <td>1.000000</td>\n",
       "      <td>0.043258</td>\n",
       "      <td>0.103924</td>\n",
       "    </tr>\n",
       "    <tr>\n",
       "      <th>IsWinner</th>\n",
       "      <td>0.000000</td>\n",
       "      <td>0.000000</td>\n",
       "      <td>0.043258</td>\n",
       "      <td>1.000000</td>\n",
       "      <td>0.033634</td>\n",
       "    </tr>\n",
       "    <tr>\n",
       "      <th>MMRbefore</th>\n",
       "      <td>-0.032212</td>\n",
       "      <td>-0.050528</td>\n",
       "      <td>0.103924</td>\n",
       "      <td>0.033634</td>\n",
       "      <td>1.000000</td>\n",
       "    </tr>\n",
       "  </tbody>\n",
       "</table>\n",
       "</div>"
      ],
      "text/plain": [
       "              ReplayID  ReplayLength  HeroLevel  IsWinner  MMRbefore\n",
       "ReplayID      1.000000      0.008054   0.001980  0.000000  -0.032212\n",
       "ReplayLength  0.008054      1.000000  -0.002819  0.000000  -0.050528\n",
       "HeroLevel     0.001980     -0.002819   1.000000  0.043258   0.103924\n",
       "IsWinner      0.000000      0.000000   0.043258  1.000000   0.033634\n",
       "MMRbefore    -0.032212     -0.050528   0.103924  0.033634   1.000000"
      ]
     },
     "execution_count": 18,
     "metadata": {},
     "output_type": "execute_result"
    }
   ],
   "source": [
    "DataFrame.corr()"
   ]
  },
  {
   "cell_type": "code",
   "execution_count": 19,
   "metadata": {
    "collapsed": false
   },
   "outputs": [
    {
     "data": {
      "text/plain": [
       "ReplayID          int64\n",
       "Map              object\n",
       "ReplayLength    float64\n",
       "Hero             object\n",
       "HeroLevel         int64\n",
       "IsWinner           bool\n",
       "MMRbefore       float64\n",
       "Group            object\n",
       "dtype: object"
      ]
     },
     "execution_count": 19,
     "metadata": {},
     "output_type": "execute_result"
    }
   ],
   "source": [
    "DataFrame.dtypes \n",
    "#ReplayID          int64     >>>Change to Category\n",
    "#GameMode          int64     >>>Replace with Category (GAME TYPE)\n",
    "#Map              object\n",
    "#ReplayLength     object\n",
    "#Timestamp        object\n",
    "#AutoSelect         bool\n",
    "#Hero             object\n",
    "#HeroLevel         int64\n",
    "#IsWinner           bool\n",
    "#MMRBefore       float64\n",
    "#Name             object\n",
    "#Group            object"
   ]
  },
  {
   "cell_type": "code",
   "execution_count": 20,
   "metadata": {
    "collapsed": false,
    "scrolled": true
   },
   "outputs": [
    {
     "data": {
      "text/html": [
       "<div>\n",
       "<table border=\"1\" class=\"dataframe\">\n",
       "  <thead>\n",
       "    <tr style=\"text-align: right;\">\n",
       "      <th></th>\n",
       "      <th>ReplayLength</th>\n",
       "      <th>HeroLevel</th>\n",
       "      <th>MMRbefore</th>\n",
       "    </tr>\n",
       "  </thead>\n",
       "  <tbody>\n",
       "    <tr>\n",
       "      <th>0</th>\n",
       "      <td>720</td>\n",
       "      <td>14</td>\n",
       "      <td>3170</td>\n",
       "    </tr>\n",
       "    <tr>\n",
       "      <th>1</th>\n",
       "      <td>720</td>\n",
       "      <td>10</td>\n",
       "      <td>3330</td>\n",
       "    </tr>\n",
       "    <tr>\n",
       "      <th>2</th>\n",
       "      <td>720</td>\n",
       "      <td>7</td>\n",
       "      <td>3442</td>\n",
       "    </tr>\n",
       "    <tr>\n",
       "      <th>3</th>\n",
       "      <td>720</td>\n",
       "      <td>13</td>\n",
       "      <td>2666</td>\n",
       "    </tr>\n",
       "    <tr>\n",
       "      <th>4</th>\n",
       "      <td>720</td>\n",
       "      <td>10</td>\n",
       "      <td>3198</td>\n",
       "    </tr>\n",
       "  </tbody>\n",
       "</table>\n",
       "</div>"
      ],
      "text/plain": [
       "   ReplayLength  HeroLevel  MMRbefore\n",
       "0           720         14       3170\n",
       "1           720         10       3330\n",
       "2           720          7       3442\n",
       "3           720         13       2666\n",
       "4           720         10       3198"
      ]
     },
     "execution_count": 20,
     "metadata": {},
     "output_type": "execute_result"
    }
   ],
   "source": [
    "numeric = DataFrame.select_dtypes(['int64','float64']).columns\n",
    "numeric = numeric.drop(\"ReplayID\")     #removing Game Mode as there is only one\n",
    "DataFrame[numeric].head(5)"
   ]
  },
  {
   "cell_type": "code",
   "execution_count": 21,
   "metadata": {
    "collapsed": false
   },
   "outputs": [
    {
     "data": {
      "text/html": [
       "<div>\n",
       "<table border=\"1\" class=\"dataframe\">\n",
       "  <thead>\n",
       "    <tr style=\"text-align: right;\">\n",
       "      <th></th>\n",
       "      <th>ReplayLength</th>\n",
       "      <th>HeroLevel</th>\n",
       "      <th>MMRbefore</th>\n",
       "    </tr>\n",
       "  </thead>\n",
       "  <tbody>\n",
       "    <tr>\n",
       "      <th>ReplayLength</th>\n",
       "      <td>1.000000</td>\n",
       "      <td>-0.002819</td>\n",
       "      <td>-0.050528</td>\n",
       "    </tr>\n",
       "    <tr>\n",
       "      <th>HeroLevel</th>\n",
       "      <td>-0.002819</td>\n",
       "      <td>1.000000</td>\n",
       "      <td>0.103924</td>\n",
       "    </tr>\n",
       "    <tr>\n",
       "      <th>MMRbefore</th>\n",
       "      <td>-0.050528</td>\n",
       "      <td>0.103924</td>\n",
       "      <td>1.000000</td>\n",
       "    </tr>\n",
       "  </tbody>\n",
       "</table>\n",
       "</div>"
      ],
      "text/plain": [
       "              ReplayLength  HeroLevel  MMRbefore\n",
       "ReplayLength      1.000000  -0.002819  -0.050528\n",
       "HeroLevel        -0.002819   1.000000   0.103924\n",
       "MMRbefore        -0.050528   0.103924   1.000000"
      ]
     },
     "execution_count": 21,
     "metadata": {},
     "output_type": "execute_result"
    }
   ],
   "source": [
    "#Correlation of continuous features\n",
    "DataFrame[numeric].corr()"
   ]
  },
  {
   "cell_type": "code",
   "execution_count": 22,
   "metadata": {
    "collapsed": false
   },
   "outputs": [
    {
     "data": {
      "text/plain": [
       "array([[<matplotlib.axes._subplots.AxesSubplot object at 0x10B41710>,\n",
       "        <matplotlib.axes._subplots.AxesSubplot object at 0x1D5788F0>],\n",
       "       [<matplotlib.axes._subplots.AxesSubplot object at 0x109B8710>,\n",
       "        <matplotlib.axes._subplots.AxesSubplot object at 0x0B65B050>]], dtype=object)"
      ]
     },
     "execution_count": 22,
     "metadata": {},
     "output_type": "execute_result"
    },
    {
     "data": {
      "image/png": "[encoded data removed]",
      "text/plain": [
       "<matplotlib.figure.Figure at 0x10b22bb0>"
      ]
     },
     "metadata": {},
     "output_type": "display_data"
    }
   ],
   "source": [
    "%matplotlib inline\n",
    "DataFrame[numeric].hist(figsize=(16, 16), color='red')\n",
    "#plt.savefig(\"Histogram-Numeric-Features_HOTS.png\")"
   ]
  },
  {
   "cell_type": "code",
   "execution_count": 23,
   "metadata": {
    "collapsed": false
   },
   "outputs": [
    {
     "data": {
      "text/plain": [
       "<matplotlib.axes._subplots.AxesSubplot at 0xb7a2950>"
      ]
     },
     "execution_count": 23,
     "metadata": {},
     "output_type": "execute_result"
    },
    {
     "data": {
      "image/png": "[encoded data removed]",
      "text/plain": [
       "<matplotlib.figure.Figure at 0xfdf6e30>"
      ]
     },
     "metadata": {},
     "output_type": "display_data"
    }
   ],
   "source": [
    "%matplotlib inline\n",
    "dfHero = DataFrame[[\"Hero\", \"IsWinner\"]]\n",
    "dfHero = dfHero.groupby([\"Hero\",\"IsWinner\"])[\"Hero\"].count().unstack('IsWinner')\n",
    "dfHero.plot(kind=\"bar\", stacked=True, figsize=(15,8), title=\"Bar Plot for Win/Loss per hero\")"
   ]
  },
  {
   "cell_type": "code",
   "execution_count": 26,
   "metadata": {
    "collapsed": false
   },
   "outputs": [
    {
     "data": {
      "text/plain": [
       "<matplotlib.axes._subplots.AxesSubplot at 0xc31c450>"
      ]
     },
     "execution_count": 26,
     "metadata": {},
     "output_type": "execute_result"
    },
    {
     "data": {
      "image/png": "[encoded data removed]",
      "text/plain": [
       "<matplotlib.figure.Figure at 0xcdb77f0>"
      ]
     },
     "metadata": {},
     "output_type": "display_data"
    }
   ],
   "source": [
    "DataFrame.plot(kind='scatter', x='IsWinner', y='MMRbefore')"
   ]
  },
  {
   "cell_type": "markdown",
   "metadata": {
    "collapsed": true
   },
   "source": [
    "#  <u> Observations </u>\n",
    "According to the graph above we can identify that the Heroes which are played the most are:  \n",
    "*Valla*    \n",
    "*Sylvanas*    \n",
    "*Jaina*  \n",
    "*Kael'Thas*  \n",
    "*ETC*    \n",
    "\n",
    "\n",
    "\n",
    "    \n",
    "# Define TRAIN and TEST data sets (80-20? 70-30?)\n",
    "    # define model\n",
    "    # look into OSL, Kernel Density Estimation\n",
    "    # logistic Regression\n",
    "    \n",
    "# Establish the likeliness of winning based on team rate\n",
    "\n",
    "\n",
    "# How is auto-select affecting win rate?\n",
    "# More/Less than Hero level??"
   ]
  },
  {
   "cell_type": "code",
   "execution_count": 24,
   "metadata": {
    "collapsed": false
   },
   "outputs": [
    {
     "data": {
      "text/plain": [
       "(1873240, 8)"
      ]
     },
     "execution_count": 24,
     "metadata": {},
     "output_type": "execute_result"
    }
   ],
   "source": [
    "DataFrame.shape\n",
    "#1.8 Million rows in dataframe"
   ]
  },
  {
   "cell_type": "markdown",
   "metadata": {
    "collapsed": true
   },
   "source": [
    "# <font color=blue>4. Data modeling</font>"
   ]
  },
  {
   "cell_type": "code",
   "execution_count": null,
   "metadata": {
    "collapsed": true
   },
   "outputs": [],
   "source": []
  }
 ],
 "metadata": {
  "kernelspec": {
   "display_name": "Python 3",
   "language": "python",
   "name": "python3"
  },
  "language_info": {
   "codemirror_mode": {
    "name": "ipython",
    "version": 3
   },
   "file_extension": ".py",
   "mimetype": "text/x-python",
   "name": "python",
   "nbconvert_exporter": "python",
   "pygments_lexer": "ipython3",
   "version": "3.5.1"
  }
 },
 "nbformat": 4,
 "nbformat_minor": 0
}
