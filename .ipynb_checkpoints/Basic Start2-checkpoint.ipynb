{
 "cells": [
  {
   "cell_type": "markdown",
   "metadata": {},
   "source": [
    "# <font color='red'>Basic Analytics Applied to Training Set of Heroes of the Storm Game Data</font>"
   ]
  },
  {
   "cell_type": "markdown",
   "metadata": {},
   "source": [
    "### 1. Determine the best Heroes(in terms of win rate) in each category:\n",
    "* Support\n",
    "* Assassin\n",
    "* Warrior\n",
    "* Specialist\n",
    "\n",
    "### 2. Determine the best Team Composition in term of win rate\n",
    "\n",
    "### 3. Does the map affect the team composition?\n",
    "\n",
    "### 4. Which Assassin is better; ranged or melee?\n",
    "\n",
    "### 5. What are the most played Heroes in each category?  Are they the most likely heroes to win?\n"
   ]
  },
  {
   "cell_type": "markdown",
   "metadata": {},
   "source": [
    "# dataset too large:\n",
    "    ## reduce to only Hero League: ~1.7million lines?\n",
    "    ## analyse in IPython Server? "
   ]
  },
  {
   "cell_type": "code",
   "execution_count": 12,
   "metadata": {
    "collapsed": false
   },
   "outputs": [],
   "source": [
    "#import required libraries\n",
    "import pandas as pd\n",
    "import numpy as np\n",
    "import matplotlib.pyplot as plt\n",
    "import seaborn as sns\n",
    "import csv\n",
    "import sys\n",
    "\n",
    "%matplotlib inline\n",
    "#using files to format dataframe display\n",
    "from IPython.core.display import HTML\n",
    "css = open('style-table.css').read() + open('style-notebook.css').read()\n",
    "HTML('<style>{}</style>'.format(css))\n",
    "\n",
    "#load both csv files into tow respective dataframes\n",
    "DF_Replay = pd.read_csv(\"TSReplay.csv\")\n",
    "\n",
    "DF_Characters = pd.read_csv(\"TSCharacters.csv\")\n",
    "\n",
    "DF_Map_Groups = pd.read_csv(\"HeroAndMap.csv\")"
   ]
  },
  {
   "cell_type": "code",
   "execution_count": 13,
   "metadata": {
    "collapsed": false
   },
   "outputs": [
    {
     "data": {
      "text/html": [
       "<div>\n",
       "<table border=\"1\" class=\"dataframe\">\n",
       "  <thead>\n",
       "    <tr style=\"text-align: right;\">\n",
       "      <th></th>\n",
       "      <th>ReplayID</th>\n",
       "      <th>GameMode(3=Quick Match 4=Hero League 5=Team League)</th>\n",
       "      <th>Map</th>\n",
       "      <th>Replay Length</th>\n",
       "      <th>Timestamp (UTC)</th>\n",
       "    </tr>\n",
       "  </thead>\n",
       "  <tbody>\n",
       "    <tr>\n",
       "      <th>0</th>\n",
       "      <td>23915730</td>\n",
       "      <td>4</td>\n",
       "      <td>Haunted Mines</td>\n",
       "      <td>00:12:00</td>\n",
       "      <td>5/14/2015 12:55:26 AM</td>\n",
       "    </tr>\n",
       "    <tr>\n",
       "      <th>1</th>\n",
       "      <td>23927005</td>\n",
       "      <td>3</td>\n",
       "      <td>Cursed Hollow</td>\n",
       "      <td>00:21:00</td>\n",
       "      <td>5/14/2015 12:55:26 AM</td>\n",
       "    </tr>\n",
       "  </tbody>\n",
       "</table>\n",
       "</div>"
      ],
      "text/plain": [
       "   ReplayID  GameMode(3=Quick Match 4=Hero League 5=Team League)  \\\n",
       "0  23915730                                                  4     \n",
       "1  23927005                                                  3     \n",
       "\n",
       "             Map Replay Length        Timestamp (UTC)  \n",
       "0  Haunted Mines      00:12:00  5/14/2015 12:55:26 AM  \n",
       "1  Cursed Hollow      00:21:00  5/14/2015 12:55:26 AM  "
      ]
     },
     "execution_count": 13,
     "metadata": {},
     "output_type": "execute_result"
    }
   ],
   "source": [
    "DF_Replay.head(2)"
   ]
  },
  {
   "cell_type": "code",
   "execution_count": 14,
   "metadata": {
    "collapsed": false
   },
   "outputs": [
    {
     "data": {
      "text/html": [
       "<div>\n",
       "<table border=\"1\" class=\"dataframe\">\n",
       "  <thead>\n",
       "    <tr style=\"text-align: right;\">\n",
       "      <th></th>\n",
       "      <th>ReplayID</th>\n",
       "      <th>GameMode</th>\n",
       "      <th>Map</th>\n",
       "      <th>ReplayLength</th>\n",
       "      <th>Timestamp</th>\n",
       "    </tr>\n",
       "  </thead>\n",
       "  <tbody>\n",
       "    <tr>\n",
       "      <th>0</th>\n",
       "      <td>23915730</td>\n",
       "      <td>4</td>\n",
       "      <td>Haunted Mines</td>\n",
       "      <td>00:12:00</td>\n",
       "      <td>5/14/2015 12:55:26 AM</td>\n",
       "    </tr>\n",
       "    <tr>\n",
       "      <th>2</th>\n",
       "      <td>23915740</td>\n",
       "      <td>4</td>\n",
       "      <td>Garden of Terror</td>\n",
       "      <td>00:26:18</td>\n",
       "      <td>5/14/2015 12:55:27 AM</td>\n",
       "    </tr>\n",
       "    <tr>\n",
       "      <th>10</th>\n",
       "      <td>23924385</td>\n",
       "      <td>4</td>\n",
       "      <td>Garden of Terror</td>\n",
       "      <td>00:34:37</td>\n",
       "      <td>5/14/2015 12:55:39 AM</td>\n",
       "    </tr>\n",
       "    <tr>\n",
       "      <th>22</th>\n",
       "      <td>23915858</td>\n",
       "      <td>4</td>\n",
       "      <td>Sky Temple</td>\n",
       "      <td>00:22:32</td>\n",
       "      <td>5/14/2015 12:56:00 AM</td>\n",
       "    </tr>\n",
       "    <tr>\n",
       "      <th>23</th>\n",
       "      <td>23915915</td>\n",
       "      <td>4</td>\n",
       "      <td>Dragon Shire</td>\n",
       "      <td>00:24:00</td>\n",
       "      <td>5/14/2015 12:56:01 AM</td>\n",
       "    </tr>\n",
       "    <tr>\n",
       "      <th>25</th>\n",
       "      <td>24393574</td>\n",
       "      <td>4</td>\n",
       "      <td>Garden of Terror</td>\n",
       "      <td>00:20:15</td>\n",
       "      <td>5/14/2015 12:56:08 AM</td>\n",
       "    </tr>\n",
       "    <tr>\n",
       "      <th>30</th>\n",
       "      <td>23929877</td>\n",
       "      <td>4</td>\n",
       "      <td>Dragon Shire</td>\n",
       "      <td>00:22:01</td>\n",
       "      <td>5/14/2015 12:56:13 AM</td>\n",
       "    </tr>\n",
       "    <tr>\n",
       "      <th>31</th>\n",
       "      <td>23950711</td>\n",
       "      <td>4</td>\n",
       "      <td>Blackheart's Bay</td>\n",
       "      <td>00:16:45</td>\n",
       "      <td>5/14/2015 12:56:13 AM</td>\n",
       "    </tr>\n",
       "    <tr>\n",
       "      <th>32</th>\n",
       "      <td>24507009</td>\n",
       "      <td>4</td>\n",
       "      <td>Garden of Terror</td>\n",
       "      <td>00:30:30</td>\n",
       "      <td>5/14/2015 12:56:14 AM</td>\n",
       "    </tr>\n",
       "    <tr>\n",
       "      <th>34</th>\n",
       "      <td>23915821</td>\n",
       "      <td>4</td>\n",
       "      <td>Blackheart's Bay</td>\n",
       "      <td>00:24:20</td>\n",
       "      <td>5/14/2015 12:56:15 AM</td>\n",
       "    </tr>\n",
       "    <tr>\n",
       "      <th>35</th>\n",
       "      <td>23924305</td>\n",
       "      <td>4</td>\n",
       "      <td>Dragon Shire</td>\n",
       "      <td>00:16:34</td>\n",
       "      <td>5/14/2015 12:56:17 AM</td>\n",
       "    </tr>\n",
       "    <tr>\n",
       "      <th>40</th>\n",
       "      <td>24091524</td>\n",
       "      <td>4</td>\n",
       "      <td>Tomb of the Spider Queen</td>\n",
       "      <td>00:22:15</td>\n",
       "      <td>5/14/2015 12:56:24 AM</td>\n",
       "    </tr>\n",
       "    <tr>\n",
       "      <th>46</th>\n",
       "      <td>23920889</td>\n",
       "      <td>4</td>\n",
       "      <td>Haunted Mines</td>\n",
       "      <td>00:17:38</td>\n",
       "      <td>5/14/2015 12:56:28 AM</td>\n",
       "    </tr>\n",
       "    <tr>\n",
       "      <th>47</th>\n",
       "      <td>23920333</td>\n",
       "      <td>4</td>\n",
       "      <td>Garden of Terror</td>\n",
       "      <td>00:22:33</td>\n",
       "      <td>5/14/2015 12:56:29 AM</td>\n",
       "    </tr>\n",
       "    <tr>\n",
       "      <th>61</th>\n",
       "      <td>24080712</td>\n",
       "      <td>4</td>\n",
       "      <td>Sky Temple</td>\n",
       "      <td>00:21:50</td>\n",
       "      <td>5/14/2015 12:56:54 AM</td>\n",
       "    </tr>\n",
       "    <tr>\n",
       "      <th>71</th>\n",
       "      <td>23923686</td>\n",
       "      <td>4</td>\n",
       "      <td>Cursed Hollow</td>\n",
       "      <td>00:26:51</td>\n",
       "      <td>5/14/2015 12:57:12 AM</td>\n",
       "    </tr>\n",
       "    <tr>\n",
       "      <th>72</th>\n",
       "      <td>23915914</td>\n",
       "      <td>4</td>\n",
       "      <td>Sky Temple</td>\n",
       "      <td>00:18:03</td>\n",
       "      <td>5/14/2015 12:57:13 AM</td>\n",
       "    </tr>\n",
       "    <tr>\n",
       "      <th>75</th>\n",
       "      <td>23915927</td>\n",
       "      <td>4</td>\n",
       "      <td>Dragon Shire</td>\n",
       "      <td>00:26:05</td>\n",
       "      <td>5/14/2015 12:57:20 AM</td>\n",
       "    </tr>\n",
       "    <tr>\n",
       "      <th>77</th>\n",
       "      <td>23916113</td>\n",
       "      <td>4</td>\n",
       "      <td>Haunted Mines</td>\n",
       "      <td>00:17:02</td>\n",
       "      <td>5/14/2015 12:57:22 AM</td>\n",
       "    </tr>\n",
       "    <tr>\n",
       "      <th>80</th>\n",
       "      <td>23915986</td>\n",
       "      <td>4</td>\n",
       "      <td>Blackheart's Bay</td>\n",
       "      <td>00:20:07</td>\n",
       "      <td>5/14/2015 12:57:25 AM</td>\n",
       "    </tr>\n",
       "    <tr>\n",
       "      <th>90</th>\n",
       "      <td>24760904</td>\n",
       "      <td>4</td>\n",
       "      <td>Cursed Hollow</td>\n",
       "      <td>00:21:15</td>\n",
       "      <td>5/14/2015 12:57:43 AM</td>\n",
       "    </tr>\n",
       "    <tr>\n",
       "      <th>93</th>\n",
       "      <td>23916018</td>\n",
       "      <td>4</td>\n",
       "      <td>Tomb of the Spider Queen</td>\n",
       "      <td>00:13:50</td>\n",
       "      <td>5/14/2015 12:57:52 AM</td>\n",
       "    </tr>\n",
       "    <tr>\n",
       "      <th>96</th>\n",
       "      <td>23916011</td>\n",
       "      <td>4</td>\n",
       "      <td>Sky Temple</td>\n",
       "      <td>00:19:20</td>\n",
       "      <td>5/14/2015 12:57:57 AM</td>\n",
       "    </tr>\n",
       "    <tr>\n",
       "      <th>97</th>\n",
       "      <td>23916034</td>\n",
       "      <td>4</td>\n",
       "      <td>Garden of Terror</td>\n",
       "      <td>00:27:24</td>\n",
       "      <td>5/14/2015 12:57:59 AM</td>\n",
       "    </tr>\n",
       "    <tr>\n",
       "      <th>106</th>\n",
       "      <td>23917921</td>\n",
       "      <td>4</td>\n",
       "      <td>Haunted Mines</td>\n",
       "      <td>00:21:15</td>\n",
       "      <td>5/14/2015 12:58:10 AM</td>\n",
       "    </tr>\n",
       "    <tr>\n",
       "      <th>109</th>\n",
       "      <td>23919698</td>\n",
       "      <td>4</td>\n",
       "      <td>Blackheart's Bay</td>\n",
       "      <td>00:19:30</td>\n",
       "      <td>5/14/2015 12:58:11 AM</td>\n",
       "    </tr>\n",
       "    <tr>\n",
       "      <th>116</th>\n",
       "      <td>23925718</td>\n",
       "      <td>4</td>\n",
       "      <td>Haunted Mines</td>\n",
       "      <td>00:08:45</td>\n",
       "      <td>5/14/2015 12:58:16 AM</td>\n",
       "    </tr>\n",
       "    <tr>\n",
       "      <th>120</th>\n",
       "      <td>24033325</td>\n",
       "      <td>4</td>\n",
       "      <td>Tomb of the Spider Queen</td>\n",
       "      <td>00:23:36</td>\n",
       "      <td>5/14/2015 12:58:17 AM</td>\n",
       "    </tr>\n",
       "    <tr>\n",
       "      <th>121</th>\n",
       "      <td>24782758</td>\n",
       "      <td>4</td>\n",
       "      <td>Dragon Shire</td>\n",
       "      <td>00:17:30</td>\n",
       "      <td>5/14/2015 12:58:17 AM</td>\n",
       "    </tr>\n",
       "    <tr>\n",
       "      <th>122</th>\n",
       "      <td>23916090</td>\n",
       "      <td>4</td>\n",
       "      <td>Garden of Terror</td>\n",
       "      <td>00:24:02</td>\n",
       "      <td>5/14/2015 12:58:18 AM</td>\n",
       "    </tr>\n",
       "  </tbody>\n",
       "</table>\n",
       "</div>"
      ],
      "text/plain": [
       "     ReplayID  GameMode                       Map ReplayLength  \\\n",
       "0    23915730         4             Haunted Mines     00:12:00   \n",
       "2    23915740         4          Garden of Terror     00:26:18   \n",
       "10   23924385         4          Garden of Terror     00:34:37   \n",
       "22   23915858         4                Sky Temple     00:22:32   \n",
       "23   23915915         4              Dragon Shire     00:24:00   \n",
       "25   24393574         4          Garden of Terror     00:20:15   \n",
       "30   23929877         4              Dragon Shire     00:22:01   \n",
       "31   23950711         4          Blackheart's Bay     00:16:45   \n",
       "32   24507009         4          Garden of Terror     00:30:30   \n",
       "34   23915821         4          Blackheart's Bay     00:24:20   \n",
       "35   23924305         4              Dragon Shire     00:16:34   \n",
       "40   24091524         4  Tomb of the Spider Queen     00:22:15   \n",
       "46   23920889         4             Haunted Mines     00:17:38   \n",
       "47   23920333         4          Garden of Terror     00:22:33   \n",
       "61   24080712         4                Sky Temple     00:21:50   \n",
       "71   23923686         4             Cursed Hollow     00:26:51   \n",
       "72   23915914         4                Sky Temple     00:18:03   \n",
       "75   23915927         4              Dragon Shire     00:26:05   \n",
       "77   23916113         4             Haunted Mines     00:17:02   \n",
       "80   23915986         4          Blackheart's Bay     00:20:07   \n",
       "90   24760904         4             Cursed Hollow     00:21:15   \n",
       "93   23916018         4  Tomb of the Spider Queen     00:13:50   \n",
       "96   23916011         4                Sky Temple     00:19:20   \n",
       "97   23916034         4          Garden of Terror     00:27:24   \n",
       "106  23917921         4             Haunted Mines     00:21:15   \n",
       "109  23919698         4          Blackheart's Bay     00:19:30   \n",
       "116  23925718         4             Haunted Mines     00:08:45   \n",
       "120  24033325         4  Tomb of the Spider Queen     00:23:36   \n",
       "121  24782758         4              Dragon Shire     00:17:30   \n",
       "122  23916090         4          Garden of Terror     00:24:02   \n",
       "\n",
       "                 Timestamp  \n",
       "0    5/14/2015 12:55:26 AM  \n",
       "2    5/14/2015 12:55:27 AM  \n",
       "10   5/14/2015 12:55:39 AM  \n",
       "22   5/14/2015 12:56:00 AM  \n",
       "23   5/14/2015 12:56:01 AM  \n",
       "25   5/14/2015 12:56:08 AM  \n",
       "30   5/14/2015 12:56:13 AM  \n",
       "31   5/14/2015 12:56:13 AM  \n",
       "32   5/14/2015 12:56:14 AM  \n",
       "34   5/14/2015 12:56:15 AM  \n",
       "35   5/14/2015 12:56:17 AM  \n",
       "40   5/14/2015 12:56:24 AM  \n",
       "46   5/14/2015 12:56:28 AM  \n",
       "47   5/14/2015 12:56:29 AM  \n",
       "61   5/14/2015 12:56:54 AM  \n",
       "71   5/14/2015 12:57:12 AM  \n",
       "72   5/14/2015 12:57:13 AM  \n",
       "75   5/14/2015 12:57:20 AM  \n",
       "77   5/14/2015 12:57:22 AM  \n",
       "80   5/14/2015 12:57:25 AM  \n",
       "90   5/14/2015 12:57:43 AM  \n",
       "93   5/14/2015 12:57:52 AM  \n",
       "96   5/14/2015 12:57:57 AM  \n",
       "97   5/14/2015 12:57:59 AM  \n",
       "106  5/14/2015 12:58:10 AM  \n",
       "109  5/14/2015 12:58:11 AM  \n",
       "116  5/14/2015 12:58:16 AM  \n",
       "120  5/14/2015 12:58:17 AM  \n",
       "121  5/14/2015 12:58:17 AM  \n",
       "122  5/14/2015 12:58:18 AM  "
      ]
     },
     "execution_count": 14,
     "metadata": {},
     "output_type": "execute_result"
    }
   ],
   "source": [
    "#Renaming columns in the dataframe\n",
    "DF_Replay.columns = ['ReplayID', 'GameMode', 'Map', 'ReplayLength', 'Timestamp']\n",
    "#Only keeping rows relating to competitive gameplay (4 = Hero League)\n",
    "DF_Replay = DF_Replay[DF_Replay['GameMode'] == 4]\n",
    "DF_Replay.head(30)"
   ]
  },
  {
   "cell_type": "code",
   "execution_count": 15,
   "metadata": {
    "collapsed": false
   },
   "outputs": [
    {
     "data": {
      "text/html": [
       "<div>\n",
       "<table border=\"1\" class=\"dataframe\">\n",
       "  <thead>\n",
       "    <tr style=\"text-align: right;\">\n",
       "      <th></th>\n",
       "      <th>ReplayID</th>\n",
       "      <th>GameMode</th>\n",
       "      <th>Map</th>\n",
       "      <th>ReplayLength</th>\n",
       "      <th>Timestamp</th>\n",
       "    </tr>\n",
       "  </thead>\n",
       "  <tbody>\n",
       "    <tr>\n",
       "      <th>0</th>\n",
       "      <td>23915730</td>\n",
       "      <td>4</td>\n",
       "      <td>Haunted Mines</td>\n",
       "      <td>720.0</td>\n",
       "      <td>5/14/2015 12:55:26 AM</td>\n",
       "    </tr>\n",
       "    <tr>\n",
       "      <th>2</th>\n",
       "      <td>23915740</td>\n",
       "      <td>4</td>\n",
       "      <td>Garden of Terror</td>\n",
       "      <td>1578.0</td>\n",
       "      <td>5/14/2015 12:55:27 AM</td>\n",
       "    </tr>\n",
       "    <tr>\n",
       "      <th>10</th>\n",
       "      <td>23924385</td>\n",
       "      <td>4</td>\n",
       "      <td>Garden of Terror</td>\n",
       "      <td>2077.0</td>\n",
       "      <td>5/14/2015 12:55:39 AM</td>\n",
       "    </tr>\n",
       "    <tr>\n",
       "      <th>22</th>\n",
       "      <td>23915858</td>\n",
       "      <td>4</td>\n",
       "      <td>Sky Temple</td>\n",
       "      <td>1352.0</td>\n",
       "      <td>5/14/2015 12:56:00 AM</td>\n",
       "    </tr>\n",
       "    <tr>\n",
       "      <th>23</th>\n",
       "      <td>23915915</td>\n",
       "      <td>4</td>\n",
       "      <td>Dragon Shire</td>\n",
       "      <td>1440.0</td>\n",
       "      <td>5/14/2015 12:56:01 AM</td>\n",
       "    </tr>\n",
       "  </tbody>\n",
       "</table>\n",
       "</div>"
      ],
      "text/plain": [
       "    ReplayID  GameMode               Map  ReplayLength              Timestamp\n",
       "0   23915730         4     Haunted Mines         720.0  5/14/2015 12:55:26 AM\n",
       "2   23915740         4  Garden of Terror        1578.0  5/14/2015 12:55:27 AM\n",
       "10  23924385         4  Garden of Terror        2077.0  5/14/2015 12:55:39 AM\n",
       "22  23915858         4        Sky Temple        1352.0  5/14/2015 12:56:00 AM\n",
       "23  23915915         4      Dragon Shire        1440.0  5/14/2015 12:56:01 AM"
      ]
     },
     "execution_count": 15,
     "metadata": {},
     "output_type": "execute_result"
    }
   ],
   "source": [
    "#Split the string for ReplayLength into several sub-cells based on the ':'\n",
    "# XX : YY : ZZ\n",
    "# X *60 *60 (for float(sec))\n",
    "# Y *1 *60  (for float(sec))\n",
    "# Z *1      (for float(sec))\n",
    "\n",
    "#from format   |  hh:mm:mm  |\n",
    "#to format     |  hh  |  :  | mm:ss  |\n",
    "ChangeTime = DF_Replay['ReplayLength'].str.partition(':')\n",
    "ChangeTime.columns = ['Hour', 'Col2', 'MinSec']\n",
    "#Now we have one column for hours, and one for both minutes and seconds to partition again\n",
    "\n",
    "#from format  |  mm:ss  |\n",
    "#to format    |  mm  |  :  |  ss  |\n",
    "ChangeTime2 = ChangeTime['MinSec'].str.partition(':')\n",
    "ChangeTime2.columns = ['Min', 'Space', 'Second']\n",
    "#now we have one column for minutes and one for seconds\n",
    "\n",
    "#Get both column in float type\n",
    "ChangeTime2['Min'] = ChangeTime2['Min'].astype(float)\n",
    "ChangeTime2['Second'] = ChangeTime2['Second'].astype(float)\n",
    "\n",
    "#Apply math to convert min to sec, then add minutes and seconds together\n",
    "ChangeTime2['Min']= ChangeTime2['Min'] * 60\n",
    "ChangeTime2['Second'] = ChangeTime2['Min'] + ChangeTime2['Second']\n",
    "ChangeTime2 = ChangeTime2[[2]]\n",
    "\n",
    "ChangeTime = ChangeTime.drop('MinSec', axis=1)\n",
    "ChangeTime['Hour'] = ChangeTime['Hour'].astype(float)\n",
    "#change the values in the column with *60 to get in minutes, and *60 again to get result in seconds\n",
    "ChangeTime['Hour'] = ChangeTime['Hour'] * 60 * 60     \n",
    "\n",
    "ChangeTime['Col2'] = (ChangeTime2['Second'] + ChangeTime['Hour'])\n",
    "\n",
    "DF_Replay['ReplayLength'] = ChangeTime['Col2']\n",
    "DF_Replay.head()"
   ]
  },
  {
   "cell_type": "code",
   "execution_count": 16,
   "metadata": {
    "collapsed": false
   },
   "outputs": [
    {
     "data": {
      "text/html": [
       "<div>\n",
       "<table border=\"1\" class=\"dataframe\">\n",
       "  <thead>\n",
       "    <tr style=\"text-align: right;\">\n",
       "      <th></th>\n",
       "      <th>ReplayID</th>\n",
       "      <th>Is Auto Select</th>\n",
       "      <th>Hero</th>\n",
       "      <th>Hero Level</th>\n",
       "      <th>Is Winner</th>\n",
       "      <th>MMR Before</th>\n",
       "    </tr>\n",
       "  </thead>\n",
       "  <tbody>\n",
       "    <tr>\n",
       "      <th>0</th>\n",
       "      <td>23915730</td>\n",
       "      <td>False</td>\n",
       "      <td>Rehgar</td>\n",
       "      <td>14</td>\n",
       "      <td>False</td>\n",
       "      <td>3170.0</td>\n",
       "    </tr>\n",
       "    <tr>\n",
       "      <th>1</th>\n",
       "      <td>23915730</td>\n",
       "      <td>False</td>\n",
       "      <td>Falstad</td>\n",
       "      <td>10</td>\n",
       "      <td>False</td>\n",
       "      <td>3330.0</td>\n",
       "    </tr>\n",
       "    <tr>\n",
       "      <th>2</th>\n",
       "      <td>23915730</td>\n",
       "      <td>False</td>\n",
       "      <td>Jaina</td>\n",
       "      <td>7</td>\n",
       "      <td>True</td>\n",
       "      <td>3442.0</td>\n",
       "    </tr>\n",
       "    <tr>\n",
       "      <th>3</th>\n",
       "      <td>23915730</td>\n",
       "      <td>False</td>\n",
       "      <td>Sylvanas</td>\n",
       "      <td>13</td>\n",
       "      <td>False</td>\n",
       "      <td>2666.0</td>\n",
       "    </tr>\n",
       "    <tr>\n",
       "      <th>4</th>\n",
       "      <td>23915730</td>\n",
       "      <td>False</td>\n",
       "      <td>Zagara</td>\n",
       "      <td>10</td>\n",
       "      <td>True</td>\n",
       "      <td>3198.0</td>\n",
       "    </tr>\n",
       "  </tbody>\n",
       "</table>\n",
       "</div>"
      ],
      "text/plain": [
       "   ReplayID Is Auto Select      Hero  Hero Level Is Winner  MMR Before\n",
       "0  23915730          False    Rehgar          14     False      3170.0\n",
       "1  23915730          False   Falstad          10     False      3330.0\n",
       "2  23915730          False     Jaina           7      True      3442.0\n",
       "3  23915730          False  Sylvanas          13     False      2666.0\n",
       "4  23915730          False    Zagara          10      True      3198.0"
      ]
     },
     "execution_count": 16,
     "metadata": {},
     "output_type": "execute_result"
    }
   ],
   "source": [
    "DF_Characters.head()"
   ]
  },
  {
   "cell_type": "code",
   "execution_count": 17,
   "metadata": {
    "collapsed": false
   },
   "outputs": [
    {
     "data": {
      "text/html": [
       "<div>\n",
       "<table border=\"1\" class=\"dataframe\">\n",
       "  <thead>\n",
       "    <tr style=\"text-align: right;\">\n",
       "      <th></th>\n",
       "      <th>ID</th>\n",
       "      <th>Name</th>\n",
       "      <th>Group</th>\n",
       "      <th>SubGroup</th>\n",
       "    </tr>\n",
       "  </thead>\n",
       "  <tbody>\n",
       "    <tr>\n",
       "      <th>0</th>\n",
       "      <td>0</td>\n",
       "      <td>Unknown</td>\n",
       "      <td>NaN</td>\n",
       "      <td>NaN</td>\n",
       "    </tr>\n",
       "    <tr>\n",
       "      <th>1</th>\n",
       "      <td>1</td>\n",
       "      <td>Abathur</td>\n",
       "      <td>Specialist</td>\n",
       "      <td>Utility</td>\n",
       "    </tr>\n",
       "  </tbody>\n",
       "</table>\n",
       "</div>"
      ],
      "text/plain": [
       "   ID     Name       Group SubGroup\n",
       "0   0  Unknown         NaN      NaN\n",
       "1   1  Abathur  Specialist  Utility"
      ]
     },
     "execution_count": 17,
     "metadata": {},
     "output_type": "execute_result"
    }
   ],
   "source": [
    "DF_Map_Groups.head(2)"
   ]
  },
  {
   "cell_type": "code",
   "execution_count": 18,
   "metadata": {
    "collapsed": false
   },
   "outputs": [
    {
     "data": {
      "text/html": [
       "<div>\n",
       "<table border=\"1\" class=\"dataframe\">\n",
       "  <thead>\n",
       "    <tr style=\"text-align: right;\">\n",
       "      <th></th>\n",
       "      <th>Name</th>\n",
       "      <th>Group</th>\n",
       "    </tr>\n",
       "  </thead>\n",
       "  <tbody>\n",
       "    <tr>\n",
       "      <th>45</th>\n",
       "      <td>Gall</td>\n",
       "      <td>Assassin</td>\n",
       "    </tr>\n",
       "    <tr>\n",
       "      <th>46</th>\n",
       "      <td>Lunara</td>\n",
       "      <td>Assassin</td>\n",
       "    </tr>\n",
       "    <tr>\n",
       "      <th>47</th>\n",
       "      <td>Greymane</td>\n",
       "      <td>Assassin</td>\n",
       "    </tr>\n",
       "  </tbody>\n",
       "</table>\n",
       "</div>"
      ],
      "text/plain": [
       "        Name     Group\n",
       "45      Gall  Assassin\n",
       "46    Lunara  Assassin\n",
       "47  Greymane  Assassin"
      ]
     },
     "execution_count": 18,
     "metadata": {},
     "output_type": "execute_result"
    }
   ],
   "source": [
    "#Remove all after row 49, to remove map IDs and keep all data for Heroes\n",
    "DF_Map_Groups = DF_Map_Groups[:48]\n",
    "\n",
    "#DF3 = DF.drop('ID', axis=1).drop('SubGroup', axis=1)\n",
    "DF_Map_Groups = DF_Map_Groups.drop('SubGroup', axis=1).drop('ID', axis=1)\n",
    "\n",
    "#Returning last 3 elements to check\n",
    "DF_Map_Groups.iloc[45:]"
   ]
  },
  {
   "cell_type": "code",
   "execution_count": 19,
   "metadata": {
    "collapsed": false,
    "scrolled": true
   },
   "outputs": [],
   "source": [
    "#Need to merge on 'ReplayID' and duplicate entries\n",
    "from pandas import merge\n",
    "DF1 = pd.merge(DF_Replay, DF_Characters, left_on=[\"ReplayID\"], right_on=['ReplayID'], how='left')\n",
    "DF1.head(4)\n",
    "\n",
    "#deleting previous dataframes created for memory reasons\n",
    "del DF_Replay\n",
    "del DF_Characters"
   ]
  },
  {
   "cell_type": "code",
   "execution_count": 20,
   "metadata": {
    "collapsed": true
   },
   "outputs": [],
   "source": [
    "#Need to merge on 'Name' \n",
    "DF = pd.merge(DF1, DF_Map_Groups, left_on=[\"Hero\"], right_on=[\"Name\"], how='left')\n",
    "\n",
    "#delete the former dataframe DF_Map_Groups for memory's optimization\n",
    "del DF_Map_Groups\n",
    "del DF1"
   ]
  },
  {
   "cell_type": "code",
   "execution_count": 21,
   "metadata": {
    "collapsed": false
   },
   "outputs": [],
   "source": [
    "#Saving the merged Dataframe to a csv file\n",
    "DF.to_csv(\"HeroLeagueData.csv\")"
   ]
  },
  {
   "cell_type": "code",
   "execution_count": 22,
   "metadata": {
    "collapsed": false
   },
   "outputs": [
    {
     "data": {
      "text/html": [
       "<div>\n",
       "<table border=\"1\" class=\"dataframe\">\n",
       "  <thead>\n",
       "    <tr style=\"text-align: right;\">\n",
       "      <th></th>\n",
       "      <th>Unnamed: 0</th>\n",
       "      <th>ReplayID</th>\n",
       "      <th>GameMode</th>\n",
       "      <th>Map</th>\n",
       "      <th>ReplayLength</th>\n",
       "      <th>Timestamp</th>\n",
       "      <th>Is Auto Select</th>\n",
       "      <th>Hero</th>\n",
       "      <th>Hero Level</th>\n",
       "      <th>Is Winner</th>\n",
       "      <th>MMR Before</th>\n",
       "      <th>Name</th>\n",
       "      <th>Group</th>\n",
       "    </tr>\n",
       "  </thead>\n",
       "  <tbody>\n",
       "    <tr>\n",
       "      <th>0</th>\n",
       "      <td>0</td>\n",
       "      <td>23915730</td>\n",
       "      <td>4</td>\n",
       "      <td>Haunted Mines</td>\n",
       "      <td>720.0</td>\n",
       "      <td>5/14/2015 12:55:26 AM</td>\n",
       "      <td>False</td>\n",
       "      <td>Rehgar</td>\n",
       "      <td>14</td>\n",
       "      <td>False</td>\n",
       "      <td>3170.0</td>\n",
       "      <td>Rehgar</td>\n",
       "      <td>Support</td>\n",
       "    </tr>\n",
       "    <tr>\n",
       "      <th>1</th>\n",
       "      <td>1</td>\n",
       "      <td>23915730</td>\n",
       "      <td>4</td>\n",
       "      <td>Haunted Mines</td>\n",
       "      <td>720.0</td>\n",
       "      <td>5/14/2015 12:55:26 AM</td>\n",
       "      <td>False</td>\n",
       "      <td>Falstad</td>\n",
       "      <td>10</td>\n",
       "      <td>False</td>\n",
       "      <td>3330.0</td>\n",
       "      <td>Falstad</td>\n",
       "      <td>Assassin</td>\n",
       "    </tr>\n",
       "    <tr>\n",
       "      <th>2</th>\n",
       "      <td>2</td>\n",
       "      <td>23915730</td>\n",
       "      <td>4</td>\n",
       "      <td>Haunted Mines</td>\n",
       "      <td>720.0</td>\n",
       "      <td>5/14/2015 12:55:26 AM</td>\n",
       "      <td>False</td>\n",
       "      <td>Jaina</td>\n",
       "      <td>7</td>\n",
       "      <td>True</td>\n",
       "      <td>3442.0</td>\n",
       "      <td>Jaina</td>\n",
       "      <td>Assassin</td>\n",
       "    </tr>\n",
       "    <tr>\n",
       "      <th>3</th>\n",
       "      <td>3</td>\n",
       "      <td>23915730</td>\n",
       "      <td>4</td>\n",
       "      <td>Haunted Mines</td>\n",
       "      <td>720.0</td>\n",
       "      <td>5/14/2015 12:55:26 AM</td>\n",
       "      <td>False</td>\n",
       "      <td>Sylvanas</td>\n",
       "      <td>13</td>\n",
       "      <td>False</td>\n",
       "      <td>2666.0</td>\n",
       "      <td>Sylvanas</td>\n",
       "      <td>Specialist</td>\n",
       "    </tr>\n",
       "    <tr>\n",
       "      <th>4</th>\n",
       "      <td>4</td>\n",
       "      <td>23915730</td>\n",
       "      <td>4</td>\n",
       "      <td>Haunted Mines</td>\n",
       "      <td>720.0</td>\n",
       "      <td>5/14/2015 12:55:26 AM</td>\n",
       "      <td>False</td>\n",
       "      <td>Zagara</td>\n",
       "      <td>10</td>\n",
       "      <td>True</td>\n",
       "      <td>3198.0</td>\n",
       "      <td>Zagara</td>\n",
       "      <td>Specialist</td>\n",
       "    </tr>\n",
       "  </tbody>\n",
       "</table>\n",
       "</div>"
      ],
      "text/plain": [
       "   Unnamed: 0  ReplayID  GameMode            Map  ReplayLength  \\\n",
       "0           0  23915730         4  Haunted Mines         720.0   \n",
       "1           1  23915730         4  Haunted Mines         720.0   \n",
       "2           2  23915730         4  Haunted Mines         720.0   \n",
       "3           3  23915730         4  Haunted Mines         720.0   \n",
       "4           4  23915730         4  Haunted Mines         720.0   \n",
       "\n",
       "               Timestamp Is Auto Select      Hero  Hero Level Is Winner  \\\n",
       "0  5/14/2015 12:55:26 AM          False    Rehgar          14     False   \n",
       "1  5/14/2015 12:55:26 AM          False   Falstad          10     False   \n",
       "2  5/14/2015 12:55:26 AM          False     Jaina           7      True   \n",
       "3  5/14/2015 12:55:26 AM          False  Sylvanas          13     False   \n",
       "4  5/14/2015 12:55:26 AM          False    Zagara          10      True   \n",
       "\n",
       "   MMR Before      Name       Group  \n",
       "0      3170.0    Rehgar     Support  \n",
       "1      3330.0   Falstad    Assassin  \n",
       "2      3442.0     Jaina    Assassin  \n",
       "3      2666.0  Sylvanas  Specialist  \n",
       "4      3198.0    Zagara  Specialist  "
      ]
     },
     "execution_count": 22,
     "metadata": {},
     "output_type": "execute_result"
    }
   ],
   "source": [
    "DataFrame = pd.read_csv(\"HeroLeagueData.csv\")\n",
    "del DF\n",
    "DataFrame.head()"
   ]
  },
  {
   "cell_type": "code",
   "execution_count": 23,
   "metadata": {
    "collapsed": false
   },
   "outputs": [
    {
     "data": {
      "text/plain": [
       "['ReplayID',\n",
       " 'Map',\n",
       " 'ReplayLength',\n",
       " 'Hero',\n",
       " 'HeroLevel',\n",
       " 'IsWinner',\n",
       " 'MMRbefore',\n",
       " 'Group']"
      ]
     },
     "execution_count": 23,
     "metadata": {},
     "output_type": "execute_result"
    }
   ],
   "source": [
    "#drop these columns from dataframe as they are no longer relevant\n",
    "DataFrame = DataFrame.drop('Unnamed: 0', axis=1).drop('GameMode', axis=1).drop('Name', axis=1).drop('Is Auto Select', axis=1).drop('Timestamp', axis=1)\n",
    "\n",
    "\n",
    "#Overwrite the DataFrame's Column names to get it into correct format for future use\n",
    "DataFrame.columns = ['ReplayID', 'Map', 'ReplayLength', 'Hero', 'HeroLevel', 'IsWinner', 'MMRbefore', 'Group']\n",
    "#similar to:\n",
    "#DF = DF.rename(columns = ('Replay Length':'ReplayLength'))\n",
    "#DF = DF.rename(columns = {'Timestamp (UTC)':'Timestamp'})\n",
    "#DF = DF.rename(columns = {'Is Auto Select':'AutoSelect'})\n",
    "#...\n",
    "\n",
    "list(DataFrame.columns.values)"
   ]
  },
  {
   "cell_type": "code",
   "execution_count": 24,
   "metadata": {
    "collapsed": false
   },
   "outputs": [
    {
     "data": {
      "text/plain": [
       "ReplayID          int64\n",
       "Map              object\n",
       "ReplayLength    float64\n",
       "Hero             object\n",
       "HeroLevel         int64\n",
       "IsWinner           bool\n",
       "MMRbefore       float64\n",
       "Group            object\n",
       "dtype: object"
      ]
     },
     "execution_count": 24,
     "metadata": {},
     "output_type": "execute_result"
    }
   ],
   "source": [
    "DataFrame.dtypes \n",
    "#ReplayID          int64     >>>Change to Category\n",
    "#Map              object\n",
    "#ReplayLength     object\n",
    "#Hero             object\n",
    "#HeroLevel         int64\n",
    "#IsWinner           bool\n",
    "#MMRBefore       float64\n",
    "#Group            object"
   ]
  },
  {
   "cell_type": "code",
   "execution_count": 25,
   "metadata": {
    "collapsed": false
   },
   "outputs": [
    {
     "data": {
      "text/plain": [
       "ReplayID             0\n",
       "Map                  0\n",
       "ReplayLength         0\n",
       "Hero                 0\n",
       "HeroLevel            0\n",
       "IsWinner             0\n",
       "MMRbefore       175460\n",
       "Group                0\n",
       "dtype: int64"
      ]
     },
     "execution_count": 25,
     "metadata": {},
     "output_type": "execute_result"
    }
   ],
   "source": [
    "# Check if any fields contain null values\n",
    "DataFrame.isnull().sum()"
   ]
  },
  {
   "cell_type": "code",
   "execution_count": 26,
   "metadata": {
    "collapsed": true
   },
   "outputs": [],
   "source": [
    "# Remove all of the rows where the value of \"MMRbefore\" is not a finite number\n",
    "DataFrame = DataFrame[np.isfinite(DataFrame[\"MMRbefore\"])]"
   ]
  },
  {
   "cell_type": "code",
   "execution_count": 27,
   "metadata": {
    "collapsed": false
   },
   "outputs": [
    {
     "name": "stdout",
     "output_type": "stream",
     "text": [
      "True\n"
     ]
    }
   ],
   "source": [
    "# Get the number of rows that have a unique value for \"ReplayID\"\n",
    "# This value should be one tenth the value of the dataframe length, as each game has 10 players\n",
    "A = DataFrame.ReplayID.nunique()\n",
    "B = len(DataFrame)\n",
    "print(A*10 == B)"
   ]
  },
  {
   "cell_type": "code",
   "execution_count": 28,
   "metadata": {
    "collapsed": false
   },
   "outputs": [
    {
     "data": {
      "text/plain": [
       "(1697780, 8)"
      ]
     },
     "execution_count": 28,
     "metadata": {},
     "output_type": "execute_result"
    }
   ],
   "source": [
    "# Find the number of entries remaining\n",
    "DataFrame.shape"
   ]
  },
  {
   "cell_type": "code",
   "execution_count": 29,
   "metadata": {
    "collapsed": false,
    "scrolled": true
   },
   "outputs": [
    {
     "data": {
      "text/html": [
       "<div>\n",
       "<table border=\"1\" class=\"dataframe\">\n",
       "  <thead>\n",
       "    <tr style=\"text-align: right;\">\n",
       "      <th></th>\n",
       "      <th>ReplayLength</th>\n",
       "      <th>HeroLevel</th>\n",
       "      <th>MMRbefore</th>\n",
       "    </tr>\n",
       "  </thead>\n",
       "  <tbody>\n",
       "    <tr>\n",
       "      <th>0</th>\n",
       "      <td>720.0</td>\n",
       "      <td>14</td>\n",
       "      <td>3170.0</td>\n",
       "    </tr>\n",
       "    <tr>\n",
       "      <th>1</th>\n",
       "      <td>720.0</td>\n",
       "      <td>10</td>\n",
       "      <td>3330.0</td>\n",
       "    </tr>\n",
       "    <tr>\n",
       "      <th>2</th>\n",
       "      <td>720.0</td>\n",
       "      <td>7</td>\n",
       "      <td>3442.0</td>\n",
       "    </tr>\n",
       "    <tr>\n",
       "      <th>3</th>\n",
       "      <td>720.0</td>\n",
       "      <td>13</td>\n",
       "      <td>2666.0</td>\n",
       "    </tr>\n",
       "    <tr>\n",
       "      <th>4</th>\n",
       "      <td>720.0</td>\n",
       "      <td>10</td>\n",
       "      <td>3198.0</td>\n",
       "    </tr>\n",
       "  </tbody>\n",
       "</table>\n",
       "</div>"
      ],
      "text/plain": [
       "   ReplayLength  HeroLevel  MMRbefore\n",
       "0         720.0         14     3170.0\n",
       "1         720.0         10     3330.0\n",
       "2         720.0          7     3442.0\n",
       "3         720.0         13     2666.0\n",
       "4         720.0         10     3198.0"
      ]
     },
     "execution_count": 29,
     "metadata": {},
     "output_type": "execute_result"
    }
   ],
   "source": [
    "numeric = DataFrame.select_dtypes(['int64','float64']).columns\n",
    "numeric = numeric.drop(\"ReplayID\")\n",
    "DataFrame[numeric].head(5)"
   ]
  },
  {
   "cell_type": "code",
   "execution_count": 30,
   "metadata": {
    "collapsed": false
   },
   "outputs": [
    {
     "data": {
      "text/html": [
       "<div>\n",
       "<table border=\"1\" class=\"dataframe\">\n",
       "  <thead>\n",
       "    <tr style=\"text-align: right;\">\n",
       "      <th></th>\n",
       "      <th>ReplayLength</th>\n",
       "      <th>HeroLevel</th>\n",
       "      <th>MMRbefore</th>\n",
       "    </tr>\n",
       "  </thead>\n",
       "  <tbody>\n",
       "    <tr>\n",
       "      <th>ReplayLength</th>\n",
       "      <td>1.000000</td>\n",
       "      <td>-0.003705</td>\n",
       "      <td>-0.050528</td>\n",
       "    </tr>\n",
       "    <tr>\n",
       "      <th>HeroLevel</th>\n",
       "      <td>-0.003705</td>\n",
       "      <td>1.000000</td>\n",
       "      <td>0.103924</td>\n",
       "    </tr>\n",
       "    <tr>\n",
       "      <th>MMRbefore</th>\n",
       "      <td>-0.050528</td>\n",
       "      <td>0.103924</td>\n",
       "      <td>1.000000</td>\n",
       "    </tr>\n",
       "  </tbody>\n",
       "</table>\n",
       "</div>"
      ],
      "text/plain": [
       "              ReplayLength  HeroLevel  MMRbefore\n",
       "ReplayLength      1.000000  -0.003705  -0.050528\n",
       "HeroLevel        -0.003705   1.000000   0.103924\n",
       "MMRbefore        -0.050528   0.103924   1.000000"
      ]
     },
     "execution_count": 30,
     "metadata": {},
     "output_type": "execute_result"
    }
   ],
   "source": [
    "DataFrame[numeric].corr()"
   ]
  },
  {
   "cell_type": "code",
   "execution_count": 31,
   "metadata": {
    "collapsed": false
   },
   "outputs": [
    {
     "data": {
      "text/plain": [
       "array([[<matplotlib.axes._subplots.AxesSubplot object at 0x0000017F0052F470>,\n",
       "        <matplotlib.axes._subplots.AxesSubplot object at 0x0000017F0018A6A0>]], dtype=object)"
      ]
     },
     "execution_count": 31,
     "metadata": {},
     "output_type": "execute_result"
    },
    {
     "data": {
      "image/png": "[encoded data removed]",
      "text/plain": [
       "<matplotlib.figure.Figure at 0x17f001d0a90>"
      ]
     },
     "metadata": {},
     "output_type": "display_data"
    }
   ],
   "source": [
    "%matplotlib inline\n",
    "DataFrame[[\"HeroLevel\",\"MMRbefore\"]].hist(figsize=(20, 8), color='red')\n",
    "#plt.savefig(\"Histogram-Numeric-Features_HOTS.png\")"
   ]
  },
  {
   "cell_type": "code",
   "execution_count": 32,
   "metadata": {
    "collapsed": false
   },
   "outputs": [
    {
     "data": {
      "text/plain": [
       "<matplotlib.axes._subplots.AxesSubplot at 0x17f0abfe470>"
      ]
     },
     "execution_count": 32,
     "metadata": {},
     "output_type": "execute_result"
    },
    {
     "data": {
      "image/png": "[encoded data removed]",
      "text/plain": [
       "<matplotlib.figure.Figure at 0x17f0061ceb8>"
      ]
     },
     "metadata": {},
     "output_type": "display_data"
    }
   ],
   "source": [
    "\n",
    "DataFrame[\"ReplayLength\"].hist(figsize=(20, 8), color='red')"
   ]
  },
  {
   "cell_type": "code",
   "execution_count": 33,
   "metadata": {
    "collapsed": false
   },
   "outputs": [
    {
     "data": {
      "text/plain": [
       "<matplotlib.axes._subplots.AxesSubplot at 0x17f021462e8>"
      ]
     },
     "execution_count": 33,
     "metadata": {},
     "output_type": "execute_result"
    },
    {
     "data": {
      "image/png": "[encoded data removed]",
      "text/plain": [
       "<matplotlib.figure.Figure at 0x17f02151748>"
      ]
     },
     "metadata": {},
     "output_type": "display_data"
    }
   ],
   "source": [
    "# Create a separate plot just to show the distribution of game length (removing lengthy outliers)\n",
    "DataFrame[\"ReplayLength\"][DataFrame.ReplayLength <= 3000].hist(figsize=(20, 8), color='red', bins=100)"
   ]
  },
  {
   "cell_type": "code",
   "execution_count": 34,
   "metadata": {
    "collapsed": false
   },
   "outputs": [
    {
     "data": {
      "text/plain": [
       "<matplotlib.axes._subplots.AxesSubplot at 0x17f029af588>"
      ]
     },
     "execution_count": 34,
     "metadata": {},
     "output_type": "execute_result"
    },
    {
     "data": {
      "image/png": "[encoded data removed]",
      "text/plain": [
       "<matplotlib.figure.Figure at 0x17f0adf4390>"
      ]
     },
     "metadata": {},
     "output_type": "display_data"
    }
   ],
   "source": [
    "dfHero = DataFrame[[\"Hero\", \"IsWinner\"]]\n",
    "dfHero = dfHero.groupby([\"Hero\",\"IsWinner\"])[\"Hero\"].count().unstack('IsWinner')\n",
    "dfHero.plot(kind=\"bar\", stacked=True, figsize=(15,8), title=\"Bar Plot for Win/Loss per hero\")"
   ]
  },
  {
   "cell_type": "code",
   "execution_count": 35,
   "metadata": {
    "collapsed": false
   },
   "outputs": [
    {
     "data": {
      "text/plain": [
       "ReplayID        243380\n",
       "Map             243380\n",
       "ReplayLength    243380\n",
       "Hero            243380\n",
       "HeroLevel       243380\n",
       "IsWinner        243380\n",
       "MMRbefore       243380\n",
       "Group           243380\n",
       "dtype: int64"
      ]
     },
     "execution_count": 35,
     "metadata": {},
     "output_type": "execute_result"
    }
   ],
   "source": [
    "\n",
    "DataFrame[DataFrame.Map == 'Haunted Mines'].count()\n",
    "# DataFrame[DataFrame.Map == \"Sky Temple\"].count()"
   ]
  },
  {
   "cell_type": "markdown",
   "metadata": {
    "collapsed": true
   },
   "source": [
    "#  <u> Observations </u>\n",
    "According to the graph above we can identify that the Heroes which are played the most are:  \n",
    "*Valla*    \n",
    "*Sylvanas*    \n",
    "*Jaina*  \n",
    "*Kael'Thas*  \n",
    "*ETC*    \n",
    "\n",
    "\n",
    "\n",
    "    \n",
    "# Define TRAIN and TEST data sets (80-20? 70-30?)\n",
    "    # define model\n",
    "    # look into OSL, Kernel Density Estimation\n",
    "    # Linear Regression\n",
    "    # logistic Regression\n",
    "    \n",
    "# Establish the likeliness of winning based on team rate\n",
    "\n",
    "\n",
    "# How is auto-select affecting win rate?\n",
    "# More/Less than Hero level??"
   ]
  },
  {
   "cell_type": "code",
   "execution_count": 40,
   "metadata": {
    "collapsed": false
   },
   "outputs": [],
   "source": [
    "DataFrame.sort_values([\"ReplayID\",\"IsWinner\"],axis=0, inplace=True, ascending=[True, False])"
   ]
  },
  {
   "cell_type": "code",
   "execution_count": 41,
   "metadata": {
    "collapsed": false
   },
   "outputs": [
    {
     "data": {
      "text/html": [
       "<div>\n",
       "<table border=\"1\" class=\"dataframe\">\n",
       "  <thead>\n",
       "    <tr style=\"text-align: right;\">\n",
       "      <th></th>\n",
       "      <th>ReplayID</th>\n",
       "      <th>Map</th>\n",
       "      <th>ReplayLength</th>\n",
       "      <th>Hero</th>\n",
       "      <th>HeroLevel</th>\n",
       "      <th>IsWinner</th>\n",
       "      <th>MMRbefore</th>\n",
       "      <th>Group</th>\n",
       "    </tr>\n",
       "  </thead>\n",
       "  <tbody>\n",
       "    <tr>\n",
       "      <th>14251</th>\n",
       "      <td>23812009</td>\n",
       "      <td>Garden of Terror</td>\n",
       "      <td>814.0</td>\n",
       "      <td>E.T.C.</td>\n",
       "      <td>8</td>\n",
       "      <td>True</td>\n",
       "      <td>3341.0</td>\n",
       "      <td>Warrior</td>\n",
       "    </tr>\n",
       "    <tr>\n",
       "      <th>14252</th>\n",
       "      <td>23812009</td>\n",
       "      <td>Garden of Terror</td>\n",
       "      <td>814.0</td>\n",
       "      <td>Rehgar</td>\n",
       "      <td>10</td>\n",
       "      <td>True</td>\n",
       "      <td>3008.0</td>\n",
       "      <td>Support</td>\n",
       "    </tr>\n",
       "    <tr>\n",
       "      <th>14253</th>\n",
       "      <td>23812009</td>\n",
       "      <td>Garden of Terror</td>\n",
       "      <td>814.0</td>\n",
       "      <td>Raynor</td>\n",
       "      <td>10</td>\n",
       "      <td>True</td>\n",
       "      <td>2850.0</td>\n",
       "      <td>Assassin</td>\n",
       "    </tr>\n",
       "    <tr>\n",
       "      <th>14254</th>\n",
       "      <td>23812009</td>\n",
       "      <td>Garden of Terror</td>\n",
       "      <td>814.0</td>\n",
       "      <td>Jaina</td>\n",
       "      <td>8</td>\n",
       "      <td>True</td>\n",
       "      <td>2835.0</td>\n",
       "      <td>Assassin</td>\n",
       "    </tr>\n",
       "    <tr>\n",
       "      <th>14255</th>\n",
       "      <td>23812009</td>\n",
       "      <td>Garden of Terror</td>\n",
       "      <td>814.0</td>\n",
       "      <td>Sylvanas</td>\n",
       "      <td>16</td>\n",
       "      <td>True</td>\n",
       "      <td>2648.0</td>\n",
       "      <td>Specialist</td>\n",
       "    </tr>\n",
       "  </tbody>\n",
       "</table>\n",
       "</div>"
      ],
      "text/plain": [
       "       ReplayID               Map  ReplayLength      Hero  HeroLevel IsWinner  \\\n",
       "14251  23812009  Garden of Terror         814.0    E.T.C.          8     True   \n",
       "14252  23812009  Garden of Terror         814.0    Rehgar         10     True   \n",
       "14253  23812009  Garden of Terror         814.0    Raynor         10     True   \n",
       "14254  23812009  Garden of Terror         814.0     Jaina          8     True   \n",
       "14255  23812009  Garden of Terror         814.0  Sylvanas         16     True   \n",
       "\n",
       "       MMRbefore       Group  \n",
       "14251     3341.0     Warrior  \n",
       "14252     3008.0     Support  \n",
       "14253     2850.0    Assassin  \n",
       "14254     2835.0    Assassin  \n",
       "14255     2648.0  Specialist  "
      ]
     },
     "execution_count": 41,
     "metadata": {},
     "output_type": "execute_result"
    }
   ],
   "source": [
    "DataFrame.head()"
   ]
  },
  {
   "cell_type": "code",
   "execution_count": 42,
   "metadata": {
    "collapsed": false
   },
   "outputs": [],
   "source": [
    "# Want to extract 2 lists from each game, one from the winning team, and one from the losing team\n",
    "# Each list will contain 5 items\n",
    "# The list will contain the classes of characters present on that team\n",
    "# E.g. Winner = [\"Assassin\", \"Support\", \"Support\", \"Specialist\", \"Warrior\"]\n",
    "# This list should be then sorted alphabetically\n",
    "# Once sorted, we should add this list as an element of another list, if it is not already contained in that list.\n",
    "# This will allow us to see all of the combinations of team compositions played during our dataset\n",
    "df_classes = DataFrame[[\"IsWinner\", \"ReplayID\", \"Group\", \"MMRbefore\"]]"
   ]
  },
  {
   "cell_type": "code",
   "execution_count": 43,
   "metadata": {
    "collapsed": false
   },
   "outputs": [
    {
     "data": {
      "text/plain": [
       "(1697780, 4)"
      ]
     },
     "execution_count": 43,
     "metadata": {},
     "output_type": "execute_result"
    }
   ],
   "source": [
    "df_classes.shape"
   ]
  },
  {
   "cell_type": "code",
   "execution_count": 44,
   "metadata": {
    "collapsed": false
   },
   "outputs": [
    {
     "data": {
      "text/html": [
       "<div>\n",
       "<table border=\"1\" class=\"dataframe\">\n",
       "  <thead>\n",
       "    <tr style=\"text-align: right;\">\n",
       "      <th></th>\n",
       "      <th>IsWinner</th>\n",
       "      <th>ReplayID</th>\n",
       "      <th>Group</th>\n",
       "      <th>MMRbefore</th>\n",
       "    </tr>\n",
       "  </thead>\n",
       "  <tbody>\n",
       "    <tr>\n",
       "      <th>14251</th>\n",
       "      <td>True</td>\n",
       "      <td>23812009</td>\n",
       "      <td>Warrior</td>\n",
       "      <td>3341.0</td>\n",
       "    </tr>\n",
       "    <tr>\n",
       "      <th>14252</th>\n",
       "      <td>True</td>\n",
       "      <td>23812009</td>\n",
       "      <td>Support</td>\n",
       "      <td>3008.0</td>\n",
       "    </tr>\n",
       "    <tr>\n",
       "      <th>14253</th>\n",
       "      <td>True</td>\n",
       "      <td>23812009</td>\n",
       "      <td>Assassin</td>\n",
       "      <td>2850.0</td>\n",
       "    </tr>\n",
       "    <tr>\n",
       "      <th>14254</th>\n",
       "      <td>True</td>\n",
       "      <td>23812009</td>\n",
       "      <td>Assassin</td>\n",
       "      <td>2835.0</td>\n",
       "    </tr>\n",
       "    <tr>\n",
       "      <th>14255</th>\n",
       "      <td>True</td>\n",
       "      <td>23812009</td>\n",
       "      <td>Specialist</td>\n",
       "      <td>2648.0</td>\n",
       "    </tr>\n",
       "  </tbody>\n",
       "</table>\n",
       "</div>"
      ],
      "text/plain": [
       "      IsWinner  ReplayID       Group  MMRbefore\n",
       "14251     True  23812009     Warrior     3341.0\n",
       "14252     True  23812009     Support     3008.0\n",
       "14253     True  23812009    Assassin     2850.0\n",
       "14254     True  23812009    Assassin     2835.0\n",
       "14255     True  23812009  Specialist     2648.0"
      ]
     },
     "execution_count": 44,
     "metadata": {},
     "output_type": "execute_result"
    }
   ],
   "source": [
    "df_classes.head()"
   ]
  },
  {
   "cell_type": "code",
   "execution_count": 54,
   "metadata": {
    "collapsed": false
   },
   "outputs": [
    {
     "name": "stdout",
     "output_type": "stream",
     "text": [
      "Finished\n"
     ]
    }
   ],
   "source": [
    "# Initialise lists to keep track of the group of 5 classes (a.k.a. Team Composition) played in any given game\n",
    "# Initialise another list to keep track of each of these lists of 5 classes\n",
    "# Similar thing with MMR (a.k.a. Player Rating), but divide by 5 to get average player rating on the team\n",
    "# Initialise a counter to 0, and cycle through every row in the dataframe\n",
    "# The dataframe is sorted by ReplayID, so every 10 rows corresponds to 1 game\n",
    "# Once counter reaches 10, reset the appropriate lists after adding their values to the larger lists\n",
    "\n",
    "comp_win = []\n",
    "comp_lose = []\n",
    "composition_list = []\n",
    "mmr_win = 0\n",
    "mmr_lose = 0\n",
    "mmr_list = []\n",
    "counter = 0\n",
    "for x in range(len(df_classes)):\n",
    "    if df_classes.IsWinner.iloc[x] == True:\n",
    "        comp_win.append(df_classes.Group.iloc[x])\n",
    "        mmr_win += df_classes.MMRbefore.iloc[x]\n",
    "    else:\n",
    "        comp_lose.append(df_classes.Group.iloc[x])\n",
    "        mmr_lose += df_classes.MMRbefore.iloc[x]\n",
    "    counter += 1\n",
    "    if counter == 10: # All values for a single game have been read, so now add them to lists\n",
    "        comp_win.sort()\n",
    "        comp_lose.sort()\n",
    "        composition_list.append(comp_win)\n",
    "        composition_list.append(comp_lose)\n",
    "        comp_win = []\n",
    "        comp_lose = []\n",
    "        mmr_list.append(mmr_win//5)\n",
    "        mmr_list.append(mmr_lose//5)\n",
    "        mmr_win = 0\n",
    "        mmr_lose = 0\n",
    "        counter = 0 # Restart counter to represent next game\n",
    "        \n",
    "print(\"Finished\")  "
   ]
  },
  {
   "cell_type": "code",
   "execution_count": 55,
   "metadata": {
    "collapsed": false
   },
   "outputs": [],
   "source": [
    "# From the entire list of all Team Compositions played, create a list of only the unique ones\n",
    "# This can then be used to create dummies that will be used to convey what Team Composition a particular team played\n",
    "# Necessary for our logisitic regression\n",
    "\n",
    "unique_comps = []\n",
    "for item in composition_list:\n",
    "    if item not in unique_comps:\n",
    "        unique_comps.append(item)\n",
    "        \n",
    "# Check that every composition conisists of 5 Classes\n",
    "for j in unique_comps:\n",
    "    if len(j) != 5:\n",
    "        print(\"Error\")"
   ]
  },
  {
   "cell_type": "code",
   "execution_count": 56,
   "metadata": {
    "collapsed": false
   },
   "outputs": [
    {
     "name": "stdout",
     "output_type": "stream",
     "text": [
      "['AASpSW', 'AASpSW', 'AAASW', 'ASpSpSW', 'AASpSW']\n"
     ]
    }
   ],
   "source": [
    "# For compositions to be easily readable, we will convert every list of 5 classes to a string representation\n",
    "# A = Assassin\n",
    "# S = Support\n",
    "# Sp = Specialist\n",
    "# W = Warrior\n",
    "# For example, the string AASpWW would represent [\"Assassin\", \"Assassin\", \"Specialist\", \"Warrior\", \"Warrior\"]\n",
    "str_comps = []\n",
    "for composition in composition_list:\n",
    "    string_rep = \"\" # String to keep track of class initials\n",
    "    for character_class in composition:\n",
    "        if character_class == \"Specialist\": # 2 classes begin with \"S\", so represent Specialist as \"Sp\"\n",
    "            string_rep += character_class[0:2]\n",
    "        else:\n",
    "            string_rep += character_class[0]\n",
    "    str_comps.append(string_rep) # Add the composition to the list\n",
    "    \n",
    "# Check that formatting is as expected\n",
    "print(str_comps[0:5])"
   ]
  },
  {
   "cell_type": "code",
   "execution_count": 60,
   "metadata": {
    "collapsed": true
   },
   "outputs": [],
   "source": [
    "# Create a list that can be used as a pandas Series to add as a column to our dataframe\n",
    "# The ratings calculated on a per-team basis, but at the moment we still have one row per player\n",
    "# Therefore, create 5 of each entry\n",
    "col_rating = []\n",
    "for i in mmr_list:\n",
    "    col_rating.append(i)\n",
    "    col_rating.append(i)\n",
    "    col_rating.append(i)\n",
    "    col_rating.append(i)\n",
    "    col_rating.append(i)"
   ]
  },
  {
   "cell_type": "code",
   "execution_count": 61,
   "metadata": {
    "collapsed": true
   },
   "outputs": [],
   "source": [
    "# Same as the previous cell, but for team composition\n",
    "col_comp = []\n",
    "for i in str_comps:\n",
    "    col_comp.append(i)\n",
    "    col_comp.append(i)\n",
    "    col_comp.append(i)\n",
    "    col_comp.append(i)\n",
    "    col_comp.append(i)"
   ]
  },
  {
   "cell_type": "code",
   "execution_count": 62,
   "metadata": {
    "collapsed": false
   },
   "outputs": [],
   "source": [
    "# Add these columns to the dataframe\n",
    "DataFrame['Composition'] = pd.Series(col_comp, index=DataFrame.index)\n",
    "DataFrame['Rating'] = pd.Series(col_rating, index=DataFrame.index)"
   ]
  },
  {
   "cell_type": "code",
   "execution_count": 64,
   "metadata": {
    "collapsed": true
   },
   "outputs": [
    {
     "data": {
      "text/html": [
       "<div>\n",
       "<table border=\"1\" class=\"dataframe\">\n",
       "  <thead>\n",
       "    <tr style=\"text-align: right;\">\n",
       "      <th></th>\n",
       "      <th>ReplayID</th>\n",
       "      <th>Map</th>\n",
       "      <th>ReplayLength</th>\n",
       "      <th>Hero</th>\n",
       "      <th>HeroLevel</th>\n",
       "      <th>IsWinner</th>\n",
       "      <th>MMRbefore</th>\n",
       "      <th>Group</th>\n",
       "      <th>Composition</th>\n",
       "      <th>Rating</th>\n",
       "    </tr>\n",
       "  </thead>\n",
       "  <tbody>\n",
       "    <tr>\n",
       "      <th>14251</th>\n",
       "      <td>23812009</td>\n",
       "      <td>Garden of Terror</td>\n",
       "      <td>814.0</td>\n",
       "      <td>E.T.C.</td>\n",
       "      <td>8</td>\n",
       "      <td>True</td>\n",
       "      <td>3341.0</td>\n",
       "      <td>Warrior</td>\n",
       "      <td>AASpSW</td>\n",
       "      <td>2936.0</td>\n",
       "    </tr>\n",
       "    <tr>\n",
       "      <th>14252</th>\n",
       "      <td>23812009</td>\n",
       "      <td>Garden of Terror</td>\n",
       "      <td>814.0</td>\n",
       "      <td>Rehgar</td>\n",
       "      <td>10</td>\n",
       "      <td>True</td>\n",
       "      <td>3008.0</td>\n",
       "      <td>Support</td>\n",
       "      <td>AASpSW</td>\n",
       "      <td>2936.0</td>\n",
       "    </tr>\n",
       "    <tr>\n",
       "      <th>14253</th>\n",
       "      <td>23812009</td>\n",
       "      <td>Garden of Terror</td>\n",
       "      <td>814.0</td>\n",
       "      <td>Raynor</td>\n",
       "      <td>10</td>\n",
       "      <td>True</td>\n",
       "      <td>2850.0</td>\n",
       "      <td>Assassin</td>\n",
       "      <td>AASpSW</td>\n",
       "      <td>2936.0</td>\n",
       "    </tr>\n",
       "    <tr>\n",
       "      <th>14254</th>\n",
       "      <td>23812009</td>\n",
       "      <td>Garden of Terror</td>\n",
       "      <td>814.0</td>\n",
       "      <td>Jaina</td>\n",
       "      <td>8</td>\n",
       "      <td>True</td>\n",
       "      <td>2835.0</td>\n",
       "      <td>Assassin</td>\n",
       "      <td>AASpSW</td>\n",
       "      <td>2936.0</td>\n",
       "    </tr>\n",
       "    <tr>\n",
       "      <th>14255</th>\n",
       "      <td>23812009</td>\n",
       "      <td>Garden of Terror</td>\n",
       "      <td>814.0</td>\n",
       "      <td>Sylvanas</td>\n",
       "      <td>16</td>\n",
       "      <td>True</td>\n",
       "      <td>2648.0</td>\n",
       "      <td>Specialist</td>\n",
       "      <td>AASpSW</td>\n",
       "      <td>2936.0</td>\n",
       "    </tr>\n",
       "    <tr>\n",
       "      <th>14250</th>\n",
       "      <td>23812009</td>\n",
       "      <td>Garden of Terror</td>\n",
       "      <td>814.0</td>\n",
       "      <td>Uther</td>\n",
       "      <td>7</td>\n",
       "      <td>False</td>\n",
       "      <td>2336.0</td>\n",
       "      <td>Support</td>\n",
       "      <td>AASpSW</td>\n",
       "      <td>2191.0</td>\n",
       "    </tr>\n",
       "    <tr>\n",
       "      <th>14256</th>\n",
       "      <td>23812009</td>\n",
       "      <td>Garden of Terror</td>\n",
       "      <td>814.0</td>\n",
       "      <td>Valla</td>\n",
       "      <td>9</td>\n",
       "      <td>False</td>\n",
       "      <td>2311.0</td>\n",
       "      <td>Assassin</td>\n",
       "      <td>AASpSW</td>\n",
       "      <td>2191.0</td>\n",
       "    </tr>\n",
       "    <tr>\n",
       "      <th>14257</th>\n",
       "      <td>23812009</td>\n",
       "      <td>Garden of Terror</td>\n",
       "      <td>814.0</td>\n",
       "      <td>Diablo</td>\n",
       "      <td>9</td>\n",
       "      <td>False</td>\n",
       "      <td>2971.0</td>\n",
       "      <td>Warrior</td>\n",
       "      <td>AASpSW</td>\n",
       "      <td>2191.0</td>\n",
       "    </tr>\n",
       "    <tr>\n",
       "      <th>14258</th>\n",
       "      <td>23812009</td>\n",
       "      <td>Garden of Terror</td>\n",
       "      <td>814.0</td>\n",
       "      <td>Sgt. Hammer</td>\n",
       "      <td>10</td>\n",
       "      <td>False</td>\n",
       "      <td>804.0</td>\n",
       "      <td>Specialist</td>\n",
       "      <td>AASpSW</td>\n",
       "      <td>2191.0</td>\n",
       "    </tr>\n",
       "    <tr>\n",
       "      <th>14259</th>\n",
       "      <td>23812009</td>\n",
       "      <td>Garden of Terror</td>\n",
       "      <td>814.0</td>\n",
       "      <td>Falstad</td>\n",
       "      <td>7</td>\n",
       "      <td>False</td>\n",
       "      <td>2535.0</td>\n",
       "      <td>Assassin</td>\n",
       "      <td>AASpSW</td>\n",
       "      <td>2191.0</td>\n",
       "    </tr>\n",
       "    <tr>\n",
       "      <th>152140</th>\n",
       "      <td>23888167</td>\n",
       "      <td>Sky Temple</td>\n",
       "      <td>1022.0</td>\n",
       "      <td>Tychus</td>\n",
       "      <td>7</td>\n",
       "      <td>True</td>\n",
       "      <td>2360.0</td>\n",
       "      <td>Assassin</td>\n",
       "      <td>AAASW</td>\n",
       "      <td>2436.0</td>\n",
       "    </tr>\n",
       "    <tr>\n",
       "      <th>152145</th>\n",
       "      <td>23888167</td>\n",
       "      <td>Sky Temple</td>\n",
       "      <td>1022.0</td>\n",
       "      <td>Jaina</td>\n",
       "      <td>9</td>\n",
       "      <td>True</td>\n",
       "      <td>2260.0</td>\n",
       "      <td>Assassin</td>\n",
       "      <td>AAASW</td>\n",
       "      <td>2436.0</td>\n",
       "    </tr>\n",
       "    <tr>\n",
       "      <th>152146</th>\n",
       "      <td>23888167</td>\n",
       "      <td>Sky Temple</td>\n",
       "      <td>1022.0</td>\n",
       "      <td>Illidan</td>\n",
       "      <td>10</td>\n",
       "      <td>True</td>\n",
       "      <td>2878.0</td>\n",
       "      <td>Assassin</td>\n",
       "      <td>AAASW</td>\n",
       "      <td>2436.0</td>\n",
       "    </tr>\n",
       "    <tr>\n",
       "      <th>152147</th>\n",
       "      <td>23888167</td>\n",
       "      <td>Sky Temple</td>\n",
       "      <td>1022.0</td>\n",
       "      <td>Li Li</td>\n",
       "      <td>7</td>\n",
       "      <td>True</td>\n",
       "      <td>2137.0</td>\n",
       "      <td>Support</td>\n",
       "      <td>AAASW</td>\n",
       "      <td>2436.0</td>\n",
       "    </tr>\n",
       "    <tr>\n",
       "      <th>152149</th>\n",
       "      <td>23888167</td>\n",
       "      <td>Sky Temple</td>\n",
       "      <td>1022.0</td>\n",
       "      <td>Diablo</td>\n",
       "      <td>7</td>\n",
       "      <td>True</td>\n",
       "      <td>2545.0</td>\n",
       "      <td>Warrior</td>\n",
       "      <td>AAASW</td>\n",
       "      <td>2436.0</td>\n",
       "    </tr>\n",
       "    <tr>\n",
       "      <th>152141</th>\n",
       "      <td>23888167</td>\n",
       "      <td>Sky Temple</td>\n",
       "      <td>1022.0</td>\n",
       "      <td>Brightwing</td>\n",
       "      <td>7</td>\n",
       "      <td>False</td>\n",
       "      <td>2425.0</td>\n",
       "      <td>Support</td>\n",
       "      <td>ASpSpSW</td>\n",
       "      <td>2280.0</td>\n",
       "    </tr>\n",
       "    <tr>\n",
       "      <th>152142</th>\n",
       "      <td>23888167</td>\n",
       "      <td>Sky Temple</td>\n",
       "      <td>1022.0</td>\n",
       "      <td>Nazeebo</td>\n",
       "      <td>9</td>\n",
       "      <td>False</td>\n",
       "      <td>2195.0</td>\n",
       "      <td>Specialist</td>\n",
       "      <td>ASpSpSW</td>\n",
       "      <td>2280.0</td>\n",
       "    </tr>\n",
       "    <tr>\n",
       "      <th>152143</th>\n",
       "      <td>23888167</td>\n",
       "      <td>Sky Temple</td>\n",
       "      <td>1022.0</td>\n",
       "      <td>Valla</td>\n",
       "      <td>10</td>\n",
       "      <td>False</td>\n",
       "      <td>2433.0</td>\n",
       "      <td>Assassin</td>\n",
       "      <td>ASpSpSW</td>\n",
       "      <td>2280.0</td>\n",
       "    </tr>\n",
       "    <tr>\n",
       "      <th>152144</th>\n",
       "      <td>23888167</td>\n",
       "      <td>Sky Temple</td>\n",
       "      <td>1022.0</td>\n",
       "      <td>Sylvanas</td>\n",
       "      <td>8</td>\n",
       "      <td>False</td>\n",
       "      <td>1842.0</td>\n",
       "      <td>Specialist</td>\n",
       "      <td>ASpSpSW</td>\n",
       "      <td>2280.0</td>\n",
       "    </tr>\n",
       "    <tr>\n",
       "      <th>152148</th>\n",
       "      <td>23888167</td>\n",
       "      <td>Sky Temple</td>\n",
       "      <td>1022.0</td>\n",
       "      <td>Anub'arak</td>\n",
       "      <td>6</td>\n",
       "      <td>False</td>\n",
       "      <td>2505.0</td>\n",
       "      <td>Warrior</td>\n",
       "      <td>ASpSpSW</td>\n",
       "      <td>2280.0</td>\n",
       "    </tr>\n",
       "  </tbody>\n",
       "</table>\n",
       "</div>"
      ],
      "text/plain": [
       "        ReplayID               Map  ReplayLength         Hero  HeroLevel  \\\n",
       "14251   23812009  Garden of Terror         814.0       E.T.C.          8   \n",
       "14252   23812009  Garden of Terror         814.0       Rehgar         10   \n",
       "14253   23812009  Garden of Terror         814.0       Raynor         10   \n",
       "14254   23812009  Garden of Terror         814.0        Jaina          8   \n",
       "14255   23812009  Garden of Terror         814.0     Sylvanas         16   \n",
       "14250   23812009  Garden of Terror         814.0        Uther          7   \n",
       "14256   23812009  Garden of Terror         814.0        Valla          9   \n",
       "14257   23812009  Garden of Terror         814.0       Diablo          9   \n",
       "14258   23812009  Garden of Terror         814.0  Sgt. Hammer         10   \n",
       "14259   23812009  Garden of Terror         814.0      Falstad          7   \n",
       "152140  23888167        Sky Temple        1022.0       Tychus          7   \n",
       "152145  23888167        Sky Temple        1022.0        Jaina          9   \n",
       "152146  23888167        Sky Temple        1022.0      Illidan         10   \n",
       "152147  23888167        Sky Temple        1022.0        Li Li          7   \n",
       "152149  23888167        Sky Temple        1022.0       Diablo          7   \n",
       "152141  23888167        Sky Temple        1022.0   Brightwing          7   \n",
       "152142  23888167        Sky Temple        1022.0      Nazeebo          9   \n",
       "152143  23888167        Sky Temple        1022.0        Valla         10   \n",
       "152144  23888167        Sky Temple        1022.0     Sylvanas          8   \n",
       "152148  23888167        Sky Temple        1022.0    Anub'arak          6   \n",
       "\n",
       "       IsWinner  MMRbefore       Group Composition  Rating  \n",
       "14251      True     3341.0     Warrior      AASpSW  2936.0  \n",
       "14252      True     3008.0     Support      AASpSW  2936.0  \n",
       "14253      True     2850.0    Assassin      AASpSW  2936.0  \n",
       "14254      True     2835.0    Assassin      AASpSW  2936.0  \n",
       "14255      True     2648.0  Specialist      AASpSW  2936.0  \n",
       "14250     False     2336.0     Support      AASpSW  2191.0  \n",
       "14256     False     2311.0    Assassin      AASpSW  2191.0  \n",
       "14257     False     2971.0     Warrior      AASpSW  2191.0  \n",
       "14258     False      804.0  Specialist      AASpSW  2191.0  \n",
       "14259     False     2535.0    Assassin      AASpSW  2191.0  \n",
       "152140     True     2360.0    Assassin       AAASW  2436.0  \n",
       "152145     True     2260.0    Assassin       AAASW  2436.0  \n",
       "152146     True     2878.0    Assassin       AAASW  2436.0  \n",
       "152147     True     2137.0     Support       AAASW  2436.0  \n",
       "152149     True     2545.0     Warrior       AAASW  2436.0  \n",
       "152141    False     2425.0     Support     ASpSpSW  2280.0  \n",
       "152142    False     2195.0  Specialist     ASpSpSW  2280.0  \n",
       "152143    False     2433.0    Assassin     ASpSpSW  2280.0  \n",
       "152144    False     1842.0  Specialist     ASpSpSW  2280.0  \n",
       "152148    False     2505.0     Warrior     ASpSpSW  2280.0  "
      ]
     },
     "execution_count": 64,
     "metadata": {},
     "output_type": "execute_result"
    }
   ],
   "source": [
    "DataFrame.head(20)"
   ]
  },
  {
   "cell_type": "code",
   "execution_count": 66,
   "metadata": {
    "collapsed": false
   },
   "outputs": [
    {
     "data": {
      "text/html": [
       "<div>\n",
       "<table border=\"1\" class=\"dataframe\">\n",
       "  <thead>\n",
       "    <tr style=\"text-align: right;\">\n",
       "      <th></th>\n",
       "      <th>ReplayID</th>\n",
       "      <th>Map</th>\n",
       "      <th>ReplayLength</th>\n",
       "      <th>IsWinner</th>\n",
       "      <th>Composition</th>\n",
       "      <th>Rating</th>\n",
       "    </tr>\n",
       "  </thead>\n",
       "  <tbody>\n",
       "    <tr>\n",
       "      <th>14251</th>\n",
       "      <td>23812009</td>\n",
       "      <td>Garden of Terror</td>\n",
       "      <td>814.0</td>\n",
       "      <td>True</td>\n",
       "      <td>AASpSW</td>\n",
       "      <td>2936.0</td>\n",
       "    </tr>\n",
       "    <tr>\n",
       "      <th>14252</th>\n",
       "      <td>23812009</td>\n",
       "      <td>Garden of Terror</td>\n",
       "      <td>814.0</td>\n",
       "      <td>True</td>\n",
       "      <td>AASpSW</td>\n",
       "      <td>2936.0</td>\n",
       "    </tr>\n",
       "    <tr>\n",
       "      <th>14253</th>\n",
       "      <td>23812009</td>\n",
       "      <td>Garden of Terror</td>\n",
       "      <td>814.0</td>\n",
       "      <td>True</td>\n",
       "      <td>AASpSW</td>\n",
       "      <td>2936.0</td>\n",
       "    </tr>\n",
       "    <tr>\n",
       "      <th>14254</th>\n",
       "      <td>23812009</td>\n",
       "      <td>Garden of Terror</td>\n",
       "      <td>814.0</td>\n",
       "      <td>True</td>\n",
       "      <td>AASpSW</td>\n",
       "      <td>2936.0</td>\n",
       "    </tr>\n",
       "    <tr>\n",
       "      <th>14255</th>\n",
       "      <td>23812009</td>\n",
       "      <td>Garden of Terror</td>\n",
       "      <td>814.0</td>\n",
       "      <td>True</td>\n",
       "      <td>AASpSW</td>\n",
       "      <td>2936.0</td>\n",
       "    </tr>\n",
       "  </tbody>\n",
       "</table>\n",
       "</div>"
      ],
      "text/plain": [
       "       ReplayID               Map  ReplayLength IsWinner Composition  Rating\n",
       "14251  23812009  Garden of Terror         814.0     True      AASpSW  2936.0\n",
       "14252  23812009  Garden of Terror         814.0     True      AASpSW  2936.0\n",
       "14253  23812009  Garden of Terror         814.0     True      AASpSW  2936.0\n",
       "14254  23812009  Garden of Terror         814.0     True      AASpSW  2936.0\n",
       "14255  23812009  Garden of Terror         814.0     True      AASpSW  2936.0"
      ]
     },
     "execution_count": 66,
     "metadata": {},
     "output_type": "execute_result"
    }
   ],
   "source": [
    "# Create a new dataframe that is to be modified to contain only a single record per team (i.e. 2 entries per game)\n",
    "DF_Teams = DataFrame[[\"ReplayID\", \"Map\", \"ReplayLength\", \"IsWinner\", \"Composition\", \"Rating\"]]"
   ]
  },
  {
   "cell_type": "code",
   "execution_count": 74,
   "metadata": {
    "collapsed": false
   },
   "outputs": [
    {
     "name": "stderr",
     "output_type": "stream",
     "text": [
      "C:\\Anaconda3\\lib\\site-packages\\pandas\\util\\decorators.py:91: SettingWithCopyWarning: \n",
      "A value is trying to be set on a copy of a slice from a DataFrame\n",
      "\n",
      "See the caveats in the documentation: http://pandas.pydata.org/pandas-docs/stable/indexing.html#indexing-view-versus-copy\n",
      "  return func(*args, **kwargs)\n"
     ]
    },
    {
     "data": {
      "text/html": [
       "<div>\n",
       "<table border=\"1\" class=\"dataframe\">\n",
       "  <thead>\n",
       "    <tr style=\"text-align: right;\">\n",
       "      <th></th>\n",
       "      <th>ReplayID</th>\n",
       "      <th>Map</th>\n",
       "      <th>ReplayLength</th>\n",
       "      <th>IsWinner</th>\n",
       "      <th>Composition</th>\n",
       "      <th>Rating</th>\n",
       "    </tr>\n",
       "  </thead>\n",
       "  <tbody>\n",
       "    <tr>\n",
       "      <th>14251</th>\n",
       "      <td>23812009</td>\n",
       "      <td>Garden of Terror</td>\n",
       "      <td>814.0</td>\n",
       "      <td>True</td>\n",
       "      <td>AASpSW</td>\n",
       "      <td>2936.0</td>\n",
       "    </tr>\n",
       "    <tr>\n",
       "      <th>14250</th>\n",
       "      <td>23812009</td>\n",
       "      <td>Garden of Terror</td>\n",
       "      <td>814.0</td>\n",
       "      <td>False</td>\n",
       "      <td>AASpSW</td>\n",
       "      <td>2191.0</td>\n",
       "    </tr>\n",
       "    <tr>\n",
       "      <th>152140</th>\n",
       "      <td>23888167</td>\n",
       "      <td>Sky Temple</td>\n",
       "      <td>1022.0</td>\n",
       "      <td>True</td>\n",
       "      <td>AAASW</td>\n",
       "      <td>2436.0</td>\n",
       "    </tr>\n",
       "    <tr>\n",
       "      <th>152141</th>\n",
       "      <td>23888167</td>\n",
       "      <td>Sky Temple</td>\n",
       "      <td>1022.0</td>\n",
       "      <td>False</td>\n",
       "      <td>ASpSpSW</td>\n",
       "      <td>2280.0</td>\n",
       "    </tr>\n",
       "    <tr>\n",
       "      <th>174490</th>\n",
       "      <td>23908266</td>\n",
       "      <td>Blackheart's Bay</td>\n",
       "      <td>1671.0</td>\n",
       "      <td>True</td>\n",
       "      <td>AASpSW</td>\n",
       "      <td>2283.0</td>\n",
       "    </tr>\n",
       "    <tr>\n",
       "      <th>174491</th>\n",
       "      <td>23908266</td>\n",
       "      <td>Blackheart's Bay</td>\n",
       "      <td>1671.0</td>\n",
       "      <td>False</td>\n",
       "      <td>AAAAW</td>\n",
       "      <td>2161.0</td>\n",
       "    </tr>\n",
       "    <tr>\n",
       "      <th>163500</th>\n",
       "      <td>23908285</td>\n",
       "      <td>Tomb of the Spider Queen</td>\n",
       "      <td>810.0</td>\n",
       "      <td>True</td>\n",
       "      <td>AASpSW</td>\n",
       "      <td>2349.0</td>\n",
       "    </tr>\n",
       "    <tr>\n",
       "      <th>163501</th>\n",
       "      <td>23908285</td>\n",
       "      <td>Tomb of the Spider Queen</td>\n",
       "      <td>810.0</td>\n",
       "      <td>False</td>\n",
       "      <td>AASpSW</td>\n",
       "      <td>2292.0</td>\n",
       "    </tr>\n",
       "    <tr>\n",
       "      <th>168691</th>\n",
       "      <td>23908290</td>\n",
       "      <td>Sky Temple</td>\n",
       "      <td>1359.0</td>\n",
       "      <td>True</td>\n",
       "      <td>AASpSW</td>\n",
       "      <td>2252.0</td>\n",
       "    </tr>\n",
       "    <tr>\n",
       "      <th>168690</th>\n",
       "      <td>23908290</td>\n",
       "      <td>Sky Temple</td>\n",
       "      <td>1359.0</td>\n",
       "      <td>False</td>\n",
       "      <td>AASpSW</td>\n",
       "      <td>2504.0</td>\n",
       "    </tr>\n",
       "    <tr>\n",
       "      <th>159910</th>\n",
       "      <td>23908301</td>\n",
       "      <td>Haunted Mines</td>\n",
       "      <td>786.0</td>\n",
       "      <td>True</td>\n",
       "      <td>ASpSpSW</td>\n",
       "      <td>2255.0</td>\n",
       "    </tr>\n",
       "    <tr>\n",
       "      <th>159912</th>\n",
       "      <td>23908301</td>\n",
       "      <td>Haunted Mines</td>\n",
       "      <td>786.0</td>\n",
       "      <td>False</td>\n",
       "      <td>AASSW</td>\n",
       "      <td>2352.0</td>\n",
       "    </tr>\n",
       "    <tr>\n",
       "      <th>2</th>\n",
       "      <td>23915730</td>\n",
       "      <td>Haunted Mines</td>\n",
       "      <td>720.0</td>\n",
       "      <td>True</td>\n",
       "      <td>AASpSW</td>\n",
       "      <td>3125.0</td>\n",
       "    </tr>\n",
       "    <tr>\n",
       "      <th>0</th>\n",
       "      <td>23915730</td>\n",
       "      <td>Haunted Mines</td>\n",
       "      <td>720.0</td>\n",
       "      <td>False</td>\n",
       "      <td>AASpSW</td>\n",
       "      <td>2610.0</td>\n",
       "    </tr>\n",
       "    <tr>\n",
       "      <th>10</th>\n",
       "      <td>23915740</td>\n",
       "      <td>Garden of Terror</td>\n",
       "      <td>1578.0</td>\n",
       "      <td>True</td>\n",
       "      <td>AASpSW</td>\n",
       "      <td>1686.0</td>\n",
       "    </tr>\n",
       "    <tr>\n",
       "      <th>11</th>\n",
       "      <td>23915740</td>\n",
       "      <td>Garden of Terror</td>\n",
       "      <td>1578.0</td>\n",
       "      <td>False</td>\n",
       "      <td>AAASW</td>\n",
       "      <td>1442.0</td>\n",
       "    </tr>\n",
       "    <tr>\n",
       "      <th>90</th>\n",
       "      <td>23915821</td>\n",
       "      <td>Blackheart's Bay</td>\n",
       "      <td>1460.0</td>\n",
       "      <td>True</td>\n",
       "      <td>ASpSpSW</td>\n",
       "      <td>1800.0</td>\n",
       "    </tr>\n",
       "    <tr>\n",
       "      <th>91</th>\n",
       "      <td>23915821</td>\n",
       "      <td>Blackheart's Bay</td>\n",
       "      <td>1460.0</td>\n",
       "      <td>False</td>\n",
       "      <td>ASpSSW</td>\n",
       "      <td>1804.0</td>\n",
       "    </tr>\n",
       "    <tr>\n",
       "      <th>31</th>\n",
       "      <td>23915858</td>\n",
       "      <td>Sky Temple</td>\n",
       "      <td>1352.0</td>\n",
       "      <td>True</td>\n",
       "      <td>AAASW</td>\n",
       "      <td>1815.0</td>\n",
       "    </tr>\n",
       "    <tr>\n",
       "      <th>30</th>\n",
       "      <td>23915858</td>\n",
       "      <td>Sky Temple</td>\n",
       "      <td>1352.0</td>\n",
       "      <td>False</td>\n",
       "      <td>ASpSSW</td>\n",
       "      <td>2143.0</td>\n",
       "    </tr>\n",
       "  </tbody>\n",
       "</table>\n",
       "</div>"
      ],
      "text/plain": [
       "        ReplayID                       Map  ReplayLength IsWinner Composition  \\\n",
       "14251   23812009          Garden of Terror         814.0     True      AASpSW   \n",
       "14250   23812009          Garden of Terror         814.0    False      AASpSW   \n",
       "152140  23888167                Sky Temple        1022.0     True       AAASW   \n",
       "152141  23888167                Sky Temple        1022.0    False     ASpSpSW   \n",
       "174490  23908266          Blackheart's Bay        1671.0     True      AASpSW   \n",
       "174491  23908266          Blackheart's Bay        1671.0    False       AAAAW   \n",
       "163500  23908285  Tomb of the Spider Queen         810.0     True      AASpSW   \n",
       "163501  23908285  Tomb of the Spider Queen         810.0    False      AASpSW   \n",
       "168691  23908290                Sky Temple        1359.0     True      AASpSW   \n",
       "168690  23908290                Sky Temple        1359.0    False      AASpSW   \n",
       "159910  23908301             Haunted Mines         786.0     True     ASpSpSW   \n",
       "159912  23908301             Haunted Mines         786.0    False       AASSW   \n",
       "2       23915730             Haunted Mines         720.0     True      AASpSW   \n",
       "0       23915730             Haunted Mines         720.0    False      AASpSW   \n",
       "10      23915740          Garden of Terror        1578.0     True      AASpSW   \n",
       "11      23915740          Garden of Terror        1578.0    False       AAASW   \n",
       "90      23915821          Blackheart's Bay        1460.0     True     ASpSpSW   \n",
       "91      23915821          Blackheart's Bay        1460.0    False      ASpSSW   \n",
       "31      23915858                Sky Temple        1352.0     True       AAASW   \n",
       "30      23915858                Sky Temple        1352.0    False      ASpSSW   \n",
       "\n",
       "        Rating  \n",
       "14251   2936.0  \n",
       "14250   2191.0  \n",
       "152140  2436.0  \n",
       "152141  2280.0  \n",
       "174490  2283.0  \n",
       "174491  2161.0  \n",
       "163500  2349.0  \n",
       "163501  2292.0  \n",
       "168691  2252.0  \n",
       "168690  2504.0  \n",
       "159910  2255.0  \n",
       "159912  2352.0  \n",
       "2       3125.0  \n",
       "0       2610.0  \n",
       "10      1686.0  \n",
       "11      1442.0  \n",
       "90      1800.0  \n",
       "91      1804.0  \n",
       "31      1815.0  \n",
       "30      2143.0  "
      ]
     },
     "execution_count": 74,
     "metadata": {},
     "output_type": "execute_result"
    }
   ],
   "source": [
    "# Perform drop on rows that do not have unqiue values for the pair \"ReplayID\" and \"IsWinner\"\n",
    "DF_Teams.drop_duplicates([\"ReplayID\", \"IsWinner\"], inplace=True)\n",
    "DF_Teams.head(20)"
   ]
  },
  {
   "cell_type": "code",
   "execution_count": 75,
   "metadata": {
    "collapsed": true
   },
   "outputs": [],
   "source": [
    "# Write this to a csv file to be read as needed\n",
    "DF_Teams.to_csv(\"Team_Info.csv\")"
   ]
  },
  {
   "cell_type": "markdown",
   "metadata": {},
   "source": [
    "## Beginning looking at maps"
   ]
  },
  {
   "cell_type": "code",
   "execution_count": null,
   "metadata": {
    "collapsed": false
   },
   "outputs": [],
   "source": [
    "DataFrame.shape"
   ]
  },
  {
   "cell_type": "markdown",
   "metadata": {},
   "source": []
  },
  {
   "cell_type": "code",
   "execution_count": null,
   "metadata": {
    "collapsed": false
   },
   "outputs": [],
   "source": [
    "DataFrame.Map.unique()"
   ]
  },
  {
   "cell_type": "code",
   "execution_count": null,
   "metadata": {
    "collapsed": false
   },
   "outputs": [],
   "source": [
    "# HauntedMines = DataFrame[DataFrame['Map'] == 'Haunted Mines']\n",
    "# HauntedMines.shape\n",
    "\n",
    "GardenTerror = DataFrame[DataFrame['Map'] == 'Garden of Terror']\n",
    "GardenTerror.shape\n",
    "#     returns (0,8)\n",
    "\n",
    "#SkyTemple = DataFrame.loc[DataFrame['Map'] == 'Sky Temple']\n",
    "#SkyTemple.shape \n",
    "#     returns (0,8)\n",
    "\n",
    "#DragonShire = DataFrame.loc[DataFrame['Map'] == 'Dragon Shire']\n",
    "#DragonShire.shape\n",
    "#     returns (0,8)\n",
    "\n",
    "#BlackheartsBay = DataFrame.loc[DataFrame['Map'] == \"Blackheart's Bay\"]\n",
    "#BlackheartsBay.shape\n",
    "#     returns (0,8)\n",
    "\n",
    "#SpiderQueen = DataFrame.loc[DataFrame['Map'] == 'Tomb of the Spider Queen']\n",
    "#SpiderQueen.shape \n",
    "#     returns (0,8)\n",
    "\n",
    "#CursedHollow = DataFrame.loc[DataFrame['Map'] == 'Cursed Hollow']\n",
    "#CursedHollow.shape\n",
    "#     returns (0,8)\n"
   ]
  },
  {
   "cell_type": "code",
   "execution_count": null,
   "metadata": {
    "collapsed": false
   },
   "outputs": [],
   "source": [
    "GardenTerror.dtypes"
   ]
  },
  {
   "cell_type": "code",
   "execution_count": null,
   "metadata": {
    "collapsed": false
   },
   "outputs": [],
   "source": [
    "# #Dummy values for all heroes\n",
    "# print(GardenTerror.shape)\n",
    "# GardenTerror = GardenTerror.iloc[:5000]\n",
    "# print(GardenTerror.shape)\n",
    "\n",
    "# Dummy_Heroes = pd.get_dummies(GardenTerror['Hero'], prefix='Hero')\n",
    "# Dummy_Heroes.fillna(0)\n",
    "# print(GardenTerror.shape)\n",
    "# #additional data to keep for logistic regression\n",
    "# cols_to_keep = ['IsWinner', 'ReplayLength']\n",
    "\n",
    "# data = GardenTerror[cols_to_keep].join(Dummy_Heroes)\n",
    "# print(GardenTerror.shape)\n"
   ]
  },
  {
   "cell_type": "code",
   "execution_count": null,
   "metadata": {
    "collapsed": false
   },
   "outputs": [],
   "source": [
    "# #import the needed module\n",
    "# import statsmodels.formula.api as sm\n",
    "\n",
    "# logreg = sm.logit(formula=\"IsWinner ~ ReplayLength\", data= GardenTerror[['IsWinner', 'ReplayLength']]).fit()\n",
    "\n",
    "# # Print the model weights/parameters\n",
    "# print(logreg.params)"
   ]
  },
  {
   "cell_type": "code",
   "execution_count": null,
   "metadata": {
    "collapsed": false
   },
   "outputs": [],
   "source": [
    "GardenTerror.ReplayLength.shape"
   ]
  },
  {
   "cell_type": "code",
   "execution_count": null,
   "metadata": {
    "collapsed": false
   },
   "outputs": [],
   "source": [
    "# X_minmax = pd.DataFrame({'ReplayLength': [GardenTerror.ReplayLength.min(), GardenTerror.ReplayLength.max()]})\n",
    "\n",
    "# predictions = logreg.predict(GardenTerror)\n",
    "\n",
    "# # First, plot the observed data\n",
    "# GardenTerror.plot(kind='scatter', x='ReplayLength', y='IsWinner')\n",
    "\n",
    "# # Next, plot the logistic regression estimation, in red.\n",
    "# plt.plot(GardenTerror.ReplayLength, predictions, c='red', linewidth=2)\n",
    "\n",
    "# # Plot the linear decision surface estimated by logistic regression\n",
    "# plt.plot(X_minmax, logreg.predict(X_minmax), c='blue', linewidth=1, linestyle='dashed')"
   ]
  },
  {
   "cell_type": "code",
   "execution_count": null,
   "metadata": {
    "collapsed": true
   },
   "outputs": [],
   "source": [
    "import numpy as np\n",
    "import pandas as pd\n",
    "import matplotlib.pyplot as plt\n",
    "from patsy import dmatrices\n",
    "from sklearn.linear_model import LogisticRegression\n",
    "from sklearn.cross_validation import train_test_split\n",
    "from sklearn import metrics\n",
    "from sklearn.cross_validation import cross_val_score"
   ]
  },
  {
   "cell_type": "code",
   "execution_count": null,
   "metadata": {
    "collapsed": false
   },
   "outputs": [],
   "source": [
    "# Prepare an intercept term that adds a 1 to each example.\n",
    "# Scikit-learn does not use an intercept by default.\n",
    "intercept = pd.DataFrame({'Intercept': np.ones(len(GardenTerror))})\n",
    "intercept.head()"
   ]
  },
  {
   "cell_type": "code",
   "execution_count": null,
   "metadata": {
    "collapsed": false,
    "scrolled": true
   },
   "outputs": [],
   "source": [
    "print(GardenTerror.shape)\n",
    "GardenTerror = GardenTerror.iloc[:5000]\n",
    "print(GardenTerror.shape)\n",
    "\n",
    "# Prepare the descriptive features\n",
    "X = pd.concat([intercept, GardenTerror[['IsWinner', 'Hero']]], axis=1)\n",
    "y = GardenTerror.IsWinner\n",
    "print(\"Descriptive features:\\n\", X)\n",
    "print(\"\\nTarget feature:\\n\", y)"
   ]
  },
  {
   "cell_type": "code",
   "execution_count": null,
   "metadata": {
    "collapsed": false
   },
   "outputs": [],
   "source": [
    "#Create dummy values for Winner feature\n",
    "GardenTerror_IsWinner = pd.get_dummies(GardenTerror['IsWinner'])\n",
    "\n",
    "#GardenTerror_IsWinner.head()\n",
    "\n",
    "Winner_new = pd.concat([GardenTerror, GardenTerror_IsWinner], axis=1)\n",
    "\n",
    "Winner_new.columns = ['ReplayID', 'Map', 'ReplayLength', 'Hero', 'HeroLevel', 'IsWinner', 'MMRbefore', 'Group', 'Loser', 'Winner']\n",
    "\n",
    "Winner_new.head()"
   ]
  },
  {
   "cell_type": "code",
   "execution_count": null,
   "metadata": {
    "collapsed": false
   },
   "outputs": [],
   "source": [
    "#import the needed module\n",
    "import statsmodels.formula.api as sm\n",
    "\n",
    "logreg = sm.logit(formula=\"Winner ~ ReplayLength\", data= Winner_new[['Winner', 'ReplayLength']]).fit()\n",
    "\n",
    "# Print the model weights/parameters\n",
    "print(logreg.params)"
   ]
  },
  {
   "cell_type": "code",
   "execution_count": null,
   "metadata": {
    "collapsed": false
   },
   "outputs": [],
   "source": [
    "X_minmax = pd.DataFrame({'ReplayLength': [Winner_new.ReplayLength.min(), Winner_new.ReplayLength.max()]})\n",
    "\n",
    "predictions = logreg.predict(Winner_new)\n",
    "\n",
    "# First, plot the observed data\n",
    "Winner_new.plot(kind='scatter', x='ReplayLength', y='IsWinner')\n",
    "\n",
    "# Next, plot the logistic regression estimation, in red.\n",
    "plt.plot(Winner_new.ReplayLength, predictions, c='red', linewidth=2)\n",
    "\n",
    "# Plot the linear decision surface estimated by logistic regression\n",
    "plt.plot(X_minmax, logreg.predict(X_minmax), c='blue', linewidth=1, linestyle='dashed')"
   ]
  },
  {
   "cell_type": "code",
   "execution_count": null,
   "metadata": {
    "collapsed": true
   },
   "outputs": [],
   "source": []
  }
 ],
 "metadata": {
  "kernelspec": {
   "display_name": "Python 3",
   "language": "python",
   "name": "python3"
  },
  "language_info": {
   "codemirror_mode": {
    "name": "ipython",
    "version": 3
   },
   "file_extension": ".py",
   "mimetype": "text/x-python",
   "name": "python",
   "nbconvert_exporter": "python",
   "pygments_lexer": "ipython3",
   "version": "3.5.1"
  }
 },
 "nbformat": 4,
 "nbformat_minor": 0
}
