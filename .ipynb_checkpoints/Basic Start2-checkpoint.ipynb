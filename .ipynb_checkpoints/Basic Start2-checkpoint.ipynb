{
 "cells": [
  {
   "cell_type": "markdown",
   "metadata": {},
   "source": [
    "# <font color='red'>Basic Analytics Applied to Training Set of Heroes of the Storm Game Data</font>"
   ]
  },
  {
   "cell_type": "markdown",
   "metadata": {},
   "source": [
    "## A brief overview of the game\n",
    "\n",
    "Matches are played between two teams of five players on any one of a number of maps.\n",
    "\n",
    "Each player selects a playable character ('Hero') to control for the duration of the match.\n",
    "\n",
    "The 'class' of a Hero corresponds to a general role in the match with associated traits, strengths and weaknesses. For example, Assassins deal high damage but are vulnerable; Warriors deal low damage but are durable. The objective of the game is to destroy a special structure belonging to the opposing team.\n",
    "\n",
    "The following diagram illustrates a breakdown of the character classes, where the lowest tier represents the names of individual characters:\n",
    "\n",
    "<img src=\"HOTSFlow.png\">"
   ]
  },
  {
   "cell_type": "markdown",
   "metadata": {},
   "source": [
    "### 1. Determine the most played heroes in each category:\n",
    "* Support\n",
    "* Assassin\n",
    "* Warrior\n",
    "* Specialist\n",
    "\n",
    "### 2. Identify the various team compositions played\n",
    "\n",
    "### 3. Study the effect of team rating on the outcome of a match.\n",
    "\n",
    "### 4. Does team composition affect the outcome of a match?"
   ]
  },
  {
   "cell_type": "markdown",
   "metadata": {},
   "source": [
    "# Data Gathering\n",
    "\n",
    "Data was collected from http://www.hotslogs.com/Default, a site containing large amounts of historical data on games played.\n",
    "- Data was readily available in CSV format\n",
    "- CSV files were available for individual player records, as well as per game records, and also information on the maps\n",
    "- Different data was stored in each CSV file\n",
    "\n",
    "Our first step is to load each CSV file into a pandas dataframe"
   ]
  },
  {
   "cell_type": "code",
   "execution_count": 1,
   "metadata": {
    "collapsed": false
   },
   "outputs": [],
   "source": [
    "#import required packages\n",
    "import pandas as pd\n",
    "import numpy as np\n",
    "import matplotlib.pyplot as plt\n",
    "import seaborn as sns\n",
    "import csv\n",
    "import sys\n",
    "from patsy import dmatrices\n",
    "from sklearn.linear_model import LogisticRegression\n",
    "from sklearn.cross_validation import train_test_split\n",
    "from sklearn import metrics\n",
    "from sklearn.cross_validation import cross_val_score\n",
    "\n",
    "# Allow plots to be displayed in notebook\n",
    "%matplotlib inline\n",
    "\n",
    "#using files to format dataframe display\n",
    "from IPython.core.display import HTML\n",
    "css = open('style-table.css').read() + open('style-notebook.css').read()\n",
    "HTML('<style>{}</style>'.format(css))\n",
    "\n",
    "#load both csv files into tow respective dataframes\n",
    "DF_Replay = pd.read_csv(\"TSReplay.csv\")\n",
    "\n",
    "DF_Characters = pd.read_csv(\"TSCharacters.csv\")\n",
    "\n",
    "DF_Map_Groups = pd.read_csv(\"HeroAndMap.csv\")"
   ]
  },
  {
   "cell_type": "code",
   "execution_count": 2,
   "metadata": {
    "collapsed": false
   },
   "outputs": [
    {
     "data": {
      "text/html": [
       "<div>\n",
       "<table border=\"1\" class=\"dataframe\">\n",
       "  <thead>\n",
       "    <tr style=\"text-align: right;\">\n",
       "      <th></th>\n",
       "      <th>ReplayID</th>\n",
       "      <th>GameMode(3=Quick Match 4=Hero League 5=Team League)</th>\n",
       "      <th>Map</th>\n",
       "      <th>Replay Length</th>\n",
       "      <th>Timestamp (UTC)</th>\n",
       "    </tr>\n",
       "  </thead>\n",
       "  <tbody>\n",
       "    <tr>\n",
       "      <th>0</th>\n",
       "      <td>23915730</td>\n",
       "      <td>4</td>\n",
       "      <td>Haunted Mines</td>\n",
       "      <td>00:12:00</td>\n",
       "      <td>5/14/2015 12:55:26 AM</td>\n",
       "    </tr>\n",
       "    <tr>\n",
       "      <th>1</th>\n",
       "      <td>23927005</td>\n",
       "      <td>3</td>\n",
       "      <td>Cursed Hollow</td>\n",
       "      <td>00:21:00</td>\n",
       "      <td>5/14/2015 12:55:26 AM</td>\n",
       "    </tr>\n",
       "  </tbody>\n",
       "</table>\n",
       "</div>"
      ],
      "text/plain": [
       "   ReplayID  GameMode(3=Quick Match 4=Hero League 5=Team League)  \\\n",
       "0  23915730                                                  4     \n",
       "1  23927005                                                  3     \n",
       "\n",
       "             Map Replay Length        Timestamp (UTC)  \n",
       "0  Haunted Mines      00:12:00  5/14/2015 12:55:26 AM  \n",
       "1  Cursed Hollow      00:21:00  5/14/2015 12:55:26 AM  "
      ]
     },
     "execution_count": 2,
     "metadata": {},
     "output_type": "execute_result"
    }
   ],
   "source": [
    "DF_Replay.head(2)"
   ]
  },
  {
   "cell_type": "markdown",
   "metadata": {},
   "source": [
    "# Data Cleaning\n",
    "The first step is to remove games that are not from the competitive game mode.\n",
    "In our initial datasets, the \"GameMode\" feature describes the particular type of game that was played.\n",
    "The number 4 corresponds to the data we are interested in, so we select only rows with that value\n",
    "\n",
    "### Using data from only the competitive mode is useful for two reasons:\n",
    "\n",
    "1. Reduces the size of the dataset to a more manageable, laptop-friendly number\n",
    "2. Ensures that only one of each hero can be present in a single game\n",
    "\n",
    "One of the most challenging aspects of our project was extracting a good representation of \"Team Composition\" from our datasets.\n",
    "We achieved this as follows:\n",
    "- Using the \"Group\" feature from our individual player data, indicating which character class the chosen character belongs to\n",
    "- Combining this with the \"IsWinner\" feature to separate our players into 2 groups of 5 for every game\n",
    "- Recording the combination of character classes that the winning team played\n",
    "- Recording the combination of character classes that the losing team played"
   ]
  },
  {
   "cell_type": "code",
   "execution_count": 3,
   "metadata": {
    "collapsed": false
   },
   "outputs": [
    {
     "data": {
      "text/html": [
       "<div>\n",
       "<table border=\"1\" class=\"dataframe\">\n",
       "  <thead>\n",
       "    <tr style=\"text-align: right;\">\n",
       "      <th></th>\n",
       "      <th>ReplayID</th>\n",
       "      <th>GameMode</th>\n",
       "      <th>Map</th>\n",
       "      <th>ReplayLength</th>\n",
       "      <th>Timestamp</th>\n",
       "    </tr>\n",
       "  </thead>\n",
       "  <tbody>\n",
       "    <tr>\n",
       "      <th>0</th>\n",
       "      <td>23915730</td>\n",
       "      <td>4</td>\n",
       "      <td>Haunted Mines</td>\n",
       "      <td>00:12:00</td>\n",
       "      <td>5/14/2015 12:55:26 AM</td>\n",
       "    </tr>\n",
       "    <tr>\n",
       "      <th>2</th>\n",
       "      <td>23915740</td>\n",
       "      <td>4</td>\n",
       "      <td>Garden of Terror</td>\n",
       "      <td>00:26:18</td>\n",
       "      <td>5/14/2015 12:55:27 AM</td>\n",
       "    </tr>\n",
       "    <tr>\n",
       "      <th>10</th>\n",
       "      <td>23924385</td>\n",
       "      <td>4</td>\n",
       "      <td>Garden of Terror</td>\n",
       "      <td>00:34:37</td>\n",
       "      <td>5/14/2015 12:55:39 AM</td>\n",
       "    </tr>\n",
       "    <tr>\n",
       "      <th>22</th>\n",
       "      <td>23915858</td>\n",
       "      <td>4</td>\n",
       "      <td>Sky Temple</td>\n",
       "      <td>00:22:32</td>\n",
       "      <td>5/14/2015 12:56:00 AM</td>\n",
       "    </tr>\n",
       "    <tr>\n",
       "      <th>23</th>\n",
       "      <td>23915915</td>\n",
       "      <td>4</td>\n",
       "      <td>Dragon Shire</td>\n",
       "      <td>00:24:00</td>\n",
       "      <td>5/14/2015 12:56:01 AM</td>\n",
       "    </tr>\n",
       "    <tr>\n",
       "      <th>25</th>\n",
       "      <td>24393574</td>\n",
       "      <td>4</td>\n",
       "      <td>Garden of Terror</td>\n",
       "      <td>00:20:15</td>\n",
       "      <td>5/14/2015 12:56:08 AM</td>\n",
       "    </tr>\n",
       "    <tr>\n",
       "      <th>30</th>\n",
       "      <td>23929877</td>\n",
       "      <td>4</td>\n",
       "      <td>Dragon Shire</td>\n",
       "      <td>00:22:01</td>\n",
       "      <td>5/14/2015 12:56:13 AM</td>\n",
       "    </tr>\n",
       "    <tr>\n",
       "      <th>31</th>\n",
       "      <td>23950711</td>\n",
       "      <td>4</td>\n",
       "      <td>Blackheart's Bay</td>\n",
       "      <td>00:16:45</td>\n",
       "      <td>5/14/2015 12:56:13 AM</td>\n",
       "    </tr>\n",
       "    <tr>\n",
       "      <th>32</th>\n",
       "      <td>24507009</td>\n",
       "      <td>4</td>\n",
       "      <td>Garden of Terror</td>\n",
       "      <td>00:30:30</td>\n",
       "      <td>5/14/2015 12:56:14 AM</td>\n",
       "    </tr>\n",
       "    <tr>\n",
       "      <th>34</th>\n",
       "      <td>23915821</td>\n",
       "      <td>4</td>\n",
       "      <td>Blackheart's Bay</td>\n",
       "      <td>00:24:20</td>\n",
       "      <td>5/14/2015 12:56:15 AM</td>\n",
       "    </tr>\n",
       "  </tbody>\n",
       "</table>\n",
       "</div>"
      ],
      "text/plain": [
       "    ReplayID  GameMode               Map ReplayLength              Timestamp\n",
       "0   23915730         4     Haunted Mines     00:12:00  5/14/2015 12:55:26 AM\n",
       "2   23915740         4  Garden of Terror     00:26:18  5/14/2015 12:55:27 AM\n",
       "10  23924385         4  Garden of Terror     00:34:37  5/14/2015 12:55:39 AM\n",
       "22  23915858         4        Sky Temple     00:22:32  5/14/2015 12:56:00 AM\n",
       "23  23915915         4      Dragon Shire     00:24:00  5/14/2015 12:56:01 AM\n",
       "25  24393574         4  Garden of Terror     00:20:15  5/14/2015 12:56:08 AM\n",
       "30  23929877         4      Dragon Shire     00:22:01  5/14/2015 12:56:13 AM\n",
       "31  23950711         4  Blackheart's Bay     00:16:45  5/14/2015 12:56:13 AM\n",
       "32  24507009         4  Garden of Terror     00:30:30  5/14/2015 12:56:14 AM\n",
       "34  23915821         4  Blackheart's Bay     00:24:20  5/14/2015 12:56:15 AM"
      ]
     },
     "execution_count": 3,
     "metadata": {},
     "output_type": "execute_result"
    }
   ],
   "source": [
    "# Rename columns in the dataframe\n",
    "DF_Replay.columns = ['ReplayID', 'GameMode', 'Map', 'ReplayLength', 'Timestamp']\n",
    "# Only keep rows related to competitive gameplay (4 = Hero League)\n",
    "DF_Replay = DF_Replay[DF_Replay['GameMode'] == 4]\n",
    "DF_Replay.head(10)"
   ]
  },
  {
   "cell_type": "markdown",
   "metadata": {},
   "source": [
    "## Converting \"ReplayLength\" to seconds\n",
    "- The value of this feature is in the HH:MM:SS format.\n",
    "- To make numerical analysis simpler, we convert all of these values to seconds as follows:"
   ]
  },
  {
   "cell_type": "code",
   "execution_count": 4,
   "metadata": {
    "collapsed": false
   },
   "outputs": [
    {
     "data": {
      "text/html": [
       "<div>\n",
       "<table border=\"1\" class=\"dataframe\">\n",
       "  <thead>\n",
       "    <tr style=\"text-align: right;\">\n",
       "      <th></th>\n",
       "      <th>ReplayID</th>\n",
       "      <th>GameMode</th>\n",
       "      <th>Map</th>\n",
       "      <th>ReplayLength</th>\n",
       "      <th>Timestamp</th>\n",
       "    </tr>\n",
       "  </thead>\n",
       "  <tbody>\n",
       "    <tr>\n",
       "      <th>0</th>\n",
       "      <td>23915730</td>\n",
       "      <td>4</td>\n",
       "      <td>Haunted Mines</td>\n",
       "      <td>720.0</td>\n",
       "      <td>5/14/2015 12:55:26 AM</td>\n",
       "    </tr>\n",
       "    <tr>\n",
       "      <th>2</th>\n",
       "      <td>23915740</td>\n",
       "      <td>4</td>\n",
       "      <td>Garden of Terror</td>\n",
       "      <td>1578.0</td>\n",
       "      <td>5/14/2015 12:55:27 AM</td>\n",
       "    </tr>\n",
       "    <tr>\n",
       "      <th>10</th>\n",
       "      <td>23924385</td>\n",
       "      <td>4</td>\n",
       "      <td>Garden of Terror</td>\n",
       "      <td>2077.0</td>\n",
       "      <td>5/14/2015 12:55:39 AM</td>\n",
       "    </tr>\n",
       "    <tr>\n",
       "      <th>22</th>\n",
       "      <td>23915858</td>\n",
       "      <td>4</td>\n",
       "      <td>Sky Temple</td>\n",
       "      <td>1352.0</td>\n",
       "      <td>5/14/2015 12:56:00 AM</td>\n",
       "    </tr>\n",
       "    <tr>\n",
       "      <th>23</th>\n",
       "      <td>23915915</td>\n",
       "      <td>4</td>\n",
       "      <td>Dragon Shire</td>\n",
       "      <td>1440.0</td>\n",
       "      <td>5/14/2015 12:56:01 AM</td>\n",
       "    </tr>\n",
       "  </tbody>\n",
       "</table>\n",
       "</div>"
      ],
      "text/plain": [
       "    ReplayID  GameMode               Map  ReplayLength              Timestamp\n",
       "0   23915730         4     Haunted Mines         720.0  5/14/2015 12:55:26 AM\n",
       "2   23915740         4  Garden of Terror        1578.0  5/14/2015 12:55:27 AM\n",
       "10  23924385         4  Garden of Terror        2077.0  5/14/2015 12:55:39 AM\n",
       "22  23915858         4        Sky Temple        1352.0  5/14/2015 12:56:00 AM\n",
       "23  23915915         4      Dragon Shire        1440.0  5/14/2015 12:56:01 AM"
      ]
     },
     "execution_count": 4,
     "metadata": {},
     "output_type": "execute_result"
    }
   ],
   "source": [
    "#Split the string for ReplayLength into several sub-cells based on the ':'\n",
    "# XX : YY : ZZ\n",
    "# X *60 *60 (for float(sec))\n",
    "# Y *1 *60  (for float(sec))\n",
    "# Z *1      (for float(sec))\n",
    "\n",
    "#from format   |  hh:mm:mm  |\n",
    "#to format     |  hh  |  :  | mm:ss  |\n",
    "ChangeTime = DF_Replay['ReplayLength'].str.partition(':')\n",
    "ChangeTime.columns = ['Hour', 'Col2', 'MinSec']\n",
    "#Now we have one column for hours, and one for both minutes and seconds to partition again\n",
    "\n",
    "#from format  |  mm:ss  |\n",
    "#to format    |  mm  |  :  |  ss  |\n",
    "ChangeTime2 = ChangeTime['MinSec'].str.partition(':')\n",
    "ChangeTime2.columns = ['Min', 'Space', 'Second']\n",
    "#now we have one column for minutes and one for seconds\n",
    "\n",
    "#Get both column in float type\n",
    "ChangeTime2['Min'] = ChangeTime2['Min'].astype(float)\n",
    "ChangeTime2['Second'] = ChangeTime2['Second'].astype(float)\n",
    "\n",
    "#Apply math to convert min to sec, then add minutes and seconds together\n",
    "ChangeTime2['Min']= ChangeTime2['Min'] * 60\n",
    "ChangeTime2['Second'] = ChangeTime2['Min'] + ChangeTime2['Second']\n",
    "ChangeTime2 = ChangeTime2[[2]]\n",
    "\n",
    "ChangeTime = ChangeTime.drop('MinSec', axis=1)\n",
    "ChangeTime['Hour'] = ChangeTime['Hour'].astype(float)\n",
    "#change the values in the column with *60 to get in minutes, and *60 again to get result in seconds\n",
    "ChangeTime['Hour'] = ChangeTime['Hour'] * 60 * 60     \n",
    "\n",
    "ChangeTime['Col2'] = (ChangeTime2['Second'] + ChangeTime['Hour'])\n",
    "\n",
    "DF_Replay['ReplayLength'] = ChangeTime['Col2']\n",
    "DF_Replay.head()"
   ]
  },
  {
   "cell_type": "markdown",
   "metadata": {},
   "source": [
    "## A point of definition:\n",
    "MMR stands for 'Matchmaking Rating'. This is a numeric value which approximates the skill level of a player according to their career wins and losses.\n",
    "\n",
    "### Note:\n",
    "The \"MMR Before\" feature simply indicates that the rating of the player was recorded as the game begins, rather than once it is completed. Since we are concerned with five-player teams rather than the performance of individual players, we will average this value when comparing compositions.\n",
    "\n",
    "The terms \"Rating\" and \"MMR\" may be used interchangeably during the course of this notebook"
   ]
  },
  {
   "cell_type": "code",
   "execution_count": 5,
   "metadata": {
    "collapsed": false
   },
   "outputs": [
    {
     "data": {
      "text/html": [
       "<div>\n",
       "<table border=\"1\" class=\"dataframe\">\n",
       "  <thead>\n",
       "    <tr style=\"text-align: right;\">\n",
       "      <th></th>\n",
       "      <th>ReplayID</th>\n",
       "      <th>Is Auto Select</th>\n",
       "      <th>Hero</th>\n",
       "      <th>Hero Level</th>\n",
       "      <th>Is Winner</th>\n",
       "      <th>MMR Before</th>\n",
       "    </tr>\n",
       "  </thead>\n",
       "  <tbody>\n",
       "    <tr>\n",
       "      <th>0</th>\n",
       "      <td>23915730</td>\n",
       "      <td>False</td>\n",
       "      <td>Rehgar</td>\n",
       "      <td>14</td>\n",
       "      <td>False</td>\n",
       "      <td>3170.0</td>\n",
       "    </tr>\n",
       "    <tr>\n",
       "      <th>1</th>\n",
       "      <td>23915730</td>\n",
       "      <td>False</td>\n",
       "      <td>Falstad</td>\n",
       "      <td>10</td>\n",
       "      <td>False</td>\n",
       "      <td>3330.0</td>\n",
       "    </tr>\n",
       "    <tr>\n",
       "      <th>2</th>\n",
       "      <td>23915730</td>\n",
       "      <td>False</td>\n",
       "      <td>Jaina</td>\n",
       "      <td>7</td>\n",
       "      <td>True</td>\n",
       "      <td>3442.0</td>\n",
       "    </tr>\n",
       "    <tr>\n",
       "      <th>3</th>\n",
       "      <td>23915730</td>\n",
       "      <td>False</td>\n",
       "      <td>Sylvanas</td>\n",
       "      <td>13</td>\n",
       "      <td>False</td>\n",
       "      <td>2666.0</td>\n",
       "    </tr>\n",
       "    <tr>\n",
       "      <th>4</th>\n",
       "      <td>23915730</td>\n",
       "      <td>False</td>\n",
       "      <td>Zagara</td>\n",
       "      <td>10</td>\n",
       "      <td>True</td>\n",
       "      <td>3198.0</td>\n",
       "    </tr>\n",
       "  </tbody>\n",
       "</table>\n",
       "</div>"
      ],
      "text/plain": [
       "   ReplayID Is Auto Select      Hero  Hero Level Is Winner  MMR Before\n",
       "0  23915730          False    Rehgar          14     False      3170.0\n",
       "1  23915730          False   Falstad          10     False      3330.0\n",
       "2  23915730          False     Jaina           7      True      3442.0\n",
       "3  23915730          False  Sylvanas          13     False      2666.0\n",
       "4  23915730          False    Zagara          10      True      3198.0"
      ]
     },
     "execution_count": 5,
     "metadata": {},
     "output_type": "execute_result"
    }
   ],
   "source": [
    "DF_Characters.head()"
   ]
  },
  {
   "cell_type": "code",
   "execution_count": 6,
   "metadata": {
    "collapsed": false
   },
   "outputs": [
    {
     "data": {
      "text/html": [
       "<div>\n",
       "<table border=\"1\" class=\"dataframe\">\n",
       "  <thead>\n",
       "    <tr style=\"text-align: right;\">\n",
       "      <th></th>\n",
       "      <th>ID</th>\n",
       "      <th>Name</th>\n",
       "      <th>Group</th>\n",
       "      <th>SubGroup</th>\n",
       "    </tr>\n",
       "  </thead>\n",
       "  <tbody>\n",
       "    <tr>\n",
       "      <th>0</th>\n",
       "      <td>0</td>\n",
       "      <td>Unknown</td>\n",
       "      <td>NaN</td>\n",
       "      <td>NaN</td>\n",
       "    </tr>\n",
       "    <tr>\n",
       "      <th>1</th>\n",
       "      <td>1</td>\n",
       "      <td>Abathur</td>\n",
       "      <td>Specialist</td>\n",
       "      <td>Utility</td>\n",
       "    </tr>\n",
       "  </tbody>\n",
       "</table>\n",
       "</div>"
      ],
      "text/plain": [
       "   ID     Name       Group SubGroup\n",
       "0   0  Unknown         NaN      NaN\n",
       "1   1  Abathur  Specialist  Utility"
      ]
     },
     "execution_count": 6,
     "metadata": {},
     "output_type": "execute_result"
    }
   ],
   "source": [
    "DF_Map_Groups.head(2)"
   ]
  },
  {
   "cell_type": "code",
   "execution_count": 7,
   "metadata": {
    "collapsed": false
   },
   "outputs": [
    {
     "data": {
      "text/html": [
       "<div>\n",
       "<table border=\"1\" class=\"dataframe\">\n",
       "  <thead>\n",
       "    <tr style=\"text-align: right;\">\n",
       "      <th></th>\n",
       "      <th>Name</th>\n",
       "      <th>Group</th>\n",
       "    </tr>\n",
       "  </thead>\n",
       "  <tbody>\n",
       "    <tr>\n",
       "      <th>45</th>\n",
       "      <td>Gall</td>\n",
       "      <td>Assassin</td>\n",
       "    </tr>\n",
       "    <tr>\n",
       "      <th>46</th>\n",
       "      <td>Lunara</td>\n",
       "      <td>Assassin</td>\n",
       "    </tr>\n",
       "    <tr>\n",
       "      <th>47</th>\n",
       "      <td>Greymane</td>\n",
       "      <td>Assassin</td>\n",
       "    </tr>\n",
       "  </tbody>\n",
       "</table>\n",
       "</div>"
      ],
      "text/plain": [
       "        Name     Group\n",
       "45      Gall  Assassin\n",
       "46    Lunara  Assassin\n",
       "47  Greymane  Assassin"
      ]
     },
     "execution_count": 7,
     "metadata": {},
     "output_type": "execute_result"
    }
   ],
   "source": [
    "#Remove all after row 49, to remove map IDs and keep all data for Heroes\n",
    "DF_Map_Groups = DF_Map_Groups[:48]\n",
    "\n",
    "#DF3 = DF.drop('ID', axis=1).drop('SubGroup', axis=1)\n",
    "DF_Map_Groups = DF_Map_Groups.drop('SubGroup', axis=1).drop('ID', axis=1)\n",
    "\n",
    "#Returning last 3 elements to check\n",
    "DF_Map_Groups.iloc[45:]"
   ]
  },
  {
   "cell_type": "markdown",
   "metadata": {},
   "source": [
    "## Merging\n",
    "We now have 2 dataframes with a \"ReplayID\" feature.\n",
    "\n",
    "For each occurrence of this feature in the DF_Replay dataframe (one entry per game), there are 10 rows with that ID in the DF_Characters dataframe (10 players in each game).\n",
    "\n",
    "So we can merge on this feature"
   ]
  },
  {
   "cell_type": "code",
   "execution_count": 8,
   "metadata": {
    "collapsed": false,
    "scrolled": true
   },
   "outputs": [],
   "source": [
    "#Need to merge on 'ReplayID' and duplicate entries\n",
    "from pandas import merge\n",
    "DF1 = pd.merge(DF_Replay, DF_Characters, left_on=[\"ReplayID\"], right_on=['ReplayID'], how='left')\n",
    "DF1.head(4)\n",
    "\n",
    "#deleting previous dataframes created for memory reasons\n",
    "del DF_Replay\n",
    "del DF_Characters"
   ]
  },
  {
   "cell_type": "code",
   "execution_count": 9,
   "metadata": {
    "collapsed": true
   },
   "outputs": [],
   "source": [
    "#Need to merge on 'Name' \n",
    "DF = pd.merge(DF1, DF_Map_Groups, left_on=[\"Hero\"], right_on=[\"Name\"], how='left')\n",
    "\n",
    "#delete the former dataframe DF_Map_Groups for memory's optimization\n",
    "del DF_Map_Groups\n",
    "del DF1"
   ]
  },
  {
   "cell_type": "code",
   "execution_count": 10,
   "metadata": {
    "collapsed": false
   },
   "outputs": [],
   "source": [
    "#Saving the merged Dataframe to a csv file\n",
    "DF.to_csv(\"HeroLeagueData.csv\")"
   ]
  },
  {
   "cell_type": "code",
   "execution_count": 11,
   "metadata": {
    "collapsed": false
   },
   "outputs": [
    {
     "data": {
      "text/html": [
       "<div>\n",
       "<table border=\"1\" class=\"dataframe\">\n",
       "  <thead>\n",
       "    <tr style=\"text-align: right;\">\n",
       "      <th></th>\n",
       "      <th>Unnamed: 0</th>\n",
       "      <th>ReplayID</th>\n",
       "      <th>GameMode</th>\n",
       "      <th>Map</th>\n",
       "      <th>ReplayLength</th>\n",
       "      <th>Timestamp</th>\n",
       "      <th>Is Auto Select</th>\n",
       "      <th>Hero</th>\n",
       "      <th>Hero Level</th>\n",
       "      <th>Is Winner</th>\n",
       "      <th>MMR Before</th>\n",
       "      <th>Name</th>\n",
       "      <th>Group</th>\n",
       "    </tr>\n",
       "  </thead>\n",
       "  <tbody>\n",
       "    <tr>\n",
       "      <th>0</th>\n",
       "      <td>0</td>\n",
       "      <td>23915730</td>\n",
       "      <td>4</td>\n",
       "      <td>Haunted Mines</td>\n",
       "      <td>720.0</td>\n",
       "      <td>5/14/2015 12:55:26 AM</td>\n",
       "      <td>False</td>\n",
       "      <td>Rehgar</td>\n",
       "      <td>14</td>\n",
       "      <td>False</td>\n",
       "      <td>3170.0</td>\n",
       "      <td>Rehgar</td>\n",
       "      <td>Support</td>\n",
       "    </tr>\n",
       "    <tr>\n",
       "      <th>1</th>\n",
       "      <td>1</td>\n",
       "      <td>23915730</td>\n",
       "      <td>4</td>\n",
       "      <td>Haunted Mines</td>\n",
       "      <td>720.0</td>\n",
       "      <td>5/14/2015 12:55:26 AM</td>\n",
       "      <td>False</td>\n",
       "      <td>Falstad</td>\n",
       "      <td>10</td>\n",
       "      <td>False</td>\n",
       "      <td>3330.0</td>\n",
       "      <td>Falstad</td>\n",
       "      <td>Assassin</td>\n",
       "    </tr>\n",
       "    <tr>\n",
       "      <th>2</th>\n",
       "      <td>2</td>\n",
       "      <td>23915730</td>\n",
       "      <td>4</td>\n",
       "      <td>Haunted Mines</td>\n",
       "      <td>720.0</td>\n",
       "      <td>5/14/2015 12:55:26 AM</td>\n",
       "      <td>False</td>\n",
       "      <td>Jaina</td>\n",
       "      <td>7</td>\n",
       "      <td>True</td>\n",
       "      <td>3442.0</td>\n",
       "      <td>Jaina</td>\n",
       "      <td>Assassin</td>\n",
       "    </tr>\n",
       "    <tr>\n",
       "      <th>3</th>\n",
       "      <td>3</td>\n",
       "      <td>23915730</td>\n",
       "      <td>4</td>\n",
       "      <td>Haunted Mines</td>\n",
       "      <td>720.0</td>\n",
       "      <td>5/14/2015 12:55:26 AM</td>\n",
       "      <td>False</td>\n",
       "      <td>Sylvanas</td>\n",
       "      <td>13</td>\n",
       "      <td>False</td>\n",
       "      <td>2666.0</td>\n",
       "      <td>Sylvanas</td>\n",
       "      <td>Specialist</td>\n",
       "    </tr>\n",
       "    <tr>\n",
       "      <th>4</th>\n",
       "      <td>4</td>\n",
       "      <td>23915730</td>\n",
       "      <td>4</td>\n",
       "      <td>Haunted Mines</td>\n",
       "      <td>720.0</td>\n",
       "      <td>5/14/2015 12:55:26 AM</td>\n",
       "      <td>False</td>\n",
       "      <td>Zagara</td>\n",
       "      <td>10</td>\n",
       "      <td>True</td>\n",
       "      <td>3198.0</td>\n",
       "      <td>Zagara</td>\n",
       "      <td>Specialist</td>\n",
       "    </tr>\n",
       "  </tbody>\n",
       "</table>\n",
       "</div>"
      ],
      "text/plain": [
       "   Unnamed: 0  ReplayID  GameMode            Map  ReplayLength  \\\n",
       "0           0  23915730         4  Haunted Mines         720.0   \n",
       "1           1  23915730         4  Haunted Mines         720.0   \n",
       "2           2  23915730         4  Haunted Mines         720.0   \n",
       "3           3  23915730         4  Haunted Mines         720.0   \n",
       "4           4  23915730         4  Haunted Mines         720.0   \n",
       "\n",
       "               Timestamp Is Auto Select      Hero  Hero Level Is Winner  \\\n",
       "0  5/14/2015 12:55:26 AM          False    Rehgar          14     False   \n",
       "1  5/14/2015 12:55:26 AM          False   Falstad          10     False   \n",
       "2  5/14/2015 12:55:26 AM          False     Jaina           7      True   \n",
       "3  5/14/2015 12:55:26 AM          False  Sylvanas          13     False   \n",
       "4  5/14/2015 12:55:26 AM          False    Zagara          10      True   \n",
       "\n",
       "   MMR Before      Name       Group  \n",
       "0      3170.0    Rehgar     Support  \n",
       "1      3330.0   Falstad    Assassin  \n",
       "2      3442.0     Jaina    Assassin  \n",
       "3      2666.0  Sylvanas  Specialist  \n",
       "4      3198.0    Zagara  Specialist  "
      ]
     },
     "execution_count": 11,
     "metadata": {},
     "output_type": "execute_result"
    }
   ],
   "source": [
    "DataFrame = pd.read_csv(\"HeroLeagueData.csv\")\n",
    "del DF\n",
    "DataFrame.head()"
   ]
  },
  {
   "cell_type": "markdown",
   "metadata": {},
   "source": [
    "We have now removed all entries for games that were not played in the competitive mode using the \"GameMode\" feature and so we can drop this as it is no longer needed. Additionally, \"Timestamp\" and \"Is Auto Select\" can be dropped as they are not relevant.\n",
    "\n",
    "We also rename the columns to remove spaces so they are easer to use."
   ]
  },
  {
   "cell_type": "code",
   "execution_count": 12,
   "metadata": {
    "collapsed": false
   },
   "outputs": [
    {
     "data": {
      "text/plain": [
       "['ReplayID',\n",
       " 'Map',\n",
       " 'ReplayLength',\n",
       " 'Hero',\n",
       " 'HeroLevel',\n",
       " 'IsWinner',\n",
       " 'MMRbefore',\n",
       " 'Group']"
      ]
     },
     "execution_count": 12,
     "metadata": {},
     "output_type": "execute_result"
    }
   ],
   "source": [
    "#drop these columns from dataframe as they are no longer relevant\n",
    "DataFrame = DataFrame.drop('Unnamed: 0', axis=1).drop('GameMode', axis=1).drop('Name', axis=1).drop('Is Auto Select', axis=1).drop('Timestamp', axis=1)\n",
    "\n",
    "\n",
    "#Overwrite the DataFrame's Column names to get it into correct format for future use\n",
    "DataFrame.columns = ['ReplayID', 'Map', 'ReplayLength', 'Hero', 'HeroLevel', 'IsWinner', 'MMRbefore', 'Group']\n",
    "#similar to:\n",
    "#DF = DF.rename(columns = ('Replay Length':'ReplayLength'))\n",
    "#DF = DF.rename(columns = {'Timestamp (UTC)':'Timestamp'})\n",
    "#DF = DF.rename(columns = {'Is Auto Select':'AutoSelect'})\n",
    "#...\n",
    "\n",
    "list(DataFrame.columns.values)"
   ]
  },
  {
   "cell_type": "code",
   "execution_count": 13,
   "metadata": {
    "collapsed": false
   },
   "outputs": [
    {
     "data": {
      "text/plain": [
       "ReplayID          int64\n",
       "Map              object\n",
       "ReplayLength    float64\n",
       "Hero             object\n",
       "HeroLevel         int64\n",
       "IsWinner           bool\n",
       "MMRbefore       float64\n",
       "Group            object\n",
       "dtype: object"
      ]
     },
     "execution_count": 13,
     "metadata": {},
     "output_type": "execute_result"
    }
   ],
   "source": [
    "DataFrame.dtypes"
   ]
  },
  {
   "cell_type": "markdown",
   "metadata": {},
   "source": [
    "## More data cleaning - Null values\n",
    "We check our cleaned data for null values.  There are null values present for the \"MMRbefore\" feature.\n",
    "\n",
    "This is likely due to the fact that the data we have contains entries from the early release stages of the game, where this statistic may not have been tracked.\n",
    "\n",
    "As we will be using this later in the notebook, these rows are not useful to us and can be dropped."
   ]
  },
  {
   "cell_type": "code",
   "execution_count": 14,
   "metadata": {
    "collapsed": false
   },
   "outputs": [
    {
     "data": {
      "text/plain": [
       "ReplayID             0\n",
       "Map                  0\n",
       "ReplayLength         0\n",
       "Hero                 0\n",
       "HeroLevel            0\n",
       "IsWinner             0\n",
       "MMRbefore       175460\n",
       "Group                0\n",
       "dtype: int64"
      ]
     },
     "execution_count": 14,
     "metadata": {},
     "output_type": "execute_result"
    }
   ],
   "source": [
    "# Check if any fields contain null values\n",
    "DataFrame.isnull().sum()"
   ]
  },
  {
   "cell_type": "code",
   "execution_count": 15,
   "metadata": {
    "collapsed": true
   },
   "outputs": [],
   "source": [
    "# Remove all of the rows where the value of \"MMRbefore\" is not a finite number\n",
    "DataFrame = DataFrame[np.isfinite(DataFrame[\"MMRbefore\"])]"
   ]
  },
  {
   "cell_type": "code",
   "execution_count": 16,
   "metadata": {
    "collapsed": false
   },
   "outputs": [
    {
     "name": "stdout",
     "output_type": "stream",
     "text": [
      "True\n"
     ]
    }
   ],
   "source": [
    "# Get the number of rows that have a unique value for \"ReplayID\"\n",
    "# This value should be one tenth the value of the dataframe length, as each game has 10 players\n",
    "A = DataFrame.ReplayID.nunique()\n",
    "B = len(DataFrame)\n",
    "print(A*10 == B)"
   ]
  },
  {
   "cell_type": "code",
   "execution_count": 17,
   "metadata": {
    "collapsed": false
   },
   "outputs": [
    {
     "data": {
      "text/plain": [
       "(1697780, 8)"
      ]
     },
     "execution_count": 17,
     "metadata": {},
     "output_type": "execute_result"
    }
   ],
   "source": [
    "# Find the number of entries remaining\n",
    "DataFrame.shape"
   ]
  },
  {
   "cell_type": "markdown",
   "metadata": {},
   "source": [
    "# Data Understanding"
   ]
  },
  {
   "cell_type": "code",
   "execution_count": 18,
   "metadata": {
    "collapsed": false,
    "scrolled": true
   },
   "outputs": [
    {
     "data": {
      "text/html": [
       "<div>\n",
       "<table border=\"1\" class=\"dataframe\">\n",
       "  <thead>\n",
       "    <tr style=\"text-align: right;\">\n",
       "      <th></th>\n",
       "      <th>ReplayLength</th>\n",
       "      <th>HeroLevel</th>\n",
       "      <th>MMRbefore</th>\n",
       "    </tr>\n",
       "  </thead>\n",
       "  <tbody>\n",
       "    <tr>\n",
       "      <th>0</th>\n",
       "      <td>720.0</td>\n",
       "      <td>14</td>\n",
       "      <td>3170.0</td>\n",
       "    </tr>\n",
       "    <tr>\n",
       "      <th>1</th>\n",
       "      <td>720.0</td>\n",
       "      <td>10</td>\n",
       "      <td>3330.0</td>\n",
       "    </tr>\n",
       "    <tr>\n",
       "      <th>2</th>\n",
       "      <td>720.0</td>\n",
       "      <td>7</td>\n",
       "      <td>3442.0</td>\n",
       "    </tr>\n",
       "    <tr>\n",
       "      <th>3</th>\n",
       "      <td>720.0</td>\n",
       "      <td>13</td>\n",
       "      <td>2666.0</td>\n",
       "    </tr>\n",
       "    <tr>\n",
       "      <th>4</th>\n",
       "      <td>720.0</td>\n",
       "      <td>10</td>\n",
       "      <td>3198.0</td>\n",
       "    </tr>\n",
       "  </tbody>\n",
       "</table>\n",
       "</div>"
      ],
      "text/plain": [
       "   ReplayLength  HeroLevel  MMRbefore\n",
       "0         720.0         14     3170.0\n",
       "1         720.0         10     3330.0\n",
       "2         720.0          7     3442.0\n",
       "3         720.0         13     2666.0\n",
       "4         720.0         10     3198.0"
      ]
     },
     "execution_count": 18,
     "metadata": {},
     "output_type": "execute_result"
    }
   ],
   "source": [
    "numeric = DataFrame.select_dtypes(['int64','float64']).columns\n",
    "numeric = numeric.drop(\"ReplayID\")\n",
    "DataFrame[numeric].head(5)"
   ]
  },
  {
   "cell_type": "code",
   "execution_count": 19,
   "metadata": {
    "collapsed": false
   },
   "outputs": [
    {
     "data": {
      "text/html": [
       "<div>\n",
       "<table border=\"1\" class=\"dataframe\">\n",
       "  <thead>\n",
       "    <tr style=\"text-align: right;\">\n",
       "      <th></th>\n",
       "      <th>ReplayLength</th>\n",
       "      <th>HeroLevel</th>\n",
       "      <th>MMRbefore</th>\n",
       "    </tr>\n",
       "  </thead>\n",
       "  <tbody>\n",
       "    <tr>\n",
       "      <th>ReplayLength</th>\n",
       "      <td>1.000000</td>\n",
       "      <td>-0.003705</td>\n",
       "      <td>-0.050528</td>\n",
       "    </tr>\n",
       "    <tr>\n",
       "      <th>HeroLevel</th>\n",
       "      <td>-0.003705</td>\n",
       "      <td>1.000000</td>\n",
       "      <td>0.103924</td>\n",
       "    </tr>\n",
       "    <tr>\n",
       "      <th>MMRbefore</th>\n",
       "      <td>-0.050528</td>\n",
       "      <td>0.103924</td>\n",
       "      <td>1.000000</td>\n",
       "    </tr>\n",
       "  </tbody>\n",
       "</table>\n",
       "</div>"
      ],
      "text/plain": [
       "              ReplayLength  HeroLevel  MMRbefore\n",
       "ReplayLength      1.000000  -0.003705  -0.050528\n",
       "HeroLevel        -0.003705   1.000000   0.103924\n",
       "MMRbefore        -0.050528   0.103924   1.000000"
      ]
     },
     "execution_count": 19,
     "metadata": {},
     "output_type": "execute_result"
    }
   ],
   "source": [
    "DataFrame[numeric].corr()"
   ]
  },
  {
   "cell_type": "code",
   "execution_count": 20,
   "metadata": {
    "collapsed": false
   },
   "outputs": [
    {
     "data": {
      "text/plain": [
       "array([[<matplotlib.axes._subplots.AxesSubplot object at 0x000001FE85FF2B70>,\n",
       "        <matplotlib.axes._subplots.AxesSubplot object at 0x000001FE84E607B8>]], dtype=object)"
      ]
     },
     "execution_count": 20,
     "metadata": {},
     "output_type": "execute_result"
    },
    {
     "data": {
      "image/png": "[encoded data removed]",
      "text/plain": [
       "<matplotlib.figure.Figure at 0x1fe861e5e10>"
      ]
     },
     "metadata": {},
     "output_type": "display_data"
    }
   ],
   "source": [
    "%matplotlib inline\n",
    "DataFrame[[\"HeroLevel\",\"MMRbefore\"]].hist(figsize=(20, 8), color='red')\n",
    "#plt.savefig(\"Histogram-Numeric-Features_HOTS.png\")"
   ]
  },
  {
   "cell_type": "code",
   "execution_count": 21,
   "metadata": {
    "collapsed": false
   },
   "outputs": [
    {
     "data": {
      "text/plain": [
       "<matplotlib.axes._subplots.AxesSubplot at 0x1fe8501e8d0>"
      ]
     },
     "execution_count": 21,
     "metadata": {},
     "output_type": "execute_result"
    },
    {
     "data": {
      "image/png": "[encoded data removed]",
      "text/plain": [
       "<matplotlib.figure.Figure at 0x1fef26e2a90>"
      ]
     },
     "metadata": {},
     "output_type": "display_data"
    }
   ],
   "source": [
    "DataFrame[\"ReplayLength\"].hist(figsize=(20, 8), color='red')"
   ]
  },
  {
   "cell_type": "markdown",
   "metadata": {},
   "source": [
    "Removing outliers above a threshold of 3000 seconds gives a better representation of the spread of game duration"
   ]
  },
  {
   "cell_type": "code",
   "execution_count": 22,
   "metadata": {
    "collapsed": false
   },
   "outputs": [
    {
     "data": {
      "text/plain": [
       "<matplotlib.axes._subplots.AxesSubplot at 0x1fe850e3240>"
      ]
     },
     "execution_count": 22,
     "metadata": {},
     "output_type": "execute_result"
    },
    {
     "data": {
      "image/png": "[encoded data removed]",
      "text/plain": [
       "<matplotlib.figure.Figure at 0x1fe850ec470>"
      ]
     },
     "metadata": {},
     "output_type": "display_data"
    }
   ],
   "source": [
    "# Create a separate plot just to show the distribution of game length (removing lengthy outliers)\n",
    "DataFrame[\"ReplayLength\"][DataFrame.ReplayLength <= 3000].hist(figsize=(20, 8), color='red', bins=100)"
   ]
  },
  {
   "cell_type": "code",
   "execution_count": 23,
   "metadata": {
    "collapsed": false
   },
   "outputs": [
    {
     "data": {
      "text/plain": [
       "<matplotlib.axes._subplots.AxesSubplot at 0x1fe854852e8>"
      ]
     },
     "execution_count": 23,
     "metadata": {},
     "output_type": "execute_result"
    },
    {
     "data": {
      "image/png": "[encoded data removed]",
      "text/plain": [
       "<matplotlib.figure.Figure at 0x1fe850ecf98>"
      ]
     },
     "metadata": {},
     "output_type": "display_data"
    }
   ],
   "source": [
    "dfHero = DataFrame[[\"Hero\", \"IsWinner\"]]\n",
    "dfHero = dfHero.groupby([\"Hero\",\"IsWinner\"])[\"Hero\"].count().unstack('IsWinner')\n",
    "dfHero.plot(kind=\"bar\", stacked=True, figsize=(15,8), title=\"Bar Plot for Win/Loss per hero\")"
   ]
  },
  {
   "cell_type": "code",
   "execution_count": 169,
   "metadata": {
    "collapsed": false
   },
   "outputs": [
    {
     "data": {
      "text/html": [
       "<div>\n",
       "<table border=\"1\" class=\"dataframe\">\n",
       "  <thead>\n",
       "    <tr style=\"text-align: right;\">\n",
       "      <th></th>\n",
       "      <th>WinRate</th>\n",
       "      <th>Loss</th>\n",
       "      <th>Victory</th>\n",
       "      <th>ClassCode</th>\n",
       "    </tr>\n",
       "    <tr>\n",
       "      <th>Hero</th>\n",
       "      <th></th>\n",
       "      <th></th>\n",
       "      <th></th>\n",
       "      <th></th>\n",
       "    </tr>\n",
       "  </thead>\n",
       "  <tbody>\n",
       "    <tr>\n",
       "      <th>Abathur</th>\n",
       "      <td>44.159771</td>\n",
       "      <td>10527</td>\n",
       "      <td>8325</td>\n",
       "      <td>4</td>\n",
       "    </tr>\n",
       "    <tr>\n",
       "      <th>Anub'arak</th>\n",
       "      <td>60.123523</td>\n",
       "      <td>24664</td>\n",
       "      <td>37187</td>\n",
       "      <td>2</td>\n",
       "    </tr>\n",
       "    <tr>\n",
       "      <th>Arthas</th>\n",
       "      <td>49.094823</td>\n",
       "      <td>10404</td>\n",
       "      <td>10034</td>\n",
       "      <td>2</td>\n",
       "    </tr>\n",
       "    <tr>\n",
       "      <th>Azmodan</th>\n",
       "      <td>50.340423</td>\n",
       "      <td>8242</td>\n",
       "      <td>8355</td>\n",
       "      <td>4</td>\n",
       "    </tr>\n",
       "    <tr>\n",
       "      <th>Brightwing</th>\n",
       "      <td>55.309735</td>\n",
       "      <td>37774</td>\n",
       "      <td>46750</td>\n",
       "      <td>3</td>\n",
       "    </tr>\n",
       "  </tbody>\n",
       "</table>\n",
       "</div>"
      ],
      "text/plain": [
       "              WinRate   Loss  Victory  ClassCode\n",
       "Hero                                            \n",
       "Abathur     44.159771  10527     8325          4\n",
       "Anub'arak   60.123523  24664    37187          2\n",
       "Arthas      49.094823  10404    10034          2\n",
       "Azmodan     50.340423   8242     8355          4\n",
       "Brightwing  55.309735  37774    46750          3"
      ]
     },
     "execution_count": 169,
     "metadata": {},
     "output_type": "execute_result"
    }
   ],
   "source": [
    "#Getting win rate in percentage per hero to plot in bar chart\n",
    "dfGroup = DataFrame[[\"Hero\", \"IsWinner\", \"Group\"]]\n",
    "\n",
    "dfGroup = dfGroup.groupby([\"Hero\",\"IsWinner\"]).count().unstack('IsWinner')\n",
    "\n",
    "dfGroup.columns = ['Loss', 'Victory']\n",
    "dfGroup.insert(0, 'WinRate', dfGroup.Victory/(dfGroup.Loss+dfGroup.Victory)*100)\n",
    "\n",
    "\n",
    "# Defining classcodes to colour the chart below\n",
    "\n",
    "# Assassin = 1, Warrior = 2, Support = 3, Specialist = 4\n",
    "classcodes = [4, 2, 2, 4, 3, 2, 2, 2, 1, 4, 1, 1, 1, 1, 3, 3, 2, 4, 4, 1, 1, 3, 4, 2, 2, 4, 3, 4, 1, 1, 2, 3, 3, 1, 4, 1 ]\n",
    "\n",
    "dfGroup['ClassCode'] = pd.Series(classcodes, index=dfGroup.index)\n",
    "\n",
    "dfGroup.head()"
   ]
  },
  {
   "cell_type": "code",
   "execution_count": 188,
   "metadata": {
    "collapsed": false,
    "scrolled": true
   },
   "outputs": [],
   "source": [
    "# Test cell: trying to change colours of bars.\n",
    "\n",
    "\n",
    "# for item in (len(dfGroup[dfGroup.columns[:0]]):\n",
    "# dfGroup[dfGroup.columns[0]]\n",
    "\n",
    "# dfGroup.shape\n",
    "\n",
    "\n",
    "# x = np.arange(10)\n",
    "# y = np.arange(10) * 0.1\n",
    "\n",
    "# mask1 = y < 0.5\n",
    "# mask2 = y >= 0.5\n",
    "\n",
    "# plt.bar(x[assassinmask], y[assassinmask], color = 'red')\n",
    "# plt.bar(x[wariormask], y[warriormask], color = 'blue')\n",
    "# plt.bar(x[supportmask], y[supportmask], color = 'green')\n",
    "# plt.bar(x[specialistmask], y[specialistmask], color = 'yellow')\n",
    "\n",
    "# plt.show()\n",
    "\n",
    "# barlist=plt.bar(['Hero'], ['WinRate'])\n",
    "# barlist[0].set_color('r')\n",
    "# plt.show()\n",
    "\n",
    "# assassinmask = dfGroup['ClassCode'] == 1\n",
    "# warriormask = dfGroup['ClassCode'] == 2\n",
    "# supportmask = dfGroup['ClassCode'] == 3\n",
    "# specialistmask = dfGroup['ClassCode'] == 4\n",
    "\n",
    "# test = dfGroup['WinRate'].plot(kind=\"bar\", figsize=(16,8), ylim=(40,62), color='red', title=\"Bar Plot for WinRate (%) per hero\")"
   ]
  },
  {
   "cell_type": "code",
   "execution_count": 160,
   "metadata": {
    "collapsed": false
   },
   "outputs": [
    {
     "data": {
      "text/plain": [
       "<matplotlib.axes._subplots.AxesSubplot at 0x1feddc78518>"
      ]
     },
     "execution_count": 160,
     "metadata": {},
     "output_type": "execute_result"
    },
    {
     "data": {
      "image/png": "[encoded data removed]",
      "text/plain": [
       "<matplotlib.figure.Figure at 0x1feddc9bef0>"
      ]
     },
     "metadata": {},
     "output_type": "display_data"
    }
   ],
   "source": [
    "# DF_Map_Groups = pd.read_csv(\"HeroAndMap.csv\")\n",
    "# DF_Map_Groups.head()\n",
    "\n",
    "# dfWinRate = pd.merge(dfGroup, DF_Map_Groups, left_on=[\"Group\"], right_on=['Group'], how='left')\n",
    "\n",
    "# if dfGroup.WIN.values > 50: \n",
    "#     y = 'blue'\n",
    "# elif Group =='Support': \n",
    "#     y = 'green'\n",
    "# elif Group == 'Assassin': \n",
    "#     y = 'red'\n",
    "# elif Group == 'Warrior': \n",
    "#     y = 'yellow'\n",
    "# else:\n",
    "#     y= 'red'\n",
    "\n",
    "# #DF_Replay[DF_Replay['GameMode'] == 4]\n",
    "    \n",
    "\n",
    "dfGroup['WinRate'].plot(kind=\"bar\", figsize=(16,8), ylim=(40,62), color='red', title=\"Bar Plot for WinRate (%) per hero\")"
   ]
  },
  {
   "cell_type": "markdown",
   "metadata": {},
   "source": [
    "#  <u> Observations </u>\n",
    "According to the graph above we can identify that the Heroes which are played the most are:  \n",
    "- *Valla*   (Assassin) \n",
    "- *Sylvanas*    (Specialist)\n",
    "- *Jaina*  (Assassin)\n",
    "- *Kael'Thas*  (Assassin)\n",
    "- *ETC*    (Warrior)"
   ]
  },
  {
   "cell_type": "markdown",
   "metadata": {},
   "source": [
    "## Creating \"Team Composition\" feature from existing data\n",
    "\n",
    "As mentioned above, this is one of the main features we wish to look at\n",
    "- We begin by sorting our dataframe based on \"ReplayID\"\n",
    "- With that in place, each record is then sorted by \"IsWinner\"\n",
    "- This results in 10 entries for the same game being grouped together, where the first 5 are the winning team, and the second 5 are the losing team"
   ]
  },
  {
   "cell_type": "code",
   "execution_count": 26,
   "metadata": {
    "collapsed": false
   },
   "outputs": [],
   "source": [
    "DataFrame.sort_values([\"ReplayID\",\"IsWinner\"],axis=0, inplace=True, ascending=[True, False])"
   ]
  },
  {
   "cell_type": "code",
   "execution_count": 27,
   "metadata": {
    "collapsed": false
   },
   "outputs": [
    {
     "data": {
      "text/html": [
       "<div>\n",
       "<table border=\"1\" class=\"dataframe\">\n",
       "  <thead>\n",
       "    <tr style=\"text-align: right;\">\n",
       "      <th></th>\n",
       "      <th>ReplayID</th>\n",
       "      <th>Map</th>\n",
       "      <th>ReplayLength</th>\n",
       "      <th>Hero</th>\n",
       "      <th>HeroLevel</th>\n",
       "      <th>IsWinner</th>\n",
       "      <th>MMRbefore</th>\n",
       "      <th>Group</th>\n",
       "    </tr>\n",
       "  </thead>\n",
       "  <tbody>\n",
       "    <tr>\n",
       "      <th>14251</th>\n",
       "      <td>23812009</td>\n",
       "      <td>Garden of Terror</td>\n",
       "      <td>814.0</td>\n",
       "      <td>E.T.C.</td>\n",
       "      <td>8</td>\n",
       "      <td>True</td>\n",
       "      <td>3341.0</td>\n",
       "      <td>Warrior</td>\n",
       "    </tr>\n",
       "    <tr>\n",
       "      <th>14252</th>\n",
       "      <td>23812009</td>\n",
       "      <td>Garden of Terror</td>\n",
       "      <td>814.0</td>\n",
       "      <td>Rehgar</td>\n",
       "      <td>10</td>\n",
       "      <td>True</td>\n",
       "      <td>3008.0</td>\n",
       "      <td>Support</td>\n",
       "    </tr>\n",
       "    <tr>\n",
       "      <th>14253</th>\n",
       "      <td>23812009</td>\n",
       "      <td>Garden of Terror</td>\n",
       "      <td>814.0</td>\n",
       "      <td>Raynor</td>\n",
       "      <td>10</td>\n",
       "      <td>True</td>\n",
       "      <td>2850.0</td>\n",
       "      <td>Assassin</td>\n",
       "    </tr>\n",
       "    <tr>\n",
       "      <th>14254</th>\n",
       "      <td>23812009</td>\n",
       "      <td>Garden of Terror</td>\n",
       "      <td>814.0</td>\n",
       "      <td>Jaina</td>\n",
       "      <td>8</td>\n",
       "      <td>True</td>\n",
       "      <td>2835.0</td>\n",
       "      <td>Assassin</td>\n",
       "    </tr>\n",
       "    <tr>\n",
       "      <th>14255</th>\n",
       "      <td>23812009</td>\n",
       "      <td>Garden of Terror</td>\n",
       "      <td>814.0</td>\n",
       "      <td>Sylvanas</td>\n",
       "      <td>16</td>\n",
       "      <td>True</td>\n",
       "      <td>2648.0</td>\n",
       "      <td>Specialist</td>\n",
       "    </tr>\n",
       "  </tbody>\n",
       "</table>\n",
       "</div>"
      ],
      "text/plain": [
       "       ReplayID               Map  ReplayLength      Hero  HeroLevel IsWinner  \\\n",
       "14251  23812009  Garden of Terror         814.0    E.T.C.          8     True   \n",
       "14252  23812009  Garden of Terror         814.0    Rehgar         10     True   \n",
       "14253  23812009  Garden of Terror         814.0    Raynor         10     True   \n",
       "14254  23812009  Garden of Terror         814.0     Jaina          8     True   \n",
       "14255  23812009  Garden of Terror         814.0  Sylvanas         16     True   \n",
       "\n",
       "       MMRbefore       Group  \n",
       "14251     3341.0     Warrior  \n",
       "14252     3008.0     Support  \n",
       "14253     2850.0    Assassin  \n",
       "14254     2835.0    Assassin  \n",
       "14255     2648.0  Specialist  "
      ]
     },
     "execution_count": 27,
     "metadata": {},
     "output_type": "execute_result"
    }
   ],
   "source": [
    "DataFrame.head()"
   ]
  },
  {
   "cell_type": "markdown",
   "metadata": {},
   "source": [
    "We want to extract two lists from each game: one from the winning team and one from the losing team\n",
    "\n",
    "Each list will record the classes of characters present on that team. For example:\n",
    "\n",
    "    Winner = [\"Assassin\", \"Support\", \"Support\", \"Specialist\", \"Warrior\"]\n",
    "\n",
    "This list will then be sorted alphabetically and checked against a list of class compositions recorded so far. If that particular configuration is not present, it will be added. This allows us to see the unique team compositions present in our dataset."
   ]
  },
  {
   "cell_type": "code",
   "execution_count": 28,
   "metadata": {
    "collapsed": false
   },
   "outputs": [
    {
     "data": {
      "text/plain": [
       "(1697780, 4)"
      ]
     },
     "execution_count": 28,
     "metadata": {},
     "output_type": "execute_result"
    }
   ],
   "source": [
    "df_classes = DataFrame[[\"IsWinner\", \"ReplayID\", \"Group\", \"MMRbefore\"]]\n",
    "df_classes.shape"
   ]
  },
  {
   "cell_type": "code",
   "execution_count": 29,
   "metadata": {
    "collapsed": false
   },
   "outputs": [
    {
     "data": {
      "text/html": [
       "<div>\n",
       "<table border=\"1\" class=\"dataframe\">\n",
       "  <thead>\n",
       "    <tr style=\"text-align: right;\">\n",
       "      <th></th>\n",
       "      <th>IsWinner</th>\n",
       "      <th>ReplayID</th>\n",
       "      <th>Group</th>\n",
       "      <th>MMRbefore</th>\n",
       "    </tr>\n",
       "  </thead>\n",
       "  <tbody>\n",
       "    <tr>\n",
       "      <th>14251</th>\n",
       "      <td>True</td>\n",
       "      <td>23812009</td>\n",
       "      <td>Warrior</td>\n",
       "      <td>3341.0</td>\n",
       "    </tr>\n",
       "    <tr>\n",
       "      <th>14252</th>\n",
       "      <td>True</td>\n",
       "      <td>23812009</td>\n",
       "      <td>Support</td>\n",
       "      <td>3008.0</td>\n",
       "    </tr>\n",
       "    <tr>\n",
       "      <th>14253</th>\n",
       "      <td>True</td>\n",
       "      <td>23812009</td>\n",
       "      <td>Assassin</td>\n",
       "      <td>2850.0</td>\n",
       "    </tr>\n",
       "    <tr>\n",
       "      <th>14254</th>\n",
       "      <td>True</td>\n",
       "      <td>23812009</td>\n",
       "      <td>Assassin</td>\n",
       "      <td>2835.0</td>\n",
       "    </tr>\n",
       "    <tr>\n",
       "      <th>14255</th>\n",
       "      <td>True</td>\n",
       "      <td>23812009</td>\n",
       "      <td>Specialist</td>\n",
       "      <td>2648.0</td>\n",
       "    </tr>\n",
       "  </tbody>\n",
       "</table>\n",
       "</div>"
      ],
      "text/plain": [
       "      IsWinner  ReplayID       Group  MMRbefore\n",
       "14251     True  23812009     Warrior     3341.0\n",
       "14252     True  23812009     Support     3008.0\n",
       "14253     True  23812009    Assassin     2850.0\n",
       "14254     True  23812009    Assassin     2835.0\n",
       "14255     True  23812009  Specialist     2648.0"
      ]
     },
     "execution_count": 29,
     "metadata": {},
     "output_type": "execute_result"
    }
   ],
   "source": [
    "df_classes.head()"
   ]
  },
  {
   "cell_type": "markdown",
   "metadata": {},
   "source": [
    "## Note\n",
    "**This cell may take a while to execute**"
   ]
  },
  {
   "cell_type": "code",
   "execution_count": 30,
   "metadata": {
    "collapsed": false
   },
   "outputs": [
    {
     "name": "stdout",
     "output_type": "stream",
     "text": [
      "Finished\n"
     ]
    }
   ],
   "source": [
    "# Initialise lists to keep track of the group of 5 classes (a.k.a. Team Composition) played in any given game\n",
    "# Initialise another list to keep track of each of these lists of 5 classes\n",
    "# Similar thing with MMR (a.k.a. Player Rating), but divide by 5 to get average player rating on the team\n",
    "# Initialise a counter to 0, and cycle through every row in the dataframe\n",
    "# The dataframe is sorted by ReplayID, so every 10 rows corresponds to 1 game\n",
    "# Once counter reaches 10, reset the appropriate lists after adding their values to the larger lists\n",
    "\n",
    "comp_win = []\n",
    "comp_lose = []\n",
    "composition_list = []\n",
    "mmr_win = 0\n",
    "mmr_lose = 0\n",
    "mmr_list = []\n",
    "counter = 0\n",
    "for x in range(len(df_classes)):\n",
    "    if df_classes.IsWinner.iloc[x] == True:\n",
    "        comp_win.append(df_classes.Group.iloc[x])\n",
    "        mmr_win += df_classes.MMRbefore.iloc[x]\n",
    "    else:\n",
    "        comp_lose.append(df_classes.Group.iloc[x])\n",
    "        mmr_lose += df_classes.MMRbefore.iloc[x]\n",
    "    counter += 1\n",
    "    if counter == 10: # All values for a single game have been read, so now add them to lists\n",
    "        comp_win.sort()\n",
    "        comp_lose.sort()\n",
    "        composition_list.append(comp_win)\n",
    "        composition_list.append(comp_lose)\n",
    "        comp_win = []\n",
    "        comp_lose = []\n",
    "        mmr_list.append(mmr_win//5)\n",
    "        mmr_list.append(mmr_lose//5)\n",
    "        mmr_win = 0\n",
    "        mmr_lose = 0\n",
    "        counter = 0 # Restart counter to represent next game\n",
    "        \n",
    "print(\"Finished\")  "
   ]
  },
  {
   "cell_type": "code",
   "execution_count": 31,
   "metadata": {
    "collapsed": false
   },
   "outputs": [],
   "source": [
    "# From the entire list of all Team Compositions played, create a list of only the unique ones\n",
    "# This can then be used to create dummies that will be used to convey what Team Composition a particular team played\n",
    "# Necessary for our logisitic regression\n",
    "\n",
    "unique_comps = []\n",
    "for item in composition_list:\n",
    "    if item not in unique_comps:\n",
    "        unique_comps.append(item)\n",
    "        \n",
    "# Check that every composition conisists of 5 Classes\n",
    "for j in unique_comps:\n",
    "    if len(j) != 5:\n",
    "        print(\"Error\")"
   ]
  },
  {
   "cell_type": "markdown",
   "metadata": {},
   "source": [
    "At this point, every player record has an associated \"Team Composition\" showing the 5 classes that were chosen on their team that game.\n",
    "\n",
    "This is in the form of a list. E.g. [\"Assassin\", \"Support\", \"Support\", \"Specialist\", \"Warrior\"]\n",
    "\n",
    "As we will be creating a new feature based on this information, we attempt to increase readability by converting these lists to a string of letters, each representing a particular class"
   ]
  },
  {
   "cell_type": "code",
   "execution_count": 32,
   "metadata": {
    "collapsed": false
   },
   "outputs": [
    {
     "name": "stdout",
     "output_type": "stream",
     "text": [
      "['AASpSW', 'AASpSW', 'AAASW', 'ASpSpSW', 'AASpSW']\n"
     ]
    }
   ],
   "source": [
    "# For compositions to be easily readable, we will convert every list of 5 classes to a string representation\n",
    "# A = Assassin\n",
    "# S = Support\n",
    "# Sp = Specialist\n",
    "# W = Warrior\n",
    "# For example, the string AASpWW would represent [\"Assassin\", \"Assassin\", \"Specialist\", \"Warrior\", \"Warrior\"]\n",
    "str_comps = []\n",
    "for composition in composition_list:\n",
    "    string_rep = \"\" # String to keep track of class initials\n",
    "    for character_class in composition:\n",
    "        if character_class == \"Specialist\": # 2 classes begin with \"S\", so represent Specialist as \"Sp\"\n",
    "            string_rep += character_class[0:2]\n",
    "        else:\n",
    "            string_rep += character_class[0]\n",
    "    str_comps.append(string_rep) # Add the composition to the list\n",
    "    \n",
    "# Check that formatting is as expected\n",
    "print(str_comps[0:5])"
   ]
  },
  {
   "cell_type": "code",
   "execution_count": 33,
   "metadata": {
    "collapsed": true
   },
   "outputs": [],
   "source": [
    "# Create a list that can be used as a pandas Series to add as a column to our dataframe\n",
    "# The ratings calculated on a per-team basis, but at the moment we still have one row per player\n",
    "# Therefore, create 5 of each entry\n",
    "col_rating = []\n",
    "for i in mmr_list:\n",
    "    for j in range(5):\n",
    "        col_rating.append(i)"
   ]
  },
  {
   "cell_type": "code",
   "execution_count": 34,
   "metadata": {
    "collapsed": true
   },
   "outputs": [],
   "source": [
    "# Same as the previous cell, but for team composition\n",
    "col_comp = []\n",
    "for i in str_comps:\n",
    "    for j in range(5):\n",
    "        col_comp.append(i)"
   ]
  },
  {
   "cell_type": "code",
   "execution_count": 35,
   "metadata": {
    "collapsed": false
   },
   "outputs": [],
   "source": [
    "# Add these columns to the dataframe\n",
    "DataFrame['Composition'] = pd.Series(col_comp, index=DataFrame.index)\n",
    "DataFrame['Rating'] = pd.Series(col_rating, index=DataFrame.index)"
   ]
  },
  {
   "cell_type": "code",
   "execution_count": 36,
   "metadata": {
    "collapsed": false
   },
   "outputs": [
    {
     "data": {
      "text/html": [
       "<div>\n",
       "<table border=\"1\" class=\"dataframe\">\n",
       "  <thead>\n",
       "    <tr style=\"text-align: right;\">\n",
       "      <th></th>\n",
       "      <th>ReplayID</th>\n",
       "      <th>Map</th>\n",
       "      <th>ReplayLength</th>\n",
       "      <th>Hero</th>\n",
       "      <th>HeroLevel</th>\n",
       "      <th>IsWinner</th>\n",
       "      <th>MMRbefore</th>\n",
       "      <th>Group</th>\n",
       "      <th>Composition</th>\n",
       "      <th>Rating</th>\n",
       "    </tr>\n",
       "  </thead>\n",
       "  <tbody>\n",
       "    <tr>\n",
       "      <th>14251</th>\n",
       "      <td>23812009</td>\n",
       "      <td>Garden of Terror</td>\n",
       "      <td>814.0</td>\n",
       "      <td>E.T.C.</td>\n",
       "      <td>8</td>\n",
       "      <td>True</td>\n",
       "      <td>3341.0</td>\n",
       "      <td>Warrior</td>\n",
       "      <td>AASpSW</td>\n",
       "      <td>2936.0</td>\n",
       "    </tr>\n",
       "    <tr>\n",
       "      <th>14252</th>\n",
       "      <td>23812009</td>\n",
       "      <td>Garden of Terror</td>\n",
       "      <td>814.0</td>\n",
       "      <td>Rehgar</td>\n",
       "      <td>10</td>\n",
       "      <td>True</td>\n",
       "      <td>3008.0</td>\n",
       "      <td>Support</td>\n",
       "      <td>AASpSW</td>\n",
       "      <td>2936.0</td>\n",
       "    </tr>\n",
       "    <tr>\n",
       "      <th>14253</th>\n",
       "      <td>23812009</td>\n",
       "      <td>Garden of Terror</td>\n",
       "      <td>814.0</td>\n",
       "      <td>Raynor</td>\n",
       "      <td>10</td>\n",
       "      <td>True</td>\n",
       "      <td>2850.0</td>\n",
       "      <td>Assassin</td>\n",
       "      <td>AASpSW</td>\n",
       "      <td>2936.0</td>\n",
       "    </tr>\n",
       "    <tr>\n",
       "      <th>14254</th>\n",
       "      <td>23812009</td>\n",
       "      <td>Garden of Terror</td>\n",
       "      <td>814.0</td>\n",
       "      <td>Jaina</td>\n",
       "      <td>8</td>\n",
       "      <td>True</td>\n",
       "      <td>2835.0</td>\n",
       "      <td>Assassin</td>\n",
       "      <td>AASpSW</td>\n",
       "      <td>2936.0</td>\n",
       "    </tr>\n",
       "    <tr>\n",
       "      <th>14255</th>\n",
       "      <td>23812009</td>\n",
       "      <td>Garden of Terror</td>\n",
       "      <td>814.0</td>\n",
       "      <td>Sylvanas</td>\n",
       "      <td>16</td>\n",
       "      <td>True</td>\n",
       "      <td>2648.0</td>\n",
       "      <td>Specialist</td>\n",
       "      <td>AASpSW</td>\n",
       "      <td>2936.0</td>\n",
       "    </tr>\n",
       "    <tr>\n",
       "      <th>14250</th>\n",
       "      <td>23812009</td>\n",
       "      <td>Garden of Terror</td>\n",
       "      <td>814.0</td>\n",
       "      <td>Uther</td>\n",
       "      <td>7</td>\n",
       "      <td>False</td>\n",
       "      <td>2336.0</td>\n",
       "      <td>Support</td>\n",
       "      <td>AASpSW</td>\n",
       "      <td>2191.0</td>\n",
       "    </tr>\n",
       "    <tr>\n",
       "      <th>14256</th>\n",
       "      <td>23812009</td>\n",
       "      <td>Garden of Terror</td>\n",
       "      <td>814.0</td>\n",
       "      <td>Valla</td>\n",
       "      <td>9</td>\n",
       "      <td>False</td>\n",
       "      <td>2311.0</td>\n",
       "      <td>Assassin</td>\n",
       "      <td>AASpSW</td>\n",
       "      <td>2191.0</td>\n",
       "    </tr>\n",
       "    <tr>\n",
       "      <th>14257</th>\n",
       "      <td>23812009</td>\n",
       "      <td>Garden of Terror</td>\n",
       "      <td>814.0</td>\n",
       "      <td>Diablo</td>\n",
       "      <td>9</td>\n",
       "      <td>False</td>\n",
       "      <td>2971.0</td>\n",
       "      <td>Warrior</td>\n",
       "      <td>AASpSW</td>\n",
       "      <td>2191.0</td>\n",
       "    </tr>\n",
       "    <tr>\n",
       "      <th>14258</th>\n",
       "      <td>23812009</td>\n",
       "      <td>Garden of Terror</td>\n",
       "      <td>814.0</td>\n",
       "      <td>Sgt. Hammer</td>\n",
       "      <td>10</td>\n",
       "      <td>False</td>\n",
       "      <td>804.0</td>\n",
       "      <td>Specialist</td>\n",
       "      <td>AASpSW</td>\n",
       "      <td>2191.0</td>\n",
       "    </tr>\n",
       "    <tr>\n",
       "      <th>14259</th>\n",
       "      <td>23812009</td>\n",
       "      <td>Garden of Terror</td>\n",
       "      <td>814.0</td>\n",
       "      <td>Falstad</td>\n",
       "      <td>7</td>\n",
       "      <td>False</td>\n",
       "      <td>2535.0</td>\n",
       "      <td>Assassin</td>\n",
       "      <td>AASpSW</td>\n",
       "      <td>2191.0</td>\n",
       "    </tr>\n",
       "    <tr>\n",
       "      <th>152140</th>\n",
       "      <td>23888167</td>\n",
       "      <td>Sky Temple</td>\n",
       "      <td>1022.0</td>\n",
       "      <td>Tychus</td>\n",
       "      <td>7</td>\n",
       "      <td>True</td>\n",
       "      <td>2360.0</td>\n",
       "      <td>Assassin</td>\n",
       "      <td>AAASW</td>\n",
       "      <td>2436.0</td>\n",
       "    </tr>\n",
       "    <tr>\n",
       "      <th>152145</th>\n",
       "      <td>23888167</td>\n",
       "      <td>Sky Temple</td>\n",
       "      <td>1022.0</td>\n",
       "      <td>Jaina</td>\n",
       "      <td>9</td>\n",
       "      <td>True</td>\n",
       "      <td>2260.0</td>\n",
       "      <td>Assassin</td>\n",
       "      <td>AAASW</td>\n",
       "      <td>2436.0</td>\n",
       "    </tr>\n",
       "    <tr>\n",
       "      <th>152146</th>\n",
       "      <td>23888167</td>\n",
       "      <td>Sky Temple</td>\n",
       "      <td>1022.0</td>\n",
       "      <td>Illidan</td>\n",
       "      <td>10</td>\n",
       "      <td>True</td>\n",
       "      <td>2878.0</td>\n",
       "      <td>Assassin</td>\n",
       "      <td>AAASW</td>\n",
       "      <td>2436.0</td>\n",
       "    </tr>\n",
       "    <tr>\n",
       "      <th>152147</th>\n",
       "      <td>23888167</td>\n",
       "      <td>Sky Temple</td>\n",
       "      <td>1022.0</td>\n",
       "      <td>Li Li</td>\n",
       "      <td>7</td>\n",
       "      <td>True</td>\n",
       "      <td>2137.0</td>\n",
       "      <td>Support</td>\n",
       "      <td>AAASW</td>\n",
       "      <td>2436.0</td>\n",
       "    </tr>\n",
       "    <tr>\n",
       "      <th>152149</th>\n",
       "      <td>23888167</td>\n",
       "      <td>Sky Temple</td>\n",
       "      <td>1022.0</td>\n",
       "      <td>Diablo</td>\n",
       "      <td>7</td>\n",
       "      <td>True</td>\n",
       "      <td>2545.0</td>\n",
       "      <td>Warrior</td>\n",
       "      <td>AAASW</td>\n",
       "      <td>2436.0</td>\n",
       "    </tr>\n",
       "    <tr>\n",
       "      <th>152141</th>\n",
       "      <td>23888167</td>\n",
       "      <td>Sky Temple</td>\n",
       "      <td>1022.0</td>\n",
       "      <td>Brightwing</td>\n",
       "      <td>7</td>\n",
       "      <td>False</td>\n",
       "      <td>2425.0</td>\n",
       "      <td>Support</td>\n",
       "      <td>ASpSpSW</td>\n",
       "      <td>2280.0</td>\n",
       "    </tr>\n",
       "    <tr>\n",
       "      <th>152142</th>\n",
       "      <td>23888167</td>\n",
       "      <td>Sky Temple</td>\n",
       "      <td>1022.0</td>\n",
       "      <td>Nazeebo</td>\n",
       "      <td>9</td>\n",
       "      <td>False</td>\n",
       "      <td>2195.0</td>\n",
       "      <td>Specialist</td>\n",
       "      <td>ASpSpSW</td>\n",
       "      <td>2280.0</td>\n",
       "    </tr>\n",
       "    <tr>\n",
       "      <th>152143</th>\n",
       "      <td>23888167</td>\n",
       "      <td>Sky Temple</td>\n",
       "      <td>1022.0</td>\n",
       "      <td>Valla</td>\n",
       "      <td>10</td>\n",
       "      <td>False</td>\n",
       "      <td>2433.0</td>\n",
       "      <td>Assassin</td>\n",
       "      <td>ASpSpSW</td>\n",
       "      <td>2280.0</td>\n",
       "    </tr>\n",
       "    <tr>\n",
       "      <th>152144</th>\n",
       "      <td>23888167</td>\n",
       "      <td>Sky Temple</td>\n",
       "      <td>1022.0</td>\n",
       "      <td>Sylvanas</td>\n",
       "      <td>8</td>\n",
       "      <td>False</td>\n",
       "      <td>1842.0</td>\n",
       "      <td>Specialist</td>\n",
       "      <td>ASpSpSW</td>\n",
       "      <td>2280.0</td>\n",
       "    </tr>\n",
       "    <tr>\n",
       "      <th>152148</th>\n",
       "      <td>23888167</td>\n",
       "      <td>Sky Temple</td>\n",
       "      <td>1022.0</td>\n",
       "      <td>Anub'arak</td>\n",
       "      <td>6</td>\n",
       "      <td>False</td>\n",
       "      <td>2505.0</td>\n",
       "      <td>Warrior</td>\n",
       "      <td>ASpSpSW</td>\n",
       "      <td>2280.0</td>\n",
       "    </tr>\n",
       "  </tbody>\n",
       "</table>\n",
       "</div>"
      ],
      "text/plain": [
       "        ReplayID               Map  ReplayLength         Hero  HeroLevel  \\\n",
       "14251   23812009  Garden of Terror         814.0       E.T.C.          8   \n",
       "14252   23812009  Garden of Terror         814.0       Rehgar         10   \n",
       "14253   23812009  Garden of Terror         814.0       Raynor         10   \n",
       "14254   23812009  Garden of Terror         814.0        Jaina          8   \n",
       "14255   23812009  Garden of Terror         814.0     Sylvanas         16   \n",
       "14250   23812009  Garden of Terror         814.0        Uther          7   \n",
       "14256   23812009  Garden of Terror         814.0        Valla          9   \n",
       "14257   23812009  Garden of Terror         814.0       Diablo          9   \n",
       "14258   23812009  Garden of Terror         814.0  Sgt. Hammer         10   \n",
       "14259   23812009  Garden of Terror         814.0      Falstad          7   \n",
       "152140  23888167        Sky Temple        1022.0       Tychus          7   \n",
       "152145  23888167        Sky Temple        1022.0        Jaina          9   \n",
       "152146  23888167        Sky Temple        1022.0      Illidan         10   \n",
       "152147  23888167        Sky Temple        1022.0        Li Li          7   \n",
       "152149  23888167        Sky Temple        1022.0       Diablo          7   \n",
       "152141  23888167        Sky Temple        1022.0   Brightwing          7   \n",
       "152142  23888167        Sky Temple        1022.0      Nazeebo          9   \n",
       "152143  23888167        Sky Temple        1022.0        Valla         10   \n",
       "152144  23888167        Sky Temple        1022.0     Sylvanas          8   \n",
       "152148  23888167        Sky Temple        1022.0    Anub'arak          6   \n",
       "\n",
       "       IsWinner  MMRbefore       Group Composition  Rating  \n",
       "14251      True     3341.0     Warrior      AASpSW  2936.0  \n",
       "14252      True     3008.0     Support      AASpSW  2936.0  \n",
       "14253      True     2850.0    Assassin      AASpSW  2936.0  \n",
       "14254      True     2835.0    Assassin      AASpSW  2936.0  \n",
       "14255      True     2648.0  Specialist      AASpSW  2936.0  \n",
       "14250     False     2336.0     Support      AASpSW  2191.0  \n",
       "14256     False     2311.0    Assassin      AASpSW  2191.0  \n",
       "14257     False     2971.0     Warrior      AASpSW  2191.0  \n",
       "14258     False      804.0  Specialist      AASpSW  2191.0  \n",
       "14259     False     2535.0    Assassin      AASpSW  2191.0  \n",
       "152140     True     2360.0    Assassin       AAASW  2436.0  \n",
       "152145     True     2260.0    Assassin       AAASW  2436.0  \n",
       "152146     True     2878.0    Assassin       AAASW  2436.0  \n",
       "152147     True     2137.0     Support       AAASW  2436.0  \n",
       "152149     True     2545.0     Warrior       AAASW  2436.0  \n",
       "152141    False     2425.0     Support     ASpSpSW  2280.0  \n",
       "152142    False     2195.0  Specialist     ASpSpSW  2280.0  \n",
       "152143    False     2433.0    Assassin     ASpSpSW  2280.0  \n",
       "152144    False     1842.0  Specialist     ASpSpSW  2280.0  \n",
       "152148    False     2505.0     Warrior     ASpSpSW  2280.0  "
      ]
     },
     "execution_count": 36,
     "metadata": {},
     "output_type": "execute_result"
    }
   ],
   "source": [
    "DataFrame.head(20)"
   ]
  },
  {
   "cell_type": "markdown",
   "metadata": {},
   "source": [
    "Finally, we remove duplicated entries so we are left with 2 rows for each game; one for the winning team, and one for the losing team.\n",
    "\n",
    "These records will also indicate the composition played by the team and the average player rating."
   ]
  },
  {
   "cell_type": "code",
   "execution_count": 37,
   "metadata": {
    "collapsed": false
   },
   "outputs": [],
   "source": [
    "# Create a new dataframe that is to be modified to contain only a single record per team (i.e. 2 entries per game)\n",
    "DF_Teams = DataFrame[[\"ReplayID\", \"Map\", \"ReplayLength\", \"IsWinner\", \"Composition\", \"Rating\"]]"
   ]
  },
  {
   "cell_type": "code",
   "execution_count": 38,
   "metadata": {
    "collapsed": false
   },
   "outputs": [
    {
     "name": "stderr",
     "output_type": "stream",
     "text": [
      "C:\\Users\\brendan\\Anaconda3\\lib\\site-packages\\pandas\\util\\decorators.py:91: SettingWithCopyWarning: \n",
      "A value is trying to be set on a copy of a slice from a DataFrame\n",
      "\n",
      "See the caveats in the documentation: http://pandas.pydata.org/pandas-docs/stable/indexing.html#indexing-view-versus-copy\n",
      "  return func(*args, **kwargs)\n"
     ]
    },
    {
     "data": {
      "text/html": [
       "<div>\n",
       "<table border=\"1\" class=\"dataframe\">\n",
       "  <thead>\n",
       "    <tr style=\"text-align: right;\">\n",
       "      <th></th>\n",
       "      <th>ReplayID</th>\n",
       "      <th>Map</th>\n",
       "      <th>ReplayLength</th>\n",
       "      <th>IsWinner</th>\n",
       "      <th>Composition</th>\n",
       "      <th>Rating</th>\n",
       "    </tr>\n",
       "  </thead>\n",
       "  <tbody>\n",
       "    <tr>\n",
       "      <th>14251</th>\n",
       "      <td>23812009</td>\n",
       "      <td>Garden of Terror</td>\n",
       "      <td>814.0</td>\n",
       "      <td>True</td>\n",
       "      <td>AASpSW</td>\n",
       "      <td>2936.0</td>\n",
       "    </tr>\n",
       "    <tr>\n",
       "      <th>14250</th>\n",
       "      <td>23812009</td>\n",
       "      <td>Garden of Terror</td>\n",
       "      <td>814.0</td>\n",
       "      <td>False</td>\n",
       "      <td>AASpSW</td>\n",
       "      <td>2191.0</td>\n",
       "    </tr>\n",
       "    <tr>\n",
       "      <th>152140</th>\n",
       "      <td>23888167</td>\n",
       "      <td>Sky Temple</td>\n",
       "      <td>1022.0</td>\n",
       "      <td>True</td>\n",
       "      <td>AAASW</td>\n",
       "      <td>2436.0</td>\n",
       "    </tr>\n",
       "    <tr>\n",
       "      <th>152141</th>\n",
       "      <td>23888167</td>\n",
       "      <td>Sky Temple</td>\n",
       "      <td>1022.0</td>\n",
       "      <td>False</td>\n",
       "      <td>ASpSpSW</td>\n",
       "      <td>2280.0</td>\n",
       "    </tr>\n",
       "    <tr>\n",
       "      <th>174490</th>\n",
       "      <td>23908266</td>\n",
       "      <td>Blackheart's Bay</td>\n",
       "      <td>1671.0</td>\n",
       "      <td>True</td>\n",
       "      <td>AASpSW</td>\n",
       "      <td>2283.0</td>\n",
       "    </tr>\n",
       "    <tr>\n",
       "      <th>174491</th>\n",
       "      <td>23908266</td>\n",
       "      <td>Blackheart's Bay</td>\n",
       "      <td>1671.0</td>\n",
       "      <td>False</td>\n",
       "      <td>AAAAW</td>\n",
       "      <td>2161.0</td>\n",
       "    </tr>\n",
       "    <tr>\n",
       "      <th>163500</th>\n",
       "      <td>23908285</td>\n",
       "      <td>Tomb of the Spider Queen</td>\n",
       "      <td>810.0</td>\n",
       "      <td>True</td>\n",
       "      <td>AASpSW</td>\n",
       "      <td>2349.0</td>\n",
       "    </tr>\n",
       "    <tr>\n",
       "      <th>163501</th>\n",
       "      <td>23908285</td>\n",
       "      <td>Tomb of the Spider Queen</td>\n",
       "      <td>810.0</td>\n",
       "      <td>False</td>\n",
       "      <td>AASpSW</td>\n",
       "      <td>2292.0</td>\n",
       "    </tr>\n",
       "    <tr>\n",
       "      <th>168691</th>\n",
       "      <td>23908290</td>\n",
       "      <td>Sky Temple</td>\n",
       "      <td>1359.0</td>\n",
       "      <td>True</td>\n",
       "      <td>AASpSW</td>\n",
       "      <td>2252.0</td>\n",
       "    </tr>\n",
       "    <tr>\n",
       "      <th>168690</th>\n",
       "      <td>23908290</td>\n",
       "      <td>Sky Temple</td>\n",
       "      <td>1359.0</td>\n",
       "      <td>False</td>\n",
       "      <td>AASpSW</td>\n",
       "      <td>2504.0</td>\n",
       "    </tr>\n",
       "    <tr>\n",
       "      <th>159910</th>\n",
       "      <td>23908301</td>\n",
       "      <td>Haunted Mines</td>\n",
       "      <td>786.0</td>\n",
       "      <td>True</td>\n",
       "      <td>ASpSpSW</td>\n",
       "      <td>2255.0</td>\n",
       "    </tr>\n",
       "    <tr>\n",
       "      <th>159912</th>\n",
       "      <td>23908301</td>\n",
       "      <td>Haunted Mines</td>\n",
       "      <td>786.0</td>\n",
       "      <td>False</td>\n",
       "      <td>AASSW</td>\n",
       "      <td>2352.0</td>\n",
       "    </tr>\n",
       "    <tr>\n",
       "      <th>2</th>\n",
       "      <td>23915730</td>\n",
       "      <td>Haunted Mines</td>\n",
       "      <td>720.0</td>\n",
       "      <td>True</td>\n",
       "      <td>AASpSW</td>\n",
       "      <td>3125.0</td>\n",
       "    </tr>\n",
       "    <tr>\n",
       "      <th>0</th>\n",
       "      <td>23915730</td>\n",
       "      <td>Haunted Mines</td>\n",
       "      <td>720.0</td>\n",
       "      <td>False</td>\n",
       "      <td>AASpSW</td>\n",
       "      <td>2610.0</td>\n",
       "    </tr>\n",
       "    <tr>\n",
       "      <th>10</th>\n",
       "      <td>23915740</td>\n",
       "      <td>Garden of Terror</td>\n",
       "      <td>1578.0</td>\n",
       "      <td>True</td>\n",
       "      <td>AASpSW</td>\n",
       "      <td>1686.0</td>\n",
       "    </tr>\n",
       "    <tr>\n",
       "      <th>11</th>\n",
       "      <td>23915740</td>\n",
       "      <td>Garden of Terror</td>\n",
       "      <td>1578.0</td>\n",
       "      <td>False</td>\n",
       "      <td>AAASW</td>\n",
       "      <td>1442.0</td>\n",
       "    </tr>\n",
       "    <tr>\n",
       "      <th>90</th>\n",
       "      <td>23915821</td>\n",
       "      <td>Blackheart's Bay</td>\n",
       "      <td>1460.0</td>\n",
       "      <td>True</td>\n",
       "      <td>ASpSpSW</td>\n",
       "      <td>1800.0</td>\n",
       "    </tr>\n",
       "    <tr>\n",
       "      <th>91</th>\n",
       "      <td>23915821</td>\n",
       "      <td>Blackheart's Bay</td>\n",
       "      <td>1460.0</td>\n",
       "      <td>False</td>\n",
       "      <td>ASpSSW</td>\n",
       "      <td>1804.0</td>\n",
       "    </tr>\n",
       "    <tr>\n",
       "      <th>31</th>\n",
       "      <td>23915858</td>\n",
       "      <td>Sky Temple</td>\n",
       "      <td>1352.0</td>\n",
       "      <td>True</td>\n",
       "      <td>AAASW</td>\n",
       "      <td>1815.0</td>\n",
       "    </tr>\n",
       "    <tr>\n",
       "      <th>30</th>\n",
       "      <td>23915858</td>\n",
       "      <td>Sky Temple</td>\n",
       "      <td>1352.0</td>\n",
       "      <td>False</td>\n",
       "      <td>ASpSSW</td>\n",
       "      <td>2143.0</td>\n",
       "    </tr>\n",
       "  </tbody>\n",
       "</table>\n",
       "</div>"
      ],
      "text/plain": [
       "        ReplayID                       Map  ReplayLength IsWinner Composition  \\\n",
       "14251   23812009          Garden of Terror         814.0     True      AASpSW   \n",
       "14250   23812009          Garden of Terror         814.0    False      AASpSW   \n",
       "152140  23888167                Sky Temple        1022.0     True       AAASW   \n",
       "152141  23888167                Sky Temple        1022.0    False     ASpSpSW   \n",
       "174490  23908266          Blackheart's Bay        1671.0     True      AASpSW   \n",
       "174491  23908266          Blackheart's Bay        1671.0    False       AAAAW   \n",
       "163500  23908285  Tomb of the Spider Queen         810.0     True      AASpSW   \n",
       "163501  23908285  Tomb of the Spider Queen         810.0    False      AASpSW   \n",
       "168691  23908290                Sky Temple        1359.0     True      AASpSW   \n",
       "168690  23908290                Sky Temple        1359.0    False      AASpSW   \n",
       "159910  23908301             Haunted Mines         786.0     True     ASpSpSW   \n",
       "159912  23908301             Haunted Mines         786.0    False       AASSW   \n",
       "2       23915730             Haunted Mines         720.0     True      AASpSW   \n",
       "0       23915730             Haunted Mines         720.0    False      AASpSW   \n",
       "10      23915740          Garden of Terror        1578.0     True      AASpSW   \n",
       "11      23915740          Garden of Terror        1578.0    False       AAASW   \n",
       "90      23915821          Blackheart's Bay        1460.0     True     ASpSpSW   \n",
       "91      23915821          Blackheart's Bay        1460.0    False      ASpSSW   \n",
       "31      23915858                Sky Temple        1352.0     True       AAASW   \n",
       "30      23915858                Sky Temple        1352.0    False      ASpSSW   \n",
       "\n",
       "        Rating  \n",
       "14251   2936.0  \n",
       "14250   2191.0  \n",
       "152140  2436.0  \n",
       "152141  2280.0  \n",
       "174490  2283.0  \n",
       "174491  2161.0  \n",
       "163500  2349.0  \n",
       "163501  2292.0  \n",
       "168691  2252.0  \n",
       "168690  2504.0  \n",
       "159910  2255.0  \n",
       "159912  2352.0  \n",
       "2       3125.0  \n",
       "0       2610.0  \n",
       "10      1686.0  \n",
       "11      1442.0  \n",
       "90      1800.0  \n",
       "91      1804.0  \n",
       "31      1815.0  \n",
       "30      2143.0  "
      ]
     },
     "execution_count": 38,
     "metadata": {},
     "output_type": "execute_result"
    }
   ],
   "source": [
    "# Perform drop on rows that do not have unqiue values for the pair \"ReplayID\" and \"IsWinner\"\n",
    "DF_Teams.drop_duplicates([\"ReplayID\", \"IsWinner\"], inplace=True)\n",
    "DF_Teams.head(20)"
   ]
  },
  {
   "cell_type": "code",
   "execution_count": 39,
   "metadata": {
    "collapsed": true
   },
   "outputs": [],
   "source": [
    "# Write this to a csv file to be read as needed\n",
    "DF_Teams.to_csv(\"Team_Info.csv\")"
   ]
  },
  {
   "cell_type": "code",
   "execution_count": 40,
   "metadata": {
    "collapsed": true
   },
   "outputs": [],
   "source": [
    "DF_Teams = pd.read_csv(\"Team_Info.csv\")"
   ]
  },
  {
   "cell_type": "markdown",
   "metadata": {},
   "source": [
    "## Modeling Data\n",
    "\n",
    "We now attempt to generate a model that can be used to predict the outcome of a game, given one team's composition and the average player rating on that team.\n",
    "\n",
    "Our goal is to determine whether any particular combinations of character classes confer an advantage during the game, making a victory more likely.\n",
    "\n",
    "From our initial analysis of the compositions in our dataset, we established 56 combinations of character classes that were played.\n",
    "\n",
    "We will create dummies for each of these, and use a \"1\" to indicate that that was the composition played by the team, and a \"0\" to indicate that it was not.\n",
    "\n",
    "This is needed to perform the logistic regression using scikitlearn, where categorical string values are not permitted."
   ]
  },
  {
   "cell_type": "code",
   "execution_count": 41,
   "metadata": {
    "collapsed": false
   },
   "outputs": [],
   "source": [
    "# Drop the Unnamed index column\n",
    "DF_Teams.drop(\"Unnamed: 0\", inplace=True, axis=1)\n",
    "\n",
    "# Create dummies for the Composition feature\n",
    "dummy_comps = pd.get_dummies(DF_Teams[\"Composition\"], prefix=\"COMP\")"
   ]
  },
  {
   "cell_type": "code",
   "execution_count": 42,
   "metadata": {
    "collapsed": false
   },
   "outputs": [
    {
     "data": {
      "text/plain": [
       "(339556, 58)"
      ]
     },
     "execution_count": 42,
     "metadata": {},
     "output_type": "execute_result"
    }
   ],
   "source": [
    "# Convert the True and False values of \"IsWinner\" to 1 or 0\n",
    "# This allows them to be used in the logisitic regression without error\n",
    "DF_Teams[\"IsWinner\"] = DF_Teams[\"IsWinner\"].astype(int)\n",
    "\n",
    "# Create a dataframe that is just the \"IsWinner\", \"Rating\", and dummy values\n",
    "model_df = pd.concat([DF_Teams[[\"IsWinner\", \"Rating\"]], dummy_comps], axis=1)\n",
    "model_df.shape"
   ]
  },
  {
   "cell_type": "code",
   "execution_count": 43,
   "metadata": {
    "collapsed": false
   },
   "outputs": [
    {
     "name": "stdout",
     "output_type": "stream",
     "text": [
      "Descriptive features:\n",
      "         Intercept  Rating  COMP_AAAAA  COMP_AAAAS  COMP_AAAASp  COMP_AAAAW  \\\n",
      "0             1.0  2936.0         0.0         0.0          0.0         0.0   \n",
      "1             1.0  2191.0         0.0         0.0          0.0         0.0   \n",
      "2             1.0  2436.0         0.0         0.0          0.0         0.0   \n",
      "3             1.0  2280.0         0.0         0.0          0.0         0.0   \n",
      "4             1.0  2283.0         0.0         0.0          0.0         0.0   \n",
      "5             1.0  2161.0         0.0         0.0          0.0         1.0   \n",
      "6             1.0  2349.0         0.0         0.0          0.0         0.0   \n",
      "7             1.0  2292.0         0.0         0.0          0.0         0.0   \n",
      "8             1.0  2252.0         0.0         0.0          0.0         0.0   \n",
      "9             1.0  2504.0         0.0         0.0          0.0         0.0   \n",
      "10            1.0  2255.0         0.0         0.0          0.0         0.0   \n",
      "11            1.0  2352.0         0.0         0.0          0.0         0.0   \n",
      "12            1.0  3125.0         0.0         0.0          0.0         0.0   \n",
      "13            1.0  2610.0         0.0         0.0          0.0         0.0   \n",
      "14            1.0  1686.0         0.0         0.0          0.0         0.0   \n",
      "15            1.0  1442.0         0.0         0.0          0.0         0.0   \n",
      "16            1.0  1800.0         0.0         0.0          0.0         0.0   \n",
      "17            1.0  1804.0         0.0         0.0          0.0         0.0   \n",
      "18            1.0  1815.0         0.0         0.0          0.0         0.0   \n",
      "19            1.0  2143.0         0.0         0.0          0.0         0.0   \n",
      "20            1.0  3122.0         0.0         0.0          0.0         0.0   \n",
      "21            1.0  3199.0         0.0         0.0          0.0         0.0   \n",
      "22            1.0  1616.0         0.0         0.0          0.0         0.0   \n",
      "23            1.0  1952.0         0.0         0.0          0.0         0.0   \n",
      "24            1.0  1476.0         0.0         0.0          0.0         0.0   \n",
      "25            1.0  1468.0         0.0         0.0          0.0         0.0   \n",
      "26            1.0  2292.0         0.0         0.0          0.0         0.0   \n",
      "27            1.0  2218.0         0.0         0.0          0.0         0.0   \n",
      "28            1.0  2830.0         0.0         0.0          0.0         0.0   \n",
      "29            1.0  2855.0         0.0         0.0          0.0         0.0   \n",
      "...           ...     ...         ...         ...          ...         ...   \n",
      "339526        1.0  3374.0         0.0         0.0          0.0         0.0   \n",
      "339527        1.0  3287.0         0.0         0.0          0.0         0.0   \n",
      "339528        1.0  2079.0         0.0         0.0          0.0         0.0   \n",
      "339529        1.0  2074.0         0.0         0.0          0.0         0.0   \n",
      "339530        1.0  2604.0         0.0         0.0          0.0         0.0   \n",
      "339531        1.0  2710.0         0.0         0.0          0.0         0.0   \n",
      "339532        1.0  2667.0         0.0         0.0          0.0         0.0   \n",
      "339533        1.0  2473.0         0.0         0.0          0.0         0.0   \n",
      "339534        1.0  1002.0         0.0         0.0          0.0         0.0   \n",
      "339535        1.0  1031.0         0.0         0.0          0.0         0.0   \n",
      "339536        1.0  2034.0         0.0         0.0          0.0         0.0   \n",
      "339537        1.0  1902.0         0.0         0.0          0.0         0.0   \n",
      "339538        1.0  2503.0         0.0         0.0          0.0         0.0   \n",
      "339539        1.0  2541.0         0.0         0.0          0.0         0.0   \n",
      "339540        1.0  2157.0         0.0         0.0          0.0         0.0   \n",
      "339541        1.0  1972.0         0.0         0.0          0.0         0.0   \n",
      "339542        1.0  1987.0         0.0         0.0          0.0         0.0   \n",
      "339543        1.0  2127.0         0.0         0.0          0.0         0.0   \n",
      "339544        1.0  2067.0         0.0         0.0          0.0         0.0   \n",
      "339545        1.0  2015.0         0.0         0.0          0.0         0.0   \n",
      "339546        1.0  1107.0         0.0         0.0          0.0         0.0   \n",
      "339547        1.0  1209.0         0.0         0.0          0.0         0.0   \n",
      "339548        1.0  2195.0         0.0         0.0          0.0         0.0   \n",
      "339549        1.0  2218.0         0.0         0.0          0.0         0.0   \n",
      "339550        1.0  2564.0         0.0         0.0          0.0         0.0   \n",
      "339551        1.0  2984.0         0.0         0.0          0.0         0.0   \n",
      "339552        1.0  1658.0         0.0         0.0          0.0         0.0   \n",
      "339553        1.0  1918.0         0.0         0.0          0.0         0.0   \n",
      "339554        1.0  1465.0         0.0         0.0          0.0         0.0   \n",
      "339555        1.0  1267.0         0.0         0.0          0.0         0.0   \n",
      "\n",
      "        COMP_AAASS  COMP_AAASW  COMP_AAASpS  COMP_AAASpSp     ...      \\\n",
      "0              0.0         0.0          0.0           0.0     ...       \n",
      "1              0.0         0.0          0.0           0.0     ...       \n",
      "2              0.0         1.0          0.0           0.0     ...       \n",
      "3              0.0         0.0          0.0           0.0     ...       \n",
      "4              0.0         0.0          0.0           0.0     ...       \n",
      "5              0.0         0.0          0.0           0.0     ...       \n",
      "6              0.0         0.0          0.0           0.0     ...       \n",
      "7              0.0         0.0          0.0           0.0     ...       \n",
      "8              0.0         0.0          0.0           0.0     ...       \n",
      "9              0.0         0.0          0.0           0.0     ...       \n",
      "10             0.0         0.0          0.0           0.0     ...       \n",
      "11             0.0         0.0          0.0           0.0     ...       \n",
      "12             0.0         0.0          0.0           0.0     ...       \n",
      "13             0.0         0.0          0.0           0.0     ...       \n",
      "14             0.0         0.0          0.0           0.0     ...       \n",
      "15             0.0         1.0          0.0           0.0     ...       \n",
      "16             0.0         0.0          0.0           0.0     ...       \n",
      "17             0.0         0.0          0.0           0.0     ...       \n",
      "18             0.0         1.0          0.0           0.0     ...       \n",
      "19             0.0         0.0          0.0           0.0     ...       \n",
      "20             0.0         0.0          0.0           0.0     ...       \n",
      "21             0.0         1.0          0.0           0.0     ...       \n",
      "22             0.0         0.0          0.0           0.0     ...       \n",
      "23             0.0         0.0          0.0           0.0     ...       \n",
      "24             0.0         0.0          0.0           0.0     ...       \n",
      "25             0.0         0.0          0.0           0.0     ...       \n",
      "26             0.0         1.0          0.0           0.0     ...       \n",
      "27             0.0         0.0          0.0           0.0     ...       \n",
      "28             0.0         0.0          0.0           0.0     ...       \n",
      "29             0.0         0.0          0.0           0.0     ...       \n",
      "...            ...         ...          ...           ...     ...       \n",
      "339526         0.0         0.0          0.0           0.0     ...       \n",
      "339527         0.0         0.0          0.0           0.0     ...       \n",
      "339528         0.0         0.0          0.0           0.0     ...       \n",
      "339529         0.0         0.0          0.0           0.0     ...       \n",
      "339530         0.0         1.0          0.0           0.0     ...       \n",
      "339531         0.0         0.0          0.0           0.0     ...       \n",
      "339532         0.0         0.0          0.0           0.0     ...       \n",
      "339533         0.0         0.0          0.0           0.0     ...       \n",
      "339534         0.0         0.0          0.0           0.0     ...       \n",
      "339535         0.0         0.0          0.0           0.0     ...       \n",
      "339536         0.0         0.0          0.0           0.0     ...       \n",
      "339537         0.0         0.0          0.0           0.0     ...       \n",
      "339538         0.0         0.0          0.0           0.0     ...       \n",
      "339539         0.0         1.0          0.0           0.0     ...       \n",
      "339540         0.0         1.0          0.0           0.0     ...       \n",
      "339541         0.0         0.0          0.0           0.0     ...       \n",
      "339542         0.0         0.0          0.0           0.0     ...       \n",
      "339543         0.0         0.0          0.0           0.0     ...       \n",
      "339544         0.0         1.0          0.0           0.0     ...       \n",
      "339545         0.0         0.0          0.0           0.0     ...       \n",
      "339546         0.0         0.0          0.0           0.0     ...       \n",
      "339547         0.0         1.0          0.0           0.0     ...       \n",
      "339548         0.0         0.0          0.0           0.0     ...       \n",
      "339549         0.0         0.0          0.0           0.0     ...       \n",
      "339550         0.0         0.0          0.0           0.0     ...       \n",
      "339551         0.0         1.0          0.0           0.0     ...       \n",
      "339552         0.0         0.0          0.0           0.0     ...       \n",
      "339553         0.0         0.0          0.0           0.0     ...       \n",
      "339554         0.0         0.0          0.0           0.0     ...       \n",
      "339555         0.0         1.0          0.0           0.0     ...       \n",
      "\n",
      "        COMP_SpSpSWW  COMP_SpSpSpSS  COMP_SpSpSpSW  COMP_SpSpSpSpS  \\\n",
      "0                0.0            0.0            0.0             0.0   \n",
      "1                0.0            0.0            0.0             0.0   \n",
      "2                0.0            0.0            0.0             0.0   \n",
      "3                0.0            0.0            0.0             0.0   \n",
      "4                0.0            0.0            0.0             0.0   \n",
      "5                0.0            0.0            0.0             0.0   \n",
      "6                0.0            0.0            0.0             0.0   \n",
      "7                0.0            0.0            0.0             0.0   \n",
      "8                0.0            0.0            0.0             0.0   \n",
      "9                0.0            0.0            0.0             0.0   \n",
      "10               0.0            0.0            0.0             0.0   \n",
      "11               0.0            0.0            0.0             0.0   \n",
      "12               0.0            0.0            0.0             0.0   \n",
      "13               0.0            0.0            0.0             0.0   \n",
      "14               0.0            0.0            0.0             0.0   \n",
      "15               0.0            0.0            0.0             0.0   \n",
      "16               0.0            0.0            0.0             0.0   \n",
      "17               0.0            0.0            0.0             0.0   \n",
      "18               0.0            0.0            0.0             0.0   \n",
      "19               0.0            0.0            0.0             0.0   \n",
      "20               0.0            0.0            0.0             0.0   \n",
      "21               0.0            0.0            0.0             0.0   \n",
      "22               0.0            0.0            0.0             0.0   \n",
      "23               0.0            0.0            0.0             0.0   \n",
      "24               0.0            0.0            0.0             0.0   \n",
      "25               0.0            0.0            0.0             0.0   \n",
      "26               0.0            0.0            0.0             0.0   \n",
      "27               0.0            0.0            0.0             0.0   \n",
      "28               0.0            0.0            0.0             0.0   \n",
      "29               0.0            0.0            0.0             0.0   \n",
      "...              ...            ...            ...             ...   \n",
      "339526           0.0            0.0            0.0             0.0   \n",
      "339527           0.0            0.0            0.0             0.0   \n",
      "339528           0.0            0.0            0.0             0.0   \n",
      "339529           0.0            0.0            0.0             0.0   \n",
      "339530           0.0            0.0            0.0             0.0   \n",
      "339531           0.0            0.0            0.0             0.0   \n",
      "339532           0.0            0.0            0.0             0.0   \n",
      "339533           0.0            0.0            0.0             0.0   \n",
      "339534           0.0            0.0            0.0             0.0   \n",
      "339535           0.0            0.0            0.0             0.0   \n",
      "339536           0.0            0.0            0.0             0.0   \n",
      "339537           0.0            0.0            0.0             0.0   \n",
      "339538           0.0            0.0            0.0             0.0   \n",
      "339539           0.0            0.0            0.0             0.0   \n",
      "339540           0.0            0.0            0.0             0.0   \n",
      "339541           0.0            0.0            0.0             0.0   \n",
      "339542           0.0            0.0            0.0             0.0   \n",
      "339543           0.0            0.0            0.0             0.0   \n",
      "339544           0.0            0.0            0.0             0.0   \n",
      "339545           0.0            0.0            0.0             0.0   \n",
      "339546           0.0            0.0            0.0             0.0   \n",
      "339547           0.0            0.0            0.0             0.0   \n",
      "339548           0.0            0.0            0.0             0.0   \n",
      "339549           0.0            0.0            0.0             0.0   \n",
      "339550           0.0            0.0            0.0             0.0   \n",
      "339551           0.0            0.0            0.0             0.0   \n",
      "339552           0.0            0.0            0.0             0.0   \n",
      "339553           0.0            0.0            0.0             0.0   \n",
      "339554           0.0            0.0            0.0             0.0   \n",
      "339555           0.0            0.0            0.0             0.0   \n",
      "\n",
      "        COMP_SpSpSpSpSp  COMP_SpSpSpSpW  COMP_SpSpSpWW  COMP_SpSpWWW  \\\n",
      "0                   0.0             0.0            0.0           0.0   \n",
      "1                   0.0             0.0            0.0           0.0   \n",
      "2                   0.0             0.0            0.0           0.0   \n",
      "3                   0.0             0.0            0.0           0.0   \n",
      "4                   0.0             0.0            0.0           0.0   \n",
      "5                   0.0             0.0            0.0           0.0   \n",
      "6                   0.0             0.0            0.0           0.0   \n",
      "7                   0.0             0.0            0.0           0.0   \n",
      "8                   0.0             0.0            0.0           0.0   \n",
      "9                   0.0             0.0            0.0           0.0   \n",
      "10                  0.0             0.0            0.0           0.0   \n",
      "11                  0.0             0.0            0.0           0.0   \n",
      "12                  0.0             0.0            0.0           0.0   \n",
      "13                  0.0             0.0            0.0           0.0   \n",
      "14                  0.0             0.0            0.0           0.0   \n",
      "15                  0.0             0.0            0.0           0.0   \n",
      "16                  0.0             0.0            0.0           0.0   \n",
      "17                  0.0             0.0            0.0           0.0   \n",
      "18                  0.0             0.0            0.0           0.0   \n",
      "19                  0.0             0.0            0.0           0.0   \n",
      "20                  0.0             0.0            0.0           0.0   \n",
      "21                  0.0             0.0            0.0           0.0   \n",
      "22                  0.0             0.0            0.0           0.0   \n",
      "23                  0.0             0.0            0.0           0.0   \n",
      "24                  0.0             0.0            0.0           0.0   \n",
      "25                  0.0             0.0            0.0           0.0   \n",
      "26                  0.0             0.0            0.0           0.0   \n",
      "27                  0.0             0.0            0.0           0.0   \n",
      "28                  0.0             0.0            0.0           0.0   \n",
      "29                  0.0             0.0            0.0           0.0   \n",
      "...                 ...             ...            ...           ...   \n",
      "339526              0.0             0.0            0.0           0.0   \n",
      "339527              0.0             0.0            0.0           0.0   \n",
      "339528              0.0             0.0            0.0           0.0   \n",
      "339529              0.0             0.0            0.0           0.0   \n",
      "339530              0.0             0.0            0.0           0.0   \n",
      "339531              0.0             0.0            0.0           0.0   \n",
      "339532              0.0             0.0            0.0           0.0   \n",
      "339533              0.0             0.0            0.0           0.0   \n",
      "339534              0.0             0.0            0.0           0.0   \n",
      "339535              0.0             0.0            0.0           0.0   \n",
      "339536              0.0             0.0            0.0           0.0   \n",
      "339537              0.0             0.0            0.0           0.0   \n",
      "339538              0.0             0.0            0.0           0.0   \n",
      "339539              0.0             0.0            0.0           0.0   \n",
      "339540              0.0             0.0            0.0           0.0   \n",
      "339541              0.0             0.0            0.0           0.0   \n",
      "339542              0.0             0.0            0.0           0.0   \n",
      "339543              0.0             0.0            0.0           0.0   \n",
      "339544              0.0             0.0            0.0           0.0   \n",
      "339545              0.0             0.0            0.0           0.0   \n",
      "339546              0.0             0.0            0.0           0.0   \n",
      "339547              0.0             0.0            0.0           0.0   \n",
      "339548              0.0             0.0            0.0           0.0   \n",
      "339549              0.0             0.0            0.0           0.0   \n",
      "339550              0.0             0.0            0.0           0.0   \n",
      "339551              0.0             0.0            0.0           0.0   \n",
      "339552              0.0             0.0            0.0           0.0   \n",
      "339553              0.0             0.0            0.0           0.0   \n",
      "339554              0.0             0.0            0.0           0.0   \n",
      "339555              0.0             0.0            0.0           0.0   \n",
      "\n",
      "        COMP_SpWWWW  COMP_WWWWW  \n",
      "0               0.0         0.0  \n",
      "1               0.0         0.0  \n",
      "2               0.0         0.0  \n",
      "3               0.0         0.0  \n",
      "4               0.0         0.0  \n",
      "5               0.0         0.0  \n",
      "6               0.0         0.0  \n",
      "7               0.0         0.0  \n",
      "8               0.0         0.0  \n",
      "9               0.0         0.0  \n",
      "10              0.0         0.0  \n",
      "11              0.0         0.0  \n",
      "12              0.0         0.0  \n",
      "13              0.0         0.0  \n",
      "14              0.0         0.0  \n",
      "15              0.0         0.0  \n",
      "16              0.0         0.0  \n",
      "17              0.0         0.0  \n",
      "18              0.0         0.0  \n",
      "19              0.0         0.0  \n",
      "20              0.0         0.0  \n",
      "21              0.0         0.0  \n",
      "22              0.0         0.0  \n",
      "23              0.0         0.0  \n",
      "24              0.0         0.0  \n",
      "25              0.0         0.0  \n",
      "26              0.0         0.0  \n",
      "27              0.0         0.0  \n",
      "28              0.0         0.0  \n",
      "29              0.0         0.0  \n",
      "...             ...         ...  \n",
      "339526          0.0         0.0  \n",
      "339527          0.0         0.0  \n",
      "339528          0.0         0.0  \n",
      "339529          0.0         0.0  \n",
      "339530          0.0         0.0  \n",
      "339531          0.0         0.0  \n",
      "339532          0.0         0.0  \n",
      "339533          0.0         0.0  \n",
      "339534          0.0         0.0  \n",
      "339535          0.0         0.0  \n",
      "339536          0.0         0.0  \n",
      "339537          0.0         0.0  \n",
      "339538          0.0         0.0  \n",
      "339539          0.0         0.0  \n",
      "339540          0.0         0.0  \n",
      "339541          0.0         0.0  \n",
      "339542          0.0         0.0  \n",
      "339543          0.0         0.0  \n",
      "339544          0.0         0.0  \n",
      "339545          0.0         0.0  \n",
      "339546          0.0         0.0  \n",
      "339547          0.0         0.0  \n",
      "339548          0.0         0.0  \n",
      "339549          0.0         0.0  \n",
      "339550          0.0         0.0  \n",
      "339551          0.0         0.0  \n",
      "339552          0.0         0.0  \n",
      "339553          0.0         0.0  \n",
      "339554          0.0         0.0  \n",
      "339555          0.0         0.0  \n",
      "\n",
      "[339556 rows x 58 columns]\n",
      "\n",
      "Target feature:\n",
      " 0         1\n",
      "1         0\n",
      "2         1\n",
      "3         0\n",
      "4         1\n",
      "5         0\n",
      "6         1\n",
      "7         0\n",
      "8         1\n",
      "9         0\n",
      "10        1\n",
      "11        0\n",
      "12        1\n",
      "13        0\n",
      "14        1\n",
      "15        0\n",
      "16        1\n",
      "17        0\n",
      "18        1\n",
      "19        0\n",
      "20        1\n",
      "21        0\n",
      "22        1\n",
      "23        0\n",
      "24        1\n",
      "25        0\n",
      "26        1\n",
      "27        0\n",
      "28        1\n",
      "29        0\n",
      "         ..\n",
      "339526    1\n",
      "339527    0\n",
      "339528    1\n",
      "339529    0\n",
      "339530    1\n",
      "339531    0\n",
      "339532    1\n",
      "339533    0\n",
      "339534    1\n",
      "339535    0\n",
      "339536    1\n",
      "339537    0\n",
      "339538    1\n",
      "339539    0\n",
      "339540    1\n",
      "339541    0\n",
      "339542    1\n",
      "339543    0\n",
      "339544    1\n",
      "339545    0\n",
      "339546    1\n",
      "339547    0\n",
      "339548    1\n",
      "339549    0\n",
      "339550    1\n",
      "339551    0\n",
      "339552    1\n",
      "339553    0\n",
      "339554    1\n",
      "339555    0\n",
      "Name: IsWinner, dtype: int32\n"
     ]
    }
   ],
   "source": [
    "# Set up intercept column\n",
    "intercept = pd.DataFrame({'Intercept': np.ones(len(DF_Teams))})\n",
    "\n",
    "# For our X matrix, we want all of the dummy columns for Composition, the Rating, and the Intercept\n",
    "X = pd.concat([intercept, model_df.drop(\"IsWinner\", axis=1)], axis=1)\n",
    "\n",
    "# For our y vector, we just want the \"IsWinner\" feature (target feature)\n",
    "y = model_df.IsWinner\n",
    "print(\"Descriptive features:\\n\", X)\n",
    "print(\"\\nTarget feature:\\n\", y)"
   ]
  },
  {
   "cell_type": "code",
   "execution_count": 44,
   "metadata": {
    "collapsed": false
   },
   "outputs": [
    {
     "name": "stdout",
     "output_type": "stream",
     "text": [
      "Coefficients: \n",
      " [[ -1.42680516e-01   1.33561116e-04]]\n"
     ]
    }
   ],
   "source": [
    "# Train our model using just the \"Rating\" feature\n",
    "model = LogisticRegression().fit(X[[\"Intercept\", \"Rating\"]], y)\n",
    "print(\"Coefficients: \\n\", model.coef_)"
   ]
  },
  {
   "cell_type": "code",
   "execution_count": 45,
   "metadata": {
    "collapsed": false
   },
   "outputs": [
    {
     "data": {
      "text/plain": [
       "array([[ 0.47333173,  0.52666827],\n",
       "       [ 0.49818216,  0.50181784],\n",
       "       [ 0.49000287,  0.50999713],\n",
       "       ..., \n",
       "       [ 0.50729718,  0.49270282],\n",
       "       [ 0.52240848,  0.47759152],\n",
       "       [ 0.52900218,  0.47099782]])"
      ]
     },
     "execution_count": 45,
     "metadata": {},
     "output_type": "execute_result"
    }
   ],
   "source": [
    "# Get the probabilities that, given a particular team rating, the result will be a win or a loss\n",
    "model.predict_proba(X[[\"Intercept\", \"Rating\"]])"
   ]
  },
  {
   "cell_type": "code",
   "execution_count": 46,
   "metadata": {
    "collapsed": false
   },
   "outputs": [
    {
     "name": "stdout",
     "output_type": "stream",
     "text": [
      "Predictions:  [1 1 1 ..., 0 0 0]\n"
     ]
    }
   ],
   "source": [
    "# Based on this model, attempt to correctly predict the \"IsWinner\" feature based on in-sample data\n",
    "predictions = model.predict(X[[\"Intercept\", \"Rating\"]])\n",
    "print(\"Predictions: \", predictions)"
   ]
  },
  {
   "cell_type": "code",
   "execution_count": 47,
   "metadata": {
    "collapsed": false
   },
   "outputs": [
    {
     "data": {
      "text/plain": [
       "0.51437759898220026"
      ]
     },
     "execution_count": 47,
     "metadata": {},
     "output_type": "execute_result"
    }
   ],
   "source": [
    "# Get the score, indicating the percentage of times that our model correctly predits the outcome\n",
    "model.score(X[[\"Intercept\", \"Rating\"]], y)"
   ]
  },
  {
   "cell_type": "code",
   "execution_count": 48,
   "metadata": {
    "collapsed": false
   },
   "outputs": [
    {
     "name": "stdout",
     "output_type": "stream",
     "text": [
      "Accuracy:  0.514377598982\n",
      "Confusion matrix: \n",
      " [[91928 77850]\n",
      " [87046 82732]]\n",
      "Classification report:\n",
      "               precision    recall  f1-score   support\n",
      "\n",
      "          0       0.51      0.54      0.53    169778\n",
      "          1       0.52      0.49      0.50    169778\n",
      "\n",
      "avg / total       0.51      0.51      0.51    339556\n",
      "\n"
     ]
    }
   ],
   "source": [
    "# Get more detailed information\n",
    "print(\"Accuracy: \", metrics.accuracy_score(y, predictions))\n",
    "print(\"Confusion matrix: \\n\", metrics.confusion_matrix(y, predictions))\n",
    "print(\"Classification report:\\n \", metrics.classification_report(y, predictions))"
   ]
  },
  {
   "cell_type": "markdown",
   "metadata": {},
   "source": [
    "## Normalise continuous feature \"Rating\"\n",
    "\n",
    "\"Rating\" is a continuous feature with no set range.\n",
    "\n",
    "Here we normalise it so that the lowest value is represented as -1 and the highest value is represented as +1\n",
    "\n",
    "Everything in between is adjusted accordingly."
   ]
  },
  {
   "cell_type": "code",
   "execution_count": 49,
   "metadata": {
    "collapsed": false
   },
   "outputs": [
    {
     "data": {
      "text/plain": [
       "0    0.354822\n",
       "1   -0.029397\n",
       "2    0.096957\n",
       "3    0.016503\n",
       "4    0.018051\n",
       "Name: Rating, dtype: float64"
      ]
     },
     "execution_count": 49,
     "metadata": {},
     "output_type": "execute_result"
    }
   ],
   "source": [
    "# Create a dataframe for just the continuous descriptive features that we are interested in -> \"Rating\"\n",
    "df_cont = model_df[\"Rating\"]\n",
    "df_norm = (df_cont - df_cont.min()) / (df_cont.max() - df_cont.min())\n",
    "df_norm = df_norm * 2 - 1\n",
    "df_norm.head()"
   ]
  },
  {
   "cell_type": "code",
   "execution_count": 50,
   "metadata": {
    "collapsed": false
   },
   "outputs": [
    {
     "data": {
      "text/html": [
       "<div>\n",
       "<table border=\"1\" class=\"dataframe\">\n",
       "  <thead>\n",
       "    <tr style=\"text-align: right;\">\n",
       "      <th></th>\n",
       "      <th>Intercept</th>\n",
       "      <th>Rating</th>\n",
       "      <th>IsWinner</th>\n",
       "      <th>COMP_AAAAA</th>\n",
       "      <th>COMP_AAAAS</th>\n",
       "      <th>COMP_AAAASp</th>\n",
       "      <th>COMP_AAAAW</th>\n",
       "      <th>COMP_AAASS</th>\n",
       "      <th>COMP_AAASW</th>\n",
       "      <th>COMP_AAASpS</th>\n",
       "      <th>...</th>\n",
       "      <th>COMP_SpSpSWW</th>\n",
       "      <th>COMP_SpSpSpSS</th>\n",
       "      <th>COMP_SpSpSpSW</th>\n",
       "      <th>COMP_SpSpSpSpS</th>\n",
       "      <th>COMP_SpSpSpSpSp</th>\n",
       "      <th>COMP_SpSpSpSpW</th>\n",
       "      <th>COMP_SpSpSpWW</th>\n",
       "      <th>COMP_SpSpWWW</th>\n",
       "      <th>COMP_SpWWWW</th>\n",
       "      <th>COMP_WWWWW</th>\n",
       "    </tr>\n",
       "  </thead>\n",
       "  <tbody>\n",
       "    <tr>\n",
       "      <th>0</th>\n",
       "      <td>1.0</td>\n",
       "      <td>0.354822</td>\n",
       "      <td>1</td>\n",
       "      <td>0.0</td>\n",
       "      <td>0.0</td>\n",
       "      <td>0.0</td>\n",
       "      <td>0.0</td>\n",
       "      <td>0.0</td>\n",
       "      <td>0.0</td>\n",
       "      <td>0.0</td>\n",
       "      <td>...</td>\n",
       "      <td>0.0</td>\n",
       "      <td>0.0</td>\n",
       "      <td>0.0</td>\n",
       "      <td>0.0</td>\n",
       "      <td>0.0</td>\n",
       "      <td>0.0</td>\n",
       "      <td>0.0</td>\n",
       "      <td>0.0</td>\n",
       "      <td>0.0</td>\n",
       "      <td>0.0</td>\n",
       "    </tr>\n",
       "    <tr>\n",
       "      <th>1</th>\n",
       "      <td>1.0</td>\n",
       "      <td>-0.029397</td>\n",
       "      <td>0</td>\n",
       "      <td>0.0</td>\n",
       "      <td>0.0</td>\n",
       "      <td>0.0</td>\n",
       "      <td>0.0</td>\n",
       "      <td>0.0</td>\n",
       "      <td>0.0</td>\n",
       "      <td>0.0</td>\n",
       "      <td>...</td>\n",
       "      <td>0.0</td>\n",
       "      <td>0.0</td>\n",
       "      <td>0.0</td>\n",
       "      <td>0.0</td>\n",
       "      <td>0.0</td>\n",
       "      <td>0.0</td>\n",
       "      <td>0.0</td>\n",
       "      <td>0.0</td>\n",
       "      <td>0.0</td>\n",
       "      <td>0.0</td>\n",
       "    </tr>\n",
       "    <tr>\n",
       "      <th>2</th>\n",
       "      <td>1.0</td>\n",
       "      <td>0.096957</td>\n",
       "      <td>1</td>\n",
       "      <td>0.0</td>\n",
       "      <td>0.0</td>\n",
       "      <td>0.0</td>\n",
       "      <td>0.0</td>\n",
       "      <td>0.0</td>\n",
       "      <td>1.0</td>\n",
       "      <td>0.0</td>\n",
       "      <td>...</td>\n",
       "      <td>0.0</td>\n",
       "      <td>0.0</td>\n",
       "      <td>0.0</td>\n",
       "      <td>0.0</td>\n",
       "      <td>0.0</td>\n",
       "      <td>0.0</td>\n",
       "      <td>0.0</td>\n",
       "      <td>0.0</td>\n",
       "      <td>0.0</td>\n",
       "      <td>0.0</td>\n",
       "    </tr>\n",
       "    <tr>\n",
       "      <th>3</th>\n",
       "      <td>1.0</td>\n",
       "      <td>0.016503</td>\n",
       "      <td>0</td>\n",
       "      <td>0.0</td>\n",
       "      <td>0.0</td>\n",
       "      <td>0.0</td>\n",
       "      <td>0.0</td>\n",
       "      <td>0.0</td>\n",
       "      <td>0.0</td>\n",
       "      <td>0.0</td>\n",
       "      <td>...</td>\n",
       "      <td>0.0</td>\n",
       "      <td>0.0</td>\n",
       "      <td>0.0</td>\n",
       "      <td>0.0</td>\n",
       "      <td>0.0</td>\n",
       "      <td>0.0</td>\n",
       "      <td>0.0</td>\n",
       "      <td>0.0</td>\n",
       "      <td>0.0</td>\n",
       "      <td>0.0</td>\n",
       "    </tr>\n",
       "    <tr>\n",
       "      <th>4</th>\n",
       "      <td>1.0</td>\n",
       "      <td>0.018051</td>\n",
       "      <td>1</td>\n",
       "      <td>0.0</td>\n",
       "      <td>0.0</td>\n",
       "      <td>0.0</td>\n",
       "      <td>0.0</td>\n",
       "      <td>0.0</td>\n",
       "      <td>0.0</td>\n",
       "      <td>0.0</td>\n",
       "      <td>...</td>\n",
       "      <td>0.0</td>\n",
       "      <td>0.0</td>\n",
       "      <td>0.0</td>\n",
       "      <td>0.0</td>\n",
       "      <td>0.0</td>\n",
       "      <td>0.0</td>\n",
       "      <td>0.0</td>\n",
       "      <td>0.0</td>\n",
       "      <td>0.0</td>\n",
       "      <td>0.0</td>\n",
       "    </tr>\n",
       "    <tr>\n",
       "      <th>5</th>\n",
       "      <td>1.0</td>\n",
       "      <td>-0.044868</td>\n",
       "      <td>0</td>\n",
       "      <td>0.0</td>\n",
       "      <td>0.0</td>\n",
       "      <td>0.0</td>\n",
       "      <td>1.0</td>\n",
       "      <td>0.0</td>\n",
       "      <td>0.0</td>\n",
       "      <td>0.0</td>\n",
       "      <td>...</td>\n",
       "      <td>0.0</td>\n",
       "      <td>0.0</td>\n",
       "      <td>0.0</td>\n",
       "      <td>0.0</td>\n",
       "      <td>0.0</td>\n",
       "      <td>0.0</td>\n",
       "      <td>0.0</td>\n",
       "      <td>0.0</td>\n",
       "      <td>0.0</td>\n",
       "      <td>0.0</td>\n",
       "    </tr>\n",
       "    <tr>\n",
       "      <th>6</th>\n",
       "      <td>1.0</td>\n",
       "      <td>0.052089</td>\n",
       "      <td>1</td>\n",
       "      <td>0.0</td>\n",
       "      <td>0.0</td>\n",
       "      <td>0.0</td>\n",
       "      <td>0.0</td>\n",
       "      <td>0.0</td>\n",
       "      <td>0.0</td>\n",
       "      <td>0.0</td>\n",
       "      <td>...</td>\n",
       "      <td>0.0</td>\n",
       "      <td>0.0</td>\n",
       "      <td>0.0</td>\n",
       "      <td>0.0</td>\n",
       "      <td>0.0</td>\n",
       "      <td>0.0</td>\n",
       "      <td>0.0</td>\n",
       "      <td>0.0</td>\n",
       "      <td>0.0</td>\n",
       "      <td>0.0</td>\n",
       "    </tr>\n",
       "    <tr>\n",
       "      <th>7</th>\n",
       "      <td>1.0</td>\n",
       "      <td>0.022692</td>\n",
       "      <td>0</td>\n",
       "      <td>0.0</td>\n",
       "      <td>0.0</td>\n",
       "      <td>0.0</td>\n",
       "      <td>0.0</td>\n",
       "      <td>0.0</td>\n",
       "      <td>0.0</td>\n",
       "      <td>0.0</td>\n",
       "      <td>...</td>\n",
       "      <td>0.0</td>\n",
       "      <td>0.0</td>\n",
       "      <td>0.0</td>\n",
       "      <td>0.0</td>\n",
       "      <td>0.0</td>\n",
       "      <td>0.0</td>\n",
       "      <td>0.0</td>\n",
       "      <td>0.0</td>\n",
       "      <td>0.0</td>\n",
       "      <td>0.0</td>\n",
       "    </tr>\n",
       "    <tr>\n",
       "      <th>8</th>\n",
       "      <td>1.0</td>\n",
       "      <td>0.002063</td>\n",
       "      <td>1</td>\n",
       "      <td>0.0</td>\n",
       "      <td>0.0</td>\n",
       "      <td>0.0</td>\n",
       "      <td>0.0</td>\n",
       "      <td>0.0</td>\n",
       "      <td>0.0</td>\n",
       "      <td>0.0</td>\n",
       "      <td>...</td>\n",
       "      <td>0.0</td>\n",
       "      <td>0.0</td>\n",
       "      <td>0.0</td>\n",
       "      <td>0.0</td>\n",
       "      <td>0.0</td>\n",
       "      <td>0.0</td>\n",
       "      <td>0.0</td>\n",
       "      <td>0.0</td>\n",
       "      <td>0.0</td>\n",
       "      <td>0.0</td>\n",
       "    </tr>\n",
       "    <tr>\n",
       "      <th>9</th>\n",
       "      <td>1.0</td>\n",
       "      <td>0.132027</td>\n",
       "      <td>0</td>\n",
       "      <td>0.0</td>\n",
       "      <td>0.0</td>\n",
       "      <td>0.0</td>\n",
       "      <td>0.0</td>\n",
       "      <td>0.0</td>\n",
       "      <td>0.0</td>\n",
       "      <td>0.0</td>\n",
       "      <td>...</td>\n",
       "      <td>0.0</td>\n",
       "      <td>0.0</td>\n",
       "      <td>0.0</td>\n",
       "      <td>0.0</td>\n",
       "      <td>0.0</td>\n",
       "      <td>0.0</td>\n",
       "      <td>0.0</td>\n",
       "      <td>0.0</td>\n",
       "      <td>0.0</td>\n",
       "      <td>0.0</td>\n",
       "    </tr>\n",
       "  </tbody>\n",
       "</table>\n",
       "<p>10 rows × 59 columns</p>\n",
       "</div>"
      ],
      "text/plain": [
       "   Intercept    Rating  IsWinner  COMP_AAAAA  COMP_AAAAS  COMP_AAAASp  \\\n",
       "0        1.0  0.354822         1         0.0         0.0          0.0   \n",
       "1        1.0 -0.029397         0         0.0         0.0          0.0   \n",
       "2        1.0  0.096957         1         0.0         0.0          0.0   \n",
       "3        1.0  0.016503         0         0.0         0.0          0.0   \n",
       "4        1.0  0.018051         1         0.0         0.0          0.0   \n",
       "5        1.0 -0.044868         0         0.0         0.0          0.0   \n",
       "6        1.0  0.052089         1         0.0         0.0          0.0   \n",
       "7        1.0  0.022692         0         0.0         0.0          0.0   \n",
       "8        1.0  0.002063         1         0.0         0.0          0.0   \n",
       "9        1.0  0.132027         0         0.0         0.0          0.0   \n",
       "\n",
       "   COMP_AAAAW  COMP_AAASS  COMP_AAASW  COMP_AAASpS     ...      COMP_SpSpSWW  \\\n",
       "0         0.0         0.0         0.0          0.0     ...               0.0   \n",
       "1         0.0         0.0         0.0          0.0     ...               0.0   \n",
       "2         0.0         0.0         1.0          0.0     ...               0.0   \n",
       "3         0.0         0.0         0.0          0.0     ...               0.0   \n",
       "4         0.0         0.0         0.0          0.0     ...               0.0   \n",
       "5         1.0         0.0         0.0          0.0     ...               0.0   \n",
       "6         0.0         0.0         0.0          0.0     ...               0.0   \n",
       "7         0.0         0.0         0.0          0.0     ...               0.0   \n",
       "8         0.0         0.0         0.0          0.0     ...               0.0   \n",
       "9         0.0         0.0         0.0          0.0     ...               0.0   \n",
       "\n",
       "   COMP_SpSpSpSS  COMP_SpSpSpSW  COMP_SpSpSpSpS  COMP_SpSpSpSpSp  \\\n",
       "0            0.0            0.0             0.0              0.0   \n",
       "1            0.0            0.0             0.0              0.0   \n",
       "2            0.0            0.0             0.0              0.0   \n",
       "3            0.0            0.0             0.0              0.0   \n",
       "4            0.0            0.0             0.0              0.0   \n",
       "5            0.0            0.0             0.0              0.0   \n",
       "6            0.0            0.0             0.0              0.0   \n",
       "7            0.0            0.0             0.0              0.0   \n",
       "8            0.0            0.0             0.0              0.0   \n",
       "9            0.0            0.0             0.0              0.0   \n",
       "\n",
       "   COMP_SpSpSpSpW  COMP_SpSpSpWW  COMP_SpSpWWW  COMP_SpWWWW  COMP_WWWWW  \n",
       "0             0.0            0.0           0.0          0.0         0.0  \n",
       "1             0.0            0.0           0.0          0.0         0.0  \n",
       "2             0.0            0.0           0.0          0.0         0.0  \n",
       "3             0.0            0.0           0.0          0.0         0.0  \n",
       "4             0.0            0.0           0.0          0.0         0.0  \n",
       "5             0.0            0.0           0.0          0.0         0.0  \n",
       "6             0.0            0.0           0.0          0.0         0.0  \n",
       "7             0.0            0.0           0.0          0.0         0.0  \n",
       "8             0.0            0.0           0.0          0.0         0.0  \n",
       "9             0.0            0.0           0.0          0.0         0.0  \n",
       "\n",
       "[10 rows x 59 columns]"
      ]
     },
     "execution_count": 50,
     "metadata": {},
     "output_type": "execute_result"
    }
   ],
   "source": [
    "# Create dataframe as before, with intercept, but replacing the rating values\n",
    "no_rating = model_df.drop(\"Rating\", axis=1)\n",
    "DF_Normalised = pd.concat([intercept, df_norm, no_rating], axis=1)\n",
    "DF_Normalised.head(10)"
   ]
  },
  {
   "cell_type": "markdown",
   "metadata": {},
   "source": [
    "## Retraining model using normalised continuous features, and additional features\n",
    "We train the model again using the normalised values for the \"Rating\" feature, and now also include the \"Team Composition\" features, represented in binary form"
   ]
  },
  {
   "cell_type": "code",
   "execution_count": 51,
   "metadata": {
    "collapsed": false
   },
   "outputs": [
    {
     "name": "stdout",
     "output_type": "stream",
     "text": [
      "[[-0.10061463  0.27389729  0.19499133  0.10140699 -0.07271392 -0.16761046\n",
      "   0.07554122  0.21859847  0.22764525 -0.13738828 -0.15455052 -0.22625029\n",
      "  -0.39843101  0.04626055  0.16260093  0.22083051  0.2719737   0.26821817\n",
      "   0.06523536  0.03166761 -0.1693791  -0.25694817 -0.61358927 -0.35259451\n",
      "  -0.12081571 -0.19896601  0.18421332  0.08592093  0.21171417  0.14531459\n",
      "   0.31932378  0.38368715  0.21122919  0.03118454  0.04092007 -0.38414861\n",
      "  -0.11550378  0.04885865 -0.20427785 -0.28781349 -0.13745584 -0.89184146\n",
      "   0.4312037  -0.33005983 -0.27650014 -0.41695496 -0.37525699  0.09992686\n",
      "   0.10637042 -0.06805256  0.34402555 -0.05321501  0.68899999  1.0784264\n",
      "  -0.30273875  1.02350467 -0.76487434  0.05752217]]\n"
     ]
    }
   ],
   "source": [
    "# Set up X and y again\n",
    "# This time include the team composition features\n",
    "X2 = DF_Normalised.drop(\"IsWinner\", axis=1)\n",
    "y2 = DF_Normalised.IsWinner\n",
    "\n",
    "logreg = LogisticRegression().fit(X2, y2)\n",
    "print(logreg.coef_)"
   ]
  },
  {
   "cell_type": "code",
   "execution_count": 52,
   "metadata": {
    "collapsed": false
   },
   "outputs": [
    {
     "name": "stdout",
     "output_type": "stream",
     "text": [
      "Predictions:  [1 1 1 ..., 1 0 0]\n"
     ]
    }
   ],
   "source": [
    "# Run predictions again\n",
    "predictions2 = logreg.predict(X2)\n",
    "print(\"Predictions: \", predictions2)"
   ]
  },
  {
   "cell_type": "code",
   "execution_count": 53,
   "metadata": {
    "collapsed": false
   },
   "outputs": [
    {
     "name": "stdout",
     "output_type": "stream",
     "text": [
      "Accuracy:  0.524749967605\n",
      "Confusion matrix: \n",
      " [[81872 87906]\n",
      " [73468 96310]]\n",
      "Classification report:\n",
      "               precision    recall  f1-score   support\n",
      "\n",
      "          0       0.53      0.48      0.50    169778\n",
      "          1       0.52      0.57      0.54    169778\n",
      "\n",
      "avg / total       0.52      0.52      0.52    339556\n",
      "\n"
     ]
    }
   ],
   "source": [
    "# Print information on results\n",
    "print(\"Accuracy: \", metrics.accuracy_score(DF_Normalised['IsWinner'], predictions2))\n",
    "print(\"Confusion matrix: \\n\", metrics.confusion_matrix(DF_Normalised['IsWinner'], predictions2))\n",
    "print(\"Classification report:\\n \", metrics.classification_report(DF_Normalised['IsWinner'], predictions2))"
   ]
  },
  {
   "cell_type": "markdown",
   "metadata": {},
   "source": [
    "While the predictive power of the model still seems quite low, there is a minor improvement to be noted when using more than just the \"Rating\" feature for our predictions"
   ]
  },
  {
   "cell_type": "markdown",
   "metadata": {},
   "source": [
    "## Train Test Split - Model evaluation with out-of-sample data"
   ]
  },
  {
   "cell_type": "code",
   "execution_count": 54,
   "metadata": {
    "collapsed": true
   },
   "outputs": [],
   "source": [
    "# Split our data 70:30 (training:test)\n",
    "X_train, X_test, y_train, y_test = train_test_split(X2, y2, test_size=0.3)"
   ]
  },
  {
   "cell_type": "code",
   "execution_count": 55,
   "metadata": {
    "collapsed": false
   },
   "outputs": [
    {
     "name": "stdout",
     "output_type": "stream",
     "text": [
      "[[-0.08675913  0.26217809 -0.24337211  0.06241912 -0.18582703 -0.22949548\n",
      "   0.05056966  0.19870788  0.14675364 -0.18242945 -0.19143121 -0.23641141\n",
      "  -0.22812245  0.02468408  0.13298274  0.22703794  0.23941725  0.28361423\n",
      "   0.12766556 -0.04491981 -0.20833865 -0.06292166 -0.62205784 -0.43656741\n",
      "  -0.16564998 -0.35232101  0.22257382  0.06291092  0.17644747  0.18591214\n",
      "   0.29569567  0.24154576  0.13374257 -0.07534243  0.06323445 -0.2104981\n",
      "   0.04594781  0.03718567  0.04067508 -0.13173069 -0.14425619 -0.94647216\n",
      "   0.         -0.23513066 -0.307416   -0.27781331 -0.18838325  0.02329599\n",
      "  -0.03431352  0.25931516  0.26064486 -0.18169006  0.77781532  1.01816896\n",
      "  -0.13486489  1.00926529 -0.60308015  0.42586872]]\n"
     ]
    }
   ],
   "source": [
    "# Train our model on the training set\n",
    "logreg_train = LogisticRegression().fit(X_train, y_train)\n",
    "print(logreg_train.coef_)"
   ]
  },
  {
   "cell_type": "code",
   "execution_count": 56,
   "metadata": {
    "collapsed": false
   },
   "outputs": [
    {
     "name": "stdout",
     "output_type": "stream",
     "text": [
      "[[ 0.51017415  0.48982585]\n",
      " [ 0.49511993  0.50488007]\n",
      " [ 0.46835614  0.53164386]\n",
      " ..., \n",
      " [ 0.55817237  0.44182763]\n",
      " [ 0.47641029  0.52358971]\n",
      " [ 0.48825987  0.51174013]]\n"
     ]
    }
   ],
   "source": [
    "# Print the predicted probabilities for each outcome of a game\n",
    "print(logreg_train.predict_proba(X_test))"
   ]
  },
  {
   "cell_type": "code",
   "execution_count": 79,
   "metadata": {
    "collapsed": false
   },
   "outputs": [
    {
     "name": "stdout",
     "output_type": "stream",
     "text": [
      "[0 1 1 ..., 0 1 1]\n"
     ]
    }
   ],
   "source": [
    "# Estimate the \"IsWinner\" category that each row in the test data will fall into\n",
    "# 1 => Victory\n",
    "# 0 => Loss\n",
    "predicted = logreg_train.predict(X_test)\n",
    "print(predicted)"
   ]
  },
  {
   "cell_type": "code",
   "execution_count": 58,
   "metadata": {
    "collapsed": false
   },
   "outputs": [
    {
     "name": "stdout",
     "output_type": "stream",
     "text": [
      "0.525371317502\n"
     ]
    }
   ],
   "source": [
    "# Print model score\n",
    "print(metrics.accuracy_score(y_test, predicted))"
   ]
  },
  {
   "cell_type": "code",
   "execution_count": 59,
   "metadata": {
    "collapsed": false
   },
   "outputs": [
    {
     "name": "stdout",
     "output_type": "stream",
     "text": [
      "[ 0.52235259  0.52517979  0.52332485]\n",
      "0.5236190773\n"
     ]
    }
   ],
   "source": [
    "# Further evaluation of the model using 3-fold cross validation\n",
    "scores = cross_val_score(LogisticRegression(), X2, y2, scoring='accuracy', cv=3)\n",
    "print(scores)\n",
    "print(scores.mean())"
   ]
  },
  {
   "cell_type": "markdown",
   "metadata": {},
   "source": [
    "# Remarks\n",
    "\n",
    "After training and retraining the model and examining its predictive power on in-sample versus out-of-sample data, we still achieve a final accuracy rating of roughly 52%.\n",
    "\n",
    "This indicates that our model, given the information of \"Team Composition\" and \"Rating\", will correctly predict the outcome of a game just over half of the time.\n",
    "\n",
    "Given that there are only 2 possible outcomes to every game (win or lose), this indicates that our model is not very strong.\n",
    "\n",
    "It is possible that a stronger predictive model may be generated given additional data on each of the individual players, and using this in combination with what we have created up to this point."
   ]
  },
  {
   "cell_type": "markdown",
   "metadata": {},
   "source": [
    "## Beginning looking at maps"
   ]
  },
  {
   "cell_type": "code",
   "execution_count": 60,
   "metadata": {
    "collapsed": false
   },
   "outputs": [
    {
     "data": {
      "text/plain": [
       "(1697780, 10)"
      ]
     },
     "execution_count": 60,
     "metadata": {},
     "output_type": "execute_result"
    }
   ],
   "source": [
    "DataFrame.shape"
   ]
  },
  {
   "cell_type": "code",
   "execution_count": 61,
   "metadata": {
    "collapsed": false
   },
   "outputs": [
    {
     "data": {
      "text/plain": [
       "ReplayID        243380\n",
       "Map             243380\n",
       "ReplayLength    243380\n",
       "Hero            243380\n",
       "HeroLevel       243380\n",
       "IsWinner        243380\n",
       "MMRbefore       243380\n",
       "Group           243380\n",
       "Composition     243380\n",
       "Rating          243380\n",
       "dtype: int64"
      ]
     },
     "execution_count": 61,
     "metadata": {},
     "output_type": "execute_result"
    }
   ],
   "source": [
    "DataFrame[DataFrame.Map == 'Haunted Mines'].count()\n",
    "# DataFrame[DataFrame.Map == \"Sky Temple\"].count()"
   ]
  },
  {
   "cell_type": "code",
   "execution_count": 62,
   "metadata": {
    "collapsed": false
   },
   "outputs": [
    {
     "data": {
      "text/plain": [
       "array(['Garden of Terror', 'Sky Temple', \"Blackheart's Bay\",\n",
       "       'Tomb of the Spider Queen', 'Haunted Mines', 'Dragon Shire',\n",
       "       'Cursed Hollow'], dtype=object)"
      ]
     },
     "execution_count": 62,
     "metadata": {},
     "output_type": "execute_result"
    }
   ],
   "source": [
    "DataFrame.Map.unique()"
   ]
  },
  {
   "cell_type": "code",
   "execution_count": 63,
   "metadata": {
    "collapsed": true
   },
   "outputs": [],
   "source": [
    "import numpy as np\n",
    "import pandas as pd\n",
    "import matplotlib.pyplot as plt\n",
    "from patsy import dmatrices\n",
    "from sklearn.linear_model import LogisticRegression\n",
    "from sklearn.cross_validation import train_test_split\n",
    "from sklearn import metrics\n",
    "from sklearn.cross_validation import cross_val_score"
   ]
  },
  {
   "cell_type": "markdown",
   "metadata": {},
   "source": [
    "# Garden of Terror Map"
   ]
  },
  {
   "cell_type": "code",
   "execution_count": 64,
   "metadata": {
    "collapsed": false
   },
   "outputs": [
    {
     "data": {
      "text/plain": [
       "(242730, 10)"
      ]
     },
     "execution_count": 64,
     "metadata": {},
     "output_type": "execute_result"
    }
   ],
   "source": [
    "GardenTerror = DataFrame[DataFrame['Map'] == 'Garden of Terror']\n",
    "GardenTerror.shape"
   ]
  },
  {
   "cell_type": "code",
   "execution_count": 65,
   "metadata": {
    "collapsed": false
   },
   "outputs": [
    {
     "data": {
      "text/plain": [
       "(242730,)"
      ]
     },
     "execution_count": 65,
     "metadata": {},
     "output_type": "execute_result"
    }
   ],
   "source": [
    "GardenTerror.ReplayLength.shape"
   ]
  },
  {
   "cell_type": "code",
   "execution_count": 66,
   "metadata": {
    "collapsed": false
   },
   "outputs": [
    {
     "data": {
      "text/html": [
       "<div>\n",
       "<table border=\"1\" class=\"dataframe\">\n",
       "  <thead>\n",
       "    <tr style=\"text-align: right;\">\n",
       "      <th></th>\n",
       "      <th>Intercept</th>\n",
       "    </tr>\n",
       "  </thead>\n",
       "  <tbody>\n",
       "    <tr>\n",
       "      <th>0</th>\n",
       "      <td>1.0</td>\n",
       "    </tr>\n",
       "    <tr>\n",
       "      <th>1</th>\n",
       "      <td>1.0</td>\n",
       "    </tr>\n",
       "    <tr>\n",
       "      <th>2</th>\n",
       "      <td>1.0</td>\n",
       "    </tr>\n",
       "    <tr>\n",
       "      <th>3</th>\n",
       "      <td>1.0</td>\n",
       "    </tr>\n",
       "    <tr>\n",
       "      <th>4</th>\n",
       "      <td>1.0</td>\n",
       "    </tr>\n",
       "  </tbody>\n",
       "</table>\n",
       "</div>"
      ],
      "text/plain": [
       "   Intercept\n",
       "0        1.0\n",
       "1        1.0\n",
       "2        1.0\n",
       "3        1.0\n",
       "4        1.0"
      ]
     },
     "execution_count": 66,
     "metadata": {},
     "output_type": "execute_result"
    }
   ],
   "source": [
    "# Prepare an intercept term that adds a 1 to each example.\n",
    "# Scikit-learn does not use an intercept by default.\n",
    "intercept = pd.DataFrame({'Intercept': np.ones(len(GardenTerror))})\n",
    "intercept.head()"
   ]
  },
  {
   "cell_type": "code",
   "execution_count": 67,
   "metadata": {
    "collapsed": false,
    "scrolled": true
   },
   "outputs": [
    {
     "name": "stdout",
     "output_type": "stream",
     "text": [
      "(242730, 10)\n",
      "(5000, 10)\n",
      "Descriptive features:\n",
      "         Intercept IsWinner         Hero\n",
      "0             1.0      NaN          NaN\n",
      "1             1.0      NaN          NaN\n",
      "2             1.0      NaN          NaN\n",
      "3             1.0      NaN          NaN\n",
      "4             1.0      NaN          NaN\n",
      "5             1.0      NaN          NaN\n",
      "6             1.0      NaN          NaN\n",
      "7             1.0      NaN          NaN\n",
      "8             1.0      NaN          NaN\n",
      "9             1.0      NaN          NaN\n",
      "10            1.0     True       Diablo\n",
      "11            1.0    False       Arthas\n",
      "12            1.0    False    Malfurion\n",
      "13            1.0    False    Kael'thas\n",
      "14            1.0    False      Falstad\n",
      "15            1.0     True      Zeratul\n",
      "16            1.0     True        Li Li\n",
      "17            1.0     True  Sgt. Hammer\n",
      "18            1.0     True       Tychus\n",
      "19            1.0    False        Valla\n",
      "20            1.0    False    Anub'arak\n",
      "21            1.0     True    Kael'thas\n",
      "22            1.0    False     Sylvanas\n",
      "23            1.0     True        Jaina\n",
      "24            1.0     True   Brightwing\n",
      "25            1.0     True      Muradin\n",
      "26            1.0     True        Valla\n",
      "27            1.0    False        Uther\n",
      "28            1.0    False       Thrall\n",
      "29            1.0    False       Tychus\n",
      "...           ...      ...          ...\n",
      "242700        1.0      NaN          NaN\n",
      "242701        1.0      NaN          NaN\n",
      "242702        1.0      NaN          NaN\n",
      "242703        1.0      NaN          NaN\n",
      "242704        1.0      NaN          NaN\n",
      "242705        1.0      NaN          NaN\n",
      "242706        1.0      NaN          NaN\n",
      "242707        1.0      NaN          NaN\n",
      "242708        1.0      NaN          NaN\n",
      "242709        1.0      NaN          NaN\n",
      "242710        1.0      NaN          NaN\n",
      "242711        1.0      NaN          NaN\n",
      "242712        1.0      NaN          NaN\n",
      "242713        1.0      NaN          NaN\n",
      "242714        1.0      NaN          NaN\n",
      "242715        1.0      NaN          NaN\n",
      "242716        1.0      NaN          NaN\n",
      "242717        1.0      NaN          NaN\n",
      "242718        1.0      NaN          NaN\n",
      "242719        1.0      NaN          NaN\n",
      "242720        1.0      NaN          NaN\n",
      "242721        1.0      NaN          NaN\n",
      "242722        1.0      NaN          NaN\n",
      "242723        1.0      NaN          NaN\n",
      "242724        1.0      NaN          NaN\n",
      "242725        1.0      NaN          NaN\n",
      "242726        1.0      NaN          NaN\n",
      "242727        1.0      NaN          NaN\n",
      "242728        1.0      NaN          NaN\n",
      "242729        1.0      NaN          NaN\n",
      "\n",
      "[242730 rows x 3 columns]\n",
      "\n",
      "Target feature:\n",
      " 14251     True\n",
      "14252     True\n",
      "14253     True\n",
      "14254     True\n",
      "14255     True\n",
      "14250    False\n",
      "14256    False\n",
      "14257    False\n",
      "14258    False\n",
      "14259    False\n",
      "10        True\n",
      "15        True\n",
      "16        True\n",
      "17        True\n",
      "18        True\n",
      "11       False\n",
      "12       False\n",
      "13       False\n",
      "14       False\n",
      "19       False\n",
      "231       True\n",
      "232       True\n",
      "233       True\n",
      "236       True\n",
      "237       True\n",
      "230      False\n",
      "234      False\n",
      "235      False\n",
      "238      False\n",
      "239      False\n",
      "         ...  \n",
      "73404     True\n",
      "73406     True\n",
      "73407     True\n",
      "73408     True\n",
      "73409     True\n",
      "73400    False\n",
      "73401    False\n",
      "73402    False\n",
      "73403    False\n",
      "73405    False\n",
      "73290     True\n",
      "73292     True\n",
      "73293     True\n",
      "73295     True\n",
      "73297     True\n",
      "73291    False\n",
      "73294    False\n",
      "73296    False\n",
      "73298    False\n",
      "73299    False\n",
      "73904     True\n",
      "73905     True\n",
      "73906     True\n",
      "73907     True\n",
      "73909     True\n",
      "73900    False\n",
      "73901    False\n",
      "73902    False\n",
      "73903    False\n",
      "73908    False\n",
      "Name: IsWinner, dtype: bool\n"
     ]
    }
   ],
   "source": [
    "print(GardenTerror.shape)\n",
    "GardenTerror = GardenTerror.iloc[:5000]\n",
    "print(GardenTerror.shape)\n",
    "\n",
    "# Prepare the descriptive features\n",
    "X = pd.concat([intercept, GardenTerror[['IsWinner', 'Hero']]], axis=1)\n",
    "y = GardenTerror.IsWinner\n",
    "print(\"Descriptive features:\\n\", X)\n",
    "print(\"\\nTarget feature:\\n\", y)"
   ]
  },
  {
   "cell_type": "code",
   "execution_count": 68,
   "metadata": {
    "collapsed": false
   },
   "outputs": [
    {
     "data": {
      "text/html": [
       "<div>\n",
       "<table border=\"1\" class=\"dataframe\">\n",
       "  <thead>\n",
       "    <tr style=\"text-align: right;\">\n",
       "      <th></th>\n",
       "      <th>ReplayID</th>\n",
       "      <th>Map</th>\n",
       "      <th>ReplayLength</th>\n",
       "      <th>Hero</th>\n",
       "      <th>HeroLevel</th>\n",
       "      <th>IsWinner</th>\n",
       "      <th>MMRbefore</th>\n",
       "      <th>Group</th>\n",
       "      <th>Composition</th>\n",
       "      <th>Rating</th>\n",
       "      <th>Loser</th>\n",
       "      <th>Winner</th>\n",
       "    </tr>\n",
       "  </thead>\n",
       "  <tbody>\n",
       "    <tr>\n",
       "      <th>14251</th>\n",
       "      <td>23812009</td>\n",
       "      <td>Garden of Terror</td>\n",
       "      <td>814.0</td>\n",
       "      <td>E.T.C.</td>\n",
       "      <td>8</td>\n",
       "      <td>True</td>\n",
       "      <td>3341.0</td>\n",
       "      <td>Warrior</td>\n",
       "      <td>AASpSW</td>\n",
       "      <td>2936.0</td>\n",
       "      <td>0.0</td>\n",
       "      <td>1.0</td>\n",
       "    </tr>\n",
       "    <tr>\n",
       "      <th>14252</th>\n",
       "      <td>23812009</td>\n",
       "      <td>Garden of Terror</td>\n",
       "      <td>814.0</td>\n",
       "      <td>Rehgar</td>\n",
       "      <td>10</td>\n",
       "      <td>True</td>\n",
       "      <td>3008.0</td>\n",
       "      <td>Support</td>\n",
       "      <td>AASpSW</td>\n",
       "      <td>2936.0</td>\n",
       "      <td>0.0</td>\n",
       "      <td>1.0</td>\n",
       "    </tr>\n",
       "    <tr>\n",
       "      <th>14253</th>\n",
       "      <td>23812009</td>\n",
       "      <td>Garden of Terror</td>\n",
       "      <td>814.0</td>\n",
       "      <td>Raynor</td>\n",
       "      <td>10</td>\n",
       "      <td>True</td>\n",
       "      <td>2850.0</td>\n",
       "      <td>Assassin</td>\n",
       "      <td>AASpSW</td>\n",
       "      <td>2936.0</td>\n",
       "      <td>0.0</td>\n",
       "      <td>1.0</td>\n",
       "    </tr>\n",
       "    <tr>\n",
       "      <th>14254</th>\n",
       "      <td>23812009</td>\n",
       "      <td>Garden of Terror</td>\n",
       "      <td>814.0</td>\n",
       "      <td>Jaina</td>\n",
       "      <td>8</td>\n",
       "      <td>True</td>\n",
       "      <td>2835.0</td>\n",
       "      <td>Assassin</td>\n",
       "      <td>AASpSW</td>\n",
       "      <td>2936.0</td>\n",
       "      <td>0.0</td>\n",
       "      <td>1.0</td>\n",
       "    </tr>\n",
       "    <tr>\n",
       "      <th>14255</th>\n",
       "      <td>23812009</td>\n",
       "      <td>Garden of Terror</td>\n",
       "      <td>814.0</td>\n",
       "      <td>Sylvanas</td>\n",
       "      <td>16</td>\n",
       "      <td>True</td>\n",
       "      <td>2648.0</td>\n",
       "      <td>Specialist</td>\n",
       "      <td>AASpSW</td>\n",
       "      <td>2936.0</td>\n",
       "      <td>0.0</td>\n",
       "      <td>1.0</td>\n",
       "    </tr>\n",
       "    <tr>\n",
       "      <th>14250</th>\n",
       "      <td>23812009</td>\n",
       "      <td>Garden of Terror</td>\n",
       "      <td>814.0</td>\n",
       "      <td>Uther</td>\n",
       "      <td>7</td>\n",
       "      <td>False</td>\n",
       "      <td>2336.0</td>\n",
       "      <td>Support</td>\n",
       "      <td>AASpSW</td>\n",
       "      <td>2191.0</td>\n",
       "      <td>1.0</td>\n",
       "      <td>0.0</td>\n",
       "    </tr>\n",
       "    <tr>\n",
       "      <th>14256</th>\n",
       "      <td>23812009</td>\n",
       "      <td>Garden of Terror</td>\n",
       "      <td>814.0</td>\n",
       "      <td>Valla</td>\n",
       "      <td>9</td>\n",
       "      <td>False</td>\n",
       "      <td>2311.0</td>\n",
       "      <td>Assassin</td>\n",
       "      <td>AASpSW</td>\n",
       "      <td>2191.0</td>\n",
       "      <td>1.0</td>\n",
       "      <td>0.0</td>\n",
       "    </tr>\n",
       "    <tr>\n",
       "      <th>14257</th>\n",
       "      <td>23812009</td>\n",
       "      <td>Garden of Terror</td>\n",
       "      <td>814.0</td>\n",
       "      <td>Diablo</td>\n",
       "      <td>9</td>\n",
       "      <td>False</td>\n",
       "      <td>2971.0</td>\n",
       "      <td>Warrior</td>\n",
       "      <td>AASpSW</td>\n",
       "      <td>2191.0</td>\n",
       "      <td>1.0</td>\n",
       "      <td>0.0</td>\n",
       "    </tr>\n",
       "    <tr>\n",
       "      <th>14258</th>\n",
       "      <td>23812009</td>\n",
       "      <td>Garden of Terror</td>\n",
       "      <td>814.0</td>\n",
       "      <td>Sgt. Hammer</td>\n",
       "      <td>10</td>\n",
       "      <td>False</td>\n",
       "      <td>804.0</td>\n",
       "      <td>Specialist</td>\n",
       "      <td>AASpSW</td>\n",
       "      <td>2191.0</td>\n",
       "      <td>1.0</td>\n",
       "      <td>0.0</td>\n",
       "    </tr>\n",
       "    <tr>\n",
       "      <th>14259</th>\n",
       "      <td>23812009</td>\n",
       "      <td>Garden of Terror</td>\n",
       "      <td>814.0</td>\n",
       "      <td>Falstad</td>\n",
       "      <td>7</td>\n",
       "      <td>False</td>\n",
       "      <td>2535.0</td>\n",
       "      <td>Assassin</td>\n",
       "      <td>AASpSW</td>\n",
       "      <td>2191.0</td>\n",
       "      <td>1.0</td>\n",
       "      <td>0.0</td>\n",
       "    </tr>\n",
       "  </tbody>\n",
       "</table>\n",
       "</div>"
      ],
      "text/plain": [
       "       ReplayID               Map  ReplayLength         Hero  HeroLevel  \\\n",
       "14251  23812009  Garden of Terror         814.0       E.T.C.          8   \n",
       "14252  23812009  Garden of Terror         814.0       Rehgar         10   \n",
       "14253  23812009  Garden of Terror         814.0       Raynor         10   \n",
       "14254  23812009  Garden of Terror         814.0        Jaina          8   \n",
       "14255  23812009  Garden of Terror         814.0     Sylvanas         16   \n",
       "14250  23812009  Garden of Terror         814.0        Uther          7   \n",
       "14256  23812009  Garden of Terror         814.0        Valla          9   \n",
       "14257  23812009  Garden of Terror         814.0       Diablo          9   \n",
       "14258  23812009  Garden of Terror         814.0  Sgt. Hammer         10   \n",
       "14259  23812009  Garden of Terror         814.0      Falstad          7   \n",
       "\n",
       "      IsWinner  MMRbefore       Group Composition  Rating  Loser  Winner  \n",
       "14251     True     3341.0     Warrior      AASpSW  2936.0    0.0     1.0  \n",
       "14252     True     3008.0     Support      AASpSW  2936.0    0.0     1.0  \n",
       "14253     True     2850.0    Assassin      AASpSW  2936.0    0.0     1.0  \n",
       "14254     True     2835.0    Assassin      AASpSW  2936.0    0.0     1.0  \n",
       "14255     True     2648.0  Specialist      AASpSW  2936.0    0.0     1.0  \n",
       "14250    False     2336.0     Support      AASpSW  2191.0    1.0     0.0  \n",
       "14256    False     2311.0    Assassin      AASpSW  2191.0    1.0     0.0  \n",
       "14257    False     2971.0     Warrior      AASpSW  2191.0    1.0     0.0  \n",
       "14258    False      804.0  Specialist      AASpSW  2191.0    1.0     0.0  \n",
       "14259    False     2535.0    Assassin      AASpSW  2191.0    1.0     0.0  "
      ]
     },
     "execution_count": 68,
     "metadata": {},
     "output_type": "execute_result"
    }
   ],
   "source": [
    "#Create dummy values for Winner feature\n",
    "GardenTerror_IsWinner = pd.get_dummies(GardenTerror['IsWinner'])\n",
    "\n",
    "#GardenTerror_IsWinner.head()\n",
    "\n",
    "Winner_new = pd.concat([GardenTerror, GardenTerror_IsWinner], axis=1)\n",
    "\n",
    "Winner_new.columns = ['ReplayID', 'Map', 'ReplayLength', 'Hero', 'HeroLevel', 'IsWinner', 'MMRbefore', 'Group','Composition', 'Rating', 'Loser', 'Winner']\n",
    "\n",
    "Winner_new.head(10)"
   ]
  },
  {
   "cell_type": "code",
   "execution_count": 69,
   "metadata": {
    "collapsed": false
   },
   "outputs": [
    {
     "name": "stdout",
     "output_type": "stream",
     "text": [
      "Optimization terminated successfully.\n",
      "         Current function value: 0.692423\n",
      "         Iterations 3\n",
      "Intercept   -0.269772\n",
      "Rating       0.000122\n",
      "dtype: float64\n"
     ]
    }
   ],
   "source": [
    "#import the needed module\n",
    "import statsmodels.formula.api as sm\n",
    "\n",
    "logreg = sm.logit(formula=\"Winner ~ Rating\", data= Winner_new[['Winner', 'Rating']]).fit()\n",
    "\n",
    "# Print the model weights/parameters\n",
    "print(logreg.params)"
   ]
  },
  {
   "cell_type": "code",
   "execution_count": 70,
   "metadata": {
    "collapsed": false
   },
   "outputs": [
    {
     "data": {
      "text/plain": [
       "[<matplotlib.lines.Line2D at 0x1fea2bc6f98>]"
      ]
     },
     "execution_count": 70,
     "metadata": {},
     "output_type": "execute_result"
    },
    {
     "data": {
      "image/png": "[encoded data removed]",
      "text/plain": [
       "<matplotlib.figure.Figure at 0x1fea2bc6e10>"
      ]
     },
     "metadata": {},
     "output_type": "display_data"
    }
   ],
   "source": [
    "X_minmax = pd.DataFrame({'Rating': [Winner_new.Rating.min(), Winner_new.Rating.max()]})\n",
    "\n",
    "predictions = logreg.predict(Winner_new)\n",
    "\n",
    "# First, plot the observed data\n",
    "Winner_new.plot(kind='scatter', x='Rating', y='IsWinner')\n",
    "\n",
    "# Next, plot the logistic regression estimation, in red.\n",
    "plt.plot(Winner_new.ReplayLength, predictions, c='red', linewidth=2)\n",
    "\n",
    "# Plot the linear decision surface estimated by logistic regression\n",
    "plt.plot(X_minmax, logreg.predict(X_minmax), c='blue', linewidth=1, linestyle='dashed')"
   ]
  },
  {
   "cell_type": "markdown",
   "metadata": {},
   "source": [
    "# Sky Temple Map"
   ]
  },
  {
   "cell_type": "code",
   "execution_count": 71,
   "metadata": {
    "collapsed": false
   },
   "outputs": [
    {
     "name": "stdout",
     "output_type": "stream",
     "text": [
      "Optimization terminated successfully.\n",
      "         Current function value: 0.692016\n",
      "         Iterations 3\n",
      "Intercept   -0.344131\n",
      "Rating       0.000152\n",
      "dtype: float64\n"
     ]
    },
    {
     "data": {
      "text/plain": [
       "[<matplotlib.lines.Line2D at 0x1fe9f08e7f0>]"
      ]
     },
     "execution_count": 71,
     "metadata": {},
     "output_type": "execute_result"
    },
    {
     "data": {
      "image/png": "[encoded data removed]",
      "text/plain": [
       "<matplotlib.figure.Figure at 0x1fe9f094b70>"
      ]
     },
     "metadata": {},
     "output_type": "display_data"
    }
   ],
   "source": [
    "SkyTemple = DataFrame.loc[DataFrame['Map'] == 'Sky Temple']\n",
    "\n",
    "intercept = pd.DataFrame({'Intercept': np.ones(len(SkyTemple))})\n",
    "intercept.head()\n",
    "\n",
    "SkyTemple = SkyTemple.iloc[:5000]\n",
    "\n",
    "# Prepare the descriptive features\n",
    "X = pd.concat([intercept, SkyTemple[['IsWinner', 'Hero']]], axis=1)\n",
    "y = SkyTemple.IsWinner\n",
    "\n",
    "SkyTemple_IsWinner = pd.get_dummies(SkyTemple['IsWinner'])\n",
    "Winner_Sky = pd.concat([SkyTemple, SkyTemple_IsWinner], axis=1)\n",
    "Winner_Sky.columns = ['ReplayID', 'Map', 'ReplayLength', 'Hero', 'HeroLevel', 'IsWinner', 'MMRbefore', 'Group','Composition', 'Rating', 'Loser', 'Winner']\n",
    "\n",
    "logreg = sm.logit(formula=\"Winner ~ Rating\", data= Winner_Sky[['Winner', 'Rating']]).fit()\n",
    "\n",
    "# Print the model weights/parameters\n",
    "print(logreg.params)\n",
    "\n",
    "X_minmax = pd.DataFrame({'Rating': [Winner_Sky.Rating.min(), Winner_Sky.Rating.max()]})\n",
    "\n",
    "predictions = logreg.predict(Winner_Sky)\n",
    "\n",
    "# First, plot the observed data\n",
    "Winner_Sky.plot(kind='scatter', x='Rating', y='IsWinner')\n",
    "# Next, plot the logistic regression estimation, in red.\n",
    "plt.plot(Winner_Sky.ReplayLength, predictions, c='red', linewidth=2)\n",
    "# Plot the linear decision surface estimated by logistic regression\n",
    "plt.plot(X_minmax, logreg.predict(X_minmax), c='blue', linewidth=1, linestyle='dashed')"
   ]
  },
  {
   "cell_type": "markdown",
   "metadata": {},
   "source": [
    "# Dragon Shire Map"
   ]
  },
  {
   "cell_type": "code",
   "execution_count": 72,
   "metadata": {
    "collapsed": false
   },
   "outputs": [
    {
     "name": "stdout",
     "output_type": "stream",
     "text": [
      "Optimization terminated successfully.\n",
      "         Current function value: 0.691720\n",
      "         Iterations 4\n",
      "Intercept   -0.384762\n",
      "Rating       0.000172\n",
      "dtype: float64\n"
     ]
    },
    {
     "data": {
      "text/plain": [
       "[<matplotlib.lines.Line2D at 0x1fea2eba9e8>]"
      ]
     },
     "execution_count": 72,
     "metadata": {},
     "output_type": "execute_result"
    },
    {
     "data": {
      "image/png": "[encoded data removed]",
      "text/plain": [
       "<matplotlib.figure.Figure at 0x1fe85d010f0>"
      ]
     },
     "metadata": {},
     "output_type": "display_data"
    }
   ],
   "source": [
    "DragonShire = DataFrame.loc[DataFrame['Map'] == 'Dragon Shire']\n",
    "\n",
    "intercept = pd.DataFrame({'Intercept': np.ones(len(DragonShire))})\n",
    "\n",
    "DragonShire = DragonShire.iloc[:5000]\n",
    "\n",
    "# Prepare the descriptive features\n",
    "X = pd.concat([intercept, DragonShire[['IsWinner', 'Hero']]], axis=1)\n",
    "y = DragonShire.IsWinner\n",
    "\n",
    "DragonShire_IsWinner = pd.get_dummies(DragonShire['IsWinner'])\n",
    "Winner_Dragon = pd.concat([DragonShire, DragonShire_IsWinner], axis=1)\n",
    "Winner_Dragon.columns = ['ReplayID', 'Map', 'ReplayLength', 'Hero', 'HeroLevel', 'IsWinner', 'MMRbefore', 'Group','Composition', 'Rating', 'Loser', 'Winner']\n",
    "\n",
    "logreg = sm.logit(formula=\"Winner ~ Rating\", data= Winner_Dragon[['Winner', 'Rating']]).fit()\n",
    "\n",
    "# Print the model weights/parameters\n",
    "print(logreg.params)\n",
    "\n",
    "X_minmax = pd.DataFrame({'Rating': [Winner_Dragon.Rating.min(), Winner_Dragon.Rating.max()]})\n",
    "\n",
    "predictions = logreg.predict(Winner_Sky)\n",
    "\n",
    "# First, plot the observed data\n",
    "Winner_Dragon.plot(kind='scatter', x='Rating', y='IsWinner')\n",
    "# Next, plot the logistic regression estimation, in red.\n",
    "plt.plot(Winner_Dragon.ReplayLength, predictions, c='red', linewidth=2)\n",
    "# Plot the linear decision surface estimated by logistic regression\n",
    "plt.plot(X_minmax, logreg.predict(X_minmax), c='blue', linewidth=1, linestyle='dashed')"
   ]
  },
  {
   "cell_type": "markdown",
   "metadata": {},
   "source": [
    "# Blackheart's Bay Map"
   ]
  },
  {
   "cell_type": "code",
   "execution_count": 73,
   "metadata": {
    "collapsed": false,
    "scrolled": false
   },
   "outputs": [
    {
     "name": "stdout",
     "output_type": "stream",
     "text": [
      "Optimization terminated successfully.\n",
      "         Current function value: 0.692561\n",
      "         Iterations 3\n",
      "Intercept   -0.251046\n",
      "Rating       0.000113\n",
      "dtype: float64\n"
     ]
    },
    {
     "data": {
      "text/plain": [
       "[<matplotlib.lines.Line2D at 0x1fea525ccc0>]"
      ]
     },
     "execution_count": 73,
     "metadata": {},
     "output_type": "execute_result"
    },
    {
     "data": {
      "image/png": "[encoded data removed]",
      "text/plain": [
       "<matplotlib.figure.Figure at 0x1fea29d7240>"
      ]
     },
     "metadata": {},
     "output_type": "display_data"
    }
   ],
   "source": [
    "BlackheartsBay = DataFrame.loc[DataFrame['Map'] == \"Blackheart's Bay\"]\n",
    "\n",
    "intercept = pd.DataFrame({'Intercept': np.ones(len(BlackheartsBay))})\n",
    "\n",
    "BlackheartsBay = BlackheartsBay.iloc[:5000]\n",
    "\n",
    "# Prepare the descriptive features\n",
    "X = pd.concat([intercept, BlackheartsBay[['IsWinner', 'Hero']]], axis=1)\n",
    "y = BlackheartsBay.IsWinner\n",
    "\n",
    "BlackheartsBay_IsWinner = pd.get_dummies(BlackheartsBay['IsWinner'])\n",
    "Winner_Bay = pd.concat([BlackheartsBay, BlackheartsBay_IsWinner], axis=1)\n",
    "Winner_Bay.columns = ['ReplayID', 'Map', 'ReplayLength', 'Hero', 'HeroLevel', 'IsWinner', 'MMRbefore', 'Group','Composition', 'Rating', 'Loser', 'Winner']\n",
    "\n",
    "logreg = sm.logit(formula=\"Winner ~ Rating\", data= Winner_Bay[['Winner', 'Rating']]).fit()\n",
    "\n",
    "# Print the model weights/parameters\n",
    "print(logreg.params)\n",
    "\n",
    "X_minmax = pd.DataFrame({'Rating': [Winner_Bay.Rating.min(), Winner_Bay.Rating.max()]})\n",
    "\n",
    "predictions = logreg.predict(Winner_Bay)\n",
    "\n",
    "# First, plot the observed data\n",
    "Winner_Bay.plot(kind='scatter', x='Rating', y='IsWinner')\n",
    "# Next, plot the logistic regression estimation, in red.\n",
    "plt.plot(Winner_Bay.ReplayLength, predictions, c='red', linewidth=2)\n",
    "# Plot the linear decision surface estimated by logistic regression\n",
    "plt.plot(X_minmax, logreg.predict(X_minmax), c='blue', linewidth=1, linestyle='dashed')"
   ]
  },
  {
   "cell_type": "markdown",
   "metadata": {},
   "source": [
    "# Spider Queen Map"
   ]
  },
  {
   "cell_type": "code",
   "execution_count": 74,
   "metadata": {
    "collapsed": false
   },
   "outputs": [
    {
     "name": "stdout",
     "output_type": "stream",
     "text": [
      "Optimization terminated successfully.\n",
      "         Current function value: 0.692159\n",
      "         Iterations 3\n",
      "Intercept   -0.328888\n",
      "Rating       0.000145\n",
      "dtype: float64\n"
     ]
    },
    {
     "data": {
      "text/plain": [
       "[<matplotlib.lines.Line2D at 0x1fea73e89e8>]"
      ]
     },
     "execution_count": 74,
     "metadata": {},
     "output_type": "execute_result"
    },
    {
     "data": {
      "image/png": "[encoded data removed]",
      "text/plain": [
       "<matplotlib.figure.Figure at 0x1fea525cba8>"
      ]
     },
     "metadata": {},
     "output_type": "display_data"
    }
   ],
   "source": [
    "SpiderQueen = DataFrame.loc[DataFrame['Map'] == 'Tomb of the Spider Queen']\n",
    "\n",
    "intercept = pd.DataFrame({'Intercept': np.ones(len(SpiderQueen))})\n",
    "\n",
    "SpiderQueen = SpiderQueen.iloc[:5000]\n",
    "\n",
    "# Prepare the descriptive features\n",
    "X = pd.concat([intercept, SpiderQueen[['IsWinner', 'Hero']]], axis=1)\n",
    "y = SpiderQueen.IsWinner\n",
    "\n",
    "SpiderQueen_IsWinner = pd.get_dummies(SpiderQueen['IsWinner'])\n",
    "Winner_Spider = pd.concat([SpiderQueen, SpiderQueen_IsWinner], axis=1)\n",
    "Winner_Spider.columns = ['ReplayID', 'Map', 'ReplayLength', 'Hero', 'HeroLevel', 'IsWinner', 'MMRbefore', 'Group','Composition', 'Rating', 'Loser', 'Winner']\n",
    "\n",
    "logreg = sm.logit(formula=\"Winner ~ Rating\", data= Winner_Spider[['Winner', 'Rating']]).fit()\n",
    "\n",
    "# Print the model weights/parameters\n",
    "print(logreg.params)\n",
    "\n",
    "X_minmax = pd.DataFrame({'Rating': [Winner_Spider.Rating.min(), Winner_Spider.Rating.max()]})\n",
    "\n",
    "predictions = logreg.predict(Winner_Spider)\n",
    "\n",
    "# First, plot the observed data\n",
    "Winner_Spider.plot(kind='scatter', x='Rating', y='IsWinner')\n",
    "# Next, plot the logistic regression estimation, in red.\n",
    "plt.plot(Winner_Spider.ReplayLength, predictions, c='red', linewidth=2)\n",
    "# Plot the linear decision surface estimated by logistic regression\n",
    "plt.plot(X_minmax, logreg.predict(X_minmax), c='blue', linewidth=1, linestyle='dashed')"
   ]
  },
  {
   "cell_type": "markdown",
   "metadata": {},
   "source": [
    "# Cursed Hollow Map"
   ]
  },
  {
   "cell_type": "code",
   "execution_count": 75,
   "metadata": {
    "collapsed": false,
    "scrolled": false
   },
   "outputs": [
    {
     "name": "stdout",
     "output_type": "stream",
     "text": [
      "Optimization terminated successfully.\n",
      "         Current function value: 0.692082\n",
      "         Iterations 3\n",
      "Intercept   -0.344795\n",
      "Rating       0.000155\n",
      "dtype: float64\n"
     ]
    },
    {
     "data": {
      "text/plain": [
       "[<matplotlib.lines.Line2D at 0x1fea71e57f0>]"
      ]
     },
     "execution_count": 75,
     "metadata": {},
     "output_type": "execute_result"
    },
    {
     "data": {
      "image/png": "[encoded data removed]",
      "text/plain": [
       "<matplotlib.figure.Figure at 0x1fea295d588>"
      ]
     },
     "metadata": {},
     "output_type": "display_data"
    }
   ],
   "source": [
    "CursedHollow = DataFrame.loc[DataFrame['Map'] == 'Cursed Hollow']\n",
    "\n",
    "intercept = pd.DataFrame({'Intercept': np.ones(len(CursedHollow))})\n",
    "\n",
    "CursedHollow = CursedHollow.iloc[:5000]\n",
    "\n",
    "# Prepare the descriptive features\n",
    "X = pd.concat([intercept, CursedHollow[['IsWinner', 'Hero']]], axis=1)\n",
    "y = CursedHollow.IsWinner\n",
    "\n",
    "CursedHollow_IsWinner = pd.get_dummies(CursedHollow['IsWinner'])\n",
    "Winner_Hollow = pd.concat([CursedHollow, CursedHollow_IsWinner], axis=1)\n",
    "Winner_Hollow.columns = ['ReplayID', 'Map', 'ReplayLength', 'Hero', 'HeroLevel', 'IsWinner', 'MMRbefore', 'Group','Composition', 'Rating', 'Loser', 'Winner']\n",
    "\n",
    "logreg = sm.logit(formula=\"Winner ~ Rating\", data= Winner_Hollow[['Winner', 'Rating']]).fit()\n",
    "\n",
    "# Print the model weights/parameters\n",
    "print(logreg.params)\n",
    "\n",
    "X_minmax = pd.DataFrame({'Rating': [Winner_Hollow.Rating.min(), Winner_Hollow.Rating.max()]})\n",
    "\n",
    "predictions = logreg.predict(Winner_Hollow)\n",
    "\n",
    "# First, plot the observed data\n",
    "Winner_Hollow.plot(kind='scatter', x='Rating', y='IsWinner')\n",
    "# Next, plot the logistic regression estimation, in red.\n",
    "plt.plot(Winner_Hollow.ReplayLength, predictions, c='red', linewidth=2)\n",
    "# Plot the linear decision surface estimated by logistic regression\n",
    "plt.plot(X_minmax, logreg.predict(X_minmax), c='blue', linewidth=1, linestyle='dashed')"
   ]
  },
  {
   "cell_type": "markdown",
   "metadata": {},
   "source": [
    "# Haunted Mines Map"
   ]
  },
  {
   "cell_type": "code",
   "execution_count": 76,
   "metadata": {
    "collapsed": false
   },
   "outputs": [
    {
     "name": "stdout",
     "output_type": "stream",
     "text": [
      "Optimization terminated successfully.\n",
      "         Current function value: 0.692283\n",
      "         Iterations 3\n",
      "Intercept   -0.298705\n",
      "Rating       0.000134\n",
      "dtype: float64\n"
     ]
    },
    {
     "data": {
      "text/plain": [
       "[<matplotlib.lines.Line2D at 0x1fea74db898>]"
      ]
     },
     "execution_count": 76,
     "metadata": {},
     "output_type": "execute_result"
    },
    {
     "data": {
      "image/png": "[encoded data removed]",
      "text/plain": [
       "<matplotlib.figure.Figure at 0x1fea7458908>"
      ]
     },
     "metadata": {},
     "output_type": "display_data"
    }
   ],
   "source": [
    "HauntedMines = DataFrame[DataFrame['Map'] == 'Haunted Mines']\n",
    "\n",
    "intercept = pd.DataFrame({'Intercept': np.ones(len(HauntedMines))})\n",
    "\n",
    "HauntedMines = HauntedMines.iloc[:5000]\n",
    "\n",
    "# Prepare the descriptive features\n",
    "X = pd.concat([intercept, HauntedMines[['IsWinner', 'Hero']]], axis=1)\n",
    "y = HauntedMines.IsWinner\n",
    "\n",
    "HauntedMines_IsWinner = pd.get_dummies(HauntedMines['IsWinner'])\n",
    "Winner_Mines = pd.concat([HauntedMines, HauntedMines_IsWinner], axis=1)\n",
    "Winner_Mines.columns = ['ReplayID', 'Map', 'ReplayLength', 'Hero', 'HeroLevel', 'IsWinner', 'MMRbefore', 'Group','Composition', 'Rating', 'Loser', 'Winner']\n",
    "\n",
    "logreg = sm.logit(formula=\"Winner ~ Rating\", data= Winner_Mines[['Winner', 'Rating']]).fit()\n",
    "\n",
    "# Print the model weights/parameters\n",
    "print(logreg.params)\n",
    "\n",
    "X_minmax = pd.DataFrame({'Rating': [Winner_Mines.Rating.min(), Winner_Mines.Rating.max()]})\n",
    "\n",
    "predictions = logreg.predict(Winner_Mines)\n",
    "\n",
    "# First, plot the observed data\n",
    "Winner_Mines.plot(kind='scatter', x='Rating', y='IsWinner')\n",
    "# Next, plot the logistic regression estimation, in red.\n",
    "plt.plot(Winner_Mines.ReplayLength, predictions, c='red', linewidth=2)\n",
    "# Plot the linear decision surface estimated by logistic regression\n",
    "plt.plot(X_minmax, logreg.predict(X_minmax), c='blue', linewidth=1, linestyle='dashed')"
   ]
  },
  {
   "cell_type": "code",
   "execution_count": null,
   "metadata": {
    "collapsed": true
   },
   "outputs": [],
   "source": []
  },
  {
   "cell_type": "code",
   "execution_count": null,
   "metadata": {
    "collapsed": true
   },
   "outputs": [],
   "source": []
  },
  {
   "cell_type": "code",
   "execution_count": null,
   "metadata": {
    "collapsed": true
   },
   "outputs": [],
   "source": []
  },
  {
   "cell_type": "markdown",
   "metadata": {},
   "source": [
    "## 1. Determine the most played heroes in each category:\n",
    "After looking at the most played 7 Heroes in the games across the data set, the results were as follows:\n",
    "* Support  \n",
    "Brightwing  \n",
    "Lili\n",
    "  \n",
    "  \n",
    "* Assassin  \n",
    "Valla  \n",
    "Jaina  \n",
    "-Kael'Thas\n",
    "  \n",
    "  \n",
    "* Warrior  \n",
    "E.T.C\n",
    "\n",
    "  \n",
    "* Specialist  \n",
    "Sylvanas\n",
    "\n",
    "#### Now to compare with the top 7 heroes by win rate:\n",
    "* Support  \n",
    "Brightwing\n",
    "  \n",
    "  \n",
    "* Assassin  \n",
    "Jaina\n",
    "  \n",
    "  \n",
    "* Warrior  \n",
    "Anub'Arak  \n",
    "Tyrael\n",
    "\n",
    "  \n",
    "* Specialist  \n",
    "The Lost Vikings  \n",
    "Sylvanas  \n",
    "Murky\n",
    "\n",
    "\n",
    "In the end only 3 out of the 7 most played heroes belong to the highest win-rate bracket, suggesting that popularity is not strongly linked to actual utility.\n",
    "\n",
    "This leads to the need to understand team composition in order to see how they can be a predictor of the outcome of a game.\n",
    "\n",
    "## 2. Identify the various team compositions played\n",
    "\n",
    "## 3. Study the effect of team rating on the outcome of the game?\n",
    "\n",
    "## 4. Does team composition affect the outcome of the game?"
   ]
  },
  {
   "cell_type": "code",
   "execution_count": 77,
   "metadata": {
    "collapsed": false
   },
   "outputs": [
    {
     "name": "stdout",
     "output_type": "stream",
     "text": [
      "['Assassin', 'Assassin', 'Specialist', 'Support', 'Warrior'] ------ 147694\n",
      "['Assassin', 'Assassin', 'Assassin', 'Support', 'Warrior'] ------ 52791\n",
      "['Assassin', 'Specialist', 'Specialist', 'Support', 'Warrior'] ------ 35799\n",
      "['Assassin', 'Assassin', 'Assassin', 'Assassin', 'Warrior'] ------ 335\n",
      "['Assassin', 'Assassin', 'Support', 'Support', 'Warrior'] ------ 28503\n",
      "['Assassin', 'Specialist', 'Support', 'Support', 'Warrior'] ------ 24066\n",
      "['Assassin', 'Specialist', 'Support', 'Warrior', 'Warrior'] ------ 14962\n",
      "['Assassin', 'Assassin', 'Support', 'Warrior', 'Warrior'] ------ 15747\n",
      "['Assassin', 'Assassin', 'Assassin', 'Specialist', 'Support'] ------ 2075\n",
      "['Specialist', 'Specialist', 'Support', 'Warrior', 'Warrior'] ------ 1066\n",
      "['Assassin', 'Assassin', 'Specialist', 'Specialist', 'Support'] ------ 1781\n",
      "['Specialist', 'Specialist', 'Support', 'Support', 'Warrior'] ------ 1468\n",
      "['Assassin', 'Assassin', 'Assassin', 'Assassin', 'Support'] ------ 465\n",
      "['Assassin', 'Support', 'Support', 'Warrior', 'Warrior'] ------ 1695\n",
      "['Assassin', 'Specialist', 'Warrior', 'Warrior', 'Warrior'] ------ 41\n",
      "['Assassin', 'Assassin', 'Specialist', 'Specialist', 'Warrior'] ------ 1514\n",
      "['Assassin', 'Specialist', 'Specialist', 'Specialist', 'Support'] ------ 359\n",
      "['Assassin', 'Assassin', 'Assassin', 'Specialist', 'Warrior'] ------ 1783\n",
      "['Specialist', 'Specialist', 'Specialist', 'Support', 'Warrior'] ------ 1277\n",
      "['Assassin', 'Support', 'Warrior', 'Warrior', 'Warrior'] ------ 261\n",
      "['Assassin', 'Assassin', 'Assassin', 'Assassin', 'Assassin'] ------ 20\n",
      "['Assassin', 'Assassin', 'Specialist', 'Support', 'Support'] ------ 1424\n",
      "['Specialist', 'Support', 'Support', 'Warrior', 'Warrior'] ------ 469\n",
      "['Assassin', 'Assassin', 'Assassin', 'Assassin', 'Specialist'] ------ 108\n",
      "['Assassin', 'Assassin', 'Specialist', 'Warrior', 'Warrior'] ------ 874\n",
      "['Assassin', 'Specialist', 'Specialist', 'Specialist', 'Warrior'] ------ 281\n",
      "['Specialist', 'Specialist', 'Support', 'Support', 'Support'] ------ 4\n",
      "['Assassin', 'Assassin', 'Assassin', 'Support', 'Support'] ------ 570\n",
      "['Assassin', 'Assassin', 'Assassin', 'Specialist', 'Specialist'] ------ 170\n",
      "['Assassin', 'Specialist', 'Specialist', 'Support', 'Support'] ------ 403\n",
      "['Assassin', 'Support', 'Support', 'Support', 'Warrior'] ------ 262\n",
      "['Assassin', 'Assassin', 'Assassin', 'Warrior', 'Warrior'] ------ 355\n",
      "['Assassin', 'Assassin', 'Specialist', 'Specialist', 'Specialist'] ------ 90\n",
      "['Assassin', 'Specialist', 'Specialist', 'Warrior', 'Warrior'] ------ 286\n",
      "['Specialist', 'Specialist', 'Specialist', 'Specialist', 'Support'] ------ 42\n",
      "['Assassin', 'Specialist', 'Support', 'Support', 'Support'] ------ 57\n",
      "['Support', 'Support', 'Warrior', 'Warrior', 'Warrior'] ------ 17\n",
      "['Specialist', 'Support', 'Warrior', 'Warrior', 'Warrior'] ------ 91\n",
      "['Assassin', 'Assassin', 'Support', 'Support', 'Support'] ------ 82\n",
      "['Specialist', 'Support', 'Support', 'Support', 'Warrior'] ------ 69\n",
      "['Assassin', 'Assassin', 'Warrior', 'Warrior', 'Warrior'] ------ 43\n",
      "['Specialist', 'Specialist', 'Specialist', 'Warrior', 'Warrior'] ------ 20\n",
      "['Specialist', 'Specialist', 'Specialist', 'Specialist', 'Warrior'] ------ 17\n",
      "['Support', 'Warrior', 'Warrior', 'Warrior', 'Warrior'] ------ 8\n",
      "['Specialist', 'Specialist', 'Specialist', 'Specialist', 'Specialist'] ------ 20\n",
      "['Assassin', 'Specialist', 'Specialist', 'Specialist', 'Specialist'] ------ 42\n",
      "['Specialist', 'Specialist', 'Specialist', 'Support', 'Support'] ------ 21\n",
      "['Support', 'Support', 'Support', 'Warrior', 'Warrior'] ------ 6\n",
      "['Assassin', 'Support', 'Support', 'Support', 'Support'] ------ 2\n",
      "['Specialist', 'Specialist', 'Warrior', 'Warrior', 'Warrior'] ------ 3\n",
      "['Assassin', 'Warrior', 'Warrior', 'Warrior', 'Warrior'] ------ 5\n",
      "['Support', 'Support', 'Support', 'Support', 'Support'] ------ 4\n",
      "['Support', 'Support', 'Support', 'Support', 'Warrior'] ------ 3\n",
      "['Specialist', 'Support', 'Support', 'Support', 'Support'] ------ 1\n",
      "['Specialist', 'Warrior', 'Warrior', 'Warrior', 'Warrior'] ------ 3\n",
      "['Warrior', 'Warrior', 'Warrior', 'Warrior', 'Warrior'] ------ 2\n"
     ]
    }
   ],
   "source": [
    "# unique_comps is a list containing every unique team composition played in our dataset\n",
    "# composition_list is a list containing every team composition played, regardless of how many times\n",
    "# We can cycle through the lists and count the number of times each composition was played\n",
    "# From this we can determine the most popular selection of classes, and the least popular\n",
    "most_played_value = 0\n",
    "least_played_value = 9999\n",
    "most_played_team = []\n",
    "least_played_team = []\n",
    "\n",
    "for i in unique_comps:\n",
    "    if composition_list.count(i) > most_played_value:\n",
    "        most_played_value = composition_list.count(i)\n",
    "        most_played_team = i\n",
    "    if composition_list.count(i) < least_played_value:\n",
    "        least_played_value = composition_list.count(i)\n",
    "        least_played_team = i\n",
    "    print(i, \"------\", composition_list.count(i))"
   ]
  },
  {
   "cell_type": "code",
   "execution_count": 78,
   "metadata": {
    "collapsed": false
   },
   "outputs": [
    {
     "name": "stdout",
     "output_type": "stream",
     "text": [
      "Most Played\n",
      "['Assassin', 'Assassin', 'Specialist', 'Support', 'Warrior'] played 147694 times\n",
      "\n",
      "Least Played\n",
      "['Specialist', 'Support', 'Support', 'Support', 'Support'] played 1 time(s).\n"
     ]
    }
   ],
   "source": [
    "# Information on most and least commonly played compositions\n",
    "print(\"Most Played\")\n",
    "print(most_played_team,\"played\", most_played_value, \"times\")\n",
    "print(\"\\nLeast Played\")\n",
    "print(least_played_team,\"played\", least_played_value, \"time(s).\")"
   ]
  }
 ],
 "metadata": {
  "kernelspec": {
   "display_name": "Python 3",
   "language": "python",
   "name": "python3"
  },
  "language_info": {
   "codemirror_mode": {
    "name": "ipython",
    "version": 3
   },
   "file_extension": ".py",
   "mimetype": "text/x-python",
   "name": "python",
   "nbconvert_exporter": "python",
   "pygments_lexer": "ipython3",
   "version": "3.5.1"
  }
 },
 "nbformat": 4,
 "nbformat_minor": 0
}
