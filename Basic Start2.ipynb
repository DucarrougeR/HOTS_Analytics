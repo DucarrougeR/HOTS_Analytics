{
 "cells": [
  {
   "cell_type": "markdown",
   "metadata": {},
   "source": [
    "# <font color='red'>Basic Analytics Applied to Training Set of Heroes of the Storm Game Data</font>"
   ]
  },
  {
   "cell_type": "markdown",
   "metadata": {},
   "source": [
    "### 1. Determine the best Heroes(in terms of win rate) in each category:\n",
    "* Support\n",
    "* Assassin\n",
    "* Warrior\n",
    "* Specialist\n",
    "\n",
    "### 2. Determine the best Team Composition in term of win rate\n",
    "\n",
    "### 3. Does the map affect the team composition?\n",
    "\n",
    "### 4. Which Assassin is better; ranged or melee?\n",
    "\n",
    "### 5. What are the most played Heroes in each category?  Are they the most likely heroes to win?\n"
   ]
  },
  {
   "cell_type": "markdown",
   "metadata": {},
   "source": [
    "# dataset too large:\n",
    "    ## reduce to only Hero League: ~1.7million lines?\n",
    "    ## analyse in IPython Server? "
   ]
  },
  {
   "cell_type": "code",
   "execution_count": 1,
   "metadata": {
    "collapsed": false
   },
   "outputs": [],
   "source": [
    "#import required libraries\n",
    "import pandas as pd\n",
    "import numpy as np\n",
    "import matplotlib.pyplot as plt\n",
    "import seaborn as sns\n",
    "import csv\n",
    "import sys\n",
    "\n",
    "%matplotlib inline\n",
    "#using files to format dataframe display\n",
    "from IPython.core.display import HTML\n",
    "css = open('style-table.css').read() + open('style-notebook.css').read()\n",
    "HTML('<style>{}</style>'.format(css))\n",
    "\n",
    "#load both csv files into tow respective dataframes\n",
    "DF_Replay = pd.read_csv(\"TSReplay.csv\")\n",
    "\n",
    "DF_Characters = pd.read_csv(\"TSCharacters.csv\")\n",
    "\n",
    "DF_Map_Groups = pd.read_csv(\"HeroAndMap.csv\")"
   ]
  },
  {
   "cell_type": "code",
   "execution_count": 2,
   "metadata": {
    "collapsed": false
   },
   "outputs": [
    {
     "data": {
      "text/html": [
       "<div>\n",
       "<table border=\"1\" class=\"dataframe\">\n",
       "  <thead>\n",
       "    <tr style=\"text-align: right;\">\n",
       "      <th></th>\n",
       "      <th>ReplayID</th>\n",
       "      <th>GameMode(3=Quick Match 4=Hero League 5=Team League)</th>\n",
       "      <th>Map</th>\n",
       "      <th>Replay Length</th>\n",
       "      <th>Timestamp (UTC)</th>\n",
       "    </tr>\n",
       "  </thead>\n",
       "  <tbody>\n",
       "    <tr>\n",
       "      <th>0</th>\n",
       "      <td>23915730</td>\n",
       "      <td>4</td>\n",
       "      <td>Haunted Mines</td>\n",
       "      <td>00:12:00</td>\n",
       "      <td>5/14/2015 12:55:26 AM</td>\n",
       "    </tr>\n",
       "    <tr>\n",
       "      <th>1</th>\n",
       "      <td>23927005</td>\n",
       "      <td>3</td>\n",
       "      <td>Cursed Hollow</td>\n",
       "      <td>00:21:00</td>\n",
       "      <td>5/14/2015 12:55:26 AM</td>\n",
       "    </tr>\n",
       "  </tbody>\n",
       "</table>\n",
       "</div>"
      ],
      "text/plain": [
       "   ReplayID  GameMode(3=Quick Match 4=Hero League 5=Team League)  \\\n",
       "0  23915730                                                  4     \n",
       "1  23927005                                                  3     \n",
       "\n",
       "             Map Replay Length        Timestamp (UTC)  \n",
       "0  Haunted Mines      00:12:00  5/14/2015 12:55:26 AM  \n",
       "1  Cursed Hollow      00:21:00  5/14/2015 12:55:26 AM  "
      ]
     },
     "execution_count": 2,
     "metadata": {},
     "output_type": "execute_result"
    }
   ],
   "source": [
    "DF_Replay.head(2)"
   ]
  },
  {
   "cell_type": "code",
   "execution_count": 3,
   "metadata": {
    "collapsed": false
   },
   "outputs": [
    {
     "data": {
      "text/html": [
       "<div>\n",
       "<table border=\"1\" class=\"dataframe\">\n",
       "  <thead>\n",
       "    <tr style=\"text-align: right;\">\n",
       "      <th></th>\n",
       "      <th>ReplayID</th>\n",
       "      <th>GameMode</th>\n",
       "      <th>Map</th>\n",
       "      <th>ReplayLength</th>\n",
       "      <th>Timestamp</th>\n",
       "    </tr>\n",
       "  </thead>\n",
       "  <tbody>\n",
       "    <tr>\n",
       "      <th>0</th>\n",
       "      <td>23915730</td>\n",
       "      <td>4</td>\n",
       "      <td>Haunted Mines</td>\n",
       "      <td>00:12:00</td>\n",
       "      <td>5/14/2015 12:55:26 AM</td>\n",
       "    </tr>\n",
       "    <tr>\n",
       "      <th>2</th>\n",
       "      <td>23915740</td>\n",
       "      <td>4</td>\n",
       "      <td>Garden of Terror</td>\n",
       "      <td>00:26:18</td>\n",
       "      <td>5/14/2015 12:55:27 AM</td>\n",
       "    </tr>\n",
       "    <tr>\n",
       "      <th>10</th>\n",
       "      <td>23924385</td>\n",
       "      <td>4</td>\n",
       "      <td>Garden of Terror</td>\n",
       "      <td>00:34:37</td>\n",
       "      <td>5/14/2015 12:55:39 AM</td>\n",
       "    </tr>\n",
       "    <tr>\n",
       "      <th>22</th>\n",
       "      <td>23915858</td>\n",
       "      <td>4</td>\n",
       "      <td>Sky Temple</td>\n",
       "      <td>00:22:32</td>\n",
       "      <td>5/14/2015 12:56:00 AM</td>\n",
       "    </tr>\n",
       "    <tr>\n",
       "      <th>23</th>\n",
       "      <td>23915915</td>\n",
       "      <td>4</td>\n",
       "      <td>Dragon Shire</td>\n",
       "      <td>00:24:00</td>\n",
       "      <td>5/14/2015 12:56:01 AM</td>\n",
       "    </tr>\n",
       "    <tr>\n",
       "      <th>25</th>\n",
       "      <td>24393574</td>\n",
       "      <td>4</td>\n",
       "      <td>Garden of Terror</td>\n",
       "      <td>00:20:15</td>\n",
       "      <td>5/14/2015 12:56:08 AM</td>\n",
       "    </tr>\n",
       "    <tr>\n",
       "      <th>30</th>\n",
       "      <td>23929877</td>\n",
       "      <td>4</td>\n",
       "      <td>Dragon Shire</td>\n",
       "      <td>00:22:01</td>\n",
       "      <td>5/14/2015 12:56:13 AM</td>\n",
       "    </tr>\n",
       "    <tr>\n",
       "      <th>31</th>\n",
       "      <td>23950711</td>\n",
       "      <td>4</td>\n",
       "      <td>Blackheart's Bay</td>\n",
       "      <td>00:16:45</td>\n",
       "      <td>5/14/2015 12:56:13 AM</td>\n",
       "    </tr>\n",
       "    <tr>\n",
       "      <th>32</th>\n",
       "      <td>24507009</td>\n",
       "      <td>4</td>\n",
       "      <td>Garden of Terror</td>\n",
       "      <td>00:30:30</td>\n",
       "      <td>5/14/2015 12:56:14 AM</td>\n",
       "    </tr>\n",
       "    <tr>\n",
       "      <th>34</th>\n",
       "      <td>23915821</td>\n",
       "      <td>4</td>\n",
       "      <td>Blackheart's Bay</td>\n",
       "      <td>00:24:20</td>\n",
       "      <td>5/14/2015 12:56:15 AM</td>\n",
       "    </tr>\n",
       "    <tr>\n",
       "      <th>35</th>\n",
       "      <td>23924305</td>\n",
       "      <td>4</td>\n",
       "      <td>Dragon Shire</td>\n",
       "      <td>00:16:34</td>\n",
       "      <td>5/14/2015 12:56:17 AM</td>\n",
       "    </tr>\n",
       "    <tr>\n",
       "      <th>40</th>\n",
       "      <td>24091524</td>\n",
       "      <td>4</td>\n",
       "      <td>Tomb of the Spider Queen</td>\n",
       "      <td>00:22:15</td>\n",
       "      <td>5/14/2015 12:56:24 AM</td>\n",
       "    </tr>\n",
       "    <tr>\n",
       "      <th>46</th>\n",
       "      <td>23920889</td>\n",
       "      <td>4</td>\n",
       "      <td>Haunted Mines</td>\n",
       "      <td>00:17:38</td>\n",
       "      <td>5/14/2015 12:56:28 AM</td>\n",
       "    </tr>\n",
       "    <tr>\n",
       "      <th>47</th>\n",
       "      <td>23920333</td>\n",
       "      <td>4</td>\n",
       "      <td>Garden of Terror</td>\n",
       "      <td>00:22:33</td>\n",
       "      <td>5/14/2015 12:56:29 AM</td>\n",
       "    </tr>\n",
       "    <tr>\n",
       "      <th>61</th>\n",
       "      <td>24080712</td>\n",
       "      <td>4</td>\n",
       "      <td>Sky Temple</td>\n",
       "      <td>00:21:50</td>\n",
       "      <td>5/14/2015 12:56:54 AM</td>\n",
       "    </tr>\n",
       "    <tr>\n",
       "      <th>71</th>\n",
       "      <td>23923686</td>\n",
       "      <td>4</td>\n",
       "      <td>Cursed Hollow</td>\n",
       "      <td>00:26:51</td>\n",
       "      <td>5/14/2015 12:57:12 AM</td>\n",
       "    </tr>\n",
       "    <tr>\n",
       "      <th>72</th>\n",
       "      <td>23915914</td>\n",
       "      <td>4</td>\n",
       "      <td>Sky Temple</td>\n",
       "      <td>00:18:03</td>\n",
       "      <td>5/14/2015 12:57:13 AM</td>\n",
       "    </tr>\n",
       "    <tr>\n",
       "      <th>75</th>\n",
       "      <td>23915927</td>\n",
       "      <td>4</td>\n",
       "      <td>Dragon Shire</td>\n",
       "      <td>00:26:05</td>\n",
       "      <td>5/14/2015 12:57:20 AM</td>\n",
       "    </tr>\n",
       "    <tr>\n",
       "      <th>77</th>\n",
       "      <td>23916113</td>\n",
       "      <td>4</td>\n",
       "      <td>Haunted Mines</td>\n",
       "      <td>00:17:02</td>\n",
       "      <td>5/14/2015 12:57:22 AM</td>\n",
       "    </tr>\n",
       "    <tr>\n",
       "      <th>80</th>\n",
       "      <td>23915986</td>\n",
       "      <td>4</td>\n",
       "      <td>Blackheart's Bay</td>\n",
       "      <td>00:20:07</td>\n",
       "      <td>5/14/2015 12:57:25 AM</td>\n",
       "    </tr>\n",
       "    <tr>\n",
       "      <th>90</th>\n",
       "      <td>24760904</td>\n",
       "      <td>4</td>\n",
       "      <td>Cursed Hollow</td>\n",
       "      <td>00:21:15</td>\n",
       "      <td>5/14/2015 12:57:43 AM</td>\n",
       "    </tr>\n",
       "    <tr>\n",
       "      <th>93</th>\n",
       "      <td>23916018</td>\n",
       "      <td>4</td>\n",
       "      <td>Tomb of the Spider Queen</td>\n",
       "      <td>00:13:50</td>\n",
       "      <td>5/14/2015 12:57:52 AM</td>\n",
       "    </tr>\n",
       "    <tr>\n",
       "      <th>96</th>\n",
       "      <td>23916011</td>\n",
       "      <td>4</td>\n",
       "      <td>Sky Temple</td>\n",
       "      <td>00:19:20</td>\n",
       "      <td>5/14/2015 12:57:57 AM</td>\n",
       "    </tr>\n",
       "    <tr>\n",
       "      <th>97</th>\n",
       "      <td>23916034</td>\n",
       "      <td>4</td>\n",
       "      <td>Garden of Terror</td>\n",
       "      <td>00:27:24</td>\n",
       "      <td>5/14/2015 12:57:59 AM</td>\n",
       "    </tr>\n",
       "    <tr>\n",
       "      <th>106</th>\n",
       "      <td>23917921</td>\n",
       "      <td>4</td>\n",
       "      <td>Haunted Mines</td>\n",
       "      <td>00:21:15</td>\n",
       "      <td>5/14/2015 12:58:10 AM</td>\n",
       "    </tr>\n",
       "    <tr>\n",
       "      <th>109</th>\n",
       "      <td>23919698</td>\n",
       "      <td>4</td>\n",
       "      <td>Blackheart's Bay</td>\n",
       "      <td>00:19:30</td>\n",
       "      <td>5/14/2015 12:58:11 AM</td>\n",
       "    </tr>\n",
       "    <tr>\n",
       "      <th>116</th>\n",
       "      <td>23925718</td>\n",
       "      <td>4</td>\n",
       "      <td>Haunted Mines</td>\n",
       "      <td>00:08:45</td>\n",
       "      <td>5/14/2015 12:58:16 AM</td>\n",
       "    </tr>\n",
       "    <tr>\n",
       "      <th>120</th>\n",
       "      <td>24033325</td>\n",
       "      <td>4</td>\n",
       "      <td>Tomb of the Spider Queen</td>\n",
       "      <td>00:23:36</td>\n",
       "      <td>5/14/2015 12:58:17 AM</td>\n",
       "    </tr>\n",
       "    <tr>\n",
       "      <th>121</th>\n",
       "      <td>24782758</td>\n",
       "      <td>4</td>\n",
       "      <td>Dragon Shire</td>\n",
       "      <td>00:17:30</td>\n",
       "      <td>5/14/2015 12:58:17 AM</td>\n",
       "    </tr>\n",
       "    <tr>\n",
       "      <th>122</th>\n",
       "      <td>23916090</td>\n",
       "      <td>4</td>\n",
       "      <td>Garden of Terror</td>\n",
       "      <td>00:24:02</td>\n",
       "      <td>5/14/2015 12:58:18 AM</td>\n",
       "    </tr>\n",
       "  </tbody>\n",
       "</table>\n",
       "</div>"
      ],
      "text/plain": [
       "     ReplayID  GameMode                       Map ReplayLength  \\\n",
       "0    23915730         4             Haunted Mines     00:12:00   \n",
       "2    23915740         4          Garden of Terror     00:26:18   \n",
       "10   23924385         4          Garden of Terror     00:34:37   \n",
       "22   23915858         4                Sky Temple     00:22:32   \n",
       "23   23915915         4              Dragon Shire     00:24:00   \n",
       "25   24393574         4          Garden of Terror     00:20:15   \n",
       "30   23929877         4              Dragon Shire     00:22:01   \n",
       "31   23950711         4          Blackheart's Bay     00:16:45   \n",
       "32   24507009         4          Garden of Terror     00:30:30   \n",
       "34   23915821         4          Blackheart's Bay     00:24:20   \n",
       "35   23924305         4              Dragon Shire     00:16:34   \n",
       "40   24091524         4  Tomb of the Spider Queen     00:22:15   \n",
       "46   23920889         4             Haunted Mines     00:17:38   \n",
       "47   23920333         4          Garden of Terror     00:22:33   \n",
       "61   24080712         4                Sky Temple     00:21:50   \n",
       "71   23923686         4             Cursed Hollow     00:26:51   \n",
       "72   23915914         4                Sky Temple     00:18:03   \n",
       "75   23915927         4              Dragon Shire     00:26:05   \n",
       "77   23916113         4             Haunted Mines     00:17:02   \n",
       "80   23915986         4          Blackheart's Bay     00:20:07   \n",
       "90   24760904         4             Cursed Hollow     00:21:15   \n",
       "93   23916018         4  Tomb of the Spider Queen     00:13:50   \n",
       "96   23916011         4                Sky Temple     00:19:20   \n",
       "97   23916034         4          Garden of Terror     00:27:24   \n",
       "106  23917921         4             Haunted Mines     00:21:15   \n",
       "109  23919698         4          Blackheart's Bay     00:19:30   \n",
       "116  23925718         4             Haunted Mines     00:08:45   \n",
       "120  24033325         4  Tomb of the Spider Queen     00:23:36   \n",
       "121  24782758         4              Dragon Shire     00:17:30   \n",
       "122  23916090         4          Garden of Terror     00:24:02   \n",
       "\n",
       "                 Timestamp  \n",
       "0    5/14/2015 12:55:26 AM  \n",
       "2    5/14/2015 12:55:27 AM  \n",
       "10   5/14/2015 12:55:39 AM  \n",
       "22   5/14/2015 12:56:00 AM  \n",
       "23   5/14/2015 12:56:01 AM  \n",
       "25   5/14/2015 12:56:08 AM  \n",
       "30   5/14/2015 12:56:13 AM  \n",
       "31   5/14/2015 12:56:13 AM  \n",
       "32   5/14/2015 12:56:14 AM  \n",
       "34   5/14/2015 12:56:15 AM  \n",
       "35   5/14/2015 12:56:17 AM  \n",
       "40   5/14/2015 12:56:24 AM  \n",
       "46   5/14/2015 12:56:28 AM  \n",
       "47   5/14/2015 12:56:29 AM  \n",
       "61   5/14/2015 12:56:54 AM  \n",
       "71   5/14/2015 12:57:12 AM  \n",
       "72   5/14/2015 12:57:13 AM  \n",
       "75   5/14/2015 12:57:20 AM  \n",
       "77   5/14/2015 12:57:22 AM  \n",
       "80   5/14/2015 12:57:25 AM  \n",
       "90   5/14/2015 12:57:43 AM  \n",
       "93   5/14/2015 12:57:52 AM  \n",
       "96   5/14/2015 12:57:57 AM  \n",
       "97   5/14/2015 12:57:59 AM  \n",
       "106  5/14/2015 12:58:10 AM  \n",
       "109  5/14/2015 12:58:11 AM  \n",
       "116  5/14/2015 12:58:16 AM  \n",
       "120  5/14/2015 12:58:17 AM  \n",
       "121  5/14/2015 12:58:17 AM  \n",
       "122  5/14/2015 12:58:18 AM  "
      ]
     },
     "execution_count": 3,
     "metadata": {},
     "output_type": "execute_result"
    }
   ],
   "source": [
    "#Renaming columns in the dataframe\n",
    "DF_Replay.columns = ['ReplayID', 'GameMode', 'Map', 'ReplayLength', 'Timestamp']\n",
    "#Only keeping rows relating to competitive gameplay (4 = Hero League)\n",
    "DF_Replay = DF_Replay[DF_Replay['GameMode'] == 4]\n",
    "DF_Replay.head(30)"
   ]
  },
  {
   "cell_type": "code",
   "execution_count": 4,
   "metadata": {
    "collapsed": false
   },
   "outputs": [
    {
     "data": {
      "text/html": [
       "<div>\n",
       "<table border=\"1\" class=\"dataframe\">\n",
       "  <thead>\n",
       "    <tr style=\"text-align: right;\">\n",
       "      <th></th>\n",
       "      <th>ReplayID</th>\n",
       "      <th>GameMode</th>\n",
       "      <th>Map</th>\n",
       "      <th>ReplayLength</th>\n",
       "      <th>Timestamp</th>\n",
       "    </tr>\n",
       "  </thead>\n",
       "  <tbody>\n",
       "    <tr>\n",
       "      <th>0</th>\n",
       "      <td>23915730</td>\n",
       "      <td>4</td>\n",
       "      <td>Haunted Mines</td>\n",
       "      <td>720</td>\n",
       "      <td>5/14/2015 12:55:26 AM</td>\n",
       "    </tr>\n",
       "    <tr>\n",
       "      <th>2</th>\n",
       "      <td>23915740</td>\n",
       "      <td>4</td>\n",
       "      <td>Garden of Terror</td>\n",
       "      <td>1578</td>\n",
       "      <td>5/14/2015 12:55:27 AM</td>\n",
       "    </tr>\n",
       "    <tr>\n",
       "      <th>10</th>\n",
       "      <td>23924385</td>\n",
       "      <td>4</td>\n",
       "      <td>Garden of Terror</td>\n",
       "      <td>2077</td>\n",
       "      <td>5/14/2015 12:55:39 AM</td>\n",
       "    </tr>\n",
       "    <tr>\n",
       "      <th>22</th>\n",
       "      <td>23915858</td>\n",
       "      <td>4</td>\n",
       "      <td>Sky Temple</td>\n",
       "      <td>1352</td>\n",
       "      <td>5/14/2015 12:56:00 AM</td>\n",
       "    </tr>\n",
       "    <tr>\n",
       "      <th>23</th>\n",
       "      <td>23915915</td>\n",
       "      <td>4</td>\n",
       "      <td>Dragon Shire</td>\n",
       "      <td>1440</td>\n",
       "      <td>5/14/2015 12:56:01 AM</td>\n",
       "    </tr>\n",
       "  </tbody>\n",
       "</table>\n",
       "</div>"
      ],
      "text/plain": [
       "    ReplayID  GameMode               Map  ReplayLength              Timestamp\n",
       "0   23915730         4     Haunted Mines           720  5/14/2015 12:55:26 AM\n",
       "2   23915740         4  Garden of Terror          1578  5/14/2015 12:55:27 AM\n",
       "10  23924385         4  Garden of Terror          2077  5/14/2015 12:55:39 AM\n",
       "22  23915858         4        Sky Temple          1352  5/14/2015 12:56:00 AM\n",
       "23  23915915         4      Dragon Shire          1440  5/14/2015 12:56:01 AM"
      ]
     },
     "execution_count": 4,
     "metadata": {},
     "output_type": "execute_result"
    }
   ],
   "source": [
    "#Split the string for ReplayLength into several sub-cells based on the ':'\n",
    "# XX : YY : ZZ\n",
    "# X *60 *60 (for float(sec))\n",
    "# Y *1 *60  (for float(sec))\n",
    "# Z *1      (for float(sec))\n",
    "\n",
    "#from format   |  hh:mm:mm  |\n",
    "#to format     |  hh  |  :  | mm:ss  |\n",
    "ChangeTime = DF_Replay['ReplayLength'].str.partition(':')\n",
    "ChangeTime.columns = ['Hour', 'Col2', 'MinSec']\n",
    "#Now we have one column for hours, and one for both minutes and seconds to partition again\n",
    "\n",
    "#from format  |  mm:ss  |\n",
    "#to format    |  mm  |  :  |  ss  |\n",
    "ChangeTime2 = ChangeTime['MinSec'].str.partition(':')\n",
    "ChangeTime2.columns = ['Min', 'Space', 'Second']\n",
    "#now we have one column for minutes and one for seconds\n",
    "\n",
    "#Get both column in float type\n",
    "ChangeTime2['Min'] = ChangeTime2['Min'].astype(float)\n",
    "ChangeTime2['Second'] = ChangeTime2['Second'].astype(float)\n",
    "\n",
    "#Apply math to convert min to sec, then add minutes and seconds together\n",
    "ChangeTime2['Min']= ChangeTime2['Min'] * 60\n",
    "ChangeTime2['Second'] = ChangeTime2['Min'] + ChangeTime2['Second']\n",
    "ChangeTime2 = ChangeTime2[[2]]\n",
    "\n",
    "ChangeTime = ChangeTime.drop('MinSec', axis=1)\n",
    "ChangeTime['Hour'] = ChangeTime['Hour'].astype(float)\n",
    "#change the values in the column with *60 to get in minutes, and *60 again to get result in seconds\n",
    "ChangeTime['Hour'] = ChangeTime['Hour'] * 60 * 60     \n",
    "\n",
    "ChangeTime['Col2'] = (ChangeTime2['Second'] + ChangeTime['Hour'])\n",
    "\n",
    "DF_Replay['ReplayLength'] = ChangeTime['Col2']\n",
    "DF_Replay.head()"
   ]
  },
  {
   "cell_type": "code",
   "execution_count": 5,
   "metadata": {
    "collapsed": false
   },
   "outputs": [
    {
     "data": {
      "text/html": [
       "<div>\n",
       "<table border=\"1\" class=\"dataframe\">\n",
       "  <thead>\n",
       "    <tr style=\"text-align: right;\">\n",
       "      <th></th>\n",
       "      <th>ReplayID</th>\n",
       "      <th>Is Auto Select</th>\n",
       "      <th>Hero</th>\n",
       "      <th>Hero Level</th>\n",
       "      <th>Is Winner</th>\n",
       "      <th>MMR Before</th>\n",
       "    </tr>\n",
       "  </thead>\n",
       "  <tbody>\n",
       "    <tr>\n",
       "      <th>0</th>\n",
       "      <td>23915730</td>\n",
       "      <td>False</td>\n",
       "      <td>Rehgar</td>\n",
       "      <td>14</td>\n",
       "      <td>False</td>\n",
       "      <td>3170</td>\n",
       "    </tr>\n",
       "    <tr>\n",
       "      <th>1</th>\n",
       "      <td>23915730</td>\n",
       "      <td>False</td>\n",
       "      <td>Falstad</td>\n",
       "      <td>10</td>\n",
       "      <td>False</td>\n",
       "      <td>3330</td>\n",
       "    </tr>\n",
       "    <tr>\n",
       "      <th>2</th>\n",
       "      <td>23915730</td>\n",
       "      <td>False</td>\n",
       "      <td>Jaina</td>\n",
       "      <td>7</td>\n",
       "      <td>True</td>\n",
       "      <td>3442</td>\n",
       "    </tr>\n",
       "    <tr>\n",
       "      <th>3</th>\n",
       "      <td>23915730</td>\n",
       "      <td>False</td>\n",
       "      <td>Sylvanas</td>\n",
       "      <td>13</td>\n",
       "      <td>False</td>\n",
       "      <td>2666</td>\n",
       "    </tr>\n",
       "    <tr>\n",
       "      <th>4</th>\n",
       "      <td>23915730</td>\n",
       "      <td>False</td>\n",
       "      <td>Zagara</td>\n",
       "      <td>10</td>\n",
       "      <td>True</td>\n",
       "      <td>3198</td>\n",
       "    </tr>\n",
       "  </tbody>\n",
       "</table>\n",
       "</div>"
      ],
      "text/plain": [
       "   ReplayID Is Auto Select      Hero  Hero Level Is Winner  MMR Before\n",
       "0  23915730          False    Rehgar          14     False        3170\n",
       "1  23915730          False   Falstad          10     False        3330\n",
       "2  23915730          False     Jaina           7      True        3442\n",
       "3  23915730          False  Sylvanas          13     False        2666\n",
       "4  23915730          False    Zagara          10      True        3198"
      ]
     },
     "execution_count": 5,
     "metadata": {},
     "output_type": "execute_result"
    }
   ],
   "source": [
    "DF_Characters.head()"
   ]
  },
  {
   "cell_type": "code",
   "execution_count": 6,
   "metadata": {
    "collapsed": false
   },
   "outputs": [
    {
     "data": {
      "text/html": [
       "<div>\n",
       "<table border=\"1\" class=\"dataframe\">\n",
       "  <thead>\n",
       "    <tr style=\"text-align: right;\">\n",
       "      <th></th>\n",
       "      <th>ID</th>\n",
       "      <th>Name</th>\n",
       "      <th>Group</th>\n",
       "      <th>SubGroup</th>\n",
       "    </tr>\n",
       "  </thead>\n",
       "  <tbody>\n",
       "    <tr>\n",
       "      <th>0</th>\n",
       "      <td>0</td>\n",
       "      <td>Unknown</td>\n",
       "      <td>NaN</td>\n",
       "      <td>NaN</td>\n",
       "    </tr>\n",
       "    <tr>\n",
       "      <th>1</th>\n",
       "      <td>1</td>\n",
       "      <td>Abathur</td>\n",
       "      <td>Specialist</td>\n",
       "      <td>Utility</td>\n",
       "    </tr>\n",
       "  </tbody>\n",
       "</table>\n",
       "</div>"
      ],
      "text/plain": [
       "   ID     Name       Group SubGroup\n",
       "0   0  Unknown         NaN      NaN\n",
       "1   1  Abathur  Specialist  Utility"
      ]
     },
     "execution_count": 6,
     "metadata": {},
     "output_type": "execute_result"
    }
   ],
   "source": [
    "DF_Map_Groups.head(2)"
   ]
  },
  {
   "cell_type": "code",
   "execution_count": 7,
   "metadata": {
    "collapsed": false
   },
   "outputs": [
    {
     "data": {
      "text/html": [
       "<div>\n",
       "<table border=\"1\" class=\"dataframe\">\n",
       "  <thead>\n",
       "    <tr style=\"text-align: right;\">\n",
       "      <th></th>\n",
       "      <th>Name</th>\n",
       "      <th>Group</th>\n",
       "    </tr>\n",
       "  </thead>\n",
       "  <tbody>\n",
       "    <tr>\n",
       "      <th>45</th>\n",
       "      <td>Gall</td>\n",
       "      <td>Assassin</td>\n",
       "    </tr>\n",
       "    <tr>\n",
       "      <th>46</th>\n",
       "      <td>Lunara</td>\n",
       "      <td>Assassin</td>\n",
       "    </tr>\n",
       "    <tr>\n",
       "      <th>47</th>\n",
       "      <td>Greymane</td>\n",
       "      <td>Assassin</td>\n",
       "    </tr>\n",
       "  </tbody>\n",
       "</table>\n",
       "</div>"
      ],
      "text/plain": [
       "        Name     Group\n",
       "45      Gall  Assassin\n",
       "46    Lunara  Assassin\n",
       "47  Greymane  Assassin"
      ]
     },
     "execution_count": 7,
     "metadata": {},
     "output_type": "execute_result"
    }
   ],
   "source": [
    "#Remove all after row 49, to remove map IDs and keep all data for Heroes\n",
    "DF_Map_Groups = DF_Map_Groups[:48]\n",
    "\n",
    "#DF3 = DF.drop('ID', axis=1).drop('SubGroup', axis=1)\n",
    "DF_Map_Groups = DF_Map_Groups.drop('SubGroup', axis=1).drop('ID', axis=1)\n",
    "\n",
    "#Returning last 3 elements to check\n",
    "DF_Map_Groups.iloc[45:]"
   ]
  },
  {
   "cell_type": "code",
   "execution_count": 8,
   "metadata": {
    "collapsed": false,
    "scrolled": true
   },
   "outputs": [],
   "source": [
    "#Need to merge on 'ReplayID' and duplicate entries\n",
    "from pandas import merge\n",
    "DF1 = pd.merge(DF_Replay, DF_Characters, left_on=[\"ReplayID\"], right_on=['ReplayID'], how='left')\n",
    "DF1.head(4)\n",
    "\n",
    "#deleting previous dataframes created for memory reasons\n",
    "del DF_Replay\n",
    "del DF_Characters"
   ]
  },
  {
   "cell_type": "code",
   "execution_count": 9,
   "metadata": {
    "collapsed": true
   },
   "outputs": [],
   "source": [
    "#Need to merge on 'Name' \n",
    "DF = pd.merge(DF1, DF_Map_Groups, left_on=[\"Hero\"], right_on=[\"Name\"], how='left')\n",
    "\n",
    "#delete the former dataframe DF_Map_Groups for memory's optimization\n",
    "del DF_Map_Groups\n",
    "del DF1"
   ]
  },
  {
   "cell_type": "code",
   "execution_count": 10,
   "metadata": {
    "collapsed": false
   },
   "outputs": [],
   "source": [
    "#Saving the merged Dataframe to a csv file\n",
    "DF.to_csv(\"HeroLeagueData.csv\")"
   ]
  },
  {
   "cell_type": "code",
   "execution_count": 11,
   "metadata": {
    "collapsed": false
   },
   "outputs": [
    {
     "data": {
      "text/html": [
       "<div>\n",
       "<table border=\"1\" class=\"dataframe\">\n",
       "  <thead>\n",
       "    <tr style=\"text-align: right;\">\n",
       "      <th></th>\n",
       "      <th>Unnamed: 0</th>\n",
       "      <th>ReplayID</th>\n",
       "      <th>GameMode</th>\n",
       "      <th>Map</th>\n",
       "      <th>ReplayLength</th>\n",
       "      <th>Timestamp</th>\n",
       "      <th>Is Auto Select</th>\n",
       "      <th>Hero</th>\n",
       "      <th>Hero Level</th>\n",
       "      <th>Is Winner</th>\n",
       "      <th>MMR Before</th>\n",
       "      <th>Name</th>\n",
       "      <th>Group</th>\n",
       "    </tr>\n",
       "  </thead>\n",
       "  <tbody>\n",
       "    <tr>\n",
       "      <th>0</th>\n",
       "      <td>0</td>\n",
       "      <td>23915730</td>\n",
       "      <td>4</td>\n",
       "      <td>Haunted Mines</td>\n",
       "      <td>720</td>\n",
       "      <td>5/14/2015 12:55:26 AM</td>\n",
       "      <td>False</td>\n",
       "      <td>Rehgar</td>\n",
       "      <td>14</td>\n",
       "      <td>False</td>\n",
       "      <td>3170</td>\n",
       "      <td>Rehgar</td>\n",
       "      <td>Support</td>\n",
       "    </tr>\n",
       "    <tr>\n",
       "      <th>1</th>\n",
       "      <td>1</td>\n",
       "      <td>23915730</td>\n",
       "      <td>4</td>\n",
       "      <td>Haunted Mines</td>\n",
       "      <td>720</td>\n",
       "      <td>5/14/2015 12:55:26 AM</td>\n",
       "      <td>False</td>\n",
       "      <td>Falstad</td>\n",
       "      <td>10</td>\n",
       "      <td>False</td>\n",
       "      <td>3330</td>\n",
       "      <td>Falstad</td>\n",
       "      <td>Assassin</td>\n",
       "    </tr>\n",
       "    <tr>\n",
       "      <th>2</th>\n",
       "      <td>2</td>\n",
       "      <td>23915730</td>\n",
       "      <td>4</td>\n",
       "      <td>Haunted Mines</td>\n",
       "      <td>720</td>\n",
       "      <td>5/14/2015 12:55:26 AM</td>\n",
       "      <td>False</td>\n",
       "      <td>Jaina</td>\n",
       "      <td>7</td>\n",
       "      <td>True</td>\n",
       "      <td>3442</td>\n",
       "      <td>Jaina</td>\n",
       "      <td>Assassin</td>\n",
       "    </tr>\n",
       "    <tr>\n",
       "      <th>3</th>\n",
       "      <td>3</td>\n",
       "      <td>23915730</td>\n",
       "      <td>4</td>\n",
       "      <td>Haunted Mines</td>\n",
       "      <td>720</td>\n",
       "      <td>5/14/2015 12:55:26 AM</td>\n",
       "      <td>False</td>\n",
       "      <td>Sylvanas</td>\n",
       "      <td>13</td>\n",
       "      <td>False</td>\n",
       "      <td>2666</td>\n",
       "      <td>Sylvanas</td>\n",
       "      <td>Specialist</td>\n",
       "    </tr>\n",
       "    <tr>\n",
       "      <th>4</th>\n",
       "      <td>4</td>\n",
       "      <td>23915730</td>\n",
       "      <td>4</td>\n",
       "      <td>Haunted Mines</td>\n",
       "      <td>720</td>\n",
       "      <td>5/14/2015 12:55:26 AM</td>\n",
       "      <td>False</td>\n",
       "      <td>Zagara</td>\n",
       "      <td>10</td>\n",
       "      <td>True</td>\n",
       "      <td>3198</td>\n",
       "      <td>Zagara</td>\n",
       "      <td>Specialist</td>\n",
       "    </tr>\n",
       "  </tbody>\n",
       "</table>\n",
       "</div>"
      ],
      "text/plain": [
       "   Unnamed: 0  ReplayID  GameMode            Map  ReplayLength  \\\n",
       "0           0  23915730         4  Haunted Mines           720   \n",
       "1           1  23915730         4  Haunted Mines           720   \n",
       "2           2  23915730         4  Haunted Mines           720   \n",
       "3           3  23915730         4  Haunted Mines           720   \n",
       "4           4  23915730         4  Haunted Mines           720   \n",
       "\n",
       "               Timestamp Is Auto Select      Hero  Hero Level Is Winner  \\\n",
       "0  5/14/2015 12:55:26 AM          False    Rehgar          14     False   \n",
       "1  5/14/2015 12:55:26 AM          False   Falstad          10     False   \n",
       "2  5/14/2015 12:55:26 AM          False     Jaina           7      True   \n",
       "3  5/14/2015 12:55:26 AM          False  Sylvanas          13     False   \n",
       "4  5/14/2015 12:55:26 AM          False    Zagara          10      True   \n",
       "\n",
       "   MMR Before      Name       Group  \n",
       "0        3170    Rehgar     Support  \n",
       "1        3330   Falstad    Assassin  \n",
       "2        3442     Jaina    Assassin  \n",
       "3        2666  Sylvanas  Specialist  \n",
       "4        3198    Zagara  Specialist  "
      ]
     },
     "execution_count": 11,
     "metadata": {},
     "output_type": "execute_result"
    }
   ],
   "source": [
    "DataFrame = pd.read_csv(\"HeroLeagueData.csv\")\n",
    "del DF\n",
    "DataFrame.head()"
   ]
  },
  {
   "cell_type": "code",
   "execution_count": 12,
   "metadata": {
    "collapsed": false
   },
   "outputs": [
    {
     "data": {
      "text/plain": [
       "['ReplayID',\n",
       " 'Map',\n",
       " 'ReplayLength',\n",
       " 'Hero',\n",
       " 'HeroLevel',\n",
       " 'IsWinner',\n",
       " 'MMRbefore',\n",
       " 'Group']"
      ]
     },
     "execution_count": 12,
     "metadata": {},
     "output_type": "execute_result"
    }
   ],
   "source": [
    "#drop these columns from dataframe as they are no longer relevant\n",
    "DataFrame = DataFrame.drop('Unnamed: 0', axis=1).drop('GameMode', axis=1).drop('Name', axis=1).drop('Is Auto Select', axis=1).drop('Timestamp', axis=1)\n",
    "\n",
    "\n",
    "#Overwrite the DataFrame's Column names to get it into correct format for future use\n",
    "DataFrame.columns = ['ReplayID', 'Map', 'ReplayLength', 'Hero', 'HeroLevel', 'IsWinner', 'MMRbefore', 'Group']\n",
    "#similar to:\n",
    "#DF = DF.rename(columns = ('Replay Length':'ReplayLength'))\n",
    "#DF = DF.rename(columns = {'Timestamp (UTC)':'Timestamp'})\n",
    "#DF = DF.rename(columns = {'Is Auto Select':'AutoSelect'})\n",
    "#...\n",
    "\n",
    "list(DataFrame.columns.values)"
   ]
  },
  {
   "cell_type": "code",
   "execution_count": 13,
   "metadata": {
    "collapsed": false
   },
   "outputs": [
    {
     "data": {
      "text/plain": [
       "ReplayID          int64\n",
       "Map              object\n",
       "ReplayLength    float64\n",
       "Hero             object\n",
       "HeroLevel         int64\n",
       "IsWinner           bool\n",
       "MMRbefore       float64\n",
       "Group            object\n",
       "dtype: object"
      ]
     },
     "execution_count": 13,
     "metadata": {},
     "output_type": "execute_result"
    }
   ],
   "source": [
    "DataFrame.dtypes \n",
    "#ReplayID          int64     >>>Change to Category\n",
    "#Map              object\n",
    "#ReplayLength     object\n",
    "#Hero             object\n",
    "#HeroLevel         int64\n",
    "#IsWinner           bool\n",
    "#MMRBefore       float64\n",
    "#Group            object"
   ]
  },
  {
   "cell_type": "code",
   "execution_count": 14,
   "metadata": {
    "collapsed": false
   },
   "outputs": [
    {
     "data": {
      "text/plain": [
       "ReplayID             0\n",
       "Map                  0\n",
       "ReplayLength         0\n",
       "Hero                 0\n",
       "HeroLevel            0\n",
       "IsWinner             0\n",
       "MMRbefore       175460\n",
       "Group                0\n",
       "dtype: int64"
      ]
     },
     "execution_count": 14,
     "metadata": {},
     "output_type": "execute_result"
    }
   ],
   "source": [
    "# Check if any fields contain null values\n",
    "DataFrame.isnull().sum()"
   ]
  },
  {
   "cell_type": "code",
   "execution_count": 15,
   "metadata": {
    "collapsed": true
   },
   "outputs": [],
   "source": [
    "# Remove all of the rows where the value of \"MMRbefore\" is not a finite number\n",
    "DataFrame = DataFrame[np.isfinite(DataFrame[\"MMRbefore\"])]"
   ]
  },
  {
   "cell_type": "code",
   "execution_count": 16,
   "metadata": {
    "collapsed": false
   },
   "outputs": [
    {
     "name": "stdout",
     "output_type": "stream",
     "text": [
      "True\n"
     ]
    }
   ],
   "source": [
    "# Get the number of rows that have a unique value for \"ReplayID\"\n",
    "# This value should be one tenth the value of the dataframe length, as each game has 10 players\n",
    "A = DataFrame.ReplayID.nunique()\n",
    "B = len(DataFrame)\n",
    "print(A*10 == B)"
   ]
  },
  {
   "cell_type": "code",
   "execution_count": 17,
   "metadata": {
    "collapsed": false
   },
   "outputs": [
    {
     "data": {
      "text/plain": [
       "(1697780, 8)"
      ]
     },
     "execution_count": 17,
     "metadata": {},
     "output_type": "execute_result"
    }
   ],
   "source": [
    "# Find the number of entries remaining\n",
    "DataFrame.shape"
   ]
  },
  {
   "cell_type": "code",
   "execution_count": 18,
   "metadata": {
    "collapsed": false,
    "scrolled": true
   },
   "outputs": [
    {
     "data": {
      "text/html": [
       "<div>\n",
       "<table border=\"1\" class=\"dataframe\">\n",
       "  <thead>\n",
       "    <tr style=\"text-align: right;\">\n",
       "      <th></th>\n",
       "      <th>ReplayLength</th>\n",
       "      <th>HeroLevel</th>\n",
       "      <th>MMRbefore</th>\n",
       "    </tr>\n",
       "  </thead>\n",
       "  <tbody>\n",
       "    <tr>\n",
       "      <th>0</th>\n",
       "      <td>720</td>\n",
       "      <td>14</td>\n",
       "      <td>3170</td>\n",
       "    </tr>\n",
       "    <tr>\n",
       "      <th>1</th>\n",
       "      <td>720</td>\n",
       "      <td>10</td>\n",
       "      <td>3330</td>\n",
       "    </tr>\n",
       "    <tr>\n",
       "      <th>2</th>\n",
       "      <td>720</td>\n",
       "      <td>7</td>\n",
       "      <td>3442</td>\n",
       "    </tr>\n",
       "    <tr>\n",
       "      <th>3</th>\n",
       "      <td>720</td>\n",
       "      <td>13</td>\n",
       "      <td>2666</td>\n",
       "    </tr>\n",
       "    <tr>\n",
       "      <th>4</th>\n",
       "      <td>720</td>\n",
       "      <td>10</td>\n",
       "      <td>3198</td>\n",
       "    </tr>\n",
       "  </tbody>\n",
       "</table>\n",
       "</div>"
      ],
      "text/plain": [
       "   ReplayLength  HeroLevel  MMRbefore\n",
       "0           720         14       3170\n",
       "1           720         10       3330\n",
       "2           720          7       3442\n",
       "3           720         13       2666\n",
       "4           720         10       3198"
      ]
     },
     "execution_count": 18,
     "metadata": {},
     "output_type": "execute_result"
    }
   ],
   "source": [
    "numeric = DataFrame.select_dtypes(['int64','float64']).columns\n",
    "numeric = numeric.drop(\"ReplayID\")\n",
    "DataFrame[numeric].head(5)"
   ]
  },
  {
   "cell_type": "code",
   "execution_count": 19,
   "metadata": {
    "collapsed": false
   },
   "outputs": [
    {
     "data": {
      "text/html": [
       "<div>\n",
       "<table border=\"1\" class=\"dataframe\">\n",
       "  <thead>\n",
       "    <tr style=\"text-align: right;\">\n",
       "      <th></th>\n",
       "      <th>ReplayLength</th>\n",
       "      <th>HeroLevel</th>\n",
       "      <th>MMRbefore</th>\n",
       "    </tr>\n",
       "  </thead>\n",
       "  <tbody>\n",
       "    <tr>\n",
       "      <th>ReplayLength</th>\n",
       "      <td>1.000000</td>\n",
       "      <td>-0.003705</td>\n",
       "      <td>-0.050528</td>\n",
       "    </tr>\n",
       "    <tr>\n",
       "      <th>HeroLevel</th>\n",
       "      <td>-0.003705</td>\n",
       "      <td>1.000000</td>\n",
       "      <td>0.103924</td>\n",
       "    </tr>\n",
       "    <tr>\n",
       "      <th>MMRbefore</th>\n",
       "      <td>-0.050528</td>\n",
       "      <td>0.103924</td>\n",
       "      <td>1.000000</td>\n",
       "    </tr>\n",
       "  </tbody>\n",
       "</table>\n",
       "</div>"
      ],
      "text/plain": [
       "              ReplayLength  HeroLevel  MMRbefore\n",
       "ReplayLength      1.000000  -0.003705  -0.050528\n",
       "HeroLevel        -0.003705   1.000000   0.103924\n",
       "MMRbefore        -0.050528   0.103924   1.000000"
      ]
     },
     "execution_count": 19,
     "metadata": {},
     "output_type": "execute_result"
    }
   ],
   "source": [
    "DataFrame[numeric].corr()"
   ]
  },
  {
   "cell_type": "code",
   "execution_count": 20,
   "metadata": {
    "collapsed": false
   },
   "outputs": [
    {
     "data": {
      "text/plain": [
       "array([[<matplotlib.axes._subplots.AxesSubplot object at 0x20B83690>,\n",
       "        <matplotlib.axes._subplots.AxesSubplot object at 0x088CEDB0>]], dtype=object)"
      ]
     },
     "execution_count": 20,
     "metadata": {},
     "output_type": "execute_result"
    },
    {
     "data": {
      "image/png": "[encoded data removed]",
      "text/plain": [
       "<matplotlib.figure.Figure at 0x20b83a30>"
      ]
     },
     "metadata": {},
     "output_type": "display_data"
    }
   ],
   "source": [
    "%matplotlib inline\n",
    "DataFrame[[\"HeroLevel\",\"MMRbefore\"]].hist(figsize=(20, 8), color='red')\n",
    "#plt.savefig(\"Histogram-Numeric-Features_HOTS.png\")"
   ]
  },
  {
   "cell_type": "code",
   "execution_count": 21,
   "metadata": {
    "collapsed": false
   },
   "outputs": [
    {
     "data": {
      "text/plain": [
       "<matplotlib.axes._subplots.AxesSubplot at 0x88dba50>"
      ]
     },
     "execution_count": 21,
     "metadata": {},
     "output_type": "execute_result"
    },
    {
     "data": {
      "image/png": "[encoded data removed]",
      "text/plain": [
       "<matplotlib.figure.Figure at 0x20b839d0>"
      ]
     },
     "metadata": {},
     "output_type": "display_data"
    }
   ],
   "source": [
    "\n",
    "DataFrame[\"ReplayLength\"].hist(figsize=(20, 8), color='red')"
   ]
  },
  {
   "cell_type": "code",
   "execution_count": 22,
   "metadata": {
    "collapsed": false
   },
   "outputs": [
    {
     "data": {
      "text/plain": [
       "<matplotlib.axes._subplots.AxesSubplot at 0x8bdfa50>"
      ]
     },
     "execution_count": 22,
     "metadata": {},
     "output_type": "execute_result"
    },
    {
     "data": {
      "image/png": "[encoded data removed]",
      "text/plain": [
       "<matplotlib.figure.Figure at 0x8cd3610>"
      ]
     },
     "metadata": {},
     "output_type": "display_data"
    }
   ],
   "source": [
    "# Create a separate plot just to show the distribution of game length (removing lengthy outliers)\n",
    "DataFrame[\"ReplayLength\"][DataFrame.ReplayLength <= 3000].hist(figsize=(20, 8), color='red', bins=100)"
   ]
  },
  {
   "cell_type": "code",
   "execution_count": 23,
   "metadata": {
    "collapsed": false
   },
   "outputs": [
    {
     "data": {
      "text/plain": [
       "<matplotlib.axes._subplots.AxesSubplot at 0x8d40870>"
      ]
     },
     "execution_count": 23,
     "metadata": {},
     "output_type": "execute_result"
    },
    {
     "data": {
      "image/png": "[encoded data removed]",
      "text/plain": [
       "<matplotlib.figure.Figure at 0x8d17790>"
      ]
     },
     "metadata": {},
     "output_type": "display_data"
    }
   ],
   "source": [
    "dfHero = DataFrame[[\"Hero\", \"IsWinner\"]]\n",
    "dfHero = dfHero.groupby([\"Hero\",\"IsWinner\"])[\"Hero\"].count().unstack('IsWinner')\n",
    "dfHero.plot(kind=\"bar\", stacked=True, figsize=(15,8), title=\"Bar Plot for Win/Loss per hero\")"
   ]
  },
  {
   "cell_type": "code",
   "execution_count": 24,
   "metadata": {
    "collapsed": false
   },
   "outputs": [
    {
     "data": {
      "text/plain": [
       "ReplayID        243380\n",
       "Map             243380\n",
       "ReplayLength    243380\n",
       "Hero            243380\n",
       "HeroLevel       243380\n",
       "IsWinner        243380\n",
       "MMRbefore       243380\n",
       "Group           243380\n",
       "dtype: int64"
      ]
     },
     "execution_count": 24,
     "metadata": {},
     "output_type": "execute_result"
    }
   ],
   "source": [
    "\n",
    "DataFrame[DataFrame.Map == 'Haunted Mines'].count()\n",
    "# DataFrame[DataFrame.Map == \"Sky Temple\"].count()"
   ]
  },
  {
   "cell_type": "markdown",
   "metadata": {
    "collapsed": true
   },
   "source": [
    "#  <u> Observations </u>\n",
    "According to the graph above we can identify that the Heroes which are played the most are:  \n",
    "*Valla*    \n",
    "*Sylvanas*    \n",
    "*Jaina*  \n",
    "*Kael'Thas*  \n",
    "*ETC*    \n",
    "\n",
    "\n",
    "\n",
    "    \n",
    "# Define TRAIN and TEST data sets (80-20? 70-30?)\n",
    "    # define model\n",
    "    # look into OSL, Kernel Density Estimation\n",
    "    # Linear Regression\n",
    "    # logistic Regression\n",
    "    \n",
    "# Establish the likeliness of winning based on team rate\n",
    "\n",
    "\n",
    "# How is auto-select affecting win rate?\n",
    "# More/Less than Hero level??"
   ]
  },
  {
   "cell_type": "code",
   "execution_count": 25,
   "metadata": {
    "collapsed": false
   },
   "outputs": [],
   "source": [
    "# Want to extract 2 lists from each game, one from the winning team, and one from the losing team\n",
    "# Each list will contain 5 items\n",
    "# The list will contain the classes of characters present on that team\n",
    "# E.g. Winner = [\"Assassin\", \"Support\", \"Support\", \"Specialist\", \"Warrior\"]\n",
    "# This list should be then sorted alphabetically\n",
    "# Once sorted, we should add this list as an element of another list, if it is not already contained in that list.\n",
    "# This will allow us to see all of the combinations of team compositions played during our dataset\n",
    "df_classes = DataFrame[[\"IsWinner\", \"ReplayID\", \"Group\"]]"
   ]
  },
  {
   "cell_type": "code",
   "execution_count": 26,
   "metadata": {
    "collapsed": false
   },
   "outputs": [],
   "source": [
    "# df_classes.shape"
   ]
  },
  {
   "cell_type": "code",
   "execution_count": 27,
   "metadata": {
    "collapsed": false
   },
   "outputs": [],
   "source": [
    "# df_classes.head()"
   ]
  },
  {
   "cell_type": "code",
   "execution_count": 28,
   "metadata": {
    "collapsed": false
   },
   "outputs": [],
   "source": [
    "#df_classes.[280]"
   ]
  },
  {
   "cell_type": "code",
   "execution_count": 29,
   "metadata": {
    "collapsed": false
   },
   "outputs": [],
   "source": [
    "# comp_win = []\n",
    "# comp_lose = []\n",
    "# composition_list = []\n",
    "# counter = 0\n",
    "# for x in range(len(df_classes)):\n",
    "#     if df_classes.IsWinner.iloc[x] == True:\n",
    "#         comp_win.append(df_classes.Group.iloc[x])\n",
    "#     else:\n",
    "#         comp_lose.append(df_classes.Group.iloc[x])\n",
    "#     counter += 1\n",
    "#     if counter == 10:\n",
    "#         comp_win.sort()\n",
    "#         comp_lose.sort()\n",
    "#         #print(\"win:\", comp_win)\n",
    "#         #print(\"lose:\", comp_lose)\n",
    "#         #if comp_win not in composition_list:\n",
    "#         composition_list.append(comp_win)\n",
    "#         #if comp_lose not in composition_list:\n",
    "#         composition_list.append(comp_lose)\n",
    "#         comp_win = []\n",
    "#         comp_lose = []\n",
    "#         counter = 0\n",
    "# print(\"done\")  \n",
    "# print(len(composition_list))"
   ]
  },
  {
   "cell_type": "code",
   "execution_count": 30,
   "metadata": {
    "collapsed": false
   },
   "outputs": [],
   "source": [
    "# unique_comps = []\n",
    "# for item in composition_list:\n",
    "#     if item not in unique_comps:\n",
    "#         unique_comps.append(item)\n",
    "        \n",
    "# for j in unique_comps:\n",
    "#     if len(j) != 5:\n",
    "#         print(\"Error\")"
   ]
  },
  {
   "cell_type": "code",
   "execution_count": 31,
   "metadata": {
    "collapsed": false
   },
   "outputs": [],
   "source": [
    "# # Add a new column that will be used to store the team composition\n",
    "# df_classes[\"Composition\"] = df_classes[\"Group\"]\n",
    "# df_classes.head()"
   ]
  },
  {
   "cell_type": "code",
   "execution_count": 32,
   "metadata": {
    "collapsed": false
   },
   "outputs": [],
   "source": [
    "# count = 0\n",
    "# for i in composition_list:\n",
    "#     for j in range(count, count+10):\n",
    "#         if df_classes.IsWinner[j] == True:\n",
    "#             df_classes.Composition[j] = i\n",
    "#         else:\n",
    "#             df_classes.Composition[j] = i\n",
    "#     count +=10"
   ]
  },
  {
   "cell_type": "markdown",
   "metadata": {},
   "source": [
    "## Team composition information\n",
    "- Most Commonly Played Composition:\n",
    "- Top 10 Compositions\n",
    "- "
   ]
  },
  {
   "cell_type": "code",
   "execution_count": 33,
   "metadata": {
    "collapsed": false
   },
   "outputs": [],
   "source": [
    "# tracker = []\n",
    "# for i in composition_list:\n",
    "#     x = composition_list.count(i)\n",
    "#     tracker.append([\"Comp:\", i, x])"
   ]
  },
  {
   "cell_type": "code",
   "execution_count": 34,
   "metadata": {
    "collapsed": true
   },
   "outputs": [],
   "source": [
    "#print(tracker)"
   ]
  },
  {
   "cell_type": "code",
   "execution_count": 35,
   "metadata": {
    "collapsed": false
   },
   "outputs": [],
   "source": [
    "#df_classes.head(20)"
   ]
  },
  {
   "cell_type": "code",
   "execution_count": 36,
   "metadata": {
    "collapsed": false
   },
   "outputs": [
    {
     "data": {
      "text/plain": [
       "(1697780, 8)"
      ]
     },
     "execution_count": 36,
     "metadata": {},
     "output_type": "execute_result"
    }
   ],
   "source": [
    "DataFrame.shape"
   ]
  },
  {
   "cell_type": "markdown",
   "metadata": {},
   "source": []
  },
  {
   "cell_type": "code",
   "execution_count": 37,
   "metadata": {
    "collapsed": false
   },
   "outputs": [
    {
     "data": {
      "text/plain": [
       "array(['Haunted Mines', 'Garden of Terror', 'Sky Temple', 'Dragon Shire',\n",
       "       \"Blackheart's Bay\", 'Tomb of the Spider Queen', 'Cursed Hollow'], dtype=object)"
      ]
     },
     "execution_count": 37,
     "metadata": {},
     "output_type": "execute_result"
    }
   ],
   "source": [
    "DataFrame.Map.unique()"
   ]
  },
  {
   "cell_type": "code",
   "execution_count": 38,
   "metadata": {
    "collapsed": false
   },
   "outputs": [
    {
     "data": {
      "text/plain": [
       "(242730, 8)"
      ]
     },
     "execution_count": 38,
     "metadata": {},
     "output_type": "execute_result"
    }
   ],
   "source": [
    "# HauntedMines = DataFrame[DataFrame['Map'] == 'Haunted Mines']\n",
    "# HauntedMines.shape\n",
    "\n",
    "GardenTerror = DataFrame[DataFrame['Map'] == 'Garden of Terror']\n",
    "GardenTerror.shape\n",
    "#     returns (0,8)\n",
    "\n",
    "#SkyTemple = DataFrame.loc[DataFrame['Map'] == 'Sky Temple']\n",
    "#SkyTemple.shape \n",
    "#     returns (0,8)\n",
    "\n",
    "#DragonShire = DataFrame.loc[DataFrame['Map'] == 'Dragon Shire']\n",
    "#DragonShire.shape\n",
    "#     returns (0,8)\n",
    "\n",
    "#BlackheartsBay = DataFrame.loc[DataFrame['Map'] == \"Blackheart's Bay\"]\n",
    "#BlackheartsBay.shape\n",
    "#     returns (0,8)\n",
    "\n",
    "#SpiderQueen = DataFrame.loc[DataFrame['Map'] == 'Tomb of the Spider Queen']\n",
    "#SpiderQueen.shape \n",
    "#     returns (0,8)\n",
    "\n",
    "#CursedHollow = DataFrame.loc[DataFrame['Map'] == 'Cursed Hollow']\n",
    "#CursedHollow.shape\n",
    "#     returns (0,8)\n"
   ]
  },
  {
   "cell_type": "code",
   "execution_count": 39,
   "metadata": {
    "collapsed": false
   },
   "outputs": [
    {
     "data": {
      "text/plain": [
       "ReplayID          int64\n",
       "Map              object\n",
       "ReplayLength    float64\n",
       "Hero             object\n",
       "HeroLevel         int64\n",
       "IsWinner           bool\n",
       "MMRbefore       float64\n",
       "Group            object\n",
       "dtype: object"
      ]
     },
     "execution_count": 39,
     "metadata": {},
     "output_type": "execute_result"
    }
   ],
   "source": [
    "GardenTerror.dtypes"
   ]
  },
  {
   "cell_type": "code",
   "execution_count": 40,
   "metadata": {
    "collapsed": false
   },
   "outputs": [],
   "source": [
    "# #Dummy values for all heroes\n",
    "# print(GardenTerror.shape)\n",
    "# GardenTerror = GardenTerror.iloc[:5000]\n",
    "# print(GardenTerror.shape)\n",
    "\n",
    "# Dummy_Heroes = pd.get_dummies(GardenTerror['Hero'], prefix='Hero')\n",
    "# Dummy_Heroes.fillna(0)\n",
    "# print(GardenTerror.shape)\n",
    "# #additional data to keep for logistic regression\n",
    "# cols_to_keep = ['IsWinner', 'ReplayLength']\n",
    "\n",
    "# data = GardenTerror[cols_to_keep].join(Dummy_Heroes)\n",
    "# print(GardenTerror.shape)\n"
   ]
  },
  {
   "cell_type": "code",
   "execution_count": 41,
   "metadata": {
    "collapsed": false
   },
   "outputs": [],
   "source": [
    "# #import the needed module\n",
    "# import statsmodels.formula.api as sm\n",
    "\n",
    "# logreg = sm.logit(formula=\"IsWinner ~ ReplayLength\", data= GardenTerror[['IsWinner', 'ReplayLength']]).fit()\n",
    "\n",
    "# # Print the model weights/parameters\n",
    "# print(logreg.params)"
   ]
  },
  {
   "cell_type": "code",
   "execution_count": 42,
   "metadata": {
    "collapsed": false
   },
   "outputs": [
    {
     "data": {
      "text/plain": [
       "(242730,)"
      ]
     },
     "execution_count": 42,
     "metadata": {},
     "output_type": "execute_result"
    }
   ],
   "source": [
    "GardenTerror.ReplayLength.shape"
   ]
  },
  {
   "cell_type": "code",
   "execution_count": 43,
   "metadata": {
    "collapsed": false
   },
   "outputs": [],
   "source": [
    "# X_minmax = pd.DataFrame({'ReplayLength': [GardenTerror.ReplayLength.min(), GardenTerror.ReplayLength.max()]})\n",
    "\n",
    "# predictions = logreg.predict(GardenTerror)\n",
    "\n",
    "# # First, plot the observed data\n",
    "# GardenTerror.plot(kind='scatter', x='ReplayLength', y='IsWinner')\n",
    "\n",
    "# # Next, plot the logistic regression estimation, in red.\n",
    "# plt.plot(GardenTerror.ReplayLength, predictions, c='red', linewidth=2)\n",
    "\n",
    "# # Plot the linear decision surface estimated by logistic regression\n",
    "# plt.plot(X_minmax, logreg.predict(X_minmax), c='blue', linewidth=1, linestyle='dashed')"
   ]
  },
  {
   "cell_type": "code",
   "execution_count": 44,
   "metadata": {
    "collapsed": true
   },
   "outputs": [],
   "source": [
    "import numpy as np\n",
    "import pandas as pd\n",
    "import matplotlib.pyplot as plt\n",
    "from patsy import dmatrices\n",
    "from sklearn.linear_model import LogisticRegression\n",
    "from sklearn.cross_validation import train_test_split\n",
    "from sklearn import metrics\n",
    "from sklearn.cross_validation import cross_val_score"
   ]
  },
  {
   "cell_type": "code",
   "execution_count": 45,
   "metadata": {
    "collapsed": false
   },
   "outputs": [
    {
     "data": {
      "text/html": [
       "<div>\n",
       "<table border=\"1\" class=\"dataframe\">\n",
       "  <thead>\n",
       "    <tr style=\"text-align: right;\">\n",
       "      <th></th>\n",
       "      <th>Intercept</th>\n",
       "    </tr>\n",
       "  </thead>\n",
       "  <tbody>\n",
       "    <tr>\n",
       "      <th>0</th>\n",
       "      <td>1</td>\n",
       "    </tr>\n",
       "    <tr>\n",
       "      <th>1</th>\n",
       "      <td>1</td>\n",
       "    </tr>\n",
       "    <tr>\n",
       "      <th>2</th>\n",
       "      <td>1</td>\n",
       "    </tr>\n",
       "    <tr>\n",
       "      <th>3</th>\n",
       "      <td>1</td>\n",
       "    </tr>\n",
       "    <tr>\n",
       "      <th>4</th>\n",
       "      <td>1</td>\n",
       "    </tr>\n",
       "  </tbody>\n",
       "</table>\n",
       "</div>"
      ],
      "text/plain": [
       "   Intercept\n",
       "0          1\n",
       "1          1\n",
       "2          1\n",
       "3          1\n",
       "4          1"
      ]
     },
     "execution_count": 45,
     "metadata": {},
     "output_type": "execute_result"
    }
   ],
   "source": [
    "# Prepare an intercept term that adds a 1 to each example.\n",
    "# Scikit-learn does not use an intercept by default.\n",
    "intercept = pd.DataFrame({'Intercept': np.ones(len(GardenTerror))})\n",
    "intercept.head()"
   ]
  },
  {
   "cell_type": "code",
   "execution_count": 70,
   "metadata": {
    "collapsed": false,
    "scrolled": true
   },
   "outputs": [
    {
     "name": "stdout",
     "output_type": "stream",
     "text": [
      "(50, 8)\n",
      "(50, 8)\n",
      "Descriptive features:\n",
      "         Intercept IsWinner         Hero\n",
      "0               1      NaN          NaN\n",
      "1               1      NaN          NaN\n",
      "2               1      NaN          NaN\n",
      "3               1      NaN          NaN\n",
      "4               1      NaN          NaN\n",
      "5               1      NaN          NaN\n",
      "6               1      NaN          NaN\n",
      "7               1      NaN          NaN\n",
      "8               1      NaN          NaN\n",
      "9               1      NaN          NaN\n",
      "10              1     True       Diablo\n",
      "11              1    False       Arthas\n",
      "12              1    False    Malfurion\n",
      "13              1    False    Kael'thas\n",
      "14              1    False      Falstad\n",
      "15              1     True      Zeratul\n",
      "16              1     True        Li Li\n",
      "17              1     True  Sgt. Hammer\n",
      "18              1     True       Tychus\n",
      "19              1    False        Valla\n",
      "20              1    False    Anub'arak\n",
      "21              1     True    Kael'thas\n",
      "22              1    False     Sylvanas\n",
      "23              1     True        Jaina\n",
      "24              1     True   Brightwing\n",
      "25              1     True      Muradin\n",
      "26              1     True        Valla\n",
      "27              1    False        Uther\n",
      "28              1    False       Thrall\n",
      "29              1    False       Tychus\n",
      "...           ...      ...          ...\n",
      "242700          1      NaN          NaN\n",
      "242701          1      NaN          NaN\n",
      "242702          1      NaN          NaN\n",
      "242703          1      NaN          NaN\n",
      "242704          1      NaN          NaN\n",
      "242705          1      NaN          NaN\n",
      "242706          1      NaN          NaN\n",
      "242707          1      NaN          NaN\n",
      "242708          1      NaN          NaN\n",
      "242709          1      NaN          NaN\n",
      "242710          1      NaN          NaN\n",
      "242711          1      NaN          NaN\n",
      "242712          1      NaN          NaN\n",
      "242713          1      NaN          NaN\n",
      "242714          1      NaN          NaN\n",
      "242715          1      NaN          NaN\n",
      "242716          1      NaN          NaN\n",
      "242717          1      NaN          NaN\n",
      "242718          1      NaN          NaN\n",
      "242719          1      NaN          NaN\n",
      "242720          1      NaN          NaN\n",
      "242721          1      NaN          NaN\n",
      "242722          1      NaN          NaN\n",
      "242723          1      NaN          NaN\n",
      "242724          1      NaN          NaN\n",
      "242725          1      NaN          NaN\n",
      "242726          1      NaN          NaN\n",
      "242727          1      NaN          NaN\n",
      "242728          1      NaN          NaN\n",
      "242729          1      NaN          NaN\n",
      "\n",
      "[242730 rows x 3 columns]\n",
      "\n",
      "Target feature:\n",
      " 10      True\n",
      "11     False\n",
      "12     False\n",
      "13     False\n",
      "14     False\n",
      "15      True\n",
      "16      True\n",
      "17      True\n",
      "18      True\n",
      "19     False\n",
      "20     False\n",
      "21      True\n",
      "22     False\n",
      "23      True\n",
      "24      True\n",
      "25      True\n",
      "26      True\n",
      "27     False\n",
      "28     False\n",
      "29     False\n",
      "50     False\n",
      "51      True\n",
      "52      True\n",
      "53      True\n",
      "54     False\n",
      "55     False\n",
      "56      True\n",
      "57      True\n",
      "58     False\n",
      "59     False\n",
      "80      True\n",
      "81      True\n",
      "82     False\n",
      "83     False\n",
      "84      True\n",
      "85     False\n",
      "86      True\n",
      "87     False\n",
      "88     False\n",
      "89      True\n",
      "130     True\n",
      "131     True\n",
      "132     True\n",
      "133    False\n",
      "134     True\n",
      "135    False\n",
      "136    False\n",
      "137    False\n",
      "138    False\n",
      "139     True\n",
      "Name: IsWinner, dtype: bool\n"
     ]
    }
   ],
   "source": [
    "print(GardenTerror.shape)\n",
    "GardenTerror = GardenTerror.iloc[:5000]\n",
    "print(GardenTerror.shape)\n",
    "\n",
    "# Prepare the descriptive features\n",
    "X = pd.concat([intercept, GardenTerror[['IsWinner', 'Hero']]], axis=1)\n",
    "y = GardenTerror.IsWinner\n",
    "print(\"Descriptive features:\\n\", X)\n",
    "print(\"\\nTarget feature:\\n\", y)"
   ]
  },
  {
   "cell_type": "code",
   "execution_count": 72,
   "metadata": {
    "collapsed": false
   },
   "outputs": [
    {
     "data": {
      "text/html": [
       "<div>\n",
       "<table border=\"1\" class=\"dataframe\">\n",
       "  <thead>\n",
       "    <tr style=\"text-align: right;\">\n",
       "      <th></th>\n",
       "      <th>ReplayID</th>\n",
       "      <th>Map</th>\n",
       "      <th>ReplayLength</th>\n",
       "      <th>Hero</th>\n",
       "      <th>HeroLevel</th>\n",
       "      <th>IsWinner</th>\n",
       "      <th>MMRbefore</th>\n",
       "      <th>Group</th>\n",
       "      <th>Loser</th>\n",
       "      <th>Winner</th>\n",
       "    </tr>\n",
       "  </thead>\n",
       "  <tbody>\n",
       "    <tr>\n",
       "      <th>10</th>\n",
       "      <td>23915740</td>\n",
       "      <td>Garden of Terror</td>\n",
       "      <td>1578</td>\n",
       "      <td>Diablo</td>\n",
       "      <td>11</td>\n",
       "      <td>True</td>\n",
       "      <td>1494</td>\n",
       "      <td>Warrior</td>\n",
       "      <td>0</td>\n",
       "      <td>1</td>\n",
       "    </tr>\n",
       "    <tr>\n",
       "      <th>11</th>\n",
       "      <td>23915740</td>\n",
       "      <td>Garden of Terror</td>\n",
       "      <td>1578</td>\n",
       "      <td>Arthas</td>\n",
       "      <td>8</td>\n",
       "      <td>False</td>\n",
       "      <td>1595</td>\n",
       "      <td>Warrior</td>\n",
       "      <td>1</td>\n",
       "      <td>0</td>\n",
       "    </tr>\n",
       "    <tr>\n",
       "      <th>12</th>\n",
       "      <td>23915740</td>\n",
       "      <td>Garden of Terror</td>\n",
       "      <td>1578</td>\n",
       "      <td>Malfurion</td>\n",
       "      <td>7</td>\n",
       "      <td>False</td>\n",
       "      <td>1085</td>\n",
       "      <td>Support</td>\n",
       "      <td>1</td>\n",
       "      <td>0</td>\n",
       "    </tr>\n",
       "    <tr>\n",
       "      <th>13</th>\n",
       "      <td>23915740</td>\n",
       "      <td>Garden of Terror</td>\n",
       "      <td>1578</td>\n",
       "      <td>Kael'thas</td>\n",
       "      <td>7</td>\n",
       "      <td>False</td>\n",
       "      <td>1450</td>\n",
       "      <td>Assassin</td>\n",
       "      <td>1</td>\n",
       "      <td>0</td>\n",
       "    </tr>\n",
       "    <tr>\n",
       "      <th>14</th>\n",
       "      <td>23915740</td>\n",
       "      <td>Garden of Terror</td>\n",
       "      <td>1578</td>\n",
       "      <td>Falstad</td>\n",
       "      <td>9</td>\n",
       "      <td>False</td>\n",
       "      <td>1060</td>\n",
       "      <td>Assassin</td>\n",
       "      <td>1</td>\n",
       "      <td>0</td>\n",
       "    </tr>\n",
       "  </tbody>\n",
       "</table>\n",
       "</div>"
      ],
      "text/plain": [
       "    ReplayID               Map  ReplayLength       Hero  HeroLevel IsWinner  \\\n",
       "10  23915740  Garden of Terror          1578     Diablo         11     True   \n",
       "11  23915740  Garden of Terror          1578     Arthas          8    False   \n",
       "12  23915740  Garden of Terror          1578  Malfurion          7    False   \n",
       "13  23915740  Garden of Terror          1578  Kael'thas          7    False   \n",
       "14  23915740  Garden of Terror          1578    Falstad          9    False   \n",
       "\n",
       "    MMRbefore     Group  Loser  Winner  \n",
       "10       1494   Warrior      0       1  \n",
       "11       1595   Warrior      1       0  \n",
       "12       1085   Support      1       0  \n",
       "13       1450  Assassin      1       0  \n",
       "14       1060  Assassin      1       0  "
      ]
     },
     "execution_count": 72,
     "metadata": {},
     "output_type": "execute_result"
    }
   ],
   "source": [
    "#Create dummy values for Winner feature\n",
    "GardenTerror_IsWinner = pd.get_dummies(GardenTerror['IsWinner'])\n",
    "\n",
    "#GardenTerror_IsWinner.head()\n",
    "\n",
    "Winner_new = pd.concat([GardenTerror, GardenTerror_IsWinner], axis=1)\n",
    "\n",
    "Winner_new.columns = ['ReplayID', 'Map', 'ReplayLength', 'Hero', 'HeroLevel', 'IsWinner', 'MMRbefore', 'Group', 'Loser', 'Winner']\n",
    "\n",
    "Winner_new.head()"
   ]
  },
  {
   "cell_type": "code",
   "execution_count": 73,
   "metadata": {
    "collapsed": false
   },
   "outputs": [
    {
     "name": "stdout",
     "output_type": "stream",
     "text": [
      "Optimization terminated successfully.\n",
      "         Current function value: 0.693147\n",
      "         Iterations 1\n",
      "Intercept       0\n",
      "ReplayLength    0\n",
      "dtype: float64\n"
     ]
    }
   ],
   "source": [
    "#import the needed module\n",
    "import statsmodels.formula.api as sm\n",
    "\n",
    "logreg = sm.logit(formula=\"Winner ~ ReplayLength\", data= Winner_new[['Winner', 'ReplayLength']]).fit()\n",
    "\n",
    "# Print the model weights/parameters\n",
    "print(logreg.params)"
   ]
  },
  {
   "cell_type": "code",
   "execution_count": 74,
   "metadata": {
    "collapsed": false
   },
   "outputs": [
    {
     "data": {
      "text/plain": [
       "[<matplotlib.lines.Line2D at 0xcbd8a90>]"
      ]
     },
     "execution_count": 74,
     "metadata": {},
     "output_type": "execute_result"
    },
    {
     "data": {
      "image/png": "[encoded data removed]",
      "text/plain": [
       "<matplotlib.figure.Figure at 0xcbb8390>"
      ]
     },
     "metadata": {},
     "output_type": "display_data"
    }
   ],
   "source": [
    "X_minmax = pd.DataFrame({'ReplayLength': [Winner_new.ReplayLength.min(), Winner_new.ReplayLength.max()]})\n",
    "\n",
    "predictions = logreg.predict(Winner_new)\n",
    "\n",
    "# First, plot the observed data\n",
    "Winner_new.plot(kind='scatter', x='ReplayLength', y='IsWinner')\n",
    "\n",
    "# Next, plot the logistic regression estimation, in red.\n",
    "plt.plot(Winner_new.ReplayLength, predictions, c='red', linewidth=2)\n",
    "\n",
    "# Plot the linear decision surface estimated by logistic regression\n",
    "plt.plot(X_minmax, logreg.predict(X_minmax), c='blue', linewidth=1, linestyle='dashed')"
   ]
  },
  {
   "cell_type": "code",
   "execution_count": null,
   "metadata": {
    "collapsed": true
   },
   "outputs": [],
   "source": []
  }
 ],
 "metadata": {
  "kernelspec": {
   "display_name": "Python 3",
   "language": "python",
   "name": "python3"
  },
  "language_info": {
   "codemirror_mode": {
    "name": "ipython",
    "version": 3
   },
   "file_extension": ".py",
   "mimetype": "text/x-python",
   "name": "python",
   "nbconvert_exporter": "python",
   "pygments_lexer": "ipython3",
   "version": "3.5.1"
  }
 },
 "nbformat": 4,
 "nbformat_minor": 0
}
