{
 "cells": [
  {
   "cell_type": "markdown",
   "metadata": {},
   "source": [
    "# <font color='red'>Basic Analytics Applied to Training Set of Heroes of the Storm Game Data</font>"
   ]
  },
  {
   "cell_type": "markdown",
   "metadata": {},
   "source": [
    "## A brief overview of the game\n",
    "\n",
    "Matches are played between two teams of five players on any one of a number of maps.\n",
    "\n",
    "Each player selects a playable character ('Hero') to control for the duration of the match.\n",
    "\n",
    "The 'class' of a Hero corresponds to a general role in the match with associated traits, strengths and weaknesses. For example, Assassins deal high damage but are vulnerable; Warriors deal low damage but are durable. The objective of the game is to destroy a special structure belonging to the opposing team.\n",
    "\n",
    "The following diagram illustrates a breakdown of the character classes, where the lowest tier represents the names of individual characters:\n",
    "\n",
    "<img src=\"HOTSFlow.png\">"
   ]
  },
  {
   "cell_type": "markdown",
   "metadata": {},
   "source": [
    "### 1. Determine the most played heroes in each category:\n",
    "* Support\n",
    "* Assassin\n",
    "* Warrior\n",
    "* Specialist\n",
    "\n",
    "### 2. Identify the various team compositions played\n",
    "\n",
    "### 3. Study the effect of team rating on the outcome of a match.\n",
    "\n",
    "### 4. Does team composition affect the outcome of a match?"
   ]
  },
  {
   "cell_type": "markdown",
   "metadata": {},
   "source": [
    "# Data Gathering\n",
    "\n",
    "Data was collected from http://www.hotslogs.com/Default, a site containing large amounts of historical data on games played.\n",
    "- Data was readily available in CSV format\n",
    "- CSV files were available for individual player records, as well as per game records, and also information on the maps\n",
    "- Different data was stored in each CSV file\n",
    "\n",
    "Our first step is to load each CSV file into a pandas dataframe"
   ]
  },
  {
   "cell_type": "code",
   "execution_count": 1,
   "metadata": {
    "collapsed": false
   },
   "outputs": [],
   "source": [
    "#import required packages\n",
    "import pandas as pd\n",
    "import numpy as np\n",
    "import matplotlib.pyplot as plt\n",
    "import seaborn as sns\n",
    "import csv\n",
    "import sys\n",
    "from patsy import dmatrices\n",
    "from sklearn.linear_model import LogisticRegression\n",
    "from sklearn.cross_validation import train_test_split\n",
    "from sklearn import metrics\n",
    "from sklearn.cross_validation import cross_val_score\n",
    "\n",
    "# Allow plots to be displayed in notebook\n",
    "%matplotlib inline"
   ]
  },
  {
   "cell_type": "code",
   "execution_count": 2,
   "metadata": {
    "collapsed": true
   },
   "outputs": [],
   "source": [
    "#load both csv files into tow respective dataframes\n",
    "DF_Replay = pd.read_csv(\"TSReplay.csv\")\n",
    "\n",
    "DF_Characters = pd.read_csv(\"TSCharacters.csv\")\n",
    "\n",
    "DF_Map_Groups = pd.read_csv(\"HeroAndMap.csv\")"
   ]
  },
  {
   "cell_type": "code",
   "execution_count": 3,
   "metadata": {
    "collapsed": false
   },
   "outputs": [
    {
     "data": {
      "text/html": [
       "<div>\n",
       "<table border=\"1\" class=\"dataframe\">\n",
       "  <thead>\n",
       "    <tr style=\"text-align: right;\">\n",
       "      <th></th>\n",
       "      <th>ReplayID</th>\n",
       "      <th>GameMode(3=Quick Match 4=Hero League 5=Team League)</th>\n",
       "      <th>Map</th>\n",
       "      <th>Replay Length</th>\n",
       "      <th>Timestamp (UTC)</th>\n",
       "    </tr>\n",
       "  </thead>\n",
       "  <tbody>\n",
       "    <tr>\n",
       "      <th>0</th>\n",
       "      <td>23915730</td>\n",
       "      <td>4</td>\n",
       "      <td>Haunted Mines</td>\n",
       "      <td>00:12:00</td>\n",
       "      <td>5/14/2015 12:55:26 AM</td>\n",
       "    </tr>\n",
       "    <tr>\n",
       "      <th>1</th>\n",
       "      <td>23927005</td>\n",
       "      <td>3</td>\n",
       "      <td>Cursed Hollow</td>\n",
       "      <td>00:21:00</td>\n",
       "      <td>5/14/2015 12:55:26 AM</td>\n",
       "    </tr>\n",
       "  </tbody>\n",
       "</table>\n",
       "</div>"
      ],
      "text/plain": [
       "   ReplayID  GameMode(3=Quick Match 4=Hero League 5=Team League)  \\\n",
       "0  23915730                                                  4     \n",
       "1  23927005                                                  3     \n",
       "\n",
       "             Map Replay Length        Timestamp (UTC)  \n",
       "0  Haunted Mines      00:12:00  5/14/2015 12:55:26 AM  \n",
       "1  Cursed Hollow      00:21:00  5/14/2015 12:55:26 AM  "
      ]
     },
     "execution_count": 3,
     "metadata": {},
     "output_type": "execute_result"
    }
   ],
   "source": [
    "DF_Replay.head(2)"
   ]
  },
  {
   "cell_type": "markdown",
   "metadata": {},
   "source": [
    "# Data Cleaning\n",
    "The first step is to remove games that are not from the competitive game mode.\n",
    "In our initial datasets, the \"GameMode\" feature describes the particular type of game that was played.\n",
    "The number 4 corresponds to the data we are interested in, so we select only rows with that value\n",
    "\n",
    "### Using data from only the competitive mode is useful for two reasons:\n",
    "\n",
    "1. Reduces the size of the dataset to a more manageable, laptop-friendly number\n",
    "2. Ensures that only one of each hero can be present in a single game\n",
    "\n",
    "One of the most challenging aspects of our project was extracting a good representation of \"Team Composition\" from our datasets.\n",
    "We achieved this as follows:\n",
    "- Using the \"Group\" feature from our individual player data, indicating which character class the chosen character belongs to\n",
    "- Combining this with the \"IsWinner\" feature to separate our players into 2 groups of 5 for every game\n",
    "- Recording the combination of character classes that the winning team played\n",
    "- Recording the combination of character classes that the losing team played"
   ]
  },
  {
   "cell_type": "code",
   "execution_count": 4,
   "metadata": {
    "collapsed": false
   },
   "outputs": [
    {
     "data": {
      "text/html": [
       "<div>\n",
       "<table border=\"1\" class=\"dataframe\">\n",
       "  <thead>\n",
       "    <tr style=\"text-align: right;\">\n",
       "      <th></th>\n",
       "      <th>ReplayID</th>\n",
       "      <th>GameMode</th>\n",
       "      <th>Map</th>\n",
       "      <th>ReplayLength</th>\n",
       "      <th>Timestamp</th>\n",
       "    </tr>\n",
       "  </thead>\n",
       "  <tbody>\n",
       "    <tr>\n",
       "      <th>0</th>\n",
       "      <td>23915730</td>\n",
       "      <td>4</td>\n",
       "      <td>Haunted Mines</td>\n",
       "      <td>00:12:00</td>\n",
       "      <td>5/14/2015 12:55:26 AM</td>\n",
       "    </tr>\n",
       "    <tr>\n",
       "      <th>2</th>\n",
       "      <td>23915740</td>\n",
       "      <td>4</td>\n",
       "      <td>Garden of Terror</td>\n",
       "      <td>00:26:18</td>\n",
       "      <td>5/14/2015 12:55:27 AM</td>\n",
       "    </tr>\n",
       "    <tr>\n",
       "      <th>10</th>\n",
       "      <td>23924385</td>\n",
       "      <td>4</td>\n",
       "      <td>Garden of Terror</td>\n",
       "      <td>00:34:37</td>\n",
       "      <td>5/14/2015 12:55:39 AM</td>\n",
       "    </tr>\n",
       "    <tr>\n",
       "      <th>22</th>\n",
       "      <td>23915858</td>\n",
       "      <td>4</td>\n",
       "      <td>Sky Temple</td>\n",
       "      <td>00:22:32</td>\n",
       "      <td>5/14/2015 12:56:00 AM</td>\n",
       "    </tr>\n",
       "    <tr>\n",
       "      <th>23</th>\n",
       "      <td>23915915</td>\n",
       "      <td>4</td>\n",
       "      <td>Dragon Shire</td>\n",
       "      <td>00:24:00</td>\n",
       "      <td>5/14/2015 12:56:01 AM</td>\n",
       "    </tr>\n",
       "    <tr>\n",
       "      <th>25</th>\n",
       "      <td>24393574</td>\n",
       "      <td>4</td>\n",
       "      <td>Garden of Terror</td>\n",
       "      <td>00:20:15</td>\n",
       "      <td>5/14/2015 12:56:08 AM</td>\n",
       "    </tr>\n",
       "    <tr>\n",
       "      <th>30</th>\n",
       "      <td>23929877</td>\n",
       "      <td>4</td>\n",
       "      <td>Dragon Shire</td>\n",
       "      <td>00:22:01</td>\n",
       "      <td>5/14/2015 12:56:13 AM</td>\n",
       "    </tr>\n",
       "    <tr>\n",
       "      <th>31</th>\n",
       "      <td>23950711</td>\n",
       "      <td>4</td>\n",
       "      <td>Blackheart's Bay</td>\n",
       "      <td>00:16:45</td>\n",
       "      <td>5/14/2015 12:56:13 AM</td>\n",
       "    </tr>\n",
       "    <tr>\n",
       "      <th>32</th>\n",
       "      <td>24507009</td>\n",
       "      <td>4</td>\n",
       "      <td>Garden of Terror</td>\n",
       "      <td>00:30:30</td>\n",
       "      <td>5/14/2015 12:56:14 AM</td>\n",
       "    </tr>\n",
       "    <tr>\n",
       "      <th>34</th>\n",
       "      <td>23915821</td>\n",
       "      <td>4</td>\n",
       "      <td>Blackheart's Bay</td>\n",
       "      <td>00:24:20</td>\n",
       "      <td>5/14/2015 12:56:15 AM</td>\n",
       "    </tr>\n",
       "  </tbody>\n",
       "</table>\n",
       "</div>"
      ],
      "text/plain": [
       "    ReplayID  GameMode               Map ReplayLength              Timestamp\n",
       "0   23915730         4     Haunted Mines     00:12:00  5/14/2015 12:55:26 AM\n",
       "2   23915740         4  Garden of Terror     00:26:18  5/14/2015 12:55:27 AM\n",
       "10  23924385         4  Garden of Terror     00:34:37  5/14/2015 12:55:39 AM\n",
       "22  23915858         4        Sky Temple     00:22:32  5/14/2015 12:56:00 AM\n",
       "23  23915915         4      Dragon Shire     00:24:00  5/14/2015 12:56:01 AM\n",
       "25  24393574         4  Garden of Terror     00:20:15  5/14/2015 12:56:08 AM\n",
       "30  23929877         4      Dragon Shire     00:22:01  5/14/2015 12:56:13 AM\n",
       "31  23950711         4  Blackheart's Bay     00:16:45  5/14/2015 12:56:13 AM\n",
       "32  24507009         4  Garden of Terror     00:30:30  5/14/2015 12:56:14 AM\n",
       "34  23915821         4  Blackheart's Bay     00:24:20  5/14/2015 12:56:15 AM"
      ]
     },
     "execution_count": 4,
     "metadata": {},
     "output_type": "execute_result"
    }
   ],
   "source": [
    "# Rename columns in the dataframe\n",
    "DF_Replay.columns = ['ReplayID', 'GameMode', 'Map', 'ReplayLength', 'Timestamp']\n",
    "# Only keep rows related to competitive gameplay (4 = Hero League)\n",
    "DF_Replay = DF_Replay[DF_Replay['GameMode'] == 4]\n",
    "DF_Replay.head(10)"
   ]
  },
  {
   "cell_type": "markdown",
   "metadata": {},
   "source": [
    "## Converting \"ReplayLength\" to seconds\n",
    "- The value of this feature is in the HH:MM:SS format.\n",
    "- To make numerical analysis simpler, we convert all of these values to seconds as follows:"
   ]
  },
  {
   "cell_type": "code",
   "execution_count": 5,
   "metadata": {
    "collapsed": false
   },
   "outputs": [
    {
     "data": {
      "text/html": [
       "<div>\n",
       "<table border=\"1\" class=\"dataframe\">\n",
       "  <thead>\n",
       "    <tr style=\"text-align: right;\">\n",
       "      <th></th>\n",
       "      <th>ReplayID</th>\n",
       "      <th>GameMode</th>\n",
       "      <th>Map</th>\n",
       "      <th>ReplayLength</th>\n",
       "      <th>Timestamp</th>\n",
       "    </tr>\n",
       "  </thead>\n",
       "  <tbody>\n",
       "    <tr>\n",
       "      <th>0</th>\n",
       "      <td>23915730</td>\n",
       "      <td>4</td>\n",
       "      <td>Haunted Mines</td>\n",
       "      <td>720</td>\n",
       "      <td>5/14/2015 12:55:26 AM</td>\n",
       "    </tr>\n",
       "    <tr>\n",
       "      <th>2</th>\n",
       "      <td>23915740</td>\n",
       "      <td>4</td>\n",
       "      <td>Garden of Terror</td>\n",
       "      <td>1578</td>\n",
       "      <td>5/14/2015 12:55:27 AM</td>\n",
       "    </tr>\n",
       "    <tr>\n",
       "      <th>10</th>\n",
       "      <td>23924385</td>\n",
       "      <td>4</td>\n",
       "      <td>Garden of Terror</td>\n",
       "      <td>2077</td>\n",
       "      <td>5/14/2015 12:55:39 AM</td>\n",
       "    </tr>\n",
       "    <tr>\n",
       "      <th>22</th>\n",
       "      <td>23915858</td>\n",
       "      <td>4</td>\n",
       "      <td>Sky Temple</td>\n",
       "      <td>1352</td>\n",
       "      <td>5/14/2015 12:56:00 AM</td>\n",
       "    </tr>\n",
       "    <tr>\n",
       "      <th>23</th>\n",
       "      <td>23915915</td>\n",
       "      <td>4</td>\n",
       "      <td>Dragon Shire</td>\n",
       "      <td>1440</td>\n",
       "      <td>5/14/2015 12:56:01 AM</td>\n",
       "    </tr>\n",
       "  </tbody>\n",
       "</table>\n",
       "</div>"
      ],
      "text/plain": [
       "    ReplayID  GameMode               Map  ReplayLength              Timestamp\n",
       "0   23915730         4     Haunted Mines           720  5/14/2015 12:55:26 AM\n",
       "2   23915740         4  Garden of Terror          1578  5/14/2015 12:55:27 AM\n",
       "10  23924385         4  Garden of Terror          2077  5/14/2015 12:55:39 AM\n",
       "22  23915858         4        Sky Temple          1352  5/14/2015 12:56:00 AM\n",
       "23  23915915         4      Dragon Shire          1440  5/14/2015 12:56:01 AM"
      ]
     },
     "execution_count": 5,
     "metadata": {},
     "output_type": "execute_result"
    }
   ],
   "source": [
    "#Split the string for ReplayLength into several sub-cells based on the ':'\n",
    "# XX : YY : ZZ\n",
    "# X *60 *60 (for float(sec))\n",
    "# Y *1 *60  (for float(sec))\n",
    "# Z *1      (for float(sec))\n",
    "\n",
    "#from format   |  hh:mm:mm  |\n",
    "#to format     |  hh  |  :  | mm:ss  |\n",
    "ChangeTime = DF_Replay['ReplayLength'].str.partition(':')\n",
    "ChangeTime.columns = ['Hour', 'Col2', 'MinSec']\n",
    "#Now we have one column for hours, and one for both minutes and seconds to partition again\n",
    "\n",
    "#from format  |  mm:ss  |\n",
    "#to format    |  mm  |  :  |  ss  |\n",
    "ChangeTime2 = ChangeTime['MinSec'].str.partition(':')\n",
    "ChangeTime2.columns = ['Min', 'Space', 'Second']\n",
    "#now we have one column for minutes and one for seconds\n",
    "\n",
    "#Get both column in float type\n",
    "ChangeTime2['Min'] = ChangeTime2['Min'].astype(float)\n",
    "ChangeTime2['Second'] = ChangeTime2['Second'].astype(float)\n",
    "\n",
    "#Apply math to convert min to sec, then add minutes and seconds together\n",
    "ChangeTime2['Min']= ChangeTime2['Min'] * 60\n",
    "ChangeTime2['Second'] = ChangeTime2['Min'] + ChangeTime2['Second']\n",
    "ChangeTime2 = ChangeTime2[[2]]\n",
    "\n",
    "ChangeTime = ChangeTime.drop('MinSec', axis=1)\n",
    "ChangeTime['Hour'] = ChangeTime['Hour'].astype(float)\n",
    "#change the values in the column with *60 to get in minutes, and *60 again to get result in seconds\n",
    "ChangeTime['Hour'] = ChangeTime['Hour'] * 60 * 60     \n",
    "\n",
    "ChangeTime['Col2'] = (ChangeTime2['Second'] + ChangeTime['Hour'])\n",
    "\n",
    "DF_Replay['ReplayLength'] = ChangeTime['Col2']\n",
    "DF_Replay.head()"
   ]
  },
  {
   "cell_type": "markdown",
   "metadata": {},
   "source": [
    "## A point of definition:\n",
    "MMR stands for 'Matchmaking Rating'. This is a numeric value which approximates the skill level of a player according to their career wins and losses.\n",
    "\n",
    "### Note:\n",
    "The \"MMR Before\" feature simply indicates that the rating of the player was recorded as the game begins, rather than once it is completed. Since we are concerned with five-player teams rather than the performance of individual players, we will average this value when comparing compositions.\n",
    "\n",
    "The terms \"Rating\" and \"MMR\" may be used interchangeably during the course of this notebook"
   ]
  },
  {
   "cell_type": "code",
   "execution_count": 6,
   "metadata": {
    "collapsed": false
   },
   "outputs": [
    {
     "data": {
      "text/html": [
       "<div>\n",
       "<table border=\"1\" class=\"dataframe\">\n",
       "  <thead>\n",
       "    <tr style=\"text-align: right;\">\n",
       "      <th></th>\n",
       "      <th>ReplayID</th>\n",
       "      <th>Is Auto Select</th>\n",
       "      <th>Hero</th>\n",
       "      <th>Hero Level</th>\n",
       "      <th>Is Winner</th>\n",
       "      <th>MMR Before</th>\n",
       "    </tr>\n",
       "  </thead>\n",
       "  <tbody>\n",
       "    <tr>\n",
       "      <th>0</th>\n",
       "      <td>23915730</td>\n",
       "      <td>False</td>\n",
       "      <td>Rehgar</td>\n",
       "      <td>14</td>\n",
       "      <td>False</td>\n",
       "      <td>3170</td>\n",
       "    </tr>\n",
       "    <tr>\n",
       "      <th>1</th>\n",
       "      <td>23915730</td>\n",
       "      <td>False</td>\n",
       "      <td>Falstad</td>\n",
       "      <td>10</td>\n",
       "      <td>False</td>\n",
       "      <td>3330</td>\n",
       "    </tr>\n",
       "    <tr>\n",
       "      <th>2</th>\n",
       "      <td>23915730</td>\n",
       "      <td>False</td>\n",
       "      <td>Jaina</td>\n",
       "      <td>7</td>\n",
       "      <td>True</td>\n",
       "      <td>3442</td>\n",
       "    </tr>\n",
       "    <tr>\n",
       "      <th>3</th>\n",
       "      <td>23915730</td>\n",
       "      <td>False</td>\n",
       "      <td>Sylvanas</td>\n",
       "      <td>13</td>\n",
       "      <td>False</td>\n",
       "      <td>2666</td>\n",
       "    </tr>\n",
       "    <tr>\n",
       "      <th>4</th>\n",
       "      <td>23915730</td>\n",
       "      <td>False</td>\n",
       "      <td>Zagara</td>\n",
       "      <td>10</td>\n",
       "      <td>True</td>\n",
       "      <td>3198</td>\n",
       "    </tr>\n",
       "  </tbody>\n",
       "</table>\n",
       "</div>"
      ],
      "text/plain": [
       "   ReplayID Is Auto Select      Hero  Hero Level Is Winner  MMR Before\n",
       "0  23915730          False    Rehgar          14     False        3170\n",
       "1  23915730          False   Falstad          10     False        3330\n",
       "2  23915730          False     Jaina           7      True        3442\n",
       "3  23915730          False  Sylvanas          13     False        2666\n",
       "4  23915730          False    Zagara          10      True        3198"
      ]
     },
     "execution_count": 6,
     "metadata": {},
     "output_type": "execute_result"
    }
   ],
   "source": [
    "DF_Characters.head()"
   ]
  },
  {
   "cell_type": "code",
   "execution_count": 7,
   "metadata": {
    "collapsed": false
   },
   "outputs": [
    {
     "data": {
      "text/html": [
       "<div>\n",
       "<table border=\"1\" class=\"dataframe\">\n",
       "  <thead>\n",
       "    <tr style=\"text-align: right;\">\n",
       "      <th></th>\n",
       "      <th>ID</th>\n",
       "      <th>Name</th>\n",
       "      <th>Group</th>\n",
       "      <th>SubGroup</th>\n",
       "    </tr>\n",
       "  </thead>\n",
       "  <tbody>\n",
       "    <tr>\n",
       "      <th>0</th>\n",
       "      <td>0</td>\n",
       "      <td>Unknown</td>\n",
       "      <td>NaN</td>\n",
       "      <td>NaN</td>\n",
       "    </tr>\n",
       "    <tr>\n",
       "      <th>1</th>\n",
       "      <td>1</td>\n",
       "      <td>Abathur</td>\n",
       "      <td>Specialist</td>\n",
       "      <td>Utility</td>\n",
       "    </tr>\n",
       "  </tbody>\n",
       "</table>\n",
       "</div>"
      ],
      "text/plain": [
       "   ID     Name       Group SubGroup\n",
       "0   0  Unknown         NaN      NaN\n",
       "1   1  Abathur  Specialist  Utility"
      ]
     },
     "execution_count": 7,
     "metadata": {},
     "output_type": "execute_result"
    }
   ],
   "source": [
    "DF_Map_Groups.head(2)"
   ]
  },
  {
   "cell_type": "code",
   "execution_count": 8,
   "metadata": {
    "collapsed": false
   },
   "outputs": [
    {
     "data": {
      "text/html": [
       "<div>\n",
       "<table border=\"1\" class=\"dataframe\">\n",
       "  <thead>\n",
       "    <tr style=\"text-align: right;\">\n",
       "      <th></th>\n",
       "      <th>Name</th>\n",
       "      <th>Group</th>\n",
       "    </tr>\n",
       "  </thead>\n",
       "  <tbody>\n",
       "    <tr>\n",
       "      <th>45</th>\n",
       "      <td>Gall</td>\n",
       "      <td>Assassin</td>\n",
       "    </tr>\n",
       "    <tr>\n",
       "      <th>46</th>\n",
       "      <td>Lunara</td>\n",
       "      <td>Assassin</td>\n",
       "    </tr>\n",
       "    <tr>\n",
       "      <th>47</th>\n",
       "      <td>Greymane</td>\n",
       "      <td>Assassin</td>\n",
       "    </tr>\n",
       "  </tbody>\n",
       "</table>\n",
       "</div>"
      ],
      "text/plain": [
       "        Name     Group\n",
       "45      Gall  Assassin\n",
       "46    Lunara  Assassin\n",
       "47  Greymane  Assassin"
      ]
     },
     "execution_count": 8,
     "metadata": {},
     "output_type": "execute_result"
    }
   ],
   "source": [
    "#Remove all after row 49, to remove map IDs and keep all data for Heroes\n",
    "DF_Map_Groups = DF_Map_Groups[:48]\n",
    "\n",
    "#DF3 = DF.drop('ID', axis=1).drop('SubGroup', axis=1)\n",
    "DF_Map_Groups = DF_Map_Groups.drop('SubGroup', axis=1).drop('ID', axis=1)\n",
    "\n",
    "#Returning last 3 elements to check\n",
    "DF_Map_Groups.iloc[45:]"
   ]
  },
  {
   "cell_type": "markdown",
   "metadata": {},
   "source": [
    "## Merging\n",
    "We now have 2 dataframes with a \"ReplayID\" feature.\n",
    "\n",
    "For each occurrence of this feature in the DF_Replay dataframe (one entry per game), there are 10 rows with that ID in the DF_Characters dataframe (10 players in each game).\n",
    "\n",
    "So we can merge on this feature"
   ]
  },
  {
   "cell_type": "code",
   "execution_count": 9,
   "metadata": {
    "collapsed": false,
    "scrolled": true
   },
   "outputs": [],
   "source": [
    "#Need to merge on 'ReplayID' and duplicate entries\n",
    "from pandas import merge\n",
    "DF1 = pd.merge(DF_Replay, DF_Characters, left_on=[\"ReplayID\"], right_on=['ReplayID'], how='left')\n",
    "DF1.head(4)\n",
    "\n",
    "#deleting previous dataframes created for memory reasons\n",
    "del DF_Replay\n",
    "del DF_Characters"
   ]
  },
  {
   "cell_type": "code",
   "execution_count": 10,
   "metadata": {
    "collapsed": true
   },
   "outputs": [],
   "source": [
    "#Need to merge on 'Name' \n",
    "DF = pd.merge(DF1, DF_Map_Groups, left_on=[\"Hero\"], right_on=[\"Name\"], how='left')\n",
    "\n",
    "#delete the former dataframe DF_Map_Groups for memory's optimization\n",
    "del DF_Map_Groups\n",
    "del DF1"
   ]
  },
  {
   "cell_type": "code",
   "execution_count": 11,
   "metadata": {
    "collapsed": false
   },
   "outputs": [],
   "source": [
    "#Saving the merged Dataframe to a csv file\n",
    "DF.to_csv(\"HeroLeagueData.csv\")"
   ]
  },
  {
   "cell_type": "code",
   "execution_count": 12,
   "metadata": {
    "collapsed": false
   },
   "outputs": [
    {
     "data": {
      "text/html": [
       "<div>\n",
       "<table border=\"1\" class=\"dataframe\">\n",
       "  <thead>\n",
       "    <tr style=\"text-align: right;\">\n",
       "      <th></th>\n",
       "      <th>Unnamed: 0</th>\n",
       "      <th>ReplayID</th>\n",
       "      <th>GameMode</th>\n",
       "      <th>Map</th>\n",
       "      <th>ReplayLength</th>\n",
       "      <th>Timestamp</th>\n",
       "      <th>Is Auto Select</th>\n",
       "      <th>Hero</th>\n",
       "      <th>Hero Level</th>\n",
       "      <th>Is Winner</th>\n",
       "      <th>MMR Before</th>\n",
       "      <th>Name</th>\n",
       "      <th>Group</th>\n",
       "    </tr>\n",
       "  </thead>\n",
       "  <tbody>\n",
       "    <tr>\n",
       "      <th>0</th>\n",
       "      <td>0</td>\n",
       "      <td>23915730</td>\n",
       "      <td>4</td>\n",
       "      <td>Haunted Mines</td>\n",
       "      <td>720</td>\n",
       "      <td>5/14/2015 12:55:26 AM</td>\n",
       "      <td>False</td>\n",
       "      <td>Rehgar</td>\n",
       "      <td>14</td>\n",
       "      <td>False</td>\n",
       "      <td>3170</td>\n",
       "      <td>Rehgar</td>\n",
       "      <td>Support</td>\n",
       "    </tr>\n",
       "    <tr>\n",
       "      <th>1</th>\n",
       "      <td>1</td>\n",
       "      <td>23915730</td>\n",
       "      <td>4</td>\n",
       "      <td>Haunted Mines</td>\n",
       "      <td>720</td>\n",
       "      <td>5/14/2015 12:55:26 AM</td>\n",
       "      <td>False</td>\n",
       "      <td>Falstad</td>\n",
       "      <td>10</td>\n",
       "      <td>False</td>\n",
       "      <td>3330</td>\n",
       "      <td>Falstad</td>\n",
       "      <td>Assassin</td>\n",
       "    </tr>\n",
       "    <tr>\n",
       "      <th>2</th>\n",
       "      <td>2</td>\n",
       "      <td>23915730</td>\n",
       "      <td>4</td>\n",
       "      <td>Haunted Mines</td>\n",
       "      <td>720</td>\n",
       "      <td>5/14/2015 12:55:26 AM</td>\n",
       "      <td>False</td>\n",
       "      <td>Jaina</td>\n",
       "      <td>7</td>\n",
       "      <td>True</td>\n",
       "      <td>3442</td>\n",
       "      <td>Jaina</td>\n",
       "      <td>Assassin</td>\n",
       "    </tr>\n",
       "    <tr>\n",
       "      <th>3</th>\n",
       "      <td>3</td>\n",
       "      <td>23915730</td>\n",
       "      <td>4</td>\n",
       "      <td>Haunted Mines</td>\n",
       "      <td>720</td>\n",
       "      <td>5/14/2015 12:55:26 AM</td>\n",
       "      <td>False</td>\n",
       "      <td>Sylvanas</td>\n",
       "      <td>13</td>\n",
       "      <td>False</td>\n",
       "      <td>2666</td>\n",
       "      <td>Sylvanas</td>\n",
       "      <td>Specialist</td>\n",
       "    </tr>\n",
       "    <tr>\n",
       "      <th>4</th>\n",
       "      <td>4</td>\n",
       "      <td>23915730</td>\n",
       "      <td>4</td>\n",
       "      <td>Haunted Mines</td>\n",
       "      <td>720</td>\n",
       "      <td>5/14/2015 12:55:26 AM</td>\n",
       "      <td>False</td>\n",
       "      <td>Zagara</td>\n",
       "      <td>10</td>\n",
       "      <td>True</td>\n",
       "      <td>3198</td>\n",
       "      <td>Zagara</td>\n",
       "      <td>Specialist</td>\n",
       "    </tr>\n",
       "  </tbody>\n",
       "</table>\n",
       "</div>"
      ],
      "text/plain": [
       "   Unnamed: 0  ReplayID  GameMode            Map  ReplayLength  \\\n",
       "0           0  23915730         4  Haunted Mines           720   \n",
       "1           1  23915730         4  Haunted Mines           720   \n",
       "2           2  23915730         4  Haunted Mines           720   \n",
       "3           3  23915730         4  Haunted Mines           720   \n",
       "4           4  23915730         4  Haunted Mines           720   \n",
       "\n",
       "               Timestamp Is Auto Select      Hero  Hero Level Is Winner  \\\n",
       "0  5/14/2015 12:55:26 AM          False    Rehgar          14     False   \n",
       "1  5/14/2015 12:55:26 AM          False   Falstad          10     False   \n",
       "2  5/14/2015 12:55:26 AM          False     Jaina           7      True   \n",
       "3  5/14/2015 12:55:26 AM          False  Sylvanas          13     False   \n",
       "4  5/14/2015 12:55:26 AM          False    Zagara          10      True   \n",
       "\n",
       "   MMR Before      Name       Group  \n",
       "0        3170    Rehgar     Support  \n",
       "1        3330   Falstad    Assassin  \n",
       "2        3442     Jaina    Assassin  \n",
       "3        2666  Sylvanas  Specialist  \n",
       "4        3198    Zagara  Specialist  "
      ]
     },
     "execution_count": 12,
     "metadata": {},
     "output_type": "execute_result"
    }
   ],
   "source": [
    "DataFrame = pd.read_csv(\"HeroLeagueData.csv\")\n",
    "del DF\n",
    "DataFrame.head()"
   ]
  },
  {
   "cell_type": "markdown",
   "metadata": {},
   "source": [
    "We have now removed all entries for games that were not played in the competitive mode using the \"GameMode\" feature and so we can drop this as it is no longer needed. Additionally, \"Timestamp\" and \"Is Auto Select\" can be dropped as they are not relevant.\n",
    "\n",
    "We also rename the columns to remove spaces so they are easer to use."
   ]
  },
  {
   "cell_type": "code",
   "execution_count": 13,
   "metadata": {
    "collapsed": false
   },
   "outputs": [
    {
     "data": {
      "text/plain": [
       "['ReplayID',\n",
       " 'Map',\n",
       " 'ReplayLength',\n",
       " 'Hero',\n",
       " 'HeroLevel',\n",
       " 'IsWinner',\n",
       " 'MMRbefore',\n",
       " 'Group']"
      ]
     },
     "execution_count": 13,
     "metadata": {},
     "output_type": "execute_result"
    }
   ],
   "source": [
    "#drop these columns from dataframe as they are no longer relevant\n",
    "DataFrame = DataFrame.drop('Unnamed: 0', axis=1).drop('GameMode', axis=1).drop('Name', axis=1).drop('Is Auto Select', axis=1).drop('Timestamp', axis=1)\n",
    "\n",
    "#Overwrite the DataFrame's Column names to get it into correct format for future use\n",
    "DataFrame.columns = ['ReplayID', 'Map', 'ReplayLength', 'Hero', 'HeroLevel', 'IsWinner', 'MMRbefore', 'Group']\n",
    "\n",
    "list(DataFrame.columns.values)"
   ]
  },
  {
   "cell_type": "code",
   "execution_count": 14,
   "metadata": {
    "collapsed": false
   },
   "outputs": [
    {
     "data": {
      "text/plain": [
       "ReplayID          int64\n",
       "Map              object\n",
       "ReplayLength    float64\n",
       "Hero             object\n",
       "HeroLevel         int64\n",
       "IsWinner           bool\n",
       "MMRbefore       float64\n",
       "Group            object\n",
       "dtype: object"
      ]
     },
     "execution_count": 14,
     "metadata": {},
     "output_type": "execute_result"
    }
   ],
   "source": [
    "DataFrame.dtypes"
   ]
  },
  {
   "cell_type": "markdown",
   "metadata": {},
   "source": [
    "## More data cleaning - Null values\n",
    "We check our cleaned data for null values.  There are null values present for the \"MMRbefore\" feature.\n",
    "\n",
    "This is likely due to the fact that the data we have contains entries from the early release stages of the game, where this statistic may not have been tracked.\n",
    "\n",
    "As we will be using this later in the notebook, these rows are not useful to us and can be dropped."
   ]
  },
  {
   "cell_type": "code",
   "execution_count": 15,
   "metadata": {
    "collapsed": false
   },
   "outputs": [
    {
     "data": {
      "text/plain": [
       "ReplayID             0\n",
       "Map                  0\n",
       "ReplayLength         0\n",
       "Hero                 0\n",
       "HeroLevel            0\n",
       "IsWinner             0\n",
       "MMRbefore       175460\n",
       "Group                0\n",
       "dtype: int64"
      ]
     },
     "execution_count": 15,
     "metadata": {},
     "output_type": "execute_result"
    }
   ],
   "source": [
    "# Check if any fields contain null values\n",
    "DataFrame.isnull().sum()"
   ]
  },
  {
   "cell_type": "code",
   "execution_count": 16,
   "metadata": {
    "collapsed": true
   },
   "outputs": [],
   "source": [
    "# Remove all of the rows where the value of \"MMRbefore\" is not a finite number\n",
    "DataFrame = DataFrame[np.isfinite(DataFrame[\"MMRbefore\"])]"
   ]
  },
  {
   "cell_type": "code",
   "execution_count": 17,
   "metadata": {
    "collapsed": false
   },
   "outputs": [
    {
     "name": "stdout",
     "output_type": "stream",
     "text": [
      "True\n"
     ]
    }
   ],
   "source": [
    "# Get the number of rows that have a unique value for \"ReplayID\"\n",
    "# This value should be one tenth the value of the dataframe length, as each game has 10 players\n",
    "A = DataFrame.ReplayID.nunique()\n",
    "B = len(DataFrame)\n",
    "print(A*10 == B)"
   ]
  },
  {
   "cell_type": "code",
   "execution_count": 18,
   "metadata": {
    "collapsed": false
   },
   "outputs": [
    {
     "data": {
      "text/plain": [
       "(1697780, 8)"
      ]
     },
     "execution_count": 18,
     "metadata": {},
     "output_type": "execute_result"
    }
   ],
   "source": [
    "# Find the number of entries remaining\n",
    "DataFrame.shape"
   ]
  },
  {
   "cell_type": "markdown",
   "metadata": {},
   "source": [
    "# Data Understanding"
   ]
  },
  {
   "cell_type": "code",
   "execution_count": 19,
   "metadata": {
    "collapsed": false,
    "scrolled": true
   },
   "outputs": [
    {
     "data": {
      "text/html": [
       "<div>\n",
       "<table border=\"1\" class=\"dataframe\">\n",
       "  <thead>\n",
       "    <tr style=\"text-align: right;\">\n",
       "      <th></th>\n",
       "      <th>ReplayLength</th>\n",
       "      <th>HeroLevel</th>\n",
       "      <th>MMRbefore</th>\n",
       "    </tr>\n",
       "  </thead>\n",
       "  <tbody>\n",
       "    <tr>\n",
       "      <th>0</th>\n",
       "      <td>720</td>\n",
       "      <td>14</td>\n",
       "      <td>3170</td>\n",
       "    </tr>\n",
       "    <tr>\n",
       "      <th>1</th>\n",
       "      <td>720</td>\n",
       "      <td>10</td>\n",
       "      <td>3330</td>\n",
       "    </tr>\n",
       "    <tr>\n",
       "      <th>2</th>\n",
       "      <td>720</td>\n",
       "      <td>7</td>\n",
       "      <td>3442</td>\n",
       "    </tr>\n",
       "    <tr>\n",
       "      <th>3</th>\n",
       "      <td>720</td>\n",
       "      <td>13</td>\n",
       "      <td>2666</td>\n",
       "    </tr>\n",
       "    <tr>\n",
       "      <th>4</th>\n",
       "      <td>720</td>\n",
       "      <td>10</td>\n",
       "      <td>3198</td>\n",
       "    </tr>\n",
       "  </tbody>\n",
       "</table>\n",
       "</div>"
      ],
      "text/plain": [
       "   ReplayLength  HeroLevel  MMRbefore\n",
       "0           720         14       3170\n",
       "1           720         10       3330\n",
       "2           720          7       3442\n",
       "3           720         13       2666\n",
       "4           720         10       3198"
      ]
     },
     "execution_count": 19,
     "metadata": {},
     "output_type": "execute_result"
    }
   ],
   "source": [
    "numeric = DataFrame.select_dtypes(['int64','float64']).columns\n",
    "numeric = numeric.drop(\"ReplayID\")\n",
    "DataFrame[numeric].head(5)"
   ]
  },
  {
   "cell_type": "code",
   "execution_count": 20,
   "metadata": {
    "collapsed": false
   },
   "outputs": [
    {
     "data": {
      "text/html": [
       "<div>\n",
       "<table border=\"1\" class=\"dataframe\">\n",
       "  <thead>\n",
       "    <tr style=\"text-align: right;\">\n",
       "      <th></th>\n",
       "      <th>ReplayLength</th>\n",
       "      <th>HeroLevel</th>\n",
       "      <th>MMRbefore</th>\n",
       "    </tr>\n",
       "  </thead>\n",
       "  <tbody>\n",
       "    <tr>\n",
       "      <th>ReplayLength</th>\n",
       "      <td>1.000000</td>\n",
       "      <td>-0.003705</td>\n",
       "      <td>-0.050528</td>\n",
       "    </tr>\n",
       "    <tr>\n",
       "      <th>HeroLevel</th>\n",
       "      <td>-0.003705</td>\n",
       "      <td>1.000000</td>\n",
       "      <td>0.103924</td>\n",
       "    </tr>\n",
       "    <tr>\n",
       "      <th>MMRbefore</th>\n",
       "      <td>-0.050528</td>\n",
       "      <td>0.103924</td>\n",
       "      <td>1.000000</td>\n",
       "    </tr>\n",
       "  </tbody>\n",
       "</table>\n",
       "</div>"
      ],
      "text/plain": [
       "              ReplayLength  HeroLevel  MMRbefore\n",
       "ReplayLength      1.000000  -0.003705  -0.050528\n",
       "HeroLevel        -0.003705   1.000000   0.103924\n",
       "MMRbefore        -0.050528   0.103924   1.000000"
      ]
     },
     "execution_count": 20,
     "metadata": {},
     "output_type": "execute_result"
    }
   ],
   "source": [
    "DataFrame[numeric].corr()"
   ]
  },
  {
   "cell_type": "code",
   "execution_count": 21,
   "metadata": {
    "collapsed": false
   },
   "outputs": [
    {
     "data": {
      "text/plain": [
       "array([[<matplotlib.axes._subplots.AxesSubplot object at 0x08FD2910>,\n",
       "        <matplotlib.axes._subplots.AxesSubplot object at 0x09005E10>]], dtype=object)"
      ]
     },
     "execution_count": 21,
     "metadata": {},
     "output_type": "execute_result"
    },
    {
     "data": {
      "image/png": "[encoded data removed]",
      "text/plain": [
       "<matplotlib.figure.Figure at 0x2327fe90>"
      ]
     },
     "metadata": {},
     "output_type": "display_data"
    }
   ],
   "source": [
    "%matplotlib inline\n",
    "DataFrame[[\"HeroLevel\",\"MMRbefore\"]].hist(figsize=(20, 8), color='red')\n",
    "#plt.savefig(\"Histogram-Numeric-Features_HOTS.png\")"
   ]
  },
  {
   "cell_type": "code",
   "execution_count": 22,
   "metadata": {
    "collapsed": false
   },
   "outputs": [
    {
     "data": {
      "text/plain": [
       "<matplotlib.axes._subplots.AxesSubplot at 0x2327fd30>"
      ]
     },
     "execution_count": 22,
     "metadata": {},
     "output_type": "execute_result"
    },
    {
     "data": {
      "image/png": "[encoded data removed]",
      "text/plain": [
       "<matplotlib.figure.Figure at 0x928d7f0>"
      ]
     },
     "metadata": {},
     "output_type": "display_data"
    }
   ],
   "source": [
    "DataFrame[\"ReplayLength\"].hist(figsize=(20, 8), color='red')"
   ]
  },
  {
   "cell_type": "markdown",
   "metadata": {},
   "source": [
    "Removing outliers above a threshold of 3000 seconds gives a better representation of the spread of game duration"
   ]
  },
  {
   "cell_type": "code",
   "execution_count": 23,
   "metadata": {
    "collapsed": false
   },
   "outputs": [
    {
     "data": {
      "text/plain": [
       "<matplotlib.axes._subplots.AxesSubplot at 0xa1252b0>"
      ]
     },
     "execution_count": 23,
     "metadata": {},
     "output_type": "execute_result"
    },
    {
     "data": {
      "image/png": "[encoded data removed]",
      "text/plain": [
       "<matplotlib.figure.Figure at 0xa1279f0>"
      ]
     },
     "metadata": {},
     "output_type": "display_data"
    }
   ],
   "source": [
    "# Create a separate plot just to show the distribution of game length (removing lengthy outliers)\n",
    "DataFrame[\"ReplayLength\"][DataFrame.ReplayLength <= 3000].hist(figsize=(20, 8), color='red', bins=100)"
   ]
  },
  {
   "cell_type": "code",
   "execution_count": 24,
   "metadata": {
    "collapsed": false
   },
   "outputs": [
    {
     "data": {
      "text/plain": [
       "<matplotlib.axes._subplots.AxesSubplot at 0x928dd90>"
      ]
     },
     "execution_count": 24,
     "metadata": {},
     "output_type": "execute_result"
    },
    {
     "data": {
      "image/png": "[encoded data removed]",
      "text/plain": [
       "<matplotlib.figure.Figure at 0xa450650>"
      ]
     },
     "metadata": {},
     "output_type": "display_data"
    }
   ],
   "source": [
    "dfHero = DataFrame[[\"Hero\", \"IsWinner\"]]\n",
    "dfHero = dfHero.groupby([\"Hero\",\"IsWinner\"])[\"Hero\"].count().unstack('IsWinner')\n",
    "dfHero.plot(kind=\"bar\", stacked=True, figsize=(17,8), title=\"Bar Plot for Win/Loss per hero\")"
   ]
  },
  {
   "cell_type": "code",
   "execution_count": 25,
   "metadata": {
    "collapsed": false
   },
   "outputs": [
    {
     "data": {
      "text/html": [
       "<div>\n",
       "<table border=\"1\" class=\"dataframe\">\n",
       "  <thead>\n",
       "    <tr style=\"text-align: right;\">\n",
       "      <th></th>\n",
       "      <th>WinRate</th>\n",
       "      <th>Loss</th>\n",
       "      <th>Victory</th>\n",
       "    </tr>\n",
       "    <tr>\n",
       "      <th>Hero</th>\n",
       "      <th></th>\n",
       "      <th></th>\n",
       "      <th></th>\n",
       "    </tr>\n",
       "  </thead>\n",
       "  <tbody>\n",
       "    <tr>\n",
       "      <th>Abathur</th>\n",
       "      <td>44.159771</td>\n",
       "      <td>10527</td>\n",
       "      <td>8325</td>\n",
       "    </tr>\n",
       "    <tr>\n",
       "      <th>Anub'arak</th>\n",
       "      <td>60.123523</td>\n",
       "      <td>24664</td>\n",
       "      <td>37187</td>\n",
       "    </tr>\n",
       "    <tr>\n",
       "      <th>Arthas</th>\n",
       "      <td>49.094823</td>\n",
       "      <td>10404</td>\n",
       "      <td>10034</td>\n",
       "    </tr>\n",
       "    <tr>\n",
       "      <th>Azmodan</th>\n",
       "      <td>50.340423</td>\n",
       "      <td>8242</td>\n",
       "      <td>8355</td>\n",
       "    </tr>\n",
       "    <tr>\n",
       "      <th>Brightwing</th>\n",
       "      <td>55.309735</td>\n",
       "      <td>37774</td>\n",
       "      <td>46750</td>\n",
       "    </tr>\n",
       "  </tbody>\n",
       "</table>\n",
       "</div>"
      ],
      "text/plain": [
       "              WinRate   Loss  Victory\n",
       "Hero                                 \n",
       "Abathur     44.159771  10527     8325\n",
       "Anub'arak   60.123523  24664    37187\n",
       "Arthas      49.094823  10404    10034\n",
       "Azmodan     50.340423   8242     8355\n",
       "Brightwing  55.309735  37774    46750"
      ]
     },
     "execution_count": 25,
     "metadata": {},
     "output_type": "execute_result"
    }
   ],
   "source": [
    "#Getting win rate in percentage per hero to plot in bar chart\n",
    "dfGroup = DataFrame[[\"Hero\", \"IsWinner\", \"Group\"]]\n",
    "\n",
    "dfGroup = dfGroup.groupby([\"Hero\",\"IsWinner\"]).count().unstack('IsWinner')\n",
    "\n",
    "dfGroup.columns = ['Loss', 'Victory']\n",
    "dfGroup.insert(0, 'WinRate', dfGroup.Victory/(dfGroup.Loss+dfGroup.Victory)*100)\n",
    "\n",
    "dfGroup.head()"
   ]
  },
  {
   "cell_type": "code",
   "execution_count": 47,
   "metadata": {
    "collapsed": false
   },
   "outputs": [
    {
     "data": {
      "text/plain": [
       "<matplotlib.axes._subplots.AxesSubplot at 0x231eaa30>"
      ]
     },
     "execution_count": 47,
     "metadata": {},
     "output_type": "execute_result"
    },
    {
     "data": {
      "image/png": "[encoded data removed]",
      "text/plain": [
       "<matplotlib.figure.Figure at 0x231f22f0>"
      ]
     },
     "metadata": {},
     "output_type": "display_data"
    }
   ],
   "source": [
    "# 'Specialist' = 'blue'\n",
    "# 'Support' = green'\n",
    "# 'Assassin' = 'red'\n",
    "# 'Warrior' = 'yellow'\n",
    "\n",
    "my_colors = 'byybgyyyrbrrrrggybbrrgbyybgbrryggrbr'\n",
    "dfGroup['WinRate'].plot(kind=\"bar\", figsize=(17,8), ylim=(40,62), color=my_colors, title=\"Bar Plot for WinRate (%) per hero\")"
   ]
  },
  {
   "cell_type": "markdown",
   "metadata": {},
   "source": [
    "#  <u> Observations </u>\n",
    "According to the graph above we can identify that the Heroes which are played the most are:  \n",
    "- *Valla*   (Assassin) \n",
    "- *Sylvanas*    (Specialist)\n",
    "- *Jaina*  (Assassin)\n",
    "- *Kael'Thas*  (Assassin)\n",
    "- *ETC*    (Warrior)"
   ]
  },
  {
   "cell_type": "markdown",
   "metadata": {},
   "source": [
    "## Creating \"Team Composition\" feature from existing data\n",
    "\n",
    "As mentioned above, this is one of the main features we wish to look at\n",
    "- We begin by sorting our dataframe based on \"ReplayID\"\n",
    "- With that in place, each record is then sorted by \"IsWinner\"\n",
    "- This results in 10 entries for the same game being grouped together, where the first 5 are the winning team, and the second 5 are the losing team"
   ]
  },
  {
   "cell_type": "code",
   "execution_count": 27,
   "metadata": {
    "collapsed": false
   },
   "outputs": [],
   "source": [
    "DataFrame.sort_values([\"ReplayID\",\"IsWinner\"],axis=0, inplace=True, ascending=[True, False])"
   ]
  },
  {
   "cell_type": "code",
   "execution_count": 28,
   "metadata": {
    "collapsed": false
   },
   "outputs": [
    {
     "data": {
      "text/html": [
       "<div>\n",
       "<table border=\"1\" class=\"dataframe\">\n",
       "  <thead>\n",
       "    <tr style=\"text-align: right;\">\n",
       "      <th></th>\n",
       "      <th>ReplayID</th>\n",
       "      <th>Map</th>\n",
       "      <th>ReplayLength</th>\n",
       "      <th>Hero</th>\n",
       "      <th>HeroLevel</th>\n",
       "      <th>IsWinner</th>\n",
       "      <th>MMRbefore</th>\n",
       "      <th>Group</th>\n",
       "    </tr>\n",
       "  </thead>\n",
       "  <tbody>\n",
       "    <tr>\n",
       "      <th>14251</th>\n",
       "      <td>23812009</td>\n",
       "      <td>Garden of Terror</td>\n",
       "      <td>814</td>\n",
       "      <td>E.T.C.</td>\n",
       "      <td>8</td>\n",
       "      <td>True</td>\n",
       "      <td>3341</td>\n",
       "      <td>Warrior</td>\n",
       "    </tr>\n",
       "    <tr>\n",
       "      <th>14252</th>\n",
       "      <td>23812009</td>\n",
       "      <td>Garden of Terror</td>\n",
       "      <td>814</td>\n",
       "      <td>Rehgar</td>\n",
       "      <td>10</td>\n",
       "      <td>True</td>\n",
       "      <td>3008</td>\n",
       "      <td>Support</td>\n",
       "    </tr>\n",
       "    <tr>\n",
       "      <th>14253</th>\n",
       "      <td>23812009</td>\n",
       "      <td>Garden of Terror</td>\n",
       "      <td>814</td>\n",
       "      <td>Raynor</td>\n",
       "      <td>10</td>\n",
       "      <td>True</td>\n",
       "      <td>2850</td>\n",
       "      <td>Assassin</td>\n",
       "    </tr>\n",
       "    <tr>\n",
       "      <th>14254</th>\n",
       "      <td>23812009</td>\n",
       "      <td>Garden of Terror</td>\n",
       "      <td>814</td>\n",
       "      <td>Jaina</td>\n",
       "      <td>8</td>\n",
       "      <td>True</td>\n",
       "      <td>2835</td>\n",
       "      <td>Assassin</td>\n",
       "    </tr>\n",
       "    <tr>\n",
       "      <th>14255</th>\n",
       "      <td>23812009</td>\n",
       "      <td>Garden of Terror</td>\n",
       "      <td>814</td>\n",
       "      <td>Sylvanas</td>\n",
       "      <td>16</td>\n",
       "      <td>True</td>\n",
       "      <td>2648</td>\n",
       "      <td>Specialist</td>\n",
       "    </tr>\n",
       "  </tbody>\n",
       "</table>\n",
       "</div>"
      ],
      "text/plain": [
       "       ReplayID               Map  ReplayLength      Hero  HeroLevel IsWinner  \\\n",
       "14251  23812009  Garden of Terror           814    E.T.C.          8     True   \n",
       "14252  23812009  Garden of Terror           814    Rehgar         10     True   \n",
       "14253  23812009  Garden of Terror           814    Raynor         10     True   \n",
       "14254  23812009  Garden of Terror           814     Jaina          8     True   \n",
       "14255  23812009  Garden of Terror           814  Sylvanas         16     True   \n",
       "\n",
       "       MMRbefore       Group  \n",
       "14251       3341     Warrior  \n",
       "14252       3008     Support  \n",
       "14253       2850    Assassin  \n",
       "14254       2835    Assassin  \n",
       "14255       2648  Specialist  "
      ]
     },
     "execution_count": 28,
     "metadata": {},
     "output_type": "execute_result"
    }
   ],
   "source": [
    "DataFrame.head()"
   ]
  },
  {
   "cell_type": "markdown",
   "metadata": {},
   "source": [
    "We want to extract two lists from each game: one from the winning team and one from the losing team\n",
    "\n",
    "Each list will record the classes of characters present on that team. For example:\n",
    "\n",
    "    Winner = [\"Assassin\", \"Support\", \"Support\", \"Specialist\", \"Warrior\"]\n",
    "\n",
    "This list will then be sorted alphabetically and checked against a list of class compositions recorded so far. If that particular configuration is not present, it will be added. This allows us to see the unique team compositions present in our dataset."
   ]
  },
  {
   "cell_type": "code",
   "execution_count": 29,
   "metadata": {
    "collapsed": false
   },
   "outputs": [
    {
     "data": {
      "text/plain": [
       "(1697780, 4)"
      ]
     },
     "execution_count": 29,
     "metadata": {},
     "output_type": "execute_result"
    }
   ],
   "source": [
    "df_classes = DataFrame[[\"IsWinner\", \"ReplayID\", \"Group\", \"MMRbefore\"]]\n",
    "df_classes.shape"
   ]
  },
  {
   "cell_type": "code",
   "execution_count": 30,
   "metadata": {
    "collapsed": false
   },
   "outputs": [
    {
     "data": {
      "text/html": [
       "<div>\n",
       "<table border=\"1\" class=\"dataframe\">\n",
       "  <thead>\n",
       "    <tr style=\"text-align: right;\">\n",
       "      <th></th>\n",
       "      <th>IsWinner</th>\n",
       "      <th>ReplayID</th>\n",
       "      <th>Group</th>\n",
       "      <th>MMRbefore</th>\n",
       "    </tr>\n",
       "  </thead>\n",
       "  <tbody>\n",
       "    <tr>\n",
       "      <th>14251</th>\n",
       "      <td>True</td>\n",
       "      <td>23812009</td>\n",
       "      <td>Warrior</td>\n",
       "      <td>3341</td>\n",
       "    </tr>\n",
       "    <tr>\n",
       "      <th>14252</th>\n",
       "      <td>True</td>\n",
       "      <td>23812009</td>\n",
       "      <td>Support</td>\n",
       "      <td>3008</td>\n",
       "    </tr>\n",
       "    <tr>\n",
       "      <th>14253</th>\n",
       "      <td>True</td>\n",
       "      <td>23812009</td>\n",
       "      <td>Assassin</td>\n",
       "      <td>2850</td>\n",
       "    </tr>\n",
       "    <tr>\n",
       "      <th>14254</th>\n",
       "      <td>True</td>\n",
       "      <td>23812009</td>\n",
       "      <td>Assassin</td>\n",
       "      <td>2835</td>\n",
       "    </tr>\n",
       "    <tr>\n",
       "      <th>14255</th>\n",
       "      <td>True</td>\n",
       "      <td>23812009</td>\n",
       "      <td>Specialist</td>\n",
       "      <td>2648</td>\n",
       "    </tr>\n",
       "  </tbody>\n",
       "</table>\n",
       "</div>"
      ],
      "text/plain": [
       "      IsWinner  ReplayID       Group  MMRbefore\n",
       "14251     True  23812009     Warrior       3341\n",
       "14252     True  23812009     Support       3008\n",
       "14253     True  23812009    Assassin       2850\n",
       "14254     True  23812009    Assassin       2835\n",
       "14255     True  23812009  Specialist       2648"
      ]
     },
     "execution_count": 30,
     "metadata": {},
     "output_type": "execute_result"
    }
   ],
   "source": [
    "df_classes.head()"
   ]
  },
  {
   "cell_type": "markdown",
   "metadata": {},
   "source": [
    "## Note\n",
    "**This cell may take a while to execute**"
   ]
  },
  {
   "cell_type": "code",
   "execution_count": 31,
   "metadata": {
    "collapsed": false
   },
   "outputs": [
    {
     "name": "stdout",
     "output_type": "stream",
     "text": [
      "Finished\n"
     ]
    }
   ],
   "source": [
    "# Initialise lists to keep track of the group of 5 classes (a.k.a. Team Composition) played in any given game\n",
    "# Initialise another list to keep track of each of these lists of 5 classes\n",
    "# Similar thing with MMR (a.k.a. Player Rating), but divide by 5 to get average player rating on the team\n",
    "# Initialise a counter to 0, and cycle through every row in the dataframe\n",
    "# The dataframe is sorted by ReplayID, so every 10 rows corresponds to 1 game\n",
    "# Once counter reaches 10, reset the appropriate lists after adding their values to the larger lists\n",
    "\n",
    "comp_win = []\n",
    "comp_lose = []\n",
    "composition_list = []\n",
    "mmr_win = 0\n",
    "mmr_lose = 0\n",
    "mmr_list = []\n",
    "counter = 0\n",
    "for x in range(len(df_classes)):\n",
    "    if df_classes.IsWinner.iloc[x] == True:\n",
    "        comp_win.append(df_classes.Group.iloc[x])\n",
    "        mmr_win += df_classes.MMRbefore.iloc[x]\n",
    "    else:\n",
    "        comp_lose.append(df_classes.Group.iloc[x])\n",
    "        mmr_lose += df_classes.MMRbefore.iloc[x]\n",
    "    counter += 1\n",
    "    if counter == 10: # All values for a single game have been read, so now add them to lists\n",
    "        comp_win.sort()\n",
    "        comp_lose.sort()\n",
    "        composition_list.append(comp_win)\n",
    "        composition_list.append(comp_lose)\n",
    "        comp_win = []\n",
    "        comp_lose = []\n",
    "        mmr_list.append(mmr_win//5)\n",
    "        mmr_list.append(mmr_lose//5)\n",
    "        mmr_win = 0\n",
    "        mmr_lose = 0\n",
    "        counter = 0 # Restart counter to represent next game\n",
    "        \n",
    "print(\"Finished\")  "
   ]
  },
  {
   "cell_type": "code",
   "execution_count": 32,
   "metadata": {
    "collapsed": false
   },
   "outputs": [],
   "source": [
    "# From the entire list of all Team Compositions played, create a list of only the unique ones\n",
    "# This can then be used to create dummies that will be used to convey what Team Composition a particular team played\n",
    "# Necessary for our logisitic regression\n",
    "\n",
    "unique_comps = []\n",
    "for item in composition_list:\n",
    "    if item not in unique_comps:\n",
    "        unique_comps.append(item)\n",
    "        \n",
    "# Check that every composition conisists of 5 Classes\n",
    "for j in unique_comps:\n",
    "    if len(j) != 5:\n",
    "        print(\"Error\")"
   ]
  },
  {
   "cell_type": "markdown",
   "metadata": {},
   "source": [
    "At this point, every player record has an associated \"Team Composition\" showing the 5 classes that were chosen on their team that game.\n",
    "\n",
    "This is in the form of a list. E.g. [\"Assassin\", \"Support\", \"Support\", \"Specialist\", \"Warrior\"]\n",
    "\n",
    "As we will be creating a new feature based on this information, we attempt to increase readability by converting these lists to a string of letters, each representing a particular class"
   ]
  },
  {
   "cell_type": "code",
   "execution_count": 33,
   "metadata": {
    "collapsed": false
   },
   "outputs": [
    {
     "name": "stdout",
     "output_type": "stream",
     "text": [
      "['AASpSW', 'AASpSW', 'AAASW', 'ASpSpSW', 'AASpSW']\n"
     ]
    }
   ],
   "source": [
    "# For compositions to be easily readable, we will convert every list of 5 classes to a string representation\n",
    "# A = Assassin\n",
    "# S = Support\n",
    "# Sp = Specialist\n",
    "# W = Warrior\n",
    "# For example, the string AASpWW would represent [\"Assassin\", \"Assassin\", \"Specialist\", \"Warrior\", \"Warrior\"]\n",
    "str_comps = []\n",
    "for composition in composition_list:\n",
    "    string_rep = \"\" # String to keep track of class initials\n",
    "    for character_class in composition:\n",
    "        if character_class == \"Specialist\": # 2 classes begin with \"S\", so represent Specialist as \"Sp\"\n",
    "            string_rep += character_class[0:2]\n",
    "        else:\n",
    "            string_rep += character_class[0]\n",
    "    str_comps.append(string_rep) # Add the composition to the list\n",
    "    \n",
    "# Check that formatting is as expected\n",
    "print(str_comps[0:5])"
   ]
  },
  {
   "cell_type": "code",
   "execution_count": 34,
   "metadata": {
    "collapsed": true
   },
   "outputs": [],
   "source": [
    "# Create a list that can be used as a pandas Series to add as a column to our dataframe\n",
    "# The ratings calculated on a per-team basis, but at the moment we still have one row per player\n",
    "# Therefore, create 5 of each entry\n",
    "col_rating = []\n",
    "for i in mmr_list:\n",
    "    for j in range(5):\n",
    "        col_rating.append(i)"
   ]
  },
  {
   "cell_type": "code",
   "execution_count": 35,
   "metadata": {
    "collapsed": true
   },
   "outputs": [],
   "source": [
    "# Same as the previous cell, but for team composition\n",
    "col_comp = []\n",
    "for i in str_comps:\n",
    "    for j in range(5):\n",
    "        col_comp.append(i)"
   ]
  },
  {
   "cell_type": "code",
   "execution_count": 36,
   "metadata": {
    "collapsed": false
   },
   "outputs": [],
   "source": [
    "# Add these columns to the dataframe\n",
    "DataFrame['Composition'] = pd.Series(col_comp, index=DataFrame.index)\n",
    "DataFrame['Rating'] = pd.Series(col_rating, index=DataFrame.index)"
   ]
  },
  {
   "cell_type": "code",
   "execution_count": 37,
   "metadata": {
    "collapsed": false
   },
   "outputs": [
    {
     "data": {
      "text/html": [
       "<div>\n",
       "<table border=\"1\" class=\"dataframe\">\n",
       "  <thead>\n",
       "    <tr style=\"text-align: right;\">\n",
       "      <th></th>\n",
       "      <th>ReplayID</th>\n",
       "      <th>Map</th>\n",
       "      <th>ReplayLength</th>\n",
       "      <th>Hero</th>\n",
       "      <th>HeroLevel</th>\n",
       "      <th>IsWinner</th>\n",
       "      <th>MMRbefore</th>\n",
       "      <th>Group</th>\n",
       "      <th>Composition</th>\n",
       "      <th>Rating</th>\n",
       "    </tr>\n",
       "  </thead>\n",
       "  <tbody>\n",
       "    <tr>\n",
       "      <th>14251</th>\n",
       "      <td>23812009</td>\n",
       "      <td>Garden of Terror</td>\n",
       "      <td>814</td>\n",
       "      <td>E.T.C.</td>\n",
       "      <td>8</td>\n",
       "      <td>True</td>\n",
       "      <td>3341</td>\n",
       "      <td>Warrior</td>\n",
       "      <td>AASpSW</td>\n",
       "      <td>2936</td>\n",
       "    </tr>\n",
       "    <tr>\n",
       "      <th>14252</th>\n",
       "      <td>23812009</td>\n",
       "      <td>Garden of Terror</td>\n",
       "      <td>814</td>\n",
       "      <td>Rehgar</td>\n",
       "      <td>10</td>\n",
       "      <td>True</td>\n",
       "      <td>3008</td>\n",
       "      <td>Support</td>\n",
       "      <td>AASpSW</td>\n",
       "      <td>2936</td>\n",
       "    </tr>\n",
       "    <tr>\n",
       "      <th>14253</th>\n",
       "      <td>23812009</td>\n",
       "      <td>Garden of Terror</td>\n",
       "      <td>814</td>\n",
       "      <td>Raynor</td>\n",
       "      <td>10</td>\n",
       "      <td>True</td>\n",
       "      <td>2850</td>\n",
       "      <td>Assassin</td>\n",
       "      <td>AASpSW</td>\n",
       "      <td>2936</td>\n",
       "    </tr>\n",
       "    <tr>\n",
       "      <th>14254</th>\n",
       "      <td>23812009</td>\n",
       "      <td>Garden of Terror</td>\n",
       "      <td>814</td>\n",
       "      <td>Jaina</td>\n",
       "      <td>8</td>\n",
       "      <td>True</td>\n",
       "      <td>2835</td>\n",
       "      <td>Assassin</td>\n",
       "      <td>AASpSW</td>\n",
       "      <td>2936</td>\n",
       "    </tr>\n",
       "    <tr>\n",
       "      <th>14255</th>\n",
       "      <td>23812009</td>\n",
       "      <td>Garden of Terror</td>\n",
       "      <td>814</td>\n",
       "      <td>Sylvanas</td>\n",
       "      <td>16</td>\n",
       "      <td>True</td>\n",
       "      <td>2648</td>\n",
       "      <td>Specialist</td>\n",
       "      <td>AASpSW</td>\n",
       "      <td>2936</td>\n",
       "    </tr>\n",
       "    <tr>\n",
       "      <th>14250</th>\n",
       "      <td>23812009</td>\n",
       "      <td>Garden of Terror</td>\n",
       "      <td>814</td>\n",
       "      <td>Uther</td>\n",
       "      <td>7</td>\n",
       "      <td>False</td>\n",
       "      <td>2336</td>\n",
       "      <td>Support</td>\n",
       "      <td>AASpSW</td>\n",
       "      <td>2191</td>\n",
       "    </tr>\n",
       "    <tr>\n",
       "      <th>14256</th>\n",
       "      <td>23812009</td>\n",
       "      <td>Garden of Terror</td>\n",
       "      <td>814</td>\n",
       "      <td>Valla</td>\n",
       "      <td>9</td>\n",
       "      <td>False</td>\n",
       "      <td>2311</td>\n",
       "      <td>Assassin</td>\n",
       "      <td>AASpSW</td>\n",
       "      <td>2191</td>\n",
       "    </tr>\n",
       "    <tr>\n",
       "      <th>14257</th>\n",
       "      <td>23812009</td>\n",
       "      <td>Garden of Terror</td>\n",
       "      <td>814</td>\n",
       "      <td>Diablo</td>\n",
       "      <td>9</td>\n",
       "      <td>False</td>\n",
       "      <td>2971</td>\n",
       "      <td>Warrior</td>\n",
       "      <td>AASpSW</td>\n",
       "      <td>2191</td>\n",
       "    </tr>\n",
       "    <tr>\n",
       "      <th>14258</th>\n",
       "      <td>23812009</td>\n",
       "      <td>Garden of Terror</td>\n",
       "      <td>814</td>\n",
       "      <td>Sgt. Hammer</td>\n",
       "      <td>10</td>\n",
       "      <td>False</td>\n",
       "      <td>804</td>\n",
       "      <td>Specialist</td>\n",
       "      <td>AASpSW</td>\n",
       "      <td>2191</td>\n",
       "    </tr>\n",
       "    <tr>\n",
       "      <th>14259</th>\n",
       "      <td>23812009</td>\n",
       "      <td>Garden of Terror</td>\n",
       "      <td>814</td>\n",
       "      <td>Falstad</td>\n",
       "      <td>7</td>\n",
       "      <td>False</td>\n",
       "      <td>2535</td>\n",
       "      <td>Assassin</td>\n",
       "      <td>AASpSW</td>\n",
       "      <td>2191</td>\n",
       "    </tr>\n",
       "    <tr>\n",
       "      <th>152140</th>\n",
       "      <td>23888167</td>\n",
       "      <td>Sky Temple</td>\n",
       "      <td>1022</td>\n",
       "      <td>Tychus</td>\n",
       "      <td>7</td>\n",
       "      <td>True</td>\n",
       "      <td>2360</td>\n",
       "      <td>Assassin</td>\n",
       "      <td>AAASW</td>\n",
       "      <td>2436</td>\n",
       "    </tr>\n",
       "    <tr>\n",
       "      <th>152145</th>\n",
       "      <td>23888167</td>\n",
       "      <td>Sky Temple</td>\n",
       "      <td>1022</td>\n",
       "      <td>Jaina</td>\n",
       "      <td>9</td>\n",
       "      <td>True</td>\n",
       "      <td>2260</td>\n",
       "      <td>Assassin</td>\n",
       "      <td>AAASW</td>\n",
       "      <td>2436</td>\n",
       "    </tr>\n",
       "    <tr>\n",
       "      <th>152146</th>\n",
       "      <td>23888167</td>\n",
       "      <td>Sky Temple</td>\n",
       "      <td>1022</td>\n",
       "      <td>Illidan</td>\n",
       "      <td>10</td>\n",
       "      <td>True</td>\n",
       "      <td>2878</td>\n",
       "      <td>Assassin</td>\n",
       "      <td>AAASW</td>\n",
       "      <td>2436</td>\n",
       "    </tr>\n",
       "    <tr>\n",
       "      <th>152147</th>\n",
       "      <td>23888167</td>\n",
       "      <td>Sky Temple</td>\n",
       "      <td>1022</td>\n",
       "      <td>Li Li</td>\n",
       "      <td>7</td>\n",
       "      <td>True</td>\n",
       "      <td>2137</td>\n",
       "      <td>Support</td>\n",
       "      <td>AAASW</td>\n",
       "      <td>2436</td>\n",
       "    </tr>\n",
       "    <tr>\n",
       "      <th>152149</th>\n",
       "      <td>23888167</td>\n",
       "      <td>Sky Temple</td>\n",
       "      <td>1022</td>\n",
       "      <td>Diablo</td>\n",
       "      <td>7</td>\n",
       "      <td>True</td>\n",
       "      <td>2545</td>\n",
       "      <td>Warrior</td>\n",
       "      <td>AAASW</td>\n",
       "      <td>2436</td>\n",
       "    </tr>\n",
       "    <tr>\n",
       "      <th>152141</th>\n",
       "      <td>23888167</td>\n",
       "      <td>Sky Temple</td>\n",
       "      <td>1022</td>\n",
       "      <td>Brightwing</td>\n",
       "      <td>7</td>\n",
       "      <td>False</td>\n",
       "      <td>2425</td>\n",
       "      <td>Support</td>\n",
       "      <td>ASpSpSW</td>\n",
       "      <td>2280</td>\n",
       "    </tr>\n",
       "    <tr>\n",
       "      <th>152142</th>\n",
       "      <td>23888167</td>\n",
       "      <td>Sky Temple</td>\n",
       "      <td>1022</td>\n",
       "      <td>Nazeebo</td>\n",
       "      <td>9</td>\n",
       "      <td>False</td>\n",
       "      <td>2195</td>\n",
       "      <td>Specialist</td>\n",
       "      <td>ASpSpSW</td>\n",
       "      <td>2280</td>\n",
       "    </tr>\n",
       "    <tr>\n",
       "      <th>152143</th>\n",
       "      <td>23888167</td>\n",
       "      <td>Sky Temple</td>\n",
       "      <td>1022</td>\n",
       "      <td>Valla</td>\n",
       "      <td>10</td>\n",
       "      <td>False</td>\n",
       "      <td>2433</td>\n",
       "      <td>Assassin</td>\n",
       "      <td>ASpSpSW</td>\n",
       "      <td>2280</td>\n",
       "    </tr>\n",
       "    <tr>\n",
       "      <th>152144</th>\n",
       "      <td>23888167</td>\n",
       "      <td>Sky Temple</td>\n",
       "      <td>1022</td>\n",
       "      <td>Sylvanas</td>\n",
       "      <td>8</td>\n",
       "      <td>False</td>\n",
       "      <td>1842</td>\n",
       "      <td>Specialist</td>\n",
       "      <td>ASpSpSW</td>\n",
       "      <td>2280</td>\n",
       "    </tr>\n",
       "    <tr>\n",
       "      <th>152148</th>\n",
       "      <td>23888167</td>\n",
       "      <td>Sky Temple</td>\n",
       "      <td>1022</td>\n",
       "      <td>Anub'arak</td>\n",
       "      <td>6</td>\n",
       "      <td>False</td>\n",
       "      <td>2505</td>\n",
       "      <td>Warrior</td>\n",
       "      <td>ASpSpSW</td>\n",
       "      <td>2280</td>\n",
       "    </tr>\n",
       "  </tbody>\n",
       "</table>\n",
       "</div>"
      ],
      "text/plain": [
       "        ReplayID               Map  ReplayLength         Hero  HeroLevel  \\\n",
       "14251   23812009  Garden of Terror           814       E.T.C.          8   \n",
       "14252   23812009  Garden of Terror           814       Rehgar         10   \n",
       "14253   23812009  Garden of Terror           814       Raynor         10   \n",
       "14254   23812009  Garden of Terror           814        Jaina          8   \n",
       "14255   23812009  Garden of Terror           814     Sylvanas         16   \n",
       "14250   23812009  Garden of Terror           814        Uther          7   \n",
       "14256   23812009  Garden of Terror           814        Valla          9   \n",
       "14257   23812009  Garden of Terror           814       Diablo          9   \n",
       "14258   23812009  Garden of Terror           814  Sgt. Hammer         10   \n",
       "14259   23812009  Garden of Terror           814      Falstad          7   \n",
       "152140  23888167        Sky Temple          1022       Tychus          7   \n",
       "152145  23888167        Sky Temple          1022        Jaina          9   \n",
       "152146  23888167        Sky Temple          1022      Illidan         10   \n",
       "152147  23888167        Sky Temple          1022        Li Li          7   \n",
       "152149  23888167        Sky Temple          1022       Diablo          7   \n",
       "152141  23888167        Sky Temple          1022   Brightwing          7   \n",
       "152142  23888167        Sky Temple          1022      Nazeebo          9   \n",
       "152143  23888167        Sky Temple          1022        Valla         10   \n",
       "152144  23888167        Sky Temple          1022     Sylvanas          8   \n",
       "152148  23888167        Sky Temple          1022    Anub'arak          6   \n",
       "\n",
       "       IsWinner  MMRbefore       Group Composition  Rating  \n",
       "14251      True       3341     Warrior      AASpSW    2936  \n",
       "14252      True       3008     Support      AASpSW    2936  \n",
       "14253      True       2850    Assassin      AASpSW    2936  \n",
       "14254      True       2835    Assassin      AASpSW    2936  \n",
       "14255      True       2648  Specialist      AASpSW    2936  \n",
       "14250     False       2336     Support      AASpSW    2191  \n",
       "14256     False       2311    Assassin      AASpSW    2191  \n",
       "14257     False       2971     Warrior      AASpSW    2191  \n",
       "14258     False        804  Specialist      AASpSW    2191  \n",
       "14259     False       2535    Assassin      AASpSW    2191  \n",
       "152140     True       2360    Assassin       AAASW    2436  \n",
       "152145     True       2260    Assassin       AAASW    2436  \n",
       "152146     True       2878    Assassin       AAASW    2436  \n",
       "152147     True       2137     Support       AAASW    2436  \n",
       "152149     True       2545     Warrior       AAASW    2436  \n",
       "152141    False       2425     Support     ASpSpSW    2280  \n",
       "152142    False       2195  Specialist     ASpSpSW    2280  \n",
       "152143    False       2433    Assassin     ASpSpSW    2280  \n",
       "152144    False       1842  Specialist     ASpSpSW    2280  \n",
       "152148    False       2505     Warrior     ASpSpSW    2280  "
      ]
     },
     "execution_count": 37,
     "metadata": {},
     "output_type": "execute_result"
    }
   ],
   "source": [
    "DataFrame.head(20)"
   ]
  },
  {
   "cell_type": "markdown",
   "metadata": {},
   "source": [
    "Finally, we remove duplicated entries so we are left with 2 rows for each game; one for the winning team, and one for the losing team.\n",
    "\n",
    "These records will also indicate the composition played by the team and the average player rating."
   ]
  },
  {
   "cell_type": "code",
   "execution_count": 38,
   "metadata": {
    "collapsed": false
   },
   "outputs": [],
   "source": [
    "# Create a new dataframe that is to be modified to contain only a single record per team (i.e. 2 entries per game)\n",
    "DF_Teams = DataFrame[[\"ReplayID\", \"Map\", \"ReplayLength\", \"IsWinner\", \"Composition\", \"Rating\"]]"
   ]
  },
  {
   "cell_type": "code",
   "execution_count": 39,
   "metadata": {
    "collapsed": false
   },
   "outputs": [
    {
     "name": "stderr",
     "output_type": "stream",
     "text": [
      "C:\\Users\\Romain\\Anaconda3\\lib\\site-packages\\pandas\\util\\decorators.py:89: SettingWithCopyWarning: \n",
      "A value is trying to be set on a copy of a slice from a DataFrame\n",
      "\n",
      "See the caveats in the documentation: http://pandas.pydata.org/pandas-docs/stable/indexing.html#indexing-view-versus-copy\n",
      "  return func(*args, **kwargs)\n"
     ]
    },
    {
     "data": {
      "text/html": [
       "<div>\n",
       "<table border=\"1\" class=\"dataframe\">\n",
       "  <thead>\n",
       "    <tr style=\"text-align: right;\">\n",
       "      <th></th>\n",
       "      <th>ReplayID</th>\n",
       "      <th>Map</th>\n",
       "      <th>ReplayLength</th>\n",
       "      <th>IsWinner</th>\n",
       "      <th>Composition</th>\n",
       "      <th>Rating</th>\n",
       "    </tr>\n",
       "  </thead>\n",
       "  <tbody>\n",
       "    <tr>\n",
       "      <th>14251</th>\n",
       "      <td>23812009</td>\n",
       "      <td>Garden of Terror</td>\n",
       "      <td>814</td>\n",
       "      <td>True</td>\n",
       "      <td>AASpSW</td>\n",
       "      <td>2936</td>\n",
       "    </tr>\n",
       "    <tr>\n",
       "      <th>14250</th>\n",
       "      <td>23812009</td>\n",
       "      <td>Garden of Terror</td>\n",
       "      <td>814</td>\n",
       "      <td>False</td>\n",
       "      <td>AASpSW</td>\n",
       "      <td>2191</td>\n",
       "    </tr>\n",
       "    <tr>\n",
       "      <th>152140</th>\n",
       "      <td>23888167</td>\n",
       "      <td>Sky Temple</td>\n",
       "      <td>1022</td>\n",
       "      <td>True</td>\n",
       "      <td>AAASW</td>\n",
       "      <td>2436</td>\n",
       "    </tr>\n",
       "    <tr>\n",
       "      <th>152141</th>\n",
       "      <td>23888167</td>\n",
       "      <td>Sky Temple</td>\n",
       "      <td>1022</td>\n",
       "      <td>False</td>\n",
       "      <td>ASpSpSW</td>\n",
       "      <td>2280</td>\n",
       "    </tr>\n",
       "    <tr>\n",
       "      <th>174490</th>\n",
       "      <td>23908266</td>\n",
       "      <td>Blackheart's Bay</td>\n",
       "      <td>1671</td>\n",
       "      <td>True</td>\n",
       "      <td>AASpSW</td>\n",
       "      <td>2283</td>\n",
       "    </tr>\n",
       "    <tr>\n",
       "      <th>174491</th>\n",
       "      <td>23908266</td>\n",
       "      <td>Blackheart's Bay</td>\n",
       "      <td>1671</td>\n",
       "      <td>False</td>\n",
       "      <td>AAAAW</td>\n",
       "      <td>2161</td>\n",
       "    </tr>\n",
       "    <tr>\n",
       "      <th>163500</th>\n",
       "      <td>23908285</td>\n",
       "      <td>Tomb of the Spider Queen</td>\n",
       "      <td>810</td>\n",
       "      <td>True</td>\n",
       "      <td>AASpSW</td>\n",
       "      <td>2349</td>\n",
       "    </tr>\n",
       "    <tr>\n",
       "      <th>163501</th>\n",
       "      <td>23908285</td>\n",
       "      <td>Tomb of the Spider Queen</td>\n",
       "      <td>810</td>\n",
       "      <td>False</td>\n",
       "      <td>AASpSW</td>\n",
       "      <td>2292</td>\n",
       "    </tr>\n",
       "    <tr>\n",
       "      <th>168691</th>\n",
       "      <td>23908290</td>\n",
       "      <td>Sky Temple</td>\n",
       "      <td>1359</td>\n",
       "      <td>True</td>\n",
       "      <td>AASpSW</td>\n",
       "      <td>2252</td>\n",
       "    </tr>\n",
       "    <tr>\n",
       "      <th>168690</th>\n",
       "      <td>23908290</td>\n",
       "      <td>Sky Temple</td>\n",
       "      <td>1359</td>\n",
       "      <td>False</td>\n",
       "      <td>AASpSW</td>\n",
       "      <td>2504</td>\n",
       "    </tr>\n",
       "  </tbody>\n",
       "</table>\n",
       "</div>"
      ],
      "text/plain": [
       "        ReplayID                       Map  ReplayLength IsWinner Composition  \\\n",
       "14251   23812009          Garden of Terror           814     True      AASpSW   \n",
       "14250   23812009          Garden of Terror           814    False      AASpSW   \n",
       "152140  23888167                Sky Temple          1022     True       AAASW   \n",
       "152141  23888167                Sky Temple          1022    False     ASpSpSW   \n",
       "174490  23908266          Blackheart's Bay          1671     True      AASpSW   \n",
       "174491  23908266          Blackheart's Bay          1671    False       AAAAW   \n",
       "163500  23908285  Tomb of the Spider Queen           810     True      AASpSW   \n",
       "163501  23908285  Tomb of the Spider Queen           810    False      AASpSW   \n",
       "168691  23908290                Sky Temple          1359     True      AASpSW   \n",
       "168690  23908290                Sky Temple          1359    False      AASpSW   \n",
       "\n",
       "        Rating  \n",
       "14251     2936  \n",
       "14250     2191  \n",
       "152140    2436  \n",
       "152141    2280  \n",
       "174490    2283  \n",
       "174491    2161  \n",
       "163500    2349  \n",
       "163501    2292  \n",
       "168691    2252  \n",
       "168690    2504  "
      ]
     },
     "execution_count": 39,
     "metadata": {},
     "output_type": "execute_result"
    }
   ],
   "source": [
    "# Perform drop on rows that do not have unqiue values for the pair \"ReplayID\" and \"IsWinner\"\n",
    "DF_Teams.drop_duplicates([\"ReplayID\", \"IsWinner\"], inplace=True)\n",
    "DF_Teams.head(10)"
   ]
  },
  {
   "cell_type": "code",
   "execution_count": 40,
   "metadata": {
    "collapsed": false
   },
   "outputs": [],
   "source": [
    "# Write this to a csv file to be read as needed\n",
    "DF_Teams.to_csv(\"Team_Info.csv\")"
   ]
  },
  {
   "cell_type": "code",
   "execution_count": 41,
   "metadata": {
    "collapsed": false
   },
   "outputs": [],
   "source": [
    "DF_Teams = pd.read_csv(\"Team_Info.csv\")"
   ]
  },
  {
   "cell_type": "markdown",
   "metadata": {},
   "source": [
    "## Modeling Data\n",
    "\n",
    "We now attempt to generate a model that can be used to predict the outcome of a game, given one team's composition and the average player rating on that team.\n",
    "\n",
    "Our goal is to determine whether any particular combinations of character classes confer an advantage during the game, making a victory more likely.\n",
    "\n",
    "From our initial analysis of the compositions in our dataset, we established 56 combinations of character classes that were played.\n",
    "\n",
    "We will create dummies for each of these, and use a \"1\" to indicate that that was the composition played by the team, and a \"0\" to indicate that it was not.\n",
    "\n",
    "This is needed to perform the logistic regression using scikitlearn, where categorical string values are not permitted."
   ]
  },
  {
   "cell_type": "code",
   "execution_count": 42,
   "metadata": {
    "collapsed": false
   },
   "outputs": [],
   "source": [
    "# Drop the Unnamed index column\n",
    "DF_Teams.drop(\"Unnamed: 0\", inplace=True, axis=1)\n",
    "\n",
    "# Create dummies for the Composition feature\n",
    "dummy_comps = pd.get_dummies(DF_Teams[\"Composition\"], prefix=\"COMP\")"
   ]
  },
  {
   "cell_type": "code",
   "execution_count": 43,
   "metadata": {
    "collapsed": false
   },
   "outputs": [],
   "source": [
    "# Convert the True and False values of \"IsWinner\" to 1 or 0\n",
    "# This allows them to be used in the logisitic regression without error\n",
    "DF_Teams[\"IsWinner\"] = DF_Teams[\"IsWinner\"].astype(int)"
   ]
  },
  {
   "cell_type": "code",
   "execution_count": 44,
   "metadata": {
    "collapsed": false
   },
   "outputs": [
    {
     "ename": "MemoryError",
     "evalue": "",
     "output_type": "error",
     "traceback": [
      "\u001b[1;31m---------------------------------------------------------------------------\u001b[0m",
      "\u001b[1;31mMemoryError\u001b[0m                               Traceback (most recent call last)",
      "\u001b[1;32m<ipython-input-44-f0cc45f558b2>\u001b[0m in \u001b[0;36m<module>\u001b[1;34m()\u001b[0m\n\u001b[0;32m      1\u001b[0m \u001b[1;31m# Create a dataframe that is just the \"IsWinner\", \"Rating\", and dummy values\u001b[0m\u001b[1;33m\u001b[0m\u001b[1;33m\u001b[0m\u001b[0m\n\u001b[1;32m----> 2\u001b[1;33m \u001b[0mmodel_df\u001b[0m \u001b[1;33m=\u001b[0m \u001b[0mpd\u001b[0m\u001b[1;33m.\u001b[0m\u001b[0mconcat\u001b[0m\u001b[1;33m(\u001b[0m\u001b[1;33m[\u001b[0m\u001b[0mDF_Teams\u001b[0m\u001b[1;33m[\u001b[0m\u001b[1;33m[\u001b[0m\u001b[1;34m\"IsWinner\"\u001b[0m\u001b[1;33m,\u001b[0m \u001b[1;34m\"Rating\"\u001b[0m\u001b[1;33m]\u001b[0m\u001b[1;33m]\u001b[0m\u001b[1;33m,\u001b[0m \u001b[0mdummy_comps\u001b[0m\u001b[1;33m]\u001b[0m\u001b[1;33m,\u001b[0m \u001b[0maxis\u001b[0m\u001b[1;33m=\u001b[0m\u001b[1;36m1\u001b[0m\u001b[1;33m)\u001b[0m\u001b[1;33m\u001b[0m\u001b[0m\n\u001b[0m\u001b[0;32m      3\u001b[0m \u001b[0mmodel_df\u001b[0m\u001b[1;33m.\u001b[0m\u001b[0mshape\u001b[0m\u001b[1;33m\u001b[0m\u001b[0m\n",
      "\u001b[1;32mC:\\Users\\Romain\\Anaconda3\\lib\\site-packages\\pandas\\tools\\merge.py\u001b[0m in \u001b[0;36mconcat\u001b[1;34m(objs, axis, join, join_axes, ignore_index, keys, levels, names, verify_integrity, copy)\u001b[0m\n\u001b[0;32m    811\u001b[0m                        \u001b[0mverify_integrity\u001b[0m\u001b[1;33m=\u001b[0m\u001b[0mverify_integrity\u001b[0m\u001b[1;33m,\u001b[0m\u001b[1;33m\u001b[0m\u001b[0m\n\u001b[0;32m    812\u001b[0m                        copy=copy)\n\u001b[1;32m--> 813\u001b[1;33m     \u001b[1;32mreturn\u001b[0m \u001b[0mop\u001b[0m\u001b[1;33m.\u001b[0m\u001b[0mget_result\u001b[0m\u001b[1;33m(\u001b[0m\u001b[1;33m)\u001b[0m\u001b[1;33m\u001b[0m\u001b[0m\n\u001b[0m\u001b[0;32m    814\u001b[0m \u001b[1;33m\u001b[0m\u001b[0m\n\u001b[0;32m    815\u001b[0m \u001b[1;33m\u001b[0m\u001b[0m\n",
      "\u001b[1;32mC:\\Users\\Romain\\Anaconda3\\lib\\site-packages\\pandas\\tools\\merge.py\u001b[0m in \u001b[0;36mget_result\u001b[1;34m(self)\u001b[0m\n\u001b[0;32m    993\u001b[0m \u001b[1;33m\u001b[0m\u001b[0m\n\u001b[0;32m    994\u001b[0m             new_data = concatenate_block_managers(\n\u001b[1;32m--> 995\u001b[1;33m                 mgrs_indexers, self.new_axes, concat_axis=self.axis, copy=self.copy)\n\u001b[0m\u001b[0;32m    996\u001b[0m             \u001b[1;32mif\u001b[0m \u001b[1;32mnot\u001b[0m \u001b[0mself\u001b[0m\u001b[1;33m.\u001b[0m\u001b[0mcopy\u001b[0m\u001b[1;33m:\u001b[0m\u001b[1;33m\u001b[0m\u001b[0m\n\u001b[0;32m    997\u001b[0m                 \u001b[0mnew_data\u001b[0m\u001b[1;33m.\u001b[0m\u001b[0m_consolidate_inplace\u001b[0m\u001b[1;33m(\u001b[0m\u001b[1;33m)\u001b[0m\u001b[1;33m\u001b[0m\u001b[0m\n",
      "\u001b[1;32mC:\\Users\\Romain\\Anaconda3\\lib\\site-packages\\pandas\\core\\internals.py\u001b[0m in \u001b[0;36mconcatenate_block_managers\u001b[1;34m(mgrs_indexers, axes, concat_axis, copy)\u001b[0m\n\u001b[0;32m   4454\u001b[0m                                                 copy=copy),\n\u001b[0;32m   4455\u001b[0m                          placement=placement)\n\u001b[1;32m-> 4456\u001b[1;33m               for placement, join_units in concat_plan]\n\u001b[0m\u001b[0;32m   4457\u001b[0m \u001b[1;33m\u001b[0m\u001b[0m\n\u001b[0;32m   4458\u001b[0m     \u001b[1;32mreturn\u001b[0m \u001b[0mBlockManager\u001b[0m\u001b[1;33m(\u001b[0m\u001b[0mblocks\u001b[0m\u001b[1;33m,\u001b[0m \u001b[0maxes\u001b[0m\u001b[1;33m)\u001b[0m\u001b[1;33m\u001b[0m\u001b[0m\n",
      "\u001b[1;32mC:\\Users\\Romain\\Anaconda3\\lib\\site-packages\\pandas\\core\\internals.py\u001b[0m in \u001b[0;36m<listcomp>\u001b[1;34m(.0)\u001b[0m\n\u001b[0;32m   4454\u001b[0m                                                 copy=copy),\n\u001b[0;32m   4455\u001b[0m                          placement=placement)\n\u001b[1;32m-> 4456\u001b[1;33m               for placement, join_units in concat_plan]\n\u001b[0m\u001b[0;32m   4457\u001b[0m \u001b[1;33m\u001b[0m\u001b[0m\n\u001b[0;32m   4458\u001b[0m     \u001b[1;32mreturn\u001b[0m \u001b[0mBlockManager\u001b[0m\u001b[1;33m(\u001b[0m\u001b[0mblocks\u001b[0m\u001b[1;33m,\u001b[0m \u001b[0maxes\u001b[0m\u001b[1;33m)\u001b[0m\u001b[1;33m\u001b[0m\u001b[0m\n",
      "\u001b[1;32mC:\\Users\\Romain\\Anaconda3\\lib\\site-packages\\pandas\\core\\internals.py\u001b[0m in \u001b[0;36mconcatenate_join_units\u001b[1;34m(join_units, concat_axis, copy)\u001b[0m\n\u001b[0;32m   4547\u001b[0m         \u001b[1;32mraise\u001b[0m \u001b[0mAssertionError\u001b[0m\u001b[1;33m(\u001b[0m\u001b[1;34m\"Concatenating join units along axis0\"\u001b[0m\u001b[1;33m)\u001b[0m\u001b[1;33m\u001b[0m\u001b[0m\n\u001b[0;32m   4548\u001b[0m \u001b[1;33m\u001b[0m\u001b[0m\n\u001b[1;32m-> 4549\u001b[1;33m     \u001b[0mempty_dtype\u001b[0m\u001b[1;33m,\u001b[0m \u001b[0mupcasted_na\u001b[0m \u001b[1;33m=\u001b[0m \u001b[0mget_empty_dtype_and_na\u001b[0m\u001b[1;33m(\u001b[0m\u001b[0mjoin_units\u001b[0m\u001b[1;33m)\u001b[0m\u001b[1;33m\u001b[0m\u001b[0m\n\u001b[0m\u001b[0;32m   4550\u001b[0m \u001b[1;33m\u001b[0m\u001b[0m\n\u001b[0;32m   4551\u001b[0m     to_concat = [ju.get_reindexed_values(empty_dtype=empty_dtype,\n",
      "\u001b[1;32mC:\\Users\\Romain\\Anaconda3\\lib\\site-packages\\pandas\\core\\internals.py\u001b[0m in \u001b[0;36mget_empty_dtype_and_na\u001b[1;34m(join_units)\u001b[0m\n\u001b[0;32m   4508\u001b[0m         \u001b[1;31m# are only null blocks, when same upcasting rules must be applied to\u001b[0m\u001b[1;33m\u001b[0m\u001b[1;33m\u001b[0m\u001b[0m\n\u001b[0;32m   4509\u001b[0m         \u001b[1;31m# null upcast classes.\u001b[0m\u001b[1;33m\u001b[0m\u001b[1;33m\u001b[0m\u001b[0m\n\u001b[1;32m-> 4510\u001b[1;33m         \u001b[1;32mif\u001b[0m \u001b[0munit\u001b[0m\u001b[1;33m.\u001b[0m\u001b[0mis_null\u001b[0m\u001b[1;33m:\u001b[0m\u001b[1;33m\u001b[0m\u001b[0m\n\u001b[0m\u001b[0;32m   4511\u001b[0m             \u001b[0mnull_upcast_classes\u001b[0m\u001b[1;33m[\u001b[0m\u001b[0mupcast_cls\u001b[0m\u001b[1;33m]\u001b[0m\u001b[1;33m.\u001b[0m\u001b[0mappend\u001b[0m\u001b[1;33m(\u001b[0m\u001b[0mdtype\u001b[0m\u001b[1;33m)\u001b[0m\u001b[1;33m\u001b[0m\u001b[0m\n\u001b[0;32m   4512\u001b[0m         \u001b[1;32melse\u001b[0m\u001b[1;33m:\u001b[0m\u001b[1;33m\u001b[0m\u001b[0m\n",
      "\u001b[1;32mpandas\\src\\properties.pyx\u001b[0m in \u001b[0;36mpandas.lib.cache_readonly.__get__ (pandas\\lib.c:44341)\u001b[1;34m()\u001b[0m\n",
      "\u001b[1;32mC:\\Users\\Romain\\Anaconda3\\lib\\site-packages\\pandas\\core\\internals.py\u001b[0m in \u001b[0;36mis_null\u001b[1;34m(self)\u001b[0m\n\u001b[0;32m   4780\u001b[0m             \u001b[0mvalues_flat\u001b[0m \u001b[1;33m=\u001b[0m \u001b[0mvalues\u001b[0m\u001b[1;33m.\u001b[0m\u001b[0mcategories\u001b[0m\u001b[1;33m\u001b[0m\u001b[0m\n\u001b[0;32m   4781\u001b[0m         \u001b[1;32melse\u001b[0m\u001b[1;33m:\u001b[0m\u001b[1;33m\u001b[0m\u001b[0m\n\u001b[1;32m-> 4782\u001b[1;33m             \u001b[0mvalues_flat\u001b[0m \u001b[1;33m=\u001b[0m \u001b[0mvalues\u001b[0m\u001b[1;33m.\u001b[0m\u001b[0mravel\u001b[0m\u001b[1;33m(\u001b[0m\u001b[1;33m)\u001b[0m\u001b[1;33m\u001b[0m\u001b[0m\n\u001b[0m\u001b[0;32m   4783\u001b[0m         \u001b[0mtotal_len\u001b[0m \u001b[1;33m=\u001b[0m \u001b[0mvalues_flat\u001b[0m\u001b[1;33m.\u001b[0m\u001b[0mshape\u001b[0m\u001b[1;33m[\u001b[0m\u001b[1;36m0\u001b[0m\u001b[1;33m]\u001b[0m\u001b[1;33m\u001b[0m\u001b[0m\n\u001b[0;32m   4784\u001b[0m         \u001b[0mchunk_len\u001b[0m \u001b[1;33m=\u001b[0m \u001b[0mmax\u001b[0m\u001b[1;33m(\u001b[0m\u001b[0mtotal_len\u001b[0m \u001b[1;33m//\u001b[0m \u001b[1;36m40\u001b[0m\u001b[1;33m,\u001b[0m \u001b[1;36m1000\u001b[0m\u001b[1;33m)\u001b[0m\u001b[1;33m\u001b[0m\u001b[0m\n",
      "\u001b[1;31mMemoryError\u001b[0m: "
     ]
    }
   ],
   "source": [
    "# Create a dataframe that is just the \"IsWinner\", \"Rating\", and dummy values\n",
    "model_df = pd.concat([DF_Teams[[\"IsWinner\", \"Rating\"]], dummy_comps], axis=1)\n",
    "model_df.shape"
   ]
  },
  {
   "cell_type": "code",
   "execution_count": 48,
   "metadata": {
    "collapsed": false
   },
   "outputs": [
    {
     "ename": "NameError",
     "evalue": "name 'model_df' is not defined",
     "output_type": "error",
     "traceback": [
      "\u001b[1;31m---------------------------------------------------------------------------\u001b[0m",
      "\u001b[1;31mNameError\u001b[0m                                 Traceback (most recent call last)",
      "\u001b[1;32m<ipython-input-48-fb9dca801b13>\u001b[0m in \u001b[0;36m<module>\u001b[1;34m()\u001b[0m\n\u001b[0;32m      3\u001b[0m \u001b[1;33m\u001b[0m\u001b[0m\n\u001b[0;32m      4\u001b[0m \u001b[1;31m# For our X matrix, we want all of the dummy columns for Composition, the Rating, and the Intercept\u001b[0m\u001b[1;33m\u001b[0m\u001b[1;33m\u001b[0m\u001b[0m\n\u001b[1;32m----> 5\u001b[1;33m \u001b[0mX\u001b[0m \u001b[1;33m=\u001b[0m \u001b[0mpd\u001b[0m\u001b[1;33m.\u001b[0m\u001b[0mconcat\u001b[0m\u001b[1;33m(\u001b[0m\u001b[1;33m[\u001b[0m\u001b[0mintercept\u001b[0m\u001b[1;33m,\u001b[0m \u001b[0mmodel_df\u001b[0m\u001b[1;33m.\u001b[0m\u001b[0mdrop\u001b[0m\u001b[1;33m(\u001b[0m\u001b[1;34m\"IsWinner\"\u001b[0m\u001b[1;33m,\u001b[0m \u001b[0maxis\u001b[0m\u001b[1;33m=\u001b[0m\u001b[1;36m1\u001b[0m\u001b[1;33m)\u001b[0m\u001b[1;33m]\u001b[0m\u001b[1;33m,\u001b[0m \u001b[0maxis\u001b[0m\u001b[1;33m=\u001b[0m\u001b[1;36m1\u001b[0m\u001b[1;33m)\u001b[0m\u001b[1;33m\u001b[0m\u001b[0m\n\u001b[0m\u001b[0;32m      6\u001b[0m \u001b[1;33m\u001b[0m\u001b[0m\n\u001b[0;32m      7\u001b[0m \u001b[1;31m# For our y vector, we just want the \"IsWinner\" feature (target feature)\u001b[0m\u001b[1;33m\u001b[0m\u001b[1;33m\u001b[0m\u001b[0m\n",
      "\u001b[1;31mNameError\u001b[0m: name 'model_df' is not defined"
     ]
    }
   ],
   "source": [
    "# Set up intercept column\n",
    "intercept = pd.DataFrame({'Intercept': np.ones(len(DF_Teams))})\n",
    "\n",
    "# For our X matrix, we want all of the dummy columns for Composition, the Rating, and the Intercept\n",
    "X = pd.concat([intercept, model_df.drop(\"IsWinner\", axis=1)], axis=1)\n",
    "\n",
    "# For our y vector, we just want the \"IsWinner\" feature (target feature)\n",
    "y = model_df.IsWinner\n",
    "print(\"Descriptive features:\\n\", X)\n",
    "print(\"\\nTarget feature:\\n\", y)"
   ]
  },
  {
   "cell_type": "code",
   "execution_count": null,
   "metadata": {
    "collapsed": false
   },
   "outputs": [],
   "source": [
    "# Train our model using just the \"Rating\" feature\n",
    "model = LogisticRegression().fit(X[[\"Intercept\", \"Rating\"]], y)\n",
    "print(\"Coefficients: \\n\", model.coef_)"
   ]
  },
  {
   "cell_type": "code",
   "execution_count": null,
   "metadata": {
    "collapsed": false
   },
   "outputs": [],
   "source": [
    "# Get the probabilities that, given a particular team rating, the result will be a win or a loss\n",
    "model.predict_proba(X[[\"Intercept\", \"Rating\"]])"
   ]
  },
  {
   "cell_type": "code",
   "execution_count": null,
   "metadata": {
    "collapsed": false
   },
   "outputs": [],
   "source": [
    "# Based on this model, attempt to correctly predict the \"IsWinner\" feature based on in-sample data\n",
    "predictions = model.predict(X[[\"Intercept\", \"Rating\"]])\n",
    "print(\"Predictions: \", predictions)"
   ]
  },
  {
   "cell_type": "code",
   "execution_count": null,
   "metadata": {
    "collapsed": false
   },
   "outputs": [],
   "source": [
    "# Get the score, indicating the percentage of times that our model correctly predits the outcome\n",
    "model.score(X[[\"Intercept\", \"Rating\"]], y)"
   ]
  },
  {
   "cell_type": "code",
   "execution_count": null,
   "metadata": {
    "collapsed": false
   },
   "outputs": [],
   "source": [
    "# Get more detailed information\n",
    "print(\"Accuracy: \", metrics.accuracy_score(y, predictions))\n",
    "print(\"Confusion matrix: \\n\", metrics.confusion_matrix(y, predictions))\n",
    "print(\"Classification report:\\n \", metrics.classification_report(y, predictions))"
   ]
  },
  {
   "cell_type": "markdown",
   "metadata": {},
   "source": [
    "## Normalise continuous feature \"Rating\"\n",
    "\n",
    "\"Rating\" is a continuous feature with no set range.\n",
    "\n",
    "Here we normalise it so that the lowest value is represented as -1 and the highest value is represented as +1\n",
    "\n",
    "Everything in between is adjusted accordingly."
   ]
  },
  {
   "cell_type": "code",
   "execution_count": null,
   "metadata": {
    "collapsed": false
   },
   "outputs": [],
   "source": [
    "# Create a dataframe for just the continuous descriptive features that we are interested in -> \"Rating\"\n",
    "df_cont = model_df[\"Rating\"]\n",
    "df_norm = (df_cont - df_cont.min()) / (df_cont.max() - df_cont.min())\n",
    "df_norm = df_norm * 2 - 1\n",
    "df_norm.head()"
   ]
  },
  {
   "cell_type": "code",
   "execution_count": null,
   "metadata": {
    "collapsed": false
   },
   "outputs": [],
   "source": [
    "# Create dataframe as before, with intercept, but replacing the rating values\n",
    "no_rating = model_df.drop(\"Rating\", axis=1)\n",
    "DF_Normalised = pd.concat([intercept, df_norm, no_rating], axis=1)\n",
    "DF_Normalised.head(10)"
   ]
  },
  {
   "cell_type": "markdown",
   "metadata": {},
   "source": [
    "## Retraining model using normalised continuous features, and additional features\n",
    "We train the model again using the normalised values for the \"Rating\" feature, and now also include the \"Team Composition\" features, represented in binary form"
   ]
  },
  {
   "cell_type": "code",
   "execution_count": null,
   "metadata": {
    "collapsed": false
   },
   "outputs": [],
   "source": [
    "# Set up X and y again\n",
    "# This time include the team composition features\n",
    "X2 = DF_Normalised.drop(\"IsWinner\", axis=1)\n",
    "y2 = DF_Normalised.IsWinner\n",
    "\n",
    "logreg = LogisticRegression().fit(X2, y2)\n",
    "print(logreg.coef_)"
   ]
  },
  {
   "cell_type": "code",
   "execution_count": null,
   "metadata": {
    "collapsed": false
   },
   "outputs": [],
   "source": [
    "# Run predictions again\n",
    "predictions2 = logreg.predict(X2)\n",
    "print(\"Predictions: \", predictions2)"
   ]
  },
  {
   "cell_type": "code",
   "execution_count": null,
   "metadata": {
    "collapsed": false
   },
   "outputs": [],
   "source": [
    "# Print information on results\n",
    "print(\"Accuracy: \", metrics.accuracy_score(DF_Normalised['IsWinner'], predictions2))\n",
    "print(\"Confusion matrix: \\n\", metrics.confusion_matrix(DF_Normalised['IsWinner'], predictions2))\n",
    "print(\"Classification report:\\n \", metrics.classification_report(DF_Normalised['IsWinner'], predictions2))"
   ]
  },
  {
   "cell_type": "markdown",
   "metadata": {},
   "source": [
    "While the predictive power of the model still seems quite low, there is a minor improvement to be noted when using more than just the \"Rating\" feature for our predictions"
   ]
  },
  {
   "cell_type": "markdown",
   "metadata": {},
   "source": [
    "## Train Test Split - Model evaluation with out-of-sample data"
   ]
  },
  {
   "cell_type": "code",
   "execution_count": null,
   "metadata": {
    "collapsed": true
   },
   "outputs": [],
   "source": [
    "# Split our data 70:30 (training:test)\n",
    "X_train, X_test, y_train, y_test = train_test_split(X2, y2, test_size=0.3)"
   ]
  },
  {
   "cell_type": "code",
   "execution_count": null,
   "metadata": {
    "collapsed": false
   },
   "outputs": [],
   "source": [
    "# Train our model on the training set\n",
    "logreg_train = LogisticRegression().fit(X_train, y_train)\n",
    "print(logreg_train.coef_)"
   ]
  },
  {
   "cell_type": "code",
   "execution_count": null,
   "metadata": {
    "collapsed": false
   },
   "outputs": [],
   "source": [
    "# Print the predicted probabilities for each outcome of a game\n",
    "print(logreg_train.predict_proba(X_test))"
   ]
  },
  {
   "cell_type": "code",
   "execution_count": null,
   "metadata": {
    "collapsed": false
   },
   "outputs": [],
   "source": [
    "# Estimate the \"IsWinner\" category that each row in the test data will fall into\n",
    "# 1 => Victory\n",
    "# 0 => Loss\n",
    "predicted = logreg_train.predict(X_test)\n",
    "print(predicted)"
   ]
  },
  {
   "cell_type": "code",
   "execution_count": null,
   "metadata": {
    "collapsed": false
   },
   "outputs": [],
   "source": [
    "# Print model score\n",
    "print(metrics.accuracy_score(y_test, predicted))"
   ]
  },
  {
   "cell_type": "code",
   "execution_count": null,
   "metadata": {
    "collapsed": false
   },
   "outputs": [],
   "source": [
    "# Further evaluation of the model using 3-fold cross validation\n",
    "scores = cross_val_score(LogisticRegression(), X2, y2, scoring='accuracy', cv=3)\n",
    "print(scores)\n",
    "print(scores.mean())"
   ]
  },
  {
   "cell_type": "markdown",
   "metadata": {},
   "source": [
    "# Remarks\n",
    "\n",
    "After training and retraining the model and examining its predictive power on in-sample versus out-of-sample data, we still achieve a final accuracy rating of roughly 52%.\n",
    "\n",
    "This indicates that our model, given the information of \"Team Composition\" and \"Rating\", will correctly predict the outcome of a game just over half of the time.\n",
    "\n",
    "Given that there are only 2 possible outcomes to every game (win or lose), this indicates that our model is not very strong.\n",
    "\n",
    "It is possible that a stronger predictive model may be generated given additional data on each of the individual players, and using this in combination with what we have created up to this point."
   ]
  },
  {
   "cell_type": "markdown",
   "metadata": {},
   "source": [
    "## Beginning looking at maps\n",
    "\n",
    "Let's look at two maps with very distinct mechanisms in terms of team objective.  \n",
    "* <b>Sky Temple</b> focuses on capture specific points on the map to deal damages to enemy's team.  \n",
    "* <b>Blackheart's Bay</b> emphasizes on capturing resources to gain damage support."
   ]
  },
  {
   "cell_type": "code",
   "execution_count": 49,
   "metadata": {
    "collapsed": false
   },
   "outputs": [
    {
     "data": {
      "text/plain": [
       "(1697780, 10)"
      ]
     },
     "execution_count": 49,
     "metadata": {},
     "output_type": "execute_result"
    }
   ],
   "source": [
    "DataFrame.shape"
   ]
  },
  {
   "cell_type": "code",
   "execution_count": 50,
   "metadata": {
    "collapsed": false
   },
   "outputs": [
    {
     "data": {
      "text/plain": [
       "ReplayID        243380\n",
       "Map             243380\n",
       "ReplayLength    243380\n",
       "Hero            243380\n",
       "HeroLevel       243380\n",
       "IsWinner        243380\n",
       "MMRbefore       243380\n",
       "Group           243380\n",
       "Composition     243380\n",
       "Rating          243380\n",
       "dtype: int64"
      ]
     },
     "execution_count": 50,
     "metadata": {},
     "output_type": "execute_result"
    }
   ],
   "source": [
    "DataFrame[DataFrame.Map == 'Haunted Mines'].count()\n",
    "# DataFrame[DataFrame.Map == \"Sky Temple\"].count()"
   ]
  },
  {
   "cell_type": "code",
   "execution_count": 51,
   "metadata": {
    "collapsed": false
   },
   "outputs": [
    {
     "data": {
      "text/plain": [
       "array(['Garden of Terror', 'Sky Temple', \"Blackheart's Bay\",\n",
       "       'Tomb of the Spider Queen', 'Haunted Mines', 'Dragon Shire',\n",
       "       'Cursed Hollow'], dtype=object)"
      ]
     },
     "execution_count": 51,
     "metadata": {},
     "output_type": "execute_result"
    }
   ],
   "source": [
    "DataFrame.Map.unique()"
   ]
  },
  {
   "cell_type": "code",
   "execution_count": 52,
   "metadata": {
    "collapsed": true
   },
   "outputs": [],
   "source": [
    "import statsmodels.formula.api as sm\n",
    "from patsy import dmatrices\n",
    "from sklearn.linear_model import LogisticRegression\n",
    "from sklearn.cross_validation import train_test_split\n",
    "from sklearn import metrics\n",
    "from sklearn.cross_validation import cross_val_score"
   ]
  },
  {
   "cell_type": "markdown",
   "metadata": {},
   "source": [
    "# Sky Temple Map"
   ]
  },
  {
   "cell_type": "code",
   "execution_count": 59,
   "metadata": {
    "collapsed": false
   },
   "outputs": [
    {
     "data": {
      "text/html": [
       "<div>\n",
       "<table border=\"1\" class=\"dataframe\">\n",
       "  <thead>\n",
       "    <tr style=\"text-align: right;\">\n",
       "      <th></th>\n",
       "      <th>ReplayLength</th>\n",
       "      <th>IsWinner</th>\n",
       "      <th>Rating</th>\n",
       "    </tr>\n",
       "  </thead>\n",
       "  <tbody>\n",
       "    <tr>\n",
       "      <th>ReplayLength</th>\n",
       "      <td>1.000000</td>\n",
       "      <td>0.000000</td>\n",
       "      <td>-0.002809</td>\n",
       "    </tr>\n",
       "    <tr>\n",
       "      <th>IsWinner</th>\n",
       "      <td>0.000000</td>\n",
       "      <td>1.000000</td>\n",
       "      <td>0.045949</td>\n",
       "    </tr>\n",
       "    <tr>\n",
       "      <th>Rating</th>\n",
       "      <td>-0.002809</td>\n",
       "      <td>0.045949</td>\n",
       "      <td>1.000000</td>\n",
       "    </tr>\n",
       "  </tbody>\n",
       "</table>\n",
       "</div>"
      ],
      "text/plain": [
       "              ReplayLength  IsWinner    Rating\n",
       "ReplayLength      1.000000  0.000000 -0.002809\n",
       "IsWinner          0.000000  1.000000  0.045949\n",
       "Rating           -0.002809  0.045949  1.000000"
      ]
     },
     "execution_count": 59,
     "metadata": {},
     "output_type": "execute_result"
    }
   ],
   "source": [
    "SkyTemple = DF_Teams.loc[DF_Teams['Map'] == 'Sky Temple']\n",
    "SkyTemple = SkyTemple.iloc[:5000]\n",
    "\n",
    "SkyTemple.drop('ReplayID', axis=1).corr()"
   ]
  },
  {
   "cell_type": "code",
   "execution_count": 64,
   "metadata": {
    "collapsed": false
   },
   "outputs": [
    {
     "name": "stdout",
     "output_type": "stream",
     "text": [
      "Optimization terminated successfully.\n",
      "         Current function value: 0.692091\n",
      "         Iterations 3\n",
      "Intercept   -0.341784\n",
      "Rating       0.000154\n",
      "dtype: float64\n"
     ]
    },
    {
     "data": {
      "text/plain": [
       "[<matplotlib.lines.Line2D at 0x2cf7af10>]"
      ]
     },
     "execution_count": 64,
     "metadata": {},
     "output_type": "execute_result"
    },
    {
     "data": {
      "image/png": "[encoded data removed]",
      "text/plain": [
       "<matplotlib.figure.Figure at 0x2bdac310>"
      ]
     },
     "metadata": {},
     "output_type": "display_data"
    }
   ],
   "source": [
    "intercept = pd.DataFrame({'Intercept': np.ones(len(SkyTemple))})\n",
    "\n",
    "# Prepare the descriptive features\n",
    "X = pd.concat([intercept, SkyTemple[['IsWinner', 'Composition']]], axis=1)\n",
    "y = SkyTemple.IsWinner\n",
    "\n",
    "SkyTemple_IsWinner = pd.get_dummies(SkyTemple['IsWinner'])\n",
    "Winner_Sky = pd.concat([SkyTemple, SkyTemple_IsWinner], axis=1)\n",
    "\n",
    "logreg = sm.logit(formula=\"IsWinner ~ Rating\", data= Winner_Sky[['IsWinner', 'Rating']]).fit()\n",
    "\n",
    "# Print the model weights/parameters\n",
    "print(logreg.params)\n",
    "\n",
    "X_minmax = pd.DataFrame({'Rating': [Winner_Sky.Rating.min(), Winner_Sky.Rating.max()]})\n",
    "\n",
    "predictions = logreg.predict(Winner_Sky)\n",
    "\n",
    "# First, plot the observed data\n",
    "Winner_Sky.plot(kind='scatter', x='Rating', y='IsWinner')\n",
    "# Next, plot the logistic regression estimation, in red.\n",
    "plt.plot(Winner_Sky.ReplayLength, predictions, c='red', linewidth=2)\n",
    "# Plot the linear decision surface estimated by logistic regression\n",
    "plt.plot(X_minmax, logreg.predict(X_minmax), c='blue', linewidth=1, linestyle='dashed')"
   ]
  },
  {
   "cell_type": "markdown",
   "metadata": {},
   "source": [
    "# Blackheart's Bay Map"
   ]
  },
  {
   "cell_type": "code",
   "execution_count": 58,
   "metadata": {
    "collapsed": false
   },
   "outputs": [
    {
     "data": {
      "text/html": [
       "<div>\n",
       "<table border=\"1\" class=\"dataframe\">\n",
       "  <thead>\n",
       "    <tr style=\"text-align: right;\">\n",
       "      <th></th>\n",
       "      <th>ReplayLength</th>\n",
       "      <th>IsWinner</th>\n",
       "      <th>Rating</th>\n",
       "    </tr>\n",
       "  </thead>\n",
       "  <tbody>\n",
       "    <tr>\n",
       "      <th>ReplayLength</th>\n",
       "      <td>1.000000</td>\n",
       "      <td>0.000000</td>\n",
       "      <td>-0.091927</td>\n",
       "    </tr>\n",
       "    <tr>\n",
       "      <th>IsWinner</th>\n",
       "      <td>0.000000</td>\n",
       "      <td>1.000000</td>\n",
       "      <td>0.042036</td>\n",
       "    </tr>\n",
       "    <tr>\n",
       "      <th>Rating</th>\n",
       "      <td>-0.091927</td>\n",
       "      <td>0.042036</td>\n",
       "      <td>1.000000</td>\n",
       "    </tr>\n",
       "  </tbody>\n",
       "</table>\n",
       "</div>"
      ],
      "text/plain": [
       "              ReplayLength  IsWinner    Rating\n",
       "ReplayLength      1.000000  0.000000 -0.091927\n",
       "IsWinner          0.000000  1.000000  0.042036\n",
       "Rating           -0.091927  0.042036  1.000000"
      ]
     },
     "execution_count": 58,
     "metadata": {},
     "output_type": "execute_result"
    }
   ],
   "source": [
    "BlackheartsBay = DF_Teams.loc[DF_Teams['Map'] == \"Blackheart's Bay\"]\n",
    "BlackheartsBay = BlackheartsBay.iloc[:5000]\n",
    "\n",
    "BlackheartsBay.drop('ReplayID', axis=1).corr()"
   ]
  },
  {
   "cell_type": "code",
   "execution_count": 54,
   "metadata": {
    "collapsed": false,
    "scrolled": false
   },
   "outputs": [
    {
     "name": "stdout",
     "output_type": "stream",
     "text": [
      "Optimization terminated successfully.\n",
      "         Current function value: 0.692263\n",
      "         Iterations 3\n",
      "Intercept   -0.309937\n",
      "Rating       0.000140\n",
      "dtype: float64\n"
     ]
    },
    {
     "data": {
      "text/plain": [
       "[<matplotlib.lines.Line2D at 0x243b7f90>]"
      ]
     },
     "execution_count": 54,
     "metadata": {},
     "output_type": "execute_result"
    },
    {
     "data": {
      "image/png": "[encoded data removed]",
      "text/plain": [
       "<matplotlib.figure.Figure at 0x23fbfbd0>"
      ]
     },
     "metadata": {},
     "output_type": "display_data"
    }
   ],
   "source": [
    "intercept = pd.DataFrame({'Intercept': np.ones(len(BlackheartsBay))})\n",
    "\n",
    "# Prepare the descriptive features\n",
    "X = pd.concat([intercept, BlackheartsBay[['IsWinner', 'Composition']]], axis=1)\n",
    "y = BlackheartsBay.IsWinner\n",
    "\n",
    "BlackheartsBay_IsWinner = pd.get_dummies(BlackheartsBay['IsWinner'])\n",
    "Winner_Bay = pd.concat([BlackheartsBay, BlackheartsBay_IsWinner], axis=1)\n",
    "\n",
    "logreg = sm.logit(formula=\"IsWinner ~ Rating\", data= Winner_Bay[['IsWinner', 'Rating']]).fit()\n",
    "\n",
    "# Print the model weights/parameters\n",
    "print(logreg.params)\n",
    "\n",
    "X_minmax = pd.DataFrame({'Rating': [Winner_Bay.Rating.min(), Winner_Bay.Rating.max()]})\n",
    "\n",
    "predictions = logreg.predict(Winner_Bay)\n",
    "\n",
    "# First, plot the observed data\n",
    "Winner_Bay.plot(kind='scatter', x='Rating', y='IsWinner')\n",
    "# Next, plot the logistic regression estimation, in red.\n",
    "plt.plot(Winner_Bay.ReplayLength, predictions, c='red', linewidth=2)\n",
    "# Plot the linear decision surface estimated by logistic regression\n",
    "plt.plot(X_minmax, logreg.predict(X_minmax), c='blue', linewidth=1, linestyle='dashed')"
   ]
  },
  {
   "cell_type": "code",
   "execution_count": null,
   "metadata": {
    "collapsed": true
   },
   "outputs": [],
   "source": []
  },
  {
   "cell_type": "markdown",
   "metadata": {},
   "source": [
    "## 1. Determine the most played heroes in each category:\n",
    "After looking at the most played 7 Heroes in the games across the data set, the results were as follows:\n",
    "* Support  \n",
    "Brightwing  \n",
    "Lili\n",
    "  \n",
    "  \n",
    "* Assassin  \n",
    "Valla  \n",
    "Jaina  \n",
    "-Kael'Thas\n",
    "  \n",
    "  \n",
    "* Warrior  \n",
    "E.T.C\n",
    "\n",
    "  \n",
    "* Specialist  \n",
    "Sylvanas\n",
    "\n",
    "#### Now to compare with the top 7 heroes by win rate:\n",
    "* Support  \n",
    "Brightwing\n",
    "  \n",
    "  \n",
    "* Assassin  \n",
    "Jaina\n",
    "  \n",
    "  \n",
    "* Warrior  \n",
    "Anub'Arak  \n",
    "Tyrael\n",
    "\n",
    "  \n",
    "* Specialist  \n",
    "The Lost Vikings  \n",
    "Sylvanas  \n",
    "Murky\n",
    "\n",
    "\n",
    "In the end only 3 out of the 7 most played heroes belong to the highest win-rate bracket, suggesting that popularity is not strongly linked to actual utility.\n",
    "\n",
    "This leads to the need to understand team composition in order to see how they can be a predictor of the outcome of a game.\n",
    "\n",
    "## 2. Identify the various team compositions played\n",
    "\n",
    "After studying the dataset we have established that a total of <b>46 unique team compositions</b> have been played by users out of the 56 total combinations possible.\n",
    "<img src=\"Total_Team_Permutations.png\">\n",
    "\n",
    "## 3. Study the effect of team rating on the outcome of the game?\n",
    "\n",
    "## 4. Does team composition affect the outcome of the game?"
   ]
  },
  {
   "cell_type": "code",
   "execution_count": 65,
   "metadata": {
    "collapsed": false
   },
   "outputs": [
    {
     "name": "stdout",
     "output_type": "stream",
     "text": [
      "['Assassin', 'Assassin', 'Specialist', 'Support', 'Warrior'] ------ 147694\n",
      "['Assassin', 'Assassin', 'Assassin', 'Support', 'Warrior'] ------ 52791\n",
      "['Assassin', 'Specialist', 'Specialist', 'Support', 'Warrior'] ------ 35799\n",
      "['Assassin', 'Assassin', 'Assassin', 'Assassin', 'Warrior'] ------ 335\n",
      "['Assassin', 'Assassin', 'Support', 'Support', 'Warrior'] ------ 28503\n",
      "['Assassin', 'Specialist', 'Support', 'Support', 'Warrior'] ------ 24066\n",
      "['Assassin', 'Specialist', 'Support', 'Warrior', 'Warrior'] ------ 14962\n",
      "['Assassin', 'Assassin', 'Support', 'Warrior', 'Warrior'] ------ 15747\n",
      "['Assassin', 'Assassin', 'Assassin', 'Specialist', 'Support'] ------ 2075\n",
      "['Specialist', 'Specialist', 'Support', 'Warrior', 'Warrior'] ------ 1066\n",
      "['Assassin', 'Assassin', 'Specialist', 'Specialist', 'Support'] ------ 1781\n",
      "['Specialist', 'Specialist', 'Support', 'Support', 'Warrior'] ------ 1468\n",
      "['Assassin', 'Assassin', 'Assassin', 'Assassin', 'Support'] ------ 465\n",
      "['Assassin', 'Support', 'Support', 'Warrior', 'Warrior'] ------ 1695\n",
      "['Assassin', 'Specialist', 'Warrior', 'Warrior', 'Warrior'] ------ 41\n",
      "['Assassin', 'Assassin', 'Specialist', 'Specialist', 'Warrior'] ------ 1514\n",
      "['Assassin', 'Specialist', 'Specialist', 'Specialist', 'Support'] ------ 359\n",
      "['Assassin', 'Assassin', 'Assassin', 'Specialist', 'Warrior'] ------ 1783\n",
      "['Specialist', 'Specialist', 'Specialist', 'Support', 'Warrior'] ------ 1277\n",
      "['Assassin', 'Support', 'Warrior', 'Warrior', 'Warrior'] ------ 261\n",
      "['Assassin', 'Assassin', 'Assassin', 'Assassin', 'Assassin'] ------ 20\n",
      "['Assassin', 'Assassin', 'Specialist', 'Support', 'Support'] ------ 1424\n",
      "['Specialist', 'Support', 'Support', 'Warrior', 'Warrior'] ------ 469\n",
      "['Assassin', 'Assassin', 'Assassin', 'Assassin', 'Specialist'] ------ 108\n",
      "['Assassin', 'Assassin', 'Specialist', 'Warrior', 'Warrior'] ------ 874\n",
      "['Assassin', 'Specialist', 'Specialist', 'Specialist', 'Warrior'] ------ 281\n",
      "['Specialist', 'Specialist', 'Support', 'Support', 'Support'] ------ 4\n",
      "['Assassin', 'Assassin', 'Assassin', 'Support', 'Support'] ------ 570\n",
      "['Assassin', 'Assassin', 'Assassin', 'Specialist', 'Specialist'] ------ 170\n",
      "['Assassin', 'Specialist', 'Specialist', 'Support', 'Support'] ------ 403\n",
      "['Assassin', 'Support', 'Support', 'Support', 'Warrior'] ------ 262\n",
      "['Assassin', 'Assassin', 'Assassin', 'Warrior', 'Warrior'] ------ 355\n",
      "['Assassin', 'Assassin', 'Specialist', 'Specialist', 'Specialist'] ------ 90\n",
      "['Assassin', 'Specialist', 'Specialist', 'Warrior', 'Warrior'] ------ 286\n",
      "['Specialist', 'Specialist', 'Specialist', 'Specialist', 'Support'] ------ 42\n",
      "['Assassin', 'Specialist', 'Support', 'Support', 'Support'] ------ 57\n",
      "['Support', 'Support', 'Warrior', 'Warrior', 'Warrior'] ------ 17\n",
      "['Specialist', 'Support', 'Warrior', 'Warrior', 'Warrior'] ------ 91\n",
      "['Assassin', 'Assassin', 'Support', 'Support', 'Support'] ------ 82\n",
      "['Specialist', 'Support', 'Support', 'Support', 'Warrior'] ------ 69\n",
      "['Assassin', 'Assassin', 'Warrior', 'Warrior', 'Warrior'] ------ 43\n",
      "['Specialist', 'Specialist', 'Specialist', 'Warrior', 'Warrior'] ------ 20\n",
      "['Specialist', 'Specialist', 'Specialist', 'Specialist', 'Warrior'] ------ 17\n",
      "['Support', 'Warrior', 'Warrior', 'Warrior', 'Warrior'] ------ 8\n",
      "['Specialist', 'Specialist', 'Specialist', 'Specialist', 'Specialist'] ------ 20\n",
      "['Assassin', 'Specialist', 'Specialist', 'Specialist', 'Specialist'] ------ 42\n",
      "['Specialist', 'Specialist', 'Specialist', 'Support', 'Support'] ------ 21\n",
      "['Support', 'Support', 'Support', 'Warrior', 'Warrior'] ------ 6\n",
      "['Assassin', 'Support', 'Support', 'Support', 'Support'] ------ 2\n",
      "['Specialist', 'Specialist', 'Warrior', 'Warrior', 'Warrior'] ------ 3\n",
      "['Assassin', 'Warrior', 'Warrior', 'Warrior', 'Warrior'] ------ 5\n",
      "['Support', 'Support', 'Support', 'Support', 'Support'] ------ 4\n",
      "['Support', 'Support', 'Support', 'Support', 'Warrior'] ------ 3\n",
      "['Specialist', 'Support', 'Support', 'Support', 'Support'] ------ 1\n",
      "['Specialist', 'Warrior', 'Warrior', 'Warrior', 'Warrior'] ------ 3\n",
      "['Warrior', 'Warrior', 'Warrior', 'Warrior', 'Warrior'] ------ 2\n"
     ]
    }
   ],
   "source": [
    "# unique_comps is a list containing every unique team composition played in our dataset\n",
    "# composition_list is a list containing every team composition played, regardless of how many times\n",
    "# We can cycle through the lists and count the number of times each composition was played\n",
    "# From this we can determine the most popular selection of classes, and the least popular\n",
    "most_played_value = 0\n",
    "least_played_value = 9999\n",
    "most_played_team = []\n",
    "least_played_team = []\n",
    "\n",
    "for i in unique_comps:\n",
    "    if composition_list.count(i) > most_played_value:\n",
    "        most_played_value = composition_list.count(i)\n",
    "        most_played_team = i\n",
    "    if composition_list.count(i) < least_played_value:\n",
    "        least_played_value = composition_list.count(i)\n",
    "        least_played_team = i\n",
    "    print(i, \"------\", composition_list.count(i))"
   ]
  },
  {
   "cell_type": "code",
   "execution_count": 66,
   "metadata": {
    "collapsed": false
   },
   "outputs": [
    {
     "name": "stdout",
     "output_type": "stream",
     "text": [
      "Most Played\n",
      "['Assassin', 'Assassin', 'Specialist', 'Support', 'Warrior'] played 147694 times\n",
      "\n",
      "Least Played\n",
      "['Specialist', 'Support', 'Support', 'Support', 'Support'] played 1 time(s).\n"
     ]
    }
   ],
   "source": [
    "# Information on most and least commonly played compositions\n",
    "print(\"Most Played\")\n",
    "print(most_played_team,\"played\", most_played_value, \"times\")\n",
    "print(\"\\nLeast Played\")\n",
    "print(least_played_team,\"played\", least_played_value, \"time(s).\")"
   ]
  },
  {
   "cell_type": "markdown",
   "metadata": {},
   "source": [
    "# Challenges encountered in the Analysis\n",
    "\n",
    "### 1- Zero-Sum Game of certain features\n",
    "As the game opposes two teams some features of the dataset looked at alone would not provide insightful knowledge. For example, looking at the effect of a ReplayLength on the outcome of the game would not make sense as for any one team that wins, one loses. \n",
    "\n",
    "### 2- Need to work with large dataset (several million records)\n",
    "It was a challenge to get the dataset to run in the Jupyter notebook on local machines due to the hardware limitation and the relatively impressive size of the dataset. It required a lot of deleting dataframe that were no longer useful in order to free up as much memory as possible to carry on the future operations on the remaining relevant dataframes.\n",
    "\n",
    "### 3- Choosing between StatsModels and SciKit-learn for the Logistic Regression part of Analysis\n"
   ]
  },
  {
   "cell_type": "code",
   "execution_count": null,
   "metadata": {
    "collapsed": true
   },
   "outputs": [],
   "source": []
  }
 ],
 "metadata": {
  "kernelspec": {
   "display_name": "Python 3",
   "language": "python",
   "name": "python3"
  },
  "language_info": {
   "codemirror_mode": {
    "name": "ipython",
    "version": 3
   },
   "file_extension": ".py",
   "mimetype": "text/x-python",
   "name": "python",
   "nbconvert_exporter": "python",
   "pygments_lexer": "ipython3",
   "version": "3.5.1"
  }
 },
 "nbformat": 4,
 "nbformat_minor": 0
}
