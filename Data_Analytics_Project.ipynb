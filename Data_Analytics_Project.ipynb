{
 "cells": [
  {
   "cell_type": "markdown",
   "metadata": {},
   "source": [
    "# <font color='red'>Basic Analytics Applied to Training Set of Heroes of the Storm Game Data</font>"
   ]
  },
  {
   "cell_type": "markdown",
   "metadata": {},
   "source": [
    "# Note about filesize:\n",
    "This notebook upload operates using a csv file called TSCharacters.csv\n",
    "\n",
    "This file was initially 197MB large, and it is with this dataset that we carried out most of our analysis.\n",
    "\n",
    "To adhere to the upload limit on moodle, a subset of this dataset (200,000) entries has been used."
   ]
  },
  {
   "cell_type": "markdown",
   "metadata": {},
   "source": [
    "## A brief overview of the game\n",
    "\n",
    "Matches are played between two teams of five players on any one of a number of maps.\n",
    "\n",
    "Each player selects a playable character ('Hero') to control for the duration of the match.\n",
    "\n",
    "The 'class' of a Hero corresponds to a general role in the match with associated traits, strengths and weaknesses. For example, Assassins deal high damage but are vulnerable; Warriors deal low damage but are durable. The objective of the game is to destroy a special structure belonging to the opposing team.\n",
    "\n",
    "The following diagram illustrates a breakdown of the character classes, where the lowest tier represents the names of individual characters:\n",
    "\n",
    "<img src=\"HOTSFlow.png\">"
   ]
  },
  {
   "cell_type": "markdown",
   "metadata": {},
   "source": [
    "## <font color='red'>Objectives of this study: </font>\n",
    "\n",
    "### 1. Determine which heroes are played most in each category:\n",
    "* Support\n",
    "* Assassin\n",
    "* Warrior\n",
    "* Specialist\n",
    "\n",
    "### 2. Identify and catalogue the unique team compositions played.\n",
    "\n",
    "### 3. Study the effect of team rating on the outcome of a match.\n",
    "\n",
    "### 4. Determine whether team composition can be used to predict the outcome of a match.\n",
    "\n"
   ]
  },
  {
   "cell_type": "markdown",
   "metadata": {},
   "source": [
    "# Data Gathering\n",
    "\n",
    "Data was collected from http://www.hotslogs.com/Default, a site containing large amounts of historical data on games played.\n",
    "- Data was readily available in CSV format\n",
    "- CSV files were available for individual player records, as well as per game records, and also information on the maps\n",
    "- Different data was stored in each CSV file\n",
    "\n",
    "Our first step is to load each CSV file into a pandas dataframe"
   ]
  },
  {
   "cell_type": "code",
   "execution_count": 13,
   "metadata": {
    "collapsed": false
   },
   "outputs": [],
   "source": [
    "#import required packages\n",
    "import pandas as pd\n",
    "import numpy as np\n",
    "import matplotlib.pyplot as plt\n",
    "import seaborn as sns\n",
    "import csv\n",
    "import sys\n",
    "from patsy import dmatrices\n",
    "from sklearn.linear_model import LogisticRegression\n",
    "from sklearn.cross_validation import train_test_split\n",
    "from sklearn import metrics\n",
    "from sklearn.cross_validation import cross_val_score\n",
    "\n",
    "# Allow plots to be displayed in notebook\n",
    "%matplotlib inline"
   ]
  },
  {
   "cell_type": "code",
   "execution_count": 14,
   "metadata": {
    "collapsed": false
   },
   "outputs": [],
   "source": [
    "#load both csv files into tow respective dataframes\n",
    "DF_Replay = pd.read_csv(\"TSReplay.csv\")\n",
    "\n",
    "DF_Characters = pd.read_csv(\"TSCharacters.csv\")\n",
    "\n",
    "DF_Map_Groups = pd.read_csv(\"HeroAndMap.csv\")"
   ]
  },
  {
   "cell_type": "code",
   "execution_count": 15,
   "metadata": {
    "collapsed": false
   },
   "outputs": [
    {
     "data": {
      "text/html": [
       "<div>\n",
       "<table border=\"1\" class=\"dataframe\">\n",
       "  <thead>\n",
       "    <tr style=\"text-align: right;\">\n",
       "      <th></th>\n",
       "      <th>ReplayID</th>\n",
       "      <th>GameMode(3=Quick Match 4=Hero League 5=Team League)</th>\n",
       "      <th>Map</th>\n",
       "      <th>Replay Length</th>\n",
       "      <th>Timestamp (UTC)</th>\n",
       "    </tr>\n",
       "  </thead>\n",
       "  <tbody>\n",
       "    <tr>\n",
       "      <th>0</th>\n",
       "      <td>23915730</td>\n",
       "      <td>4</td>\n",
       "      <td>Haunted Mines</td>\n",
       "      <td>00:12:00</td>\n",
       "      <td>5/14/2015 12:55:26 AM</td>\n",
       "    </tr>\n",
       "    <tr>\n",
       "      <th>1</th>\n",
       "      <td>23927005</td>\n",
       "      <td>3</td>\n",
       "      <td>Cursed Hollow</td>\n",
       "      <td>00:21:00</td>\n",
       "      <td>5/14/2015 12:55:26 AM</td>\n",
       "    </tr>\n",
       "  </tbody>\n",
       "</table>\n",
       "</div>"
      ],
      "text/plain": [
       "   ReplayID  GameMode(3=Quick Match 4=Hero League 5=Team League)  \\\n",
       "0  23915730                                                  4     \n",
       "1  23927005                                                  3     \n",
       "\n",
       "             Map Replay Length        Timestamp (UTC)  \n",
       "0  Haunted Mines      00:12:00  5/14/2015 12:55:26 AM  \n",
       "1  Cursed Hollow      00:21:00  5/14/2015 12:55:26 AM  "
      ]
     },
     "execution_count": 15,
     "metadata": {},
     "output_type": "execute_result"
    }
   ],
   "source": [
    "DF_Replay.head(2)"
   ]
  },
  {
   "cell_type": "markdown",
   "metadata": {},
   "source": [
    "# Data Cleaning\n",
    "We now remove games which are not from the competitive game mode.\n",
    "In our initial datasets, the \"GameMode\" feature describes the particular type of game that was played.\n",
    "The number 4 corresponds to the data we are interested in, so we select only rows with that value\n",
    "\n",
    "### Using data from only the competitive mode is useful for two reasons:\n",
    "\n",
    "1. Reduces the size of the dataset to a more manageable, laptop-friendly number\n",
    "2. Ensures that only one of each hero can be present in a single game\n",
    "\n",
    "One of the most challenging aspects of our project was extracting a good representation of \"Team Composition\" from our datasets.\n",
    "We achieved this as follows:\n",
    "- Using the \"Group\" feature from our individual player data, indicating which character class the chosen character belongs to\n",
    "- Combining this with the \"IsWinner\" feature to separate our players into 2 groups of 5 for every game\n",
    "- Recording the combination of character classes that the winning team played\n",
    "- Recording the combination of character classes that the losing team played"
   ]
  },
  {
   "cell_type": "code",
   "execution_count": 16,
   "metadata": {
    "collapsed": false
   },
   "outputs": [
    {
     "data": {
      "text/html": [
       "<div>\n",
       "<table border=\"1\" class=\"dataframe\">\n",
       "  <thead>\n",
       "    <tr style=\"text-align: right;\">\n",
       "      <th></th>\n",
       "      <th>ReplayID</th>\n",
       "      <th>GameMode</th>\n",
       "      <th>Map</th>\n",
       "      <th>ReplayLength</th>\n",
       "      <th>Timestamp</th>\n",
       "    </tr>\n",
       "  </thead>\n",
       "  <tbody>\n",
       "    <tr>\n",
       "      <th>0</th>\n",
       "      <td>23915730</td>\n",
       "      <td>4</td>\n",
       "      <td>Haunted Mines</td>\n",
       "      <td>00:12:00</td>\n",
       "      <td>5/14/2015 12:55:26 AM</td>\n",
       "    </tr>\n",
       "    <tr>\n",
       "      <th>2</th>\n",
       "      <td>23915740</td>\n",
       "      <td>4</td>\n",
       "      <td>Garden of Terror</td>\n",
       "      <td>00:26:18</td>\n",
       "      <td>5/14/2015 12:55:27 AM</td>\n",
       "    </tr>\n",
       "    <tr>\n",
       "      <th>10</th>\n",
       "      <td>23924385</td>\n",
       "      <td>4</td>\n",
       "      <td>Garden of Terror</td>\n",
       "      <td>00:34:37</td>\n",
       "      <td>5/14/2015 12:55:39 AM</td>\n",
       "    </tr>\n",
       "    <tr>\n",
       "      <th>22</th>\n",
       "      <td>23915858</td>\n",
       "      <td>4</td>\n",
       "      <td>Sky Temple</td>\n",
       "      <td>00:22:32</td>\n",
       "      <td>5/14/2015 12:56:00 AM</td>\n",
       "    </tr>\n",
       "    <tr>\n",
       "      <th>23</th>\n",
       "      <td>23915915</td>\n",
       "      <td>4</td>\n",
       "      <td>Dragon Shire</td>\n",
       "      <td>00:24:00</td>\n",
       "      <td>5/14/2015 12:56:01 AM</td>\n",
       "    </tr>\n",
       "    <tr>\n",
       "      <th>25</th>\n",
       "      <td>24393574</td>\n",
       "      <td>4</td>\n",
       "      <td>Garden of Terror</td>\n",
       "      <td>00:20:15</td>\n",
       "      <td>5/14/2015 12:56:08 AM</td>\n",
       "    </tr>\n",
       "    <tr>\n",
       "      <th>30</th>\n",
       "      <td>23929877</td>\n",
       "      <td>4</td>\n",
       "      <td>Dragon Shire</td>\n",
       "      <td>00:22:01</td>\n",
       "      <td>5/14/2015 12:56:13 AM</td>\n",
       "    </tr>\n",
       "    <tr>\n",
       "      <th>31</th>\n",
       "      <td>23950711</td>\n",
       "      <td>4</td>\n",
       "      <td>Blackheart's Bay</td>\n",
       "      <td>00:16:45</td>\n",
       "      <td>5/14/2015 12:56:13 AM</td>\n",
       "    </tr>\n",
       "    <tr>\n",
       "      <th>32</th>\n",
       "      <td>24507009</td>\n",
       "      <td>4</td>\n",
       "      <td>Garden of Terror</td>\n",
       "      <td>00:30:30</td>\n",
       "      <td>5/14/2015 12:56:14 AM</td>\n",
       "    </tr>\n",
       "    <tr>\n",
       "      <th>34</th>\n",
       "      <td>23915821</td>\n",
       "      <td>4</td>\n",
       "      <td>Blackheart's Bay</td>\n",
       "      <td>00:24:20</td>\n",
       "      <td>5/14/2015 12:56:15 AM</td>\n",
       "    </tr>\n",
       "  </tbody>\n",
       "</table>\n",
       "</div>"
      ],
      "text/plain": [
       "    ReplayID  GameMode               Map ReplayLength              Timestamp\n",
       "0   23915730         4     Haunted Mines     00:12:00  5/14/2015 12:55:26 AM\n",
       "2   23915740         4  Garden of Terror     00:26:18  5/14/2015 12:55:27 AM\n",
       "10  23924385         4  Garden of Terror     00:34:37  5/14/2015 12:55:39 AM\n",
       "22  23915858         4        Sky Temple     00:22:32  5/14/2015 12:56:00 AM\n",
       "23  23915915         4      Dragon Shire     00:24:00  5/14/2015 12:56:01 AM\n",
       "25  24393574         4  Garden of Terror     00:20:15  5/14/2015 12:56:08 AM\n",
       "30  23929877         4      Dragon Shire     00:22:01  5/14/2015 12:56:13 AM\n",
       "31  23950711         4  Blackheart's Bay     00:16:45  5/14/2015 12:56:13 AM\n",
       "32  24507009         4  Garden of Terror     00:30:30  5/14/2015 12:56:14 AM\n",
       "34  23915821         4  Blackheart's Bay     00:24:20  5/14/2015 12:56:15 AM"
      ]
     },
     "execution_count": 16,
     "metadata": {},
     "output_type": "execute_result"
    }
   ],
   "source": [
    "# Rename columns in the dataframe\n",
    "DF_Replay.columns = ['ReplayID', 'GameMode', 'Map', 'ReplayLength', 'Timestamp']\n",
    "# Only keep rows related to competitive gameplay (4 = Hero League)\n",
    "DF_Replay = DF_Replay[DF_Replay['GameMode'] == 4]\n",
    "DF_Replay.head(10)"
   ]
  },
  {
   "cell_type": "markdown",
   "metadata": {},
   "source": [
    "## Converting \"ReplayLength\" to seconds\n",
    "- The value of this feature is in the HH:MM:SS format.\n",
    "- To make numerical analysis simpler, we convert all of these values to seconds as follows:"
   ]
  },
  {
   "cell_type": "code",
   "execution_count": 17,
   "metadata": {
    "collapsed": false
   },
   "outputs": [
    {
     "data": {
      "text/html": [
       "<div>\n",
       "<table border=\"1\" class=\"dataframe\">\n",
       "  <thead>\n",
       "    <tr style=\"text-align: right;\">\n",
       "      <th></th>\n",
       "      <th>ReplayID</th>\n",
       "      <th>GameMode</th>\n",
       "      <th>Map</th>\n",
       "      <th>ReplayLength</th>\n",
       "      <th>Timestamp</th>\n",
       "    </tr>\n",
       "  </thead>\n",
       "  <tbody>\n",
       "    <tr>\n",
       "      <th>0</th>\n",
       "      <td>23915730</td>\n",
       "      <td>4</td>\n",
       "      <td>Haunted Mines</td>\n",
       "      <td>720.0</td>\n",
       "      <td>5/14/2015 12:55:26 AM</td>\n",
       "    </tr>\n",
       "    <tr>\n",
       "      <th>2</th>\n",
       "      <td>23915740</td>\n",
       "      <td>4</td>\n",
       "      <td>Garden of Terror</td>\n",
       "      <td>1578.0</td>\n",
       "      <td>5/14/2015 12:55:27 AM</td>\n",
       "    </tr>\n",
       "    <tr>\n",
       "      <th>10</th>\n",
       "      <td>23924385</td>\n",
       "      <td>4</td>\n",
       "      <td>Garden of Terror</td>\n",
       "      <td>2077.0</td>\n",
       "      <td>5/14/2015 12:55:39 AM</td>\n",
       "    </tr>\n",
       "    <tr>\n",
       "      <th>22</th>\n",
       "      <td>23915858</td>\n",
       "      <td>4</td>\n",
       "      <td>Sky Temple</td>\n",
       "      <td>1352.0</td>\n",
       "      <td>5/14/2015 12:56:00 AM</td>\n",
       "    </tr>\n",
       "    <tr>\n",
       "      <th>23</th>\n",
       "      <td>23915915</td>\n",
       "      <td>4</td>\n",
       "      <td>Dragon Shire</td>\n",
       "      <td>1440.0</td>\n",
       "      <td>5/14/2015 12:56:01 AM</td>\n",
       "    </tr>\n",
       "  </tbody>\n",
       "</table>\n",
       "</div>"
      ],
      "text/plain": [
       "    ReplayID  GameMode               Map  ReplayLength              Timestamp\n",
       "0   23915730         4     Haunted Mines         720.0  5/14/2015 12:55:26 AM\n",
       "2   23915740         4  Garden of Terror        1578.0  5/14/2015 12:55:27 AM\n",
       "10  23924385         4  Garden of Terror        2077.0  5/14/2015 12:55:39 AM\n",
       "22  23915858         4        Sky Temple        1352.0  5/14/2015 12:56:00 AM\n",
       "23  23915915         4      Dragon Shire        1440.0  5/14/2015 12:56:01 AM"
      ]
     },
     "execution_count": 17,
     "metadata": {},
     "output_type": "execute_result"
    }
   ],
   "source": [
    "#Split the string for ReplayLength into several sub-cells based on the ':'\n",
    "# XX : YY : ZZ\n",
    "# X *60 *60 (for float(sec))\n",
    "# Y *1 *60  (for float(sec))\n",
    "# Z *1      (for float(sec))\n",
    "\n",
    "#from format   |  hh:mm:mm  |\n",
    "#to format     |  hh  |  :  | mm:ss  |\n",
    "ChangeTime = DF_Replay['ReplayLength'].str.partition(':')\n",
    "ChangeTime.columns = ['Hour', 'Col2', 'MinSec']\n",
    "#Now we have one column for hours, and one for both minutes and seconds to partition again\n",
    "\n",
    "#from format  |  mm:ss  |\n",
    "#to format    |  mm  |  :  |  ss  |\n",
    "ChangeTime2 = ChangeTime['MinSec'].str.partition(':')\n",
    "ChangeTime2.columns = ['Min', 'Space', 'Second']\n",
    "#now we have one column for minutes and one for seconds\n",
    "\n",
    "#Get both column in float type\n",
    "ChangeTime2['Min'] = ChangeTime2['Min'].astype(float)\n",
    "ChangeTime2['Second'] = ChangeTime2['Second'].astype(float)\n",
    "\n",
    "#Apply math to convert min to sec, then add minutes and seconds together\n",
    "ChangeTime2['Min']= ChangeTime2['Min'] * 60\n",
    "ChangeTime2['Second'] = ChangeTime2['Min'] + ChangeTime2['Second']\n",
    "ChangeTime2 = ChangeTime2[[2]]\n",
    "\n",
    "ChangeTime = ChangeTime.drop('MinSec', axis=1)\n",
    "ChangeTime['Hour'] = ChangeTime['Hour'].astype(float)\n",
    "#change the values in the column with *60 to get in minutes, and *60 again to get result in seconds\n",
    "ChangeTime['Hour'] = ChangeTime['Hour'] * 60 * 60     \n",
    "\n",
    "ChangeTime['Col2'] = (ChangeTime2['Second'] + ChangeTime['Hour'])\n",
    "\n",
    "DF_Replay['ReplayLength'] = ChangeTime['Col2']\n",
    "DF_Replay.head()"
   ]
  },
  {
   "cell_type": "markdown",
   "metadata": {},
   "source": [
    "## A point of definition:\n",
    "MMR stands for 'Matchmaking Rating'. This is a numeric value which approximates the skill level of a player according to their career wins and losses.\n",
    "\n",
    "### Note:\n",
    "The \"MMR Before\" feature simply indicates that the rating of the player was recorded as the game begins, rather than once it is completed. Since we are concerned with five-player teams rather than the performance of individual players, we will average this value when comparing compositions.\n",
    "\n",
    "The terms \"Rating\" and \"MMR\" may be used interchangeably during the course of this notebook"
   ]
  },
  {
   "cell_type": "code",
   "execution_count": 18,
   "metadata": {
    "collapsed": false
   },
   "outputs": [
    {
     "data": {
      "text/html": [
       "<div>\n",
       "<table border=\"1\" class=\"dataframe\">\n",
       "  <thead>\n",
       "    <tr style=\"text-align: right;\">\n",
       "      <th></th>\n",
       "      <th>ReplayID</th>\n",
       "      <th>Is Auto Select</th>\n",
       "      <th>Hero</th>\n",
       "      <th>Hero Level</th>\n",
       "      <th>Is Winner</th>\n",
       "      <th>MMR Before</th>\n",
       "    </tr>\n",
       "  </thead>\n",
       "  <tbody>\n",
       "    <tr>\n",
       "      <th>0</th>\n",
       "      <td>23915730</td>\n",
       "      <td>False</td>\n",
       "      <td>Rehgar</td>\n",
       "      <td>14</td>\n",
       "      <td>False</td>\n",
       "      <td>3170.0</td>\n",
       "    </tr>\n",
       "    <tr>\n",
       "      <th>1</th>\n",
       "      <td>23915730</td>\n",
       "      <td>False</td>\n",
       "      <td>Falstad</td>\n",
       "      <td>10</td>\n",
       "      <td>False</td>\n",
       "      <td>3330.0</td>\n",
       "    </tr>\n",
       "    <tr>\n",
       "      <th>2</th>\n",
       "      <td>23915730</td>\n",
       "      <td>False</td>\n",
       "      <td>Jaina</td>\n",
       "      <td>7</td>\n",
       "      <td>True</td>\n",
       "      <td>3442.0</td>\n",
       "    </tr>\n",
       "    <tr>\n",
       "      <th>3</th>\n",
       "      <td>23915730</td>\n",
       "      <td>False</td>\n",
       "      <td>Sylvanas</td>\n",
       "      <td>13</td>\n",
       "      <td>False</td>\n",
       "      <td>2666.0</td>\n",
       "    </tr>\n",
       "    <tr>\n",
       "      <th>4</th>\n",
       "      <td>23915730</td>\n",
       "      <td>False</td>\n",
       "      <td>Zagara</td>\n",
       "      <td>10</td>\n",
       "      <td>True</td>\n",
       "      <td>3198.0</td>\n",
       "    </tr>\n",
       "  </tbody>\n",
       "</table>\n",
       "</div>"
      ],
      "text/plain": [
       "   ReplayID Is Auto Select      Hero  Hero Level Is Winner  MMR Before\n",
       "0  23915730          False    Rehgar          14     False      3170.0\n",
       "1  23915730          False   Falstad          10     False      3330.0\n",
       "2  23915730          False     Jaina           7      True      3442.0\n",
       "3  23915730          False  Sylvanas          13     False      2666.0\n",
       "4  23915730          False    Zagara          10      True      3198.0"
      ]
     },
     "execution_count": 18,
     "metadata": {},
     "output_type": "execute_result"
    }
   ],
   "source": [
    "DF_Characters.head()"
   ]
  },
  {
   "cell_type": "code",
   "execution_count": 19,
   "metadata": {
    "collapsed": false
   },
   "outputs": [
    {
     "data": {
      "text/html": [
       "<div>\n",
       "<table border=\"1\" class=\"dataframe\">\n",
       "  <thead>\n",
       "    <tr style=\"text-align: right;\">\n",
       "      <th></th>\n",
       "      <th>ID</th>\n",
       "      <th>Name</th>\n",
       "      <th>Group</th>\n",
       "      <th>SubGroup</th>\n",
       "    </tr>\n",
       "  </thead>\n",
       "  <tbody>\n",
       "    <tr>\n",
       "      <th>0</th>\n",
       "      <td>0</td>\n",
       "      <td>Unknown</td>\n",
       "      <td>NaN</td>\n",
       "      <td>NaN</td>\n",
       "    </tr>\n",
       "    <tr>\n",
       "      <th>1</th>\n",
       "      <td>1</td>\n",
       "      <td>Abathur</td>\n",
       "      <td>Specialist</td>\n",
       "      <td>Utility</td>\n",
       "    </tr>\n",
       "  </tbody>\n",
       "</table>\n",
       "</div>"
      ],
      "text/plain": [
       "   ID     Name       Group SubGroup\n",
       "0   0  Unknown         NaN      NaN\n",
       "1   1  Abathur  Specialist  Utility"
      ]
     },
     "execution_count": 19,
     "metadata": {},
     "output_type": "execute_result"
    }
   ],
   "source": [
    "DF_Map_Groups.head(2)"
   ]
  },
  {
   "cell_type": "code",
   "execution_count": 20,
   "metadata": {
    "collapsed": false
   },
   "outputs": [
    {
     "data": {
      "text/html": [
       "<div>\n",
       "<table border=\"1\" class=\"dataframe\">\n",
       "  <thead>\n",
       "    <tr style=\"text-align: right;\">\n",
       "      <th></th>\n",
       "      <th>Name</th>\n",
       "      <th>Group</th>\n",
       "    </tr>\n",
       "  </thead>\n",
       "  <tbody>\n",
       "    <tr>\n",
       "      <th>45</th>\n",
       "      <td>Gall</td>\n",
       "      <td>Assassin</td>\n",
       "    </tr>\n",
       "    <tr>\n",
       "      <th>46</th>\n",
       "      <td>Lunara</td>\n",
       "      <td>Assassin</td>\n",
       "    </tr>\n",
       "    <tr>\n",
       "      <th>47</th>\n",
       "      <td>Greymane</td>\n",
       "      <td>Assassin</td>\n",
       "    </tr>\n",
       "  </tbody>\n",
       "</table>\n",
       "</div>"
      ],
      "text/plain": [
       "        Name     Group\n",
       "45      Gall  Assassin\n",
       "46    Lunara  Assassin\n",
       "47  Greymane  Assassin"
      ]
     },
     "execution_count": 20,
     "metadata": {},
     "output_type": "execute_result"
    }
   ],
   "source": [
    "#Remove all after row 49, to remove map IDs and keep all data for Heroes\n",
    "DF_Map_Groups = DF_Map_Groups[:48]\n",
    "\n",
    "#DF3 = DF.drop('ID', axis=1).drop('SubGroup', axis=1)\n",
    "DF_Map_Groups = DF_Map_Groups.drop('SubGroup', axis=1).drop('ID', axis=1)\n",
    "\n",
    "#Returning last 3 elements to check\n",
    "DF_Map_Groups.iloc[45:]"
   ]
  },
  {
   "cell_type": "markdown",
   "metadata": {},
   "source": [
    "## Merging\n",
    "We now have 2 dataframes with a \"ReplayID\" feature.\n",
    "\n",
    "For each occurrence of this feature in the DF_Replay dataframe (one entry per game), there are 10 rows with that ID in the DF_Characters dataframe (10 players in each game).\n",
    "\n",
    "So we can merge on this feature"
   ]
  },
  {
   "cell_type": "code",
   "execution_count": 21,
   "metadata": {
    "collapsed": false,
    "scrolled": true
   },
   "outputs": [],
   "source": [
    "#Need to merge on 'ReplayID' and duplicate entries\n",
    "from pandas import merge\n",
    "DF1 = pd.merge(DF_Replay, DF_Characters, left_on=[\"ReplayID\"], right_on=['ReplayID'], how='left')\n",
    "DF1.head(4)\n",
    "\n",
    "#deleting previous dataframes created for memory reasons\n",
    "del DF_Replay\n",
    "del DF_Characters"
   ]
  },
  {
   "cell_type": "code",
   "execution_count": 22,
   "metadata": {
    "collapsed": true
   },
   "outputs": [],
   "source": [
    "#Need to merge on 'Name' \n",
    "DF = pd.merge(DF1, DF_Map_Groups, left_on=[\"Hero\"], right_on=[\"Name\"], how='left')\n",
    "\n",
    "#delete the former dataframe DF_Map_Groups for memory's optimization\n",
    "del DF_Map_Groups\n",
    "del DF1"
   ]
  },
  {
   "cell_type": "code",
   "execution_count": 23,
   "metadata": {
    "collapsed": false
   },
   "outputs": [],
   "source": [
    "#Saving the merged Dataframe to a csv file\n",
    "DF.to_csv(\"HeroLeagueData.csv\", index=False)"
   ]
  },
  {
   "cell_type": "code",
   "execution_count": 24,
   "metadata": {
    "collapsed": false
   },
   "outputs": [
    {
     "name": "stderr",
     "output_type": "stream",
     "text": [
      "C:\\Anaconda3\\lib\\site-packages\\IPython\\core\\interactiveshell.py:2902: DtypeWarning: Columns (5,6,8,10,11) have mixed types. Specify dtype option on import or set low_memory=False.\n",
      "  interactivity=interactivity, compiler=compiler, result=result)\n"
     ]
    },
    {
     "data": {
      "text/html": [
       "<div>\n",
       "<table border=\"1\" class=\"dataframe\">\n",
       "  <thead>\n",
       "    <tr style=\"text-align: right;\">\n",
       "      <th></th>\n",
       "      <th>ReplayID</th>\n",
       "      <th>GameMode</th>\n",
       "      <th>Map</th>\n",
       "      <th>ReplayLength</th>\n",
       "      <th>Timestamp</th>\n",
       "      <th>Is Auto Select</th>\n",
       "      <th>Hero</th>\n",
       "      <th>Hero Level</th>\n",
       "      <th>Is Winner</th>\n",
       "      <th>MMR Before</th>\n",
       "      <th>Name</th>\n",
       "      <th>Group</th>\n",
       "    </tr>\n",
       "  </thead>\n",
       "  <tbody>\n",
       "    <tr>\n",
       "      <th>0</th>\n",
       "      <td>23915730</td>\n",
       "      <td>4</td>\n",
       "      <td>Haunted Mines</td>\n",
       "      <td>720.0</td>\n",
       "      <td>5/14/2015 12:55:26 AM</td>\n",
       "      <td>False</td>\n",
       "      <td>Rehgar</td>\n",
       "      <td>14.0</td>\n",
       "      <td>False</td>\n",
       "      <td>3170.0</td>\n",
       "      <td>Rehgar</td>\n",
       "      <td>Support</td>\n",
       "    </tr>\n",
       "    <tr>\n",
       "      <th>1</th>\n",
       "      <td>23915730</td>\n",
       "      <td>4</td>\n",
       "      <td>Haunted Mines</td>\n",
       "      <td>720.0</td>\n",
       "      <td>5/14/2015 12:55:26 AM</td>\n",
       "      <td>False</td>\n",
       "      <td>Falstad</td>\n",
       "      <td>10.0</td>\n",
       "      <td>False</td>\n",
       "      <td>3330.0</td>\n",
       "      <td>Falstad</td>\n",
       "      <td>Assassin</td>\n",
       "    </tr>\n",
       "    <tr>\n",
       "      <th>2</th>\n",
       "      <td>23915730</td>\n",
       "      <td>4</td>\n",
       "      <td>Haunted Mines</td>\n",
       "      <td>720.0</td>\n",
       "      <td>5/14/2015 12:55:26 AM</td>\n",
       "      <td>False</td>\n",
       "      <td>Jaina</td>\n",
       "      <td>7.0</td>\n",
       "      <td>True</td>\n",
       "      <td>3442.0</td>\n",
       "      <td>Jaina</td>\n",
       "      <td>Assassin</td>\n",
       "    </tr>\n",
       "    <tr>\n",
       "      <th>3</th>\n",
       "      <td>23915730</td>\n",
       "      <td>4</td>\n",
       "      <td>Haunted Mines</td>\n",
       "      <td>720.0</td>\n",
       "      <td>5/14/2015 12:55:26 AM</td>\n",
       "      <td>False</td>\n",
       "      <td>Sylvanas</td>\n",
       "      <td>13.0</td>\n",
       "      <td>False</td>\n",
       "      <td>2666.0</td>\n",
       "      <td>Sylvanas</td>\n",
       "      <td>Specialist</td>\n",
       "    </tr>\n",
       "    <tr>\n",
       "      <th>4</th>\n",
       "      <td>23915730</td>\n",
       "      <td>4</td>\n",
       "      <td>Haunted Mines</td>\n",
       "      <td>720.0</td>\n",
       "      <td>5/14/2015 12:55:26 AM</td>\n",
       "      <td>False</td>\n",
       "      <td>Zagara</td>\n",
       "      <td>10.0</td>\n",
       "      <td>True</td>\n",
       "      <td>3198.0</td>\n",
       "      <td>Zagara</td>\n",
       "      <td>Specialist</td>\n",
       "    </tr>\n",
       "  </tbody>\n",
       "</table>\n",
       "</div>"
      ],
      "text/plain": [
       "   ReplayID  GameMode            Map  ReplayLength              Timestamp  \\\n",
       "0  23915730         4  Haunted Mines         720.0  5/14/2015 12:55:26 AM   \n",
       "1  23915730         4  Haunted Mines         720.0  5/14/2015 12:55:26 AM   \n",
       "2  23915730         4  Haunted Mines         720.0  5/14/2015 12:55:26 AM   \n",
       "3  23915730         4  Haunted Mines         720.0  5/14/2015 12:55:26 AM   \n",
       "4  23915730         4  Haunted Mines         720.0  5/14/2015 12:55:26 AM   \n",
       "\n",
       "  Is Auto Select      Hero  Hero Level Is Winner  MMR Before      Name  \\\n",
       "0          False    Rehgar        14.0     False      3170.0    Rehgar   \n",
       "1          False   Falstad        10.0     False      3330.0   Falstad   \n",
       "2          False     Jaina         7.0      True      3442.0     Jaina   \n",
       "3          False  Sylvanas        13.0     False      2666.0  Sylvanas   \n",
       "4          False    Zagara        10.0      True      3198.0    Zagara   \n",
       "\n",
       "        Group  \n",
       "0     Support  \n",
       "1    Assassin  \n",
       "2    Assassin  \n",
       "3  Specialist  \n",
       "4  Specialist  "
      ]
     },
     "execution_count": 24,
     "metadata": {},
     "output_type": "execute_result"
    }
   ],
   "source": [
    "DataFrame = pd.read_csv(\"HeroLeagueData.csv\")\n",
    "del DF\n",
    "DataFrame.head()"
   ]
  },
  {
   "cell_type": "markdown",
   "metadata": {},
   "source": [
    "We have now removed all entries for games that were not played in the competitive mode using the \"GameMode\" feature and so we can drop this as it is no longer needed. Additionally, \"Timestamp\" and \"Is Auto Select\" can be dropped as they are not relevant.\n",
    "\n",
    "We also rename the columns to remove spaces so they are easer to use."
   ]
  },
  {
   "cell_type": "code",
   "execution_count": 25,
   "metadata": {
    "collapsed": false
   },
   "outputs": [
    {
     "data": {
      "text/plain": [
       "['ReplayID',\n",
       " 'Map',\n",
       " 'ReplayLength',\n",
       " 'Hero',\n",
       " 'HeroLevel',\n",
       " 'IsWinner',\n",
       " 'MMRbefore',\n",
       " 'Group']"
      ]
     },
     "execution_count": 25,
     "metadata": {},
     "output_type": "execute_result"
    }
   ],
   "source": [
    "#drop these columns from dataframe as they are no longer relevant\n",
    "DataFrame = DataFrame.drop('GameMode', axis=1).drop('Name', axis=1).drop('Is Auto Select', axis=1).drop('Timestamp', axis=1)\n",
    "\n",
    "\n",
    "#Overwrite the DataFrame's Column names to get it into correct format for future use\n",
    "DataFrame.columns = ['ReplayID', 'Map', 'ReplayLength', 'Hero', 'HeroLevel', 'IsWinner', 'MMRbefore', 'Group']\n",
    "\n",
    "list(DataFrame.columns.values)"
   ]
  },
  {
   "cell_type": "code",
   "execution_count": 28,
   "metadata": {
    "collapsed": false
   },
   "outputs": [
    {
     "data": {
      "text/plain": [
       "ReplayID          int64\n",
       "Map              object\n",
       "ReplayLength    float64\n",
       "Hero             object\n",
       "HeroLevel       float64\n",
       "IsWinner         object\n",
       "MMRbefore       float64\n",
       "Group            object\n",
       "dtype: object"
      ]
     },
     "execution_count": 28,
     "metadata": {},
     "output_type": "execute_result"
    }
   ],
   "source": [
    "DataFrame.dtypes"
   ]
  },
  {
   "cell_type": "markdown",
   "metadata": {},
   "source": [
    "## More data cleaning - Null values\n",
    "We check our cleaned data for null values.  There are null values present for the \"MMRbefore\" feature.\n",
    "\n",
    "This is likely due to the fact that the data we have contains entries from the early release stages of the game, where this statistic may not have been tracked.\n",
    "\n",
    "As we will be using this later in the notebook, these rows are not useful to us and can be dropped."
   ]
  },
  {
   "cell_type": "code",
   "execution_count": 29,
   "metadata": {
    "collapsed": false
   },
   "outputs": [
    {
     "data": {
      "text/plain": [
       "ReplayID             0\n",
       "Map                  0\n",
       "ReplayLength         0\n",
       "Hero            182161\n",
       "HeroLevel       182161\n",
       "IsWinner        182161\n",
       "MMRbefore       189351\n",
       "Group           182161\n",
       "dtype: int64"
      ]
     },
     "execution_count": 29,
     "metadata": {},
     "output_type": "execute_result"
    }
   ],
   "source": [
    "# Check if any fields contain null values\n",
    "DataFrame.isnull().sum()"
   ]
  },
  {
   "cell_type": "code",
   "execution_count": 30,
   "metadata": {
    "collapsed": true
   },
   "outputs": [],
   "source": [
    "# Remove all of the rows where the value of \"MMRbefore\" is not a finite number\n",
    "DataFrame = DataFrame[np.isfinite(DataFrame[\"MMRbefore\"])]"
   ]
  },
  {
   "cell_type": "code",
   "execution_count": 31,
   "metadata": {
    "collapsed": false
   },
   "outputs": [
    {
     "name": "stdout",
     "output_type": "stream",
     "text": [
      "True\n"
     ]
    }
   ],
   "source": [
    "# Get the number of rows that have a unique value for \"ReplayID\"\n",
    "# This value should be one tenth the value of the dataframe length, as each game has 10 players\n",
    "A = DataFrame.ReplayID.nunique()\n",
    "B = len(DataFrame)\n",
    "print(A*10 == B)"
   ]
  },
  {
   "cell_type": "code",
   "execution_count": 32,
   "metadata": {
    "collapsed": false
   },
   "outputs": [
    {
     "data": {
      "text/plain": [
       "(44440, 8)"
      ]
     },
     "execution_count": 32,
     "metadata": {},
     "output_type": "execute_result"
    }
   ],
   "source": [
    "# Find the number of entries remaining\n",
    "DataFrame.shape"
   ]
  },
  {
   "cell_type": "markdown",
   "metadata": {},
   "source": [
    "# Data Understanding"
   ]
  },
  {
   "cell_type": "code",
   "execution_count": 33,
   "metadata": {
    "collapsed": false,
    "scrolled": true
   },
   "outputs": [
    {
     "data": {
      "text/html": [
       "<div>\n",
       "<table border=\"1\" class=\"dataframe\">\n",
       "  <thead>\n",
       "    <tr style=\"text-align: right;\">\n",
       "      <th></th>\n",
       "      <th>ReplayLength</th>\n",
       "      <th>HeroLevel</th>\n",
       "      <th>MMRbefore</th>\n",
       "    </tr>\n",
       "  </thead>\n",
       "  <tbody>\n",
       "    <tr>\n",
       "      <th>0</th>\n",
       "      <td>720.0</td>\n",
       "      <td>14.0</td>\n",
       "      <td>3170.0</td>\n",
       "    </tr>\n",
       "    <tr>\n",
       "      <th>1</th>\n",
       "      <td>720.0</td>\n",
       "      <td>10.0</td>\n",
       "      <td>3330.0</td>\n",
       "    </tr>\n",
       "    <tr>\n",
       "      <th>2</th>\n",
       "      <td>720.0</td>\n",
       "      <td>7.0</td>\n",
       "      <td>3442.0</td>\n",
       "    </tr>\n",
       "    <tr>\n",
       "      <th>3</th>\n",
       "      <td>720.0</td>\n",
       "      <td>13.0</td>\n",
       "      <td>2666.0</td>\n",
       "    </tr>\n",
       "    <tr>\n",
       "      <th>4</th>\n",
       "      <td>720.0</td>\n",
       "      <td>10.0</td>\n",
       "      <td>3198.0</td>\n",
       "    </tr>\n",
       "  </tbody>\n",
       "</table>\n",
       "</div>"
      ],
      "text/plain": [
       "   ReplayLength  HeroLevel  MMRbefore\n",
       "0         720.0       14.0     3170.0\n",
       "1         720.0       10.0     3330.0\n",
       "2         720.0        7.0     3442.0\n",
       "3         720.0       13.0     2666.0\n",
       "4         720.0       10.0     3198.0"
      ]
     },
     "execution_count": 33,
     "metadata": {},
     "output_type": "execute_result"
    }
   ],
   "source": [
    "numeric = DataFrame.select_dtypes(['int64','float64']).columns\n",
    "numeric = numeric.drop(\"ReplayID\")\n",
    "DataFrame[numeric].head(5)"
   ]
  },
  {
   "cell_type": "code",
   "execution_count": 34,
   "metadata": {
    "collapsed": false
   },
   "outputs": [
    {
     "data": {
      "text/html": [
       "<div>\n",
       "<table border=\"1\" class=\"dataframe\">\n",
       "  <thead>\n",
       "    <tr style=\"text-align: right;\">\n",
       "      <th></th>\n",
       "      <th>ReplayLength</th>\n",
       "      <th>HeroLevel</th>\n",
       "      <th>MMRbefore</th>\n",
       "    </tr>\n",
       "  </thead>\n",
       "  <tbody>\n",
       "    <tr>\n",
       "      <th>ReplayLength</th>\n",
       "      <td>1.000000</td>\n",
       "      <td>-0.007550</td>\n",
       "      <td>-0.079386</td>\n",
       "    </tr>\n",
       "    <tr>\n",
       "      <th>HeroLevel</th>\n",
       "      <td>-0.007550</td>\n",
       "      <td>1.000000</td>\n",
       "      <td>0.108437</td>\n",
       "    </tr>\n",
       "    <tr>\n",
       "      <th>MMRbefore</th>\n",
       "      <td>-0.079386</td>\n",
       "      <td>0.108437</td>\n",
       "      <td>1.000000</td>\n",
       "    </tr>\n",
       "  </tbody>\n",
       "</table>\n",
       "</div>"
      ],
      "text/plain": [
       "              ReplayLength  HeroLevel  MMRbefore\n",
       "ReplayLength      1.000000  -0.007550  -0.079386\n",
       "HeroLevel        -0.007550   1.000000   0.108437\n",
       "MMRbefore        -0.079386   0.108437   1.000000"
      ]
     },
     "execution_count": 34,
     "metadata": {},
     "output_type": "execute_result"
    }
   ],
   "source": [
    "DataFrame[numeric].corr()"
   ]
  },
  {
   "cell_type": "code",
   "execution_count": 35,
   "metadata": {
    "collapsed": false
   },
   "outputs": [
    {
     "data": {
      "text/plain": [
       "array([[<matplotlib.axes._subplots.AxesSubplot object at 0x00000183647D0128>,\n",
       "        <matplotlib.axes._subplots.AxesSubplot object at 0x00000183623E3D30>]], dtype=object)"
      ]
     },
     "execution_count": 35,
     "metadata": {},
     "output_type": "execute_result"
    },
    {
     "data": {
      "image/png": "[encoded data removed]",
      "text/plain": [
       "<matplotlib.figure.Figure at 0x1835c97ec50>"
      ]
     },
     "metadata": {},
     "output_type": "display_data"
    }
   ],
   "source": [
    "%matplotlib inline\n",
    "DataFrame[[\"HeroLevel\",\"MMRbefore\"]].hist(figsize=(20, 8), color='red')\n",
    "#plt.savefig(\"Histogram-Numeric-Features_HOTS.png\")"
   ]
  },
  {
   "cell_type": "code",
   "execution_count": 36,
   "metadata": {
    "collapsed": false
   },
   "outputs": [
    {
     "data": {
      "text/plain": [
       "<matplotlib.axes._subplots.AxesSubplot at 0x18364f4eef0>"
      ]
     },
     "execution_count": 36,
     "metadata": {},
     "output_type": "execute_result"
    },
    {
     "data": {
      "image/png": "[encoded data removed]",
      "text/plain": [
       "<matplotlib.figure.Figure at 0x18364f508d0>"
      ]
     },
     "metadata": {},
     "output_type": "display_data"
    }
   ],
   "source": [
    "DataFrame[\"ReplayLength\"].hist(figsize=(20, 8), color='red')"
   ]
  },
  {
   "cell_type": "markdown",
   "metadata": {},
   "source": [
    "Removing outliers above a threshold of 3000 seconds gives a better representation of the spread of game duration"
   ]
  },
  {
   "cell_type": "code",
   "execution_count": 37,
   "metadata": {
    "collapsed": false
   },
   "outputs": [
    {
     "data": {
      "text/plain": [
       "<matplotlib.axes._subplots.AxesSubplot at 0x18364fa6400>"
      ]
     },
     "execution_count": 37,
     "metadata": {},
     "output_type": "execute_result"
    },
    {
     "data": {
      "image/png": "[encoded data removed]",
      "text/plain": [
       "<matplotlib.figure.Figure at 0x18364fbce10>"
      ]
     },
     "metadata": {},
     "output_type": "display_data"
    }
   ],
   "source": [
    "# Create a separate plot just to show the distribution of game length (removing lengthy outliers)\n",
    "DataFrame[\"ReplayLength\"][DataFrame.ReplayLength <= 3000].hist(figsize=(20, 8), color='red', bins=100)"
   ]
  },
  {
   "cell_type": "code",
   "execution_count": 39,
   "metadata": {
    "collapsed": false
   },
   "outputs": [
    {
     "data": {
      "text/plain": [
       "<matplotlib.axes._subplots.AxesSubplot at 0x18366a74a20>"
      ]
     },
     "execution_count": 39,
     "metadata": {},
     "output_type": "execute_result"
    },
    {
     "data": {
      "image/png": "[encoded data removed]",
      "text/plain": [
       "<matplotlib.figure.Figure at 0x18366a82ba8>"
      ]
     },
     "metadata": {},
     "output_type": "display_data"
    }
   ],
   "source": [
    "dfHero = DataFrame[[\"Hero\", \"IsWinner\"]]\n",
    "dfHero = dfHero.groupby([\"Hero\",\"IsWinner\"])[\"Hero\"].count().unstack('IsWinner')\n",
    "dfHero.plot(kind=\"bar\", stacked=True, figsize=(15,8), title=\"Bar Plot for Win/Loss per hero\")"
   ]
  },
  {
   "cell_type": "code",
   "execution_count": 40,
   "metadata": {
    "collapsed": false
   },
   "outputs": [
    {
     "data": {
      "text/html": [
       "<div>\n",
       "<table border=\"1\" class=\"dataframe\">\n",
       "  <thead>\n",
       "    <tr style=\"text-align: right;\">\n",
       "      <th></th>\n",
       "      <th>WinRate</th>\n",
       "      <th>Loss</th>\n",
       "      <th>Victory</th>\n",
       "    </tr>\n",
       "    <tr>\n",
       "      <th>Hero</th>\n",
       "      <th></th>\n",
       "      <th></th>\n",
       "      <th></th>\n",
       "    </tr>\n",
       "  </thead>\n",
       "  <tbody>\n",
       "    <tr>\n",
       "      <th>Abathur</th>\n",
       "      <td>43.600868</td>\n",
       "      <td>260</td>\n",
       "      <td>201</td>\n",
       "    </tr>\n",
       "    <tr>\n",
       "      <th>Anub'arak</th>\n",
       "      <td>58.429119</td>\n",
       "      <td>434</td>\n",
       "      <td>610</td>\n",
       "    </tr>\n",
       "    <tr>\n",
       "      <th>Arthas</th>\n",
       "      <td>52.523659</td>\n",
       "      <td>301</td>\n",
       "      <td>333</td>\n",
       "    </tr>\n",
       "    <tr>\n",
       "      <th>Azmodan</th>\n",
       "      <td>50.000000</td>\n",
       "      <td>224</td>\n",
       "      <td>224</td>\n",
       "    </tr>\n",
       "    <tr>\n",
       "      <th>Brightwing</th>\n",
       "      <td>56.270764</td>\n",
       "      <td>1053</td>\n",
       "      <td>1355</td>\n",
       "    </tr>\n",
       "  </tbody>\n",
       "</table>\n",
       "</div>"
      ],
      "text/plain": [
       "              WinRate  Loss  Victory\n",
       "Hero                                \n",
       "Abathur     43.600868   260      201\n",
       "Anub'arak   58.429119   434      610\n",
       "Arthas      52.523659   301      333\n",
       "Azmodan     50.000000   224      224\n",
       "Brightwing  56.270764  1053     1355"
      ]
     },
     "execution_count": 40,
     "metadata": {},
     "output_type": "execute_result"
    }
   ],
   "source": [
    "#Getting win rate in percentage per hero to plot in bar chart\n",
    "dfGroup = DataFrame[[\"Hero\", \"IsWinner\", \"Group\"]]\n",
    "\n",
    "dfGroup = dfGroup.groupby([\"Hero\",\"IsWinner\"]).count().unstack('IsWinner')\n",
    "\n",
    "dfGroup.columns = ['Loss', 'Victory']\n",
    "dfGroup.insert(0, 'WinRate', dfGroup.Victory/(dfGroup.Loss+dfGroup.Victory)*100)\n",
    "\n",
    "dfGroup.head()"
   ]
  },
  {
   "cell_type": "code",
   "execution_count": 41,
   "metadata": {
    "collapsed": false
   },
   "outputs": [
    {
     "data": {
      "text/plain": [
       "<matplotlib.axes._subplots.AxesSubplot at 0x18367f4cef0>"
      ]
     },
     "execution_count": 41,
     "metadata": {},
     "output_type": "execute_result"
    },
    {
     "data": {
      "image/png": "[encoded data removed]",
      "text/plain": [
       "<matplotlib.figure.Figure at 0x18367ee25c0>"
      ]
     },
     "metadata": {},
     "output_type": "display_data"
    }
   ],
   "source": [
    "# 'Specialist' = 'blue'\n",
    "# 'Support' = green'\n",
    "# 'Assassin' = 'red'\n",
    "# 'Warrior' = 'yellow'\n",
    "\n",
    "my_colors = 'byybgyyyrbrrrrggybbrrgbyybgbrryggrbr'\n",
    "dfGroup['WinRate'].plot(kind=\"bar\", figsize=(17,8), ylim=(40,62), color=my_colors, title=\"Bar Plot for WinRate (%) per hero\")"
   ]
  },
  {
   "cell_type": "markdown",
   "metadata": {},
   "source": [
    "#  <u> Observations (From original, full size dataset) </u>\n",
    "According to the graph above we can identify that the Heroes which are played the most are:  \n",
    "- *Valla*   (Assassin) \n",
    "- *Sylvanas*    (Specialist)\n",
    "- *Jaina*  (Assassin)\n",
    "- *Kael'Thas*  (Assassin)\n",
    "- *ETC*    (Warrior)"
   ]
  },
  {
   "cell_type": "markdown",
   "metadata": {},
   "source": [
    "## Creating \"Team Composition\" feature from existing data\n",
    "\n",
    "As mentioned above, this is one of the main features we wish to look at\n",
    "- We begin by sorting our dataframe based on \"ReplayID\"\n",
    "- With that in place, each record is then sorted by \"IsWinner\"\n",
    "- This results in 10 entries for the same game being grouped together, where the first 5 are the winning team, and the second 5 are the losing team"
   ]
  },
  {
   "cell_type": "code",
   "execution_count": 42,
   "metadata": {
    "collapsed": false
   },
   "outputs": [],
   "source": [
    "DataFrame.sort_values([\"ReplayID\",\"IsWinner\"],axis=0, inplace=True, ascending=[True, False])"
   ]
  },
  {
   "cell_type": "code",
   "execution_count": 43,
   "metadata": {
    "collapsed": false
   },
   "outputs": [
    {
     "data": {
      "text/html": [
       "<div>\n",
       "<table border=\"1\" class=\"dataframe\">\n",
       "  <thead>\n",
       "    <tr style=\"text-align: right;\">\n",
       "      <th></th>\n",
       "      <th>ReplayID</th>\n",
       "      <th>Map</th>\n",
       "      <th>ReplayLength</th>\n",
       "      <th>Hero</th>\n",
       "      <th>HeroLevel</th>\n",
       "      <th>IsWinner</th>\n",
       "      <th>MMRbefore</th>\n",
       "      <th>Group</th>\n",
       "    </tr>\n",
       "  </thead>\n",
       "  <tbody>\n",
       "    <tr>\n",
       "      <th>14251</th>\n",
       "      <td>23812009</td>\n",
       "      <td>Garden of Terror</td>\n",
       "      <td>814.0</td>\n",
       "      <td>E.T.C.</td>\n",
       "      <td>8.0</td>\n",
       "      <td>True</td>\n",
       "      <td>3341.0</td>\n",
       "      <td>Warrior</td>\n",
       "    </tr>\n",
       "    <tr>\n",
       "      <th>14252</th>\n",
       "      <td>23812009</td>\n",
       "      <td>Garden of Terror</td>\n",
       "      <td>814.0</td>\n",
       "      <td>Rehgar</td>\n",
       "      <td>10.0</td>\n",
       "      <td>True</td>\n",
       "      <td>3008.0</td>\n",
       "      <td>Support</td>\n",
       "    </tr>\n",
       "    <tr>\n",
       "      <th>14253</th>\n",
       "      <td>23812009</td>\n",
       "      <td>Garden of Terror</td>\n",
       "      <td>814.0</td>\n",
       "      <td>Raynor</td>\n",
       "      <td>10.0</td>\n",
       "      <td>True</td>\n",
       "      <td>2850.0</td>\n",
       "      <td>Assassin</td>\n",
       "    </tr>\n",
       "    <tr>\n",
       "      <th>14254</th>\n",
       "      <td>23812009</td>\n",
       "      <td>Garden of Terror</td>\n",
       "      <td>814.0</td>\n",
       "      <td>Jaina</td>\n",
       "      <td>8.0</td>\n",
       "      <td>True</td>\n",
       "      <td>2835.0</td>\n",
       "      <td>Assassin</td>\n",
       "    </tr>\n",
       "    <tr>\n",
       "      <th>14255</th>\n",
       "      <td>23812009</td>\n",
       "      <td>Garden of Terror</td>\n",
       "      <td>814.0</td>\n",
       "      <td>Sylvanas</td>\n",
       "      <td>16.0</td>\n",
       "      <td>True</td>\n",
       "      <td>2648.0</td>\n",
       "      <td>Specialist</td>\n",
       "    </tr>\n",
       "  </tbody>\n",
       "</table>\n",
       "</div>"
      ],
      "text/plain": [
       "       ReplayID               Map  ReplayLength      Hero  HeroLevel IsWinner  \\\n",
       "14251  23812009  Garden of Terror         814.0    E.T.C.        8.0     True   \n",
       "14252  23812009  Garden of Terror         814.0    Rehgar       10.0     True   \n",
       "14253  23812009  Garden of Terror         814.0    Raynor       10.0     True   \n",
       "14254  23812009  Garden of Terror         814.0     Jaina        8.0     True   \n",
       "14255  23812009  Garden of Terror         814.0  Sylvanas       16.0     True   \n",
       "\n",
       "       MMRbefore       Group  \n",
       "14251     3341.0     Warrior  \n",
       "14252     3008.0     Support  \n",
       "14253     2850.0    Assassin  \n",
       "14254     2835.0    Assassin  \n",
       "14255     2648.0  Specialist  "
      ]
     },
     "execution_count": 43,
     "metadata": {},
     "output_type": "execute_result"
    }
   ],
   "source": [
    "DataFrame.head()"
   ]
  },
  {
   "cell_type": "markdown",
   "metadata": {},
   "source": [
    "We want to extract two lists from each game: one from the winning team and one from the losing team\n",
    "\n",
    "Each list will record the classes of characters present on that team. For example:\n",
    "\n",
    "    Winner = [\"Assassin\", \"Support\", \"Support\", \"Specialist\", \"Warrior\"]\n",
    "\n",
    "This list will then be sorted alphabetically and checked against a list of class compositions recorded so far. If that particular configuration is not present, it will be added. This allows us to see the unique team compositions present in our dataset."
   ]
  },
  {
   "cell_type": "code",
   "execution_count": 44,
   "metadata": {
    "collapsed": false
   },
   "outputs": [
    {
     "data": {
      "text/plain": [
       "(44440, 4)"
      ]
     },
     "execution_count": 44,
     "metadata": {},
     "output_type": "execute_result"
    }
   ],
   "source": [
    "df_classes = DataFrame[[\"IsWinner\", \"ReplayID\", \"Group\", \"MMRbefore\"]]\n",
    "df_classes.shape"
   ]
  },
  {
   "cell_type": "code",
   "execution_count": 45,
   "metadata": {
    "collapsed": false
   },
   "outputs": [
    {
     "data": {
      "text/html": [
       "<div>\n",
       "<table border=\"1\" class=\"dataframe\">\n",
       "  <thead>\n",
       "    <tr style=\"text-align: right;\">\n",
       "      <th></th>\n",
       "      <th>IsWinner</th>\n",
       "      <th>ReplayID</th>\n",
       "      <th>Group</th>\n",
       "      <th>MMRbefore</th>\n",
       "    </tr>\n",
       "  </thead>\n",
       "  <tbody>\n",
       "    <tr>\n",
       "      <th>14251</th>\n",
       "      <td>True</td>\n",
       "      <td>23812009</td>\n",
       "      <td>Warrior</td>\n",
       "      <td>3341.0</td>\n",
       "    </tr>\n",
       "    <tr>\n",
       "      <th>14252</th>\n",
       "      <td>True</td>\n",
       "      <td>23812009</td>\n",
       "      <td>Support</td>\n",
       "      <td>3008.0</td>\n",
       "    </tr>\n",
       "    <tr>\n",
       "      <th>14253</th>\n",
       "      <td>True</td>\n",
       "      <td>23812009</td>\n",
       "      <td>Assassin</td>\n",
       "      <td>2850.0</td>\n",
       "    </tr>\n",
       "    <tr>\n",
       "      <th>14254</th>\n",
       "      <td>True</td>\n",
       "      <td>23812009</td>\n",
       "      <td>Assassin</td>\n",
       "      <td>2835.0</td>\n",
       "    </tr>\n",
       "    <tr>\n",
       "      <th>14255</th>\n",
       "      <td>True</td>\n",
       "      <td>23812009</td>\n",
       "      <td>Specialist</td>\n",
       "      <td>2648.0</td>\n",
       "    </tr>\n",
       "  </tbody>\n",
       "</table>\n",
       "</div>"
      ],
      "text/plain": [
       "      IsWinner  ReplayID       Group  MMRbefore\n",
       "14251     True  23812009     Warrior     3341.0\n",
       "14252     True  23812009     Support     3008.0\n",
       "14253     True  23812009    Assassin     2850.0\n",
       "14254     True  23812009    Assassin     2835.0\n",
       "14255     True  23812009  Specialist     2648.0"
      ]
     },
     "execution_count": 45,
     "metadata": {},
     "output_type": "execute_result"
    }
   ],
   "source": [
    "df_classes.head()"
   ]
  },
  {
   "cell_type": "code",
   "execution_count": 46,
   "metadata": {
    "collapsed": false
   },
   "outputs": [
    {
     "name": "stdout",
     "output_type": "stream",
     "text": [
      "Finished\n"
     ]
    }
   ],
   "source": [
    "# Initialise lists to keep track of the group of 5 classes (a.k.a. Team Composition) played in any given game\n",
    "# Initialise another list to keep track of each of these lists of 5 classes\n",
    "# Similar thing with MMR (a.k.a. Player Rating), but divide by 5 to get average player rating on the team\n",
    "# Initialise a counter to 0, and cycle through every row in the dataframe\n",
    "# The dataframe is sorted by ReplayID, so every 10 rows corresponds to 1 game\n",
    "# Once counter reaches 10, reset the appropriate lists after adding their values to the larger lists\n",
    "\n",
    "comp_win = []\n",
    "comp_lose = []\n",
    "composition_list = []\n",
    "mmr_win = 0\n",
    "mmr_lose = 0\n",
    "mmr_list = []\n",
    "counter = 0\n",
    "for x in range(len(df_classes)):\n",
    "    if df_classes.IsWinner.iloc[x] == True:\n",
    "        comp_win.append(df_classes.Group.iloc[x])\n",
    "        mmr_win += df_classes.MMRbefore.iloc[x]\n",
    "    else:\n",
    "        comp_lose.append(df_classes.Group.iloc[x])\n",
    "        mmr_lose += df_classes.MMRbefore.iloc[x]\n",
    "    counter += 1\n",
    "    if counter == 10: # All values for a single game have been read, so now add them to lists\n",
    "        comp_win.sort()\n",
    "        comp_lose.sort()\n",
    "        composition_list.append(comp_win)\n",
    "        composition_list.append(comp_lose)\n",
    "        comp_win = []\n",
    "        comp_lose = []\n",
    "        mmr_list.append(mmr_win//5)\n",
    "        mmr_list.append(mmr_lose//5)\n",
    "        mmr_win = 0\n",
    "        mmr_lose = 0\n",
    "        counter = 0 # Restart counter to represent next game\n",
    "        \n",
    "print(\"Finished\")  "
   ]
  },
  {
   "cell_type": "code",
   "execution_count": 47,
   "metadata": {
    "collapsed": false
   },
   "outputs": [
    {
     "name": "stdout",
     "output_type": "stream",
     "text": [
      "Number of unique class compositions found:  44\n"
     ]
    }
   ],
   "source": [
    "# From the entire list of all Team Compositions played, create a list of only the unique ones\n",
    "# This can then be used to create dummies that will be used to convey what Team Composition a particular team played\n",
    "# Necessary for our logisitic regression\n",
    "\n",
    "unique_comps = []\n",
    "for item in composition_list:\n",
    "    if item not in unique_comps:\n",
    "        unique_comps.append(item)\n",
    "        \n",
    "# Check that every composition conisists of 5 Classes\n",
    "for j in unique_comps:\n",
    "    if len(j) != 5:\n",
    "        print(\"Error\")\n",
    "        \n",
    "print (\"Number of unique class compositions found: \", len(unique_comps))"
   ]
  },
  {
   "cell_type": "markdown",
   "metadata": {},
   "source": [
    "##### See the end of the notebook for statistics on compositions"
   ]
  },
  {
   "cell_type": "markdown",
   "metadata": {},
   "source": [
    "At this point, every player record has an associated \"Team Composition\" showing the 5 classes that were chosen on their team that game.\n",
    "\n",
    "This is in the form of a list. E.g. [\"Assassin\", \"Support\", \"Support\", \"Specialist\", \"Warrior\"]\n",
    "\n",
    "As we will be creating a new feature based on this information, we attempt to increase readability by converting these lists to a string of letters, each representing a particular class"
   ]
  },
  {
   "cell_type": "code",
   "execution_count": 48,
   "metadata": {
    "collapsed": false
   },
   "outputs": [
    {
     "name": "stdout",
     "output_type": "stream",
     "text": [
      "['AASpSW', 'AASpSW', 'AASpSW', 'AASpSW', 'AASpSW']\n"
     ]
    }
   ],
   "source": [
    "# For compositions to be easily readable, we will convert every list of 5 classes to a string representation\n",
    "# A = Assassin\n",
    "# S = Support\n",
    "# Sp = Specialist\n",
    "# W = Warrior\n",
    "# For example, the string AASpWW would represent [\"Assassin\", \"Assassin\", \"Specialist\", \"Warrior\", \"Warrior\"]\n",
    "str_comps = []\n",
    "for composition in composition_list:\n",
    "    string_rep = \"\" # String to keep track of class initials\n",
    "    for character_class in composition:\n",
    "        if character_class == \"Specialist\": # 2 classes begin with \"S\", so represent Specialist as \"Sp\"\n",
    "            string_rep += character_class[0:2]\n",
    "        else:\n",
    "            string_rep += character_class[0]\n",
    "    str_comps.append(string_rep) # Add the composition to the list\n",
    "    \n",
    "# Check that formatting is as expected\n",
    "print(str_comps[0:5])"
   ]
  },
  {
   "cell_type": "code",
   "execution_count": 49,
   "metadata": {
    "collapsed": true
   },
   "outputs": [],
   "source": [
    "# Create a list that can be used as a pandas Series to add as a column to our dataframe\n",
    "# The ratings calculated on a per-team basis, but at the moment we still have one row per player\n",
    "# Therefore, create 5 of each entry\n",
    "col_rating = []\n",
    "for i in mmr_list:\n",
    "    for j in range(5):\n",
    "        col_rating.append(i)"
   ]
  },
  {
   "cell_type": "code",
   "execution_count": 50,
   "metadata": {
    "collapsed": true
   },
   "outputs": [],
   "source": [
    "# Same as the previous cell, but for team composition\n",
    "col_comp = []\n",
    "for i in str_comps:\n",
    "    for j in range(5):\n",
    "        col_comp.append(i)"
   ]
  },
  {
   "cell_type": "code",
   "execution_count": 51,
   "metadata": {
    "collapsed": false
   },
   "outputs": [],
   "source": [
    "# Add these columns to the dataframe\n",
    "DataFrame['Composition'] = pd.Series(col_comp, index=DataFrame.index)\n",
    "DataFrame['Rating'] = pd.Series(col_rating, index=DataFrame.index)"
   ]
  },
  {
   "cell_type": "code",
   "execution_count": 52,
   "metadata": {
    "collapsed": false,
    "scrolled": true
   },
   "outputs": [
    {
     "data": {
      "text/html": [
       "<div>\n",
       "<table border=\"1\" class=\"dataframe\">\n",
       "  <thead>\n",
       "    <tr style=\"text-align: right;\">\n",
       "      <th></th>\n",
       "      <th>ReplayID</th>\n",
       "      <th>Map</th>\n",
       "      <th>ReplayLength</th>\n",
       "      <th>Hero</th>\n",
       "      <th>HeroLevel</th>\n",
       "      <th>IsWinner</th>\n",
       "      <th>MMRbefore</th>\n",
       "      <th>Group</th>\n",
       "      <th>Composition</th>\n",
       "      <th>Rating</th>\n",
       "    </tr>\n",
       "  </thead>\n",
       "  <tbody>\n",
       "    <tr>\n",
       "      <th>14251</th>\n",
       "      <td>23812009</td>\n",
       "      <td>Garden of Terror</td>\n",
       "      <td>814.0</td>\n",
       "      <td>E.T.C.</td>\n",
       "      <td>8.0</td>\n",
       "      <td>True</td>\n",
       "      <td>3341.0</td>\n",
       "      <td>Warrior</td>\n",
       "      <td>AASpSW</td>\n",
       "      <td>2936.0</td>\n",
       "    </tr>\n",
       "    <tr>\n",
       "      <th>14252</th>\n",
       "      <td>23812009</td>\n",
       "      <td>Garden of Terror</td>\n",
       "      <td>814.0</td>\n",
       "      <td>Rehgar</td>\n",
       "      <td>10.0</td>\n",
       "      <td>True</td>\n",
       "      <td>3008.0</td>\n",
       "      <td>Support</td>\n",
       "      <td>AASpSW</td>\n",
       "      <td>2936.0</td>\n",
       "    </tr>\n",
       "    <tr>\n",
       "      <th>14253</th>\n",
       "      <td>23812009</td>\n",
       "      <td>Garden of Terror</td>\n",
       "      <td>814.0</td>\n",
       "      <td>Raynor</td>\n",
       "      <td>10.0</td>\n",
       "      <td>True</td>\n",
       "      <td>2850.0</td>\n",
       "      <td>Assassin</td>\n",
       "      <td>AASpSW</td>\n",
       "      <td>2936.0</td>\n",
       "    </tr>\n",
       "    <tr>\n",
       "      <th>14254</th>\n",
       "      <td>23812009</td>\n",
       "      <td>Garden of Terror</td>\n",
       "      <td>814.0</td>\n",
       "      <td>Jaina</td>\n",
       "      <td>8.0</td>\n",
       "      <td>True</td>\n",
       "      <td>2835.0</td>\n",
       "      <td>Assassin</td>\n",
       "      <td>AASpSW</td>\n",
       "      <td>2936.0</td>\n",
       "    </tr>\n",
       "    <tr>\n",
       "      <th>14255</th>\n",
       "      <td>23812009</td>\n",
       "      <td>Garden of Terror</td>\n",
       "      <td>814.0</td>\n",
       "      <td>Sylvanas</td>\n",
       "      <td>16.0</td>\n",
       "      <td>True</td>\n",
       "      <td>2648.0</td>\n",
       "      <td>Specialist</td>\n",
       "      <td>AASpSW</td>\n",
       "      <td>2936.0</td>\n",
       "    </tr>\n",
       "    <tr>\n",
       "      <th>14250</th>\n",
       "      <td>23812009</td>\n",
       "      <td>Garden of Terror</td>\n",
       "      <td>814.0</td>\n",
       "      <td>Uther</td>\n",
       "      <td>7.0</td>\n",
       "      <td>False</td>\n",
       "      <td>2336.0</td>\n",
       "      <td>Support</td>\n",
       "      <td>AASpSW</td>\n",
       "      <td>2191.0</td>\n",
       "    </tr>\n",
       "    <tr>\n",
       "      <th>14256</th>\n",
       "      <td>23812009</td>\n",
       "      <td>Garden of Terror</td>\n",
       "      <td>814.0</td>\n",
       "      <td>Valla</td>\n",
       "      <td>9.0</td>\n",
       "      <td>False</td>\n",
       "      <td>2311.0</td>\n",
       "      <td>Assassin</td>\n",
       "      <td>AASpSW</td>\n",
       "      <td>2191.0</td>\n",
       "    </tr>\n",
       "    <tr>\n",
       "      <th>14257</th>\n",
       "      <td>23812009</td>\n",
       "      <td>Garden of Terror</td>\n",
       "      <td>814.0</td>\n",
       "      <td>Diablo</td>\n",
       "      <td>9.0</td>\n",
       "      <td>False</td>\n",
       "      <td>2971.0</td>\n",
       "      <td>Warrior</td>\n",
       "      <td>AASpSW</td>\n",
       "      <td>2191.0</td>\n",
       "    </tr>\n",
       "    <tr>\n",
       "      <th>14258</th>\n",
       "      <td>23812009</td>\n",
       "      <td>Garden of Terror</td>\n",
       "      <td>814.0</td>\n",
       "      <td>Sgt. Hammer</td>\n",
       "      <td>10.0</td>\n",
       "      <td>False</td>\n",
       "      <td>804.0</td>\n",
       "      <td>Specialist</td>\n",
       "      <td>AASpSW</td>\n",
       "      <td>2191.0</td>\n",
       "    </tr>\n",
       "    <tr>\n",
       "      <th>14259</th>\n",
       "      <td>23812009</td>\n",
       "      <td>Garden of Terror</td>\n",
       "      <td>814.0</td>\n",
       "      <td>Falstad</td>\n",
       "      <td>7.0</td>\n",
       "      <td>False</td>\n",
       "      <td>2535.0</td>\n",
       "      <td>Assassin</td>\n",
       "      <td>AASpSW</td>\n",
       "      <td>2191.0</td>\n",
       "    </tr>\n",
       "    <tr>\n",
       "      <th>2</th>\n",
       "      <td>23915730</td>\n",
       "      <td>Haunted Mines</td>\n",
       "      <td>720.0</td>\n",
       "      <td>Jaina</td>\n",
       "      <td>7.0</td>\n",
       "      <td>True</td>\n",
       "      <td>3442.0</td>\n",
       "      <td>Assassin</td>\n",
       "      <td>AASpSW</td>\n",
       "      <td>3125.0</td>\n",
       "    </tr>\n",
       "    <tr>\n",
       "      <th>4</th>\n",
       "      <td>23915730</td>\n",
       "      <td>Haunted Mines</td>\n",
       "      <td>720.0</td>\n",
       "      <td>Zagara</td>\n",
       "      <td>10.0</td>\n",
       "      <td>True</td>\n",
       "      <td>3198.0</td>\n",
       "      <td>Specialist</td>\n",
       "      <td>AASpSW</td>\n",
       "      <td>3125.0</td>\n",
       "    </tr>\n",
       "    <tr>\n",
       "      <th>5</th>\n",
       "      <td>23915730</td>\n",
       "      <td>Haunted Mines</td>\n",
       "      <td>720.0</td>\n",
       "      <td>Brightwing</td>\n",
       "      <td>11.0</td>\n",
       "      <td>True</td>\n",
       "      <td>2679.0</td>\n",
       "      <td>Support</td>\n",
       "      <td>AASpSW</td>\n",
       "      <td>3125.0</td>\n",
       "    </tr>\n",
       "    <tr>\n",
       "      <th>7</th>\n",
       "      <td>23915730</td>\n",
       "      <td>Haunted Mines</td>\n",
       "      <td>720.0</td>\n",
       "      <td>Kerrigan</td>\n",
       "      <td>8.0</td>\n",
       "      <td>True</td>\n",
       "      <td>3683.0</td>\n",
       "      <td>Assassin</td>\n",
       "      <td>AASpSW</td>\n",
       "      <td>3125.0</td>\n",
       "    </tr>\n",
       "    <tr>\n",
       "      <th>8</th>\n",
       "      <td>23915730</td>\n",
       "      <td>Haunted Mines</td>\n",
       "      <td>720.0</td>\n",
       "      <td>E.T.C.</td>\n",
       "      <td>10.0</td>\n",
       "      <td>True</td>\n",
       "      <td>2626.0</td>\n",
       "      <td>Warrior</td>\n",
       "      <td>AASpSW</td>\n",
       "      <td>3125.0</td>\n",
       "    </tr>\n",
       "    <tr>\n",
       "      <th>0</th>\n",
       "      <td>23915730</td>\n",
       "      <td>Haunted Mines</td>\n",
       "      <td>720.0</td>\n",
       "      <td>Rehgar</td>\n",
       "      <td>14.0</td>\n",
       "      <td>False</td>\n",
       "      <td>3170.0</td>\n",
       "      <td>Support</td>\n",
       "      <td>AASpSW</td>\n",
       "      <td>2610.0</td>\n",
       "    </tr>\n",
       "    <tr>\n",
       "      <th>1</th>\n",
       "      <td>23915730</td>\n",
       "      <td>Haunted Mines</td>\n",
       "      <td>720.0</td>\n",
       "      <td>Falstad</td>\n",
       "      <td>10.0</td>\n",
       "      <td>False</td>\n",
       "      <td>3330.0</td>\n",
       "      <td>Assassin</td>\n",
       "      <td>AASpSW</td>\n",
       "      <td>2610.0</td>\n",
       "    </tr>\n",
       "    <tr>\n",
       "      <th>3</th>\n",
       "      <td>23915730</td>\n",
       "      <td>Haunted Mines</td>\n",
       "      <td>720.0</td>\n",
       "      <td>Sylvanas</td>\n",
       "      <td>13.0</td>\n",
       "      <td>False</td>\n",
       "      <td>2666.0</td>\n",
       "      <td>Specialist</td>\n",
       "      <td>AASpSW</td>\n",
       "      <td>2610.0</td>\n",
       "    </tr>\n",
       "    <tr>\n",
       "      <th>6</th>\n",
       "      <td>23915730</td>\n",
       "      <td>Haunted Mines</td>\n",
       "      <td>720.0</td>\n",
       "      <td>Diablo</td>\n",
       "      <td>7.0</td>\n",
       "      <td>False</td>\n",
       "      <td>1685.0</td>\n",
       "      <td>Warrior</td>\n",
       "      <td>AASpSW</td>\n",
       "      <td>2610.0</td>\n",
       "    </tr>\n",
       "    <tr>\n",
       "      <th>9</th>\n",
       "      <td>23915730</td>\n",
       "      <td>Haunted Mines</td>\n",
       "      <td>720.0</td>\n",
       "      <td>Kael'thas</td>\n",
       "      <td>5.0</td>\n",
       "      <td>False</td>\n",
       "      <td>2200.0</td>\n",
       "      <td>Assassin</td>\n",
       "      <td>AASpSW</td>\n",
       "      <td>2610.0</td>\n",
       "    </tr>\n",
       "  </tbody>\n",
       "</table>\n",
       "</div>"
      ],
      "text/plain": [
       "       ReplayID               Map  ReplayLength         Hero  HeroLevel  \\\n",
       "14251  23812009  Garden of Terror         814.0       E.T.C.        8.0   \n",
       "14252  23812009  Garden of Terror         814.0       Rehgar       10.0   \n",
       "14253  23812009  Garden of Terror         814.0       Raynor       10.0   \n",
       "14254  23812009  Garden of Terror         814.0        Jaina        8.0   \n",
       "14255  23812009  Garden of Terror         814.0     Sylvanas       16.0   \n",
       "14250  23812009  Garden of Terror         814.0        Uther        7.0   \n",
       "14256  23812009  Garden of Terror         814.0        Valla        9.0   \n",
       "14257  23812009  Garden of Terror         814.0       Diablo        9.0   \n",
       "14258  23812009  Garden of Terror         814.0  Sgt. Hammer       10.0   \n",
       "14259  23812009  Garden of Terror         814.0      Falstad        7.0   \n",
       "2      23915730     Haunted Mines         720.0        Jaina        7.0   \n",
       "4      23915730     Haunted Mines         720.0       Zagara       10.0   \n",
       "5      23915730     Haunted Mines         720.0   Brightwing       11.0   \n",
       "7      23915730     Haunted Mines         720.0     Kerrigan        8.0   \n",
       "8      23915730     Haunted Mines         720.0       E.T.C.       10.0   \n",
       "0      23915730     Haunted Mines         720.0       Rehgar       14.0   \n",
       "1      23915730     Haunted Mines         720.0      Falstad       10.0   \n",
       "3      23915730     Haunted Mines         720.0     Sylvanas       13.0   \n",
       "6      23915730     Haunted Mines         720.0       Diablo        7.0   \n",
       "9      23915730     Haunted Mines         720.0    Kael'thas        5.0   \n",
       "\n",
       "      IsWinner  MMRbefore       Group Composition  Rating  \n",
       "14251     True     3341.0     Warrior      AASpSW  2936.0  \n",
       "14252     True     3008.0     Support      AASpSW  2936.0  \n",
       "14253     True     2850.0    Assassin      AASpSW  2936.0  \n",
       "14254     True     2835.0    Assassin      AASpSW  2936.0  \n",
       "14255     True     2648.0  Specialist      AASpSW  2936.0  \n",
       "14250    False     2336.0     Support      AASpSW  2191.0  \n",
       "14256    False     2311.0    Assassin      AASpSW  2191.0  \n",
       "14257    False     2971.0     Warrior      AASpSW  2191.0  \n",
       "14258    False      804.0  Specialist      AASpSW  2191.0  \n",
       "14259    False     2535.0    Assassin      AASpSW  2191.0  \n",
       "2         True     3442.0    Assassin      AASpSW  3125.0  \n",
       "4         True     3198.0  Specialist      AASpSW  3125.0  \n",
       "5         True     2679.0     Support      AASpSW  3125.0  \n",
       "7         True     3683.0    Assassin      AASpSW  3125.0  \n",
       "8         True     2626.0     Warrior      AASpSW  3125.0  \n",
       "0        False     3170.0     Support      AASpSW  2610.0  \n",
       "1        False     3330.0    Assassin      AASpSW  2610.0  \n",
       "3        False     2666.0  Specialist      AASpSW  2610.0  \n",
       "6        False     1685.0     Warrior      AASpSW  2610.0  \n",
       "9        False     2200.0    Assassin      AASpSW  2610.0  "
      ]
     },
     "execution_count": 52,
     "metadata": {},
     "output_type": "execute_result"
    }
   ],
   "source": [
    "DataFrame.head(20)"
   ]
  },
  {
   "cell_type": "markdown",
   "metadata": {},
   "source": [
    "Finally, we remove duplicated entries so we are left with 2 rows for each game; one for the winning team, and one for the losing team.\n",
    "\n",
    "These records will also indicate the composition played by the team and the average player rating."
   ]
  },
  {
   "cell_type": "code",
   "execution_count": 53,
   "metadata": {
    "collapsed": false
   },
   "outputs": [],
   "source": [
    "# Create a new dataframe that is to be modified to contain only a single record per team (i.e. 2 entries per game)\n",
    "DF_Teams = DataFrame[[\"ReplayID\", \"Map\", \"ReplayLength\", \"IsWinner\", \"Composition\", \"Rating\"]]"
   ]
  },
  {
   "cell_type": "code",
   "execution_count": 54,
   "metadata": {
    "collapsed": false
   },
   "outputs": [
    {
     "name": "stderr",
     "output_type": "stream",
     "text": [
      "C:\\Anaconda3\\lib\\site-packages\\pandas\\util\\decorators.py:91: SettingWithCopyWarning: \n",
      "A value is trying to be set on a copy of a slice from a DataFrame\n",
      "\n",
      "See the caveats in the documentation: http://pandas.pydata.org/pandas-docs/stable/indexing.html#indexing-view-versus-copy\n",
      "  return func(*args, **kwargs)\n"
     ]
    },
    {
     "data": {
      "text/html": [
       "<div>\n",
       "<table border=\"1\" class=\"dataframe\">\n",
       "  <thead>\n",
       "    <tr style=\"text-align: right;\">\n",
       "      <th></th>\n",
       "      <th>ReplayID</th>\n",
       "      <th>Map</th>\n",
       "      <th>ReplayLength</th>\n",
       "      <th>IsWinner</th>\n",
       "      <th>Composition</th>\n",
       "      <th>Rating</th>\n",
       "    </tr>\n",
       "  </thead>\n",
       "  <tbody>\n",
       "    <tr>\n",
       "      <th>14251</th>\n",
       "      <td>23812009</td>\n",
       "      <td>Garden of Terror</td>\n",
       "      <td>814.0</td>\n",
       "      <td>True</td>\n",
       "      <td>AASpSW</td>\n",
       "      <td>2936.0</td>\n",
       "    </tr>\n",
       "    <tr>\n",
       "      <th>14250</th>\n",
       "      <td>23812009</td>\n",
       "      <td>Garden of Terror</td>\n",
       "      <td>814.0</td>\n",
       "      <td>False</td>\n",
       "      <td>AASpSW</td>\n",
       "      <td>2191.0</td>\n",
       "    </tr>\n",
       "    <tr>\n",
       "      <th>2</th>\n",
       "      <td>23915730</td>\n",
       "      <td>Haunted Mines</td>\n",
       "      <td>720.0</td>\n",
       "      <td>True</td>\n",
       "      <td>AASpSW</td>\n",
       "      <td>3125.0</td>\n",
       "    </tr>\n",
       "    <tr>\n",
       "      <th>0</th>\n",
       "      <td>23915730</td>\n",
       "      <td>Haunted Mines</td>\n",
       "      <td>720.0</td>\n",
       "      <td>False</td>\n",
       "      <td>AASpSW</td>\n",
       "      <td>2610.0</td>\n",
       "    </tr>\n",
       "    <tr>\n",
       "      <th>10</th>\n",
       "      <td>23915740</td>\n",
       "      <td>Garden of Terror</td>\n",
       "      <td>1578.0</td>\n",
       "      <td>True</td>\n",
       "      <td>AASpSW</td>\n",
       "      <td>1686.0</td>\n",
       "    </tr>\n",
       "    <tr>\n",
       "      <th>11</th>\n",
       "      <td>23915740</td>\n",
       "      <td>Garden of Terror</td>\n",
       "      <td>1578.0</td>\n",
       "      <td>False</td>\n",
       "      <td>AAASW</td>\n",
       "      <td>1442.0</td>\n",
       "    </tr>\n",
       "    <tr>\n",
       "      <th>90</th>\n",
       "      <td>23915821</td>\n",
       "      <td>Blackheart's Bay</td>\n",
       "      <td>1460.0</td>\n",
       "      <td>True</td>\n",
       "      <td>ASpSpSW</td>\n",
       "      <td>1800.0</td>\n",
       "    </tr>\n",
       "    <tr>\n",
       "      <th>91</th>\n",
       "      <td>23915821</td>\n",
       "      <td>Blackheart's Bay</td>\n",
       "      <td>1460.0</td>\n",
       "      <td>False</td>\n",
       "      <td>ASpSSW</td>\n",
       "      <td>1804.0</td>\n",
       "    </tr>\n",
       "    <tr>\n",
       "      <th>31</th>\n",
       "      <td>23915858</td>\n",
       "      <td>Sky Temple</td>\n",
       "      <td>1352.0</td>\n",
       "      <td>True</td>\n",
       "      <td>AAASW</td>\n",
       "      <td>1815.0</td>\n",
       "    </tr>\n",
       "    <tr>\n",
       "      <th>30</th>\n",
       "      <td>23915858</td>\n",
       "      <td>Sky Temple</td>\n",
       "      <td>1352.0</td>\n",
       "      <td>False</td>\n",
       "      <td>ASpSSW</td>\n",
       "      <td>2143.0</td>\n",
       "    </tr>\n",
       "    <tr>\n",
       "      <th>161</th>\n",
       "      <td>23915914</td>\n",
       "      <td>Sky Temple</td>\n",
       "      <td>1083.0</td>\n",
       "      <td>True</td>\n",
       "      <td>ASpSSW</td>\n",
       "      <td>3122.0</td>\n",
       "    </tr>\n",
       "    <tr>\n",
       "      <th>160</th>\n",
       "      <td>23915914</td>\n",
       "      <td>Sky Temple</td>\n",
       "      <td>1083.0</td>\n",
       "      <td>False</td>\n",
       "      <td>AAASW</td>\n",
       "      <td>3199.0</td>\n",
       "    </tr>\n",
       "    <tr>\n",
       "      <th>41</th>\n",
       "      <td>23915915</td>\n",
       "      <td>Dragon Shire</td>\n",
       "      <td>1440.0</td>\n",
       "      <td>True</td>\n",
       "      <td>ASpSWW</td>\n",
       "      <td>1616.0</td>\n",
       "    </tr>\n",
       "    <tr>\n",
       "      <th>40</th>\n",
       "      <td>23915915</td>\n",
       "      <td>Dragon Shire</td>\n",
       "      <td>1440.0</td>\n",
       "      <td>False</td>\n",
       "      <td>AASpSW</td>\n",
       "      <td>1952.0</td>\n",
       "    </tr>\n",
       "    <tr>\n",
       "      <th>170</th>\n",
       "      <td>23915927</td>\n",
       "      <td>Dragon Shire</td>\n",
       "      <td>1565.0</td>\n",
       "      <td>True</td>\n",
       "      <td>ASpSWW</td>\n",
       "      <td>1476.0</td>\n",
       "    </tr>\n",
       "    <tr>\n",
       "      <th>171</th>\n",
       "      <td>23915927</td>\n",
       "      <td>Dragon Shire</td>\n",
       "      <td>1565.0</td>\n",
       "      <td>False</td>\n",
       "      <td>ASpSpSW</td>\n",
       "      <td>1468.0</td>\n",
       "    </tr>\n",
       "    <tr>\n",
       "      <th>190</th>\n",
       "      <td>23915986</td>\n",
       "      <td>Blackheart's Bay</td>\n",
       "      <td>1207.0</td>\n",
       "      <td>True</td>\n",
       "      <td>AAASW</td>\n",
       "      <td>2292.0</td>\n",
       "    </tr>\n",
       "    <tr>\n",
       "      <th>192</th>\n",
       "      <td>23915986</td>\n",
       "      <td>Blackheart's Bay</td>\n",
       "      <td>1207.0</td>\n",
       "      <td>False</td>\n",
       "      <td>AASpSW</td>\n",
       "      <td>2218.0</td>\n",
       "    </tr>\n",
       "    <tr>\n",
       "      <th>220</th>\n",
       "      <td>23916011</td>\n",
       "      <td>Sky Temple</td>\n",
       "      <td>1160.0</td>\n",
       "      <td>True</td>\n",
       "      <td>AASpSW</td>\n",
       "      <td>2830.0</td>\n",
       "    </tr>\n",
       "    <tr>\n",
       "      <th>222</th>\n",
       "      <td>23916011</td>\n",
       "      <td>Sky Temple</td>\n",
       "      <td>1160.0</td>\n",
       "      <td>False</td>\n",
       "      <td>AASpSW</td>\n",
       "      <td>2855.0</td>\n",
       "    </tr>\n",
       "  </tbody>\n",
       "</table>\n",
       "</div>"
      ],
      "text/plain": [
       "       ReplayID               Map  ReplayLength IsWinner Composition  Rating\n",
       "14251  23812009  Garden of Terror         814.0     True      AASpSW  2936.0\n",
       "14250  23812009  Garden of Terror         814.0    False      AASpSW  2191.0\n",
       "2      23915730     Haunted Mines         720.0     True      AASpSW  3125.0\n",
       "0      23915730     Haunted Mines         720.0    False      AASpSW  2610.0\n",
       "10     23915740  Garden of Terror        1578.0     True      AASpSW  1686.0\n",
       "11     23915740  Garden of Terror        1578.0    False       AAASW  1442.0\n",
       "90     23915821  Blackheart's Bay        1460.0     True     ASpSpSW  1800.0\n",
       "91     23915821  Blackheart's Bay        1460.0    False      ASpSSW  1804.0\n",
       "31     23915858        Sky Temple        1352.0     True       AAASW  1815.0\n",
       "30     23915858        Sky Temple        1352.0    False      ASpSSW  2143.0\n",
       "161    23915914        Sky Temple        1083.0     True      ASpSSW  3122.0\n",
       "160    23915914        Sky Temple        1083.0    False       AAASW  3199.0\n",
       "41     23915915      Dragon Shire        1440.0     True      ASpSWW  1616.0\n",
       "40     23915915      Dragon Shire        1440.0    False      AASpSW  1952.0\n",
       "170    23915927      Dragon Shire        1565.0     True      ASpSWW  1476.0\n",
       "171    23915927      Dragon Shire        1565.0    False     ASpSpSW  1468.0\n",
       "190    23915986  Blackheart's Bay        1207.0     True       AAASW  2292.0\n",
       "192    23915986  Blackheart's Bay        1207.0    False      AASpSW  2218.0\n",
       "220    23916011        Sky Temple        1160.0     True      AASpSW  2830.0\n",
       "222    23916011        Sky Temple        1160.0    False      AASpSW  2855.0"
      ]
     },
     "execution_count": 54,
     "metadata": {},
     "output_type": "execute_result"
    }
   ],
   "source": [
    "# Perform drop on rows that do not have unqiue values for the pair \"ReplayID\" and \"IsWinner\"\n",
    "DF_Teams.drop_duplicates([\"ReplayID\", \"IsWinner\"], inplace=True)\n",
    "DF_Teams.head(20)"
   ]
  },
  {
   "cell_type": "code",
   "execution_count": 55,
   "metadata": {
    "collapsed": true
   },
   "outputs": [],
   "source": [
    "# Write this to a csv file to be read as needed\n",
    "DF_Teams.to_csv(\"Team_Info.csv\", index=False)"
   ]
  },
  {
   "cell_type": "code",
   "execution_count": 56,
   "metadata": {
    "collapsed": true
   },
   "outputs": [],
   "source": [
    "DF_Teams = pd.read_csv(\"Team_Info.csv\")"
   ]
  },
  {
   "cell_type": "markdown",
   "metadata": {},
   "source": [
    "## Modeling Data\n",
    "\n",
    "We now attempt to generate a model that can be used to predict the outcome of a game, given one team's composition and the average player rating on that team.\n",
    "\n",
    "Our goal is to determine whether any particular combinations of character classes confer an advantage during the game, making a victory more likely. Additionally, our model attempts to identify a relationship between average MMR value and the probability of that team winning the match.\n",
    "\n",
    "From our initial analysis of the compositions in our dataset, we established 56 combinations of character classes that were played.\n",
    "\n",
    "We will create dummies for each of these, and use a \"1\" to indicate that that was the composition played by the team, and a \"0\" to indicate that it was not.\n",
    "\n",
    "This is needed to perform the logistic regression using scikitlearn, where categorical string values are not permitted."
   ]
  },
  {
   "cell_type": "code",
   "execution_count": 58,
   "metadata": {
    "collapsed": false
   },
   "outputs": [],
   "source": [
    "# Create dummies for the Composition feature\n",
    "dummy_comps = pd.get_dummies(DF_Teams[\"Composition\"], prefix=\"COMP\")"
   ]
  },
  {
   "cell_type": "code",
   "execution_count": 59,
   "metadata": {
    "collapsed": false
   },
   "outputs": [
    {
     "data": {
      "text/plain": [
       "(8888, 46)"
      ]
     },
     "execution_count": 59,
     "metadata": {},
     "output_type": "execute_result"
    }
   ],
   "source": [
    "# Convert the True and False values of \"IsWinner\" to 1 or 0\n",
    "# This allows them to be used in the logisitic regression without error\n",
    "DF_Teams[\"IsWinner\"] = DF_Teams[\"IsWinner\"].astype(int)\n",
    "\n",
    "# Create a dataframe that is just the \"IsWinner\", \"Rating\", and dummy values\n",
    "model_df = pd.concat([DF_Teams[[\"IsWinner\", \"Rating\"]], dummy_comps], axis=1)\n",
    "model_df.shape"
   ]
  },
  {
   "cell_type": "code",
   "execution_count": 60,
   "metadata": {
    "collapsed": false
   },
   "outputs": [
    {
     "name": "stdout",
     "output_type": "stream",
     "text": [
      "Descriptive features:\n",
      "       Intercept  Rating  COMP_AAAAA  COMP_AAAAS  COMP_AAAASp  COMP_AAAAW  \\\n",
      "0           1.0  2936.0         0.0         0.0          0.0         0.0   \n",
      "1           1.0  2191.0         0.0         0.0          0.0         0.0   \n",
      "2           1.0  3125.0         0.0         0.0          0.0         0.0   \n",
      "3           1.0  2610.0         0.0         0.0          0.0         0.0   \n",
      "4           1.0  1686.0         0.0         0.0          0.0         0.0   \n",
      "5           1.0  1442.0         0.0         0.0          0.0         0.0   \n",
      "6           1.0  1800.0         0.0         0.0          0.0         0.0   \n",
      "7           1.0  1804.0         0.0         0.0          0.0         0.0   \n",
      "8           1.0  1815.0         0.0         0.0          0.0         0.0   \n",
      "9           1.0  2143.0         0.0         0.0          0.0         0.0   \n",
      "10          1.0  3122.0         0.0         0.0          0.0         0.0   \n",
      "11          1.0  3199.0         0.0         0.0          0.0         0.0   \n",
      "12          1.0  1616.0         0.0         0.0          0.0         0.0   \n",
      "13          1.0  1952.0         0.0         0.0          0.0         0.0   \n",
      "14          1.0  1476.0         0.0         0.0          0.0         0.0   \n",
      "15          1.0  1468.0         0.0         0.0          0.0         0.0   \n",
      "16          1.0  2292.0         0.0         0.0          0.0         0.0   \n",
      "17          1.0  2218.0         0.0         0.0          0.0         0.0   \n",
      "18          1.0  2830.0         0.0         0.0          0.0         0.0   \n",
      "19          1.0  2855.0         0.0         0.0          0.0         0.0   \n",
      "20          1.0  1796.0         0.0         0.0          0.0         0.0   \n",
      "21          1.0  1432.0         0.0         0.0          0.0         0.0   \n",
      "22          1.0  2919.0         0.0         0.0          0.0         0.0   \n",
      "23          1.0  2802.0         0.0         0.0          0.0         0.0   \n",
      "24          1.0  2809.0         0.0         0.0          0.0         0.0   \n",
      "25          1.0  2907.0         0.0         0.0          0.0         0.0   \n",
      "26          1.0  2061.0         0.0         0.0          0.0         0.0   \n",
      "27          1.0  2551.0         0.0         0.0          0.0         0.0   \n",
      "28          1.0  1392.0         0.0         0.0          0.0         0.0   \n",
      "29          1.0  1446.0         0.0         0.0          0.0         0.0   \n",
      "...         ...     ...         ...         ...          ...         ...   \n",
      "8858        1.0  1325.0         0.0         0.0          0.0         0.0   \n",
      "8859        1.0  1553.0         0.0         0.0          0.0         0.0   \n",
      "8860        1.0  1636.0         0.0         0.0          0.0         0.0   \n",
      "8861        1.0  1614.0         0.0         0.0          0.0         0.0   \n",
      "8862        1.0  2768.0         0.0         0.0          0.0         0.0   \n",
      "8863        1.0  2565.0         0.0         0.0          0.0         0.0   \n",
      "8864        1.0  2606.0         0.0         0.0          0.0         0.0   \n",
      "8865        1.0  2407.0         0.0         0.0          0.0         0.0   \n",
      "8866        1.0  2207.0         0.0         0.0          0.0         0.0   \n",
      "8867        1.0  2407.0         0.0         0.0          0.0         0.0   \n",
      "8868        1.0  2216.0         0.0         0.0          0.0         0.0   \n",
      "8869        1.0  1781.0         0.0         0.0          0.0         0.0   \n",
      "8870        1.0  2158.0         0.0         0.0          0.0         0.0   \n",
      "8871        1.0  1872.0         0.0         0.0          0.0         0.0   \n",
      "8872        1.0  1880.0         0.0         0.0          0.0         0.0   \n",
      "8873        1.0  2217.0         0.0         0.0          0.0         0.0   \n",
      "8874        1.0  2177.0         0.0         0.0          0.0         0.0   \n",
      "8875        1.0  2244.0         0.0         0.0          0.0         0.0   \n",
      "8876        1.0  1787.0         0.0         0.0          0.0         0.0   \n",
      "8877        1.0  1859.0         0.0         0.0          0.0         0.0   \n",
      "8878        1.0  1735.0         0.0         0.0          0.0         0.0   \n",
      "8879        1.0  2062.0         0.0         0.0          0.0         0.0   \n",
      "8880        1.0  2143.0         0.0         0.0          0.0         0.0   \n",
      "8881        1.0  1996.0         0.0         0.0          0.0         0.0   \n",
      "8882        1.0  1834.0         0.0         0.0          0.0         0.0   \n",
      "8883        1.0  1914.0         0.0         0.0          0.0         0.0   \n",
      "8884        1.0  3034.0         0.0         0.0          0.0         0.0   \n",
      "8885        1.0  3106.0         0.0         0.0          0.0         0.0   \n",
      "8886        1.0  1437.0         0.0         0.0          0.0         0.0   \n",
      "8887        1.0  1342.0         0.0         0.0          0.0         0.0   \n",
      "\n",
      "      COMP_AAASS  COMP_AAASW  COMP_AAASpS  COMP_AAASpSp      ...        \\\n",
      "0            0.0         0.0          0.0           0.0      ...         \n",
      "1            0.0         0.0          0.0           0.0      ...         \n",
      "2            0.0         0.0          0.0           0.0      ...         \n",
      "3            0.0         0.0          0.0           0.0      ...         \n",
      "4            0.0         0.0          0.0           0.0      ...         \n",
      "5            0.0         1.0          0.0           0.0      ...         \n",
      "6            0.0         0.0          0.0           0.0      ...         \n",
      "7            0.0         0.0          0.0           0.0      ...         \n",
      "8            0.0         1.0          0.0           0.0      ...         \n",
      "9            0.0         0.0          0.0           0.0      ...         \n",
      "10           0.0         0.0          0.0           0.0      ...         \n",
      "11           0.0         1.0          0.0           0.0      ...         \n",
      "12           0.0         0.0          0.0           0.0      ...         \n",
      "13           0.0         0.0          0.0           0.0      ...         \n",
      "14           0.0         0.0          0.0           0.0      ...         \n",
      "15           0.0         0.0          0.0           0.0      ...         \n",
      "16           0.0         1.0          0.0           0.0      ...         \n",
      "17           0.0         0.0          0.0           0.0      ...         \n",
      "18           0.0         0.0          0.0           0.0      ...         \n",
      "19           0.0         0.0          0.0           0.0      ...         \n",
      "20           0.0         0.0          0.0           0.0      ...         \n",
      "21           0.0         0.0          0.0           0.0      ...         \n",
      "22           0.0         0.0          0.0           0.0      ...         \n",
      "23           0.0         0.0          0.0           0.0      ...         \n",
      "24           0.0         0.0          0.0           0.0      ...         \n",
      "25           0.0         1.0          0.0           0.0      ...         \n",
      "26           0.0         0.0          0.0           0.0      ...         \n",
      "27           0.0         0.0          0.0           0.0      ...         \n",
      "28           0.0         1.0          0.0           0.0      ...         \n",
      "29           0.0         0.0          0.0           0.0      ...         \n",
      "...          ...         ...          ...           ...      ...         \n",
      "8858         0.0         1.0          0.0           0.0      ...         \n",
      "8859         0.0         0.0          0.0           0.0      ...         \n",
      "8860         0.0         0.0          0.0           0.0      ...         \n",
      "8861         0.0         0.0          0.0           0.0      ...         \n",
      "8862         0.0         1.0          0.0           0.0      ...         \n",
      "8863         0.0         0.0          0.0           0.0      ...         \n",
      "8864         0.0         0.0          1.0           0.0      ...         \n",
      "8865         0.0         0.0          0.0           0.0      ...         \n",
      "8866         0.0         0.0          0.0           0.0      ...         \n",
      "8867         0.0         0.0          0.0           0.0      ...         \n",
      "8868         0.0         1.0          0.0           0.0      ...         \n",
      "8869         0.0         0.0          0.0           0.0      ...         \n",
      "8870         0.0         1.0          0.0           0.0      ...         \n",
      "8871         0.0         1.0          0.0           0.0      ...         \n",
      "8872         0.0         0.0          0.0           0.0      ...         \n",
      "8873         0.0         1.0          0.0           0.0      ...         \n",
      "8874         0.0         0.0          0.0           0.0      ...         \n",
      "8875         0.0         0.0          0.0           0.0      ...         \n",
      "8876         0.0         0.0          0.0           0.0      ...         \n",
      "8877         0.0         0.0          0.0           0.0      ...         \n",
      "8878         0.0         0.0          0.0           0.0      ...         \n",
      "8879         0.0         0.0          0.0           0.0      ...         \n",
      "8880         0.0         0.0          0.0           0.0      ...         \n",
      "8881         0.0         0.0          0.0           0.0      ...         \n",
      "8882         0.0         0.0          0.0           0.0      ...         \n",
      "8883         0.0         0.0          0.0           0.0      ...         \n",
      "8884         0.0         0.0          0.0           0.0      ...         \n",
      "8885         0.0         0.0          0.0           0.0      ...         \n",
      "8886         0.0         1.0          0.0           0.0      ...         \n",
      "8887         0.0         0.0          0.0           0.0      ...         \n",
      "\n",
      "      COMP_SpSSSW  COMP_SpSSWW  COMP_SpSWWW  COMP_SpSpSSS  COMP_SpSpSSW  \\\n",
      "0             0.0          0.0          0.0           0.0           0.0   \n",
      "1             0.0          0.0          0.0           0.0           0.0   \n",
      "2             0.0          0.0          0.0           0.0           0.0   \n",
      "3             0.0          0.0          0.0           0.0           0.0   \n",
      "4             0.0          0.0          0.0           0.0           0.0   \n",
      "5             0.0          0.0          0.0           0.0           0.0   \n",
      "6             0.0          0.0          0.0           0.0           0.0   \n",
      "7             0.0          0.0          0.0           0.0           0.0   \n",
      "8             0.0          0.0          0.0           0.0           0.0   \n",
      "9             0.0          0.0          0.0           0.0           0.0   \n",
      "10            0.0          0.0          0.0           0.0           0.0   \n",
      "11            0.0          0.0          0.0           0.0           0.0   \n",
      "12            0.0          0.0          0.0           0.0           0.0   \n",
      "13            0.0          0.0          0.0           0.0           0.0   \n",
      "14            0.0          0.0          0.0           0.0           0.0   \n",
      "15            0.0          0.0          0.0           0.0           0.0   \n",
      "16            0.0          0.0          0.0           0.0           0.0   \n",
      "17            0.0          0.0          0.0           0.0           0.0   \n",
      "18            0.0          0.0          0.0           0.0           0.0   \n",
      "19            0.0          0.0          0.0           0.0           0.0   \n",
      "20            0.0          0.0          0.0           0.0           0.0   \n",
      "21            0.0          0.0          0.0           0.0           0.0   \n",
      "22            0.0          0.0          0.0           0.0           0.0   \n",
      "23            0.0          0.0          0.0           0.0           0.0   \n",
      "24            0.0          0.0          0.0           0.0           0.0   \n",
      "25            0.0          0.0          0.0           0.0           0.0   \n",
      "26            0.0          0.0          0.0           0.0           0.0   \n",
      "27            0.0          0.0          0.0           0.0           0.0   \n",
      "28            0.0          0.0          0.0           0.0           0.0   \n",
      "29            0.0          0.0          0.0           0.0           0.0   \n",
      "...           ...          ...          ...           ...           ...   \n",
      "8858          0.0          0.0          0.0           0.0           0.0   \n",
      "8859          0.0          0.0          0.0           0.0           0.0   \n",
      "8860          0.0          0.0          0.0           0.0           0.0   \n",
      "8861          0.0          0.0          0.0           0.0           0.0   \n",
      "8862          0.0          0.0          0.0           0.0           0.0   \n",
      "8863          0.0          0.0          0.0           0.0           0.0   \n",
      "8864          0.0          0.0          0.0           0.0           0.0   \n",
      "8865          0.0          0.0          0.0           0.0           0.0   \n",
      "8866          0.0          0.0          0.0           0.0           0.0   \n",
      "8867          0.0          0.0          0.0           0.0           0.0   \n",
      "8868          0.0          0.0          0.0           0.0           0.0   \n",
      "8869          0.0          0.0          0.0           0.0           0.0   \n",
      "8870          0.0          0.0          0.0           0.0           0.0   \n",
      "8871          0.0          0.0          0.0           0.0           0.0   \n",
      "8872          0.0          0.0          0.0           0.0           0.0   \n",
      "8873          0.0          0.0          0.0           0.0           0.0   \n",
      "8874          0.0          0.0          0.0           0.0           0.0   \n",
      "8875          0.0          0.0          0.0           0.0           0.0   \n",
      "8876          0.0          0.0          0.0           0.0           0.0   \n",
      "8877          0.0          0.0          0.0           0.0           0.0   \n",
      "8878          0.0          0.0          0.0           0.0           0.0   \n",
      "8879          0.0          0.0          0.0           0.0           0.0   \n",
      "8880          0.0          0.0          0.0           0.0           0.0   \n",
      "8881          0.0          0.0          0.0           0.0           0.0   \n",
      "8882          0.0          0.0          0.0           0.0           0.0   \n",
      "8883          0.0          0.0          0.0           0.0           0.0   \n",
      "8884          0.0          0.0          0.0           0.0           0.0   \n",
      "8885          0.0          0.0          0.0           0.0           0.0   \n",
      "8886          0.0          0.0          0.0           0.0           0.0   \n",
      "8887          0.0          0.0          0.0           0.0           0.0   \n",
      "\n",
      "      COMP_SpSpSWW  COMP_SpSpSpSW  COMP_SpSpSpSpS  COMP_SpSpSpSpW  \\\n",
      "0              0.0            0.0             0.0             0.0   \n",
      "1              0.0            0.0             0.0             0.0   \n",
      "2              0.0            0.0             0.0             0.0   \n",
      "3              0.0            0.0             0.0             0.0   \n",
      "4              0.0            0.0             0.0             0.0   \n",
      "5              0.0            0.0             0.0             0.0   \n",
      "6              0.0            0.0             0.0             0.0   \n",
      "7              0.0            0.0             0.0             0.0   \n",
      "8              0.0            0.0             0.0             0.0   \n",
      "9              0.0            0.0             0.0             0.0   \n",
      "10             0.0            0.0             0.0             0.0   \n",
      "11             0.0            0.0             0.0             0.0   \n",
      "12             0.0            0.0             0.0             0.0   \n",
      "13             0.0            0.0             0.0             0.0   \n",
      "14             0.0            0.0             0.0             0.0   \n",
      "15             0.0            0.0             0.0             0.0   \n",
      "16             0.0            0.0             0.0             0.0   \n",
      "17             0.0            0.0             0.0             0.0   \n",
      "18             0.0            0.0             0.0             0.0   \n",
      "19             0.0            0.0             0.0             0.0   \n",
      "20             0.0            0.0             0.0             0.0   \n",
      "21             0.0            0.0             0.0             0.0   \n",
      "22             0.0            0.0             0.0             0.0   \n",
      "23             0.0            0.0             0.0             0.0   \n",
      "24             0.0            0.0             0.0             0.0   \n",
      "25             0.0            0.0             0.0             0.0   \n",
      "26             0.0            0.0             0.0             0.0   \n",
      "27             0.0            0.0             0.0             0.0   \n",
      "28             0.0            0.0             0.0             0.0   \n",
      "29             0.0            0.0             0.0             0.0   \n",
      "...            ...            ...             ...             ...   \n",
      "8858           0.0            0.0             0.0             0.0   \n",
      "8859           0.0            0.0             0.0             0.0   \n",
      "8860           0.0            0.0             0.0             0.0   \n",
      "8861           0.0            0.0             0.0             0.0   \n",
      "8862           0.0            0.0             0.0             0.0   \n",
      "8863           0.0            0.0             0.0             0.0   \n",
      "8864           0.0            0.0             0.0             0.0   \n",
      "8865           0.0            0.0             0.0             0.0   \n",
      "8866           0.0            0.0             0.0             0.0   \n",
      "8867           0.0            0.0             0.0             0.0   \n",
      "8868           0.0            0.0             0.0             0.0   \n",
      "8869           0.0            0.0             0.0             0.0   \n",
      "8870           0.0            0.0             0.0             0.0   \n",
      "8871           0.0            0.0             0.0             0.0   \n",
      "8872           0.0            0.0             0.0             0.0   \n",
      "8873           0.0            0.0             0.0             0.0   \n",
      "8874           0.0            0.0             0.0             0.0   \n",
      "8875           0.0            0.0             0.0             0.0   \n",
      "8876           0.0            0.0             0.0             0.0   \n",
      "8877           0.0            0.0             0.0             0.0   \n",
      "8878           0.0            0.0             0.0             0.0   \n",
      "8879           0.0            0.0             0.0             0.0   \n",
      "8880           0.0            0.0             0.0             0.0   \n",
      "8881           0.0            0.0             0.0             0.0   \n",
      "8882           0.0            0.0             0.0             0.0   \n",
      "8883           0.0            0.0             0.0             0.0   \n",
      "8884           0.0            0.0             0.0             0.0   \n",
      "8885           0.0            0.0             0.0             0.0   \n",
      "8886           0.0            0.0             0.0             0.0   \n",
      "8887           0.0            0.0             0.0             0.0   \n",
      "\n",
      "      COMP_SpSpSpWW  \n",
      "0               0.0  \n",
      "1               0.0  \n",
      "2               0.0  \n",
      "3               0.0  \n",
      "4               0.0  \n",
      "5               0.0  \n",
      "6               0.0  \n",
      "7               0.0  \n",
      "8               0.0  \n",
      "9               0.0  \n",
      "10              0.0  \n",
      "11              0.0  \n",
      "12              0.0  \n",
      "13              0.0  \n",
      "14              0.0  \n",
      "15              0.0  \n",
      "16              0.0  \n",
      "17              0.0  \n",
      "18              0.0  \n",
      "19              0.0  \n",
      "20              0.0  \n",
      "21              0.0  \n",
      "22              0.0  \n",
      "23              0.0  \n",
      "24              0.0  \n",
      "25              0.0  \n",
      "26              0.0  \n",
      "27              0.0  \n",
      "28              0.0  \n",
      "29              0.0  \n",
      "...             ...  \n",
      "8858            0.0  \n",
      "8859            0.0  \n",
      "8860            0.0  \n",
      "8861            0.0  \n",
      "8862            0.0  \n",
      "8863            0.0  \n",
      "8864            0.0  \n",
      "8865            0.0  \n",
      "8866            0.0  \n",
      "8867            0.0  \n",
      "8868            0.0  \n",
      "8869            0.0  \n",
      "8870            0.0  \n",
      "8871            0.0  \n",
      "8872            0.0  \n",
      "8873            0.0  \n",
      "8874            0.0  \n",
      "8875            0.0  \n",
      "8876            0.0  \n",
      "8877            0.0  \n",
      "8878            0.0  \n",
      "8879            0.0  \n",
      "8880            0.0  \n",
      "8881            0.0  \n",
      "8882            0.0  \n",
      "8883            0.0  \n",
      "8884            0.0  \n",
      "8885            0.0  \n",
      "8886            0.0  \n",
      "8887            0.0  \n",
      "\n",
      "[8888 rows x 46 columns]\n",
      "\n",
      "Target feature:\n",
      " 0       1\n",
      "1       0\n",
      "2       1\n",
      "3       0\n",
      "4       1\n",
      "5       0\n",
      "6       1\n",
      "7       0\n",
      "8       1\n",
      "9       0\n",
      "10      1\n",
      "11      0\n",
      "12      1\n",
      "13      0\n",
      "14      1\n",
      "15      0\n",
      "16      1\n",
      "17      0\n",
      "18      1\n",
      "19      0\n",
      "20      1\n",
      "21      0\n",
      "22      1\n",
      "23      0\n",
      "24      1\n",
      "25      0\n",
      "26      1\n",
      "27      0\n",
      "28      1\n",
      "29      0\n",
      "       ..\n",
      "8858    1\n",
      "8859    0\n",
      "8860    1\n",
      "8861    0\n",
      "8862    1\n",
      "8863    0\n",
      "8864    1\n",
      "8865    0\n",
      "8866    1\n",
      "8867    0\n",
      "8868    1\n",
      "8869    0\n",
      "8870    1\n",
      "8871    0\n",
      "8872    1\n",
      "8873    0\n",
      "8874    1\n",
      "8875    0\n",
      "8876    1\n",
      "8877    0\n",
      "8878    1\n",
      "8879    0\n",
      "8880    1\n",
      "8881    0\n",
      "8882    1\n",
      "8883    0\n",
      "8884    1\n",
      "8885    0\n",
      "8886    1\n",
      "8887    0\n",
      "Name: IsWinner, dtype: int32\n"
     ]
    }
   ],
   "source": [
    "# Set up intercept column\n",
    "intercept = pd.DataFrame({'Intercept': np.ones(len(DF_Teams))})\n",
    "\n",
    "# For our X matrix, we want all of the dummy columns for Composition, the Rating, and the Intercept\n",
    "X = pd.concat([intercept, model_df.drop(\"IsWinner\", axis=1)], axis=1)\n",
    "\n",
    "# For our y vector, we just want the \"IsWinner\" feature (target feature)\n",
    "y = model_df.IsWinner\n",
    "print(\"Descriptive features:\\n\", X)\n",
    "print(\"\\nTarget feature:\\n\", y)"
   ]
  },
  {
   "cell_type": "code",
   "execution_count": 61,
   "metadata": {
    "collapsed": false
   },
   "outputs": [
    {
     "name": "stdout",
     "output_type": "stream",
     "text": [
      "Coefficients: \n",
      " [[ -1.55558150e-01   1.45313998e-04]]\n"
     ]
    }
   ],
   "source": [
    "# Train our model using just the \"Rating\" feature\n",
    "model = LogisticRegression().fit(X[[\"Intercept\", \"Rating\"]], y)\n",
    "print(\"Coefficients: \\n\", model.coef_)"
   ]
  },
  {
   "cell_type": "code",
   "execution_count": 62,
   "metadata": {
    "collapsed": false
   },
   "outputs": [
    {
     "data": {
      "text/plain": [
       "array([[ 0.47115068,  0.52884932],\n",
       "       [ 0.49818334,  0.50181666],\n",
       "       [ 0.4643133 ,  0.5356867 ],\n",
       "       ..., \n",
       "       [ 0.46500009,  0.53499991],\n",
       "       [ 0.52555274,  0.47444726],\n",
       "       [ 0.52899367,  0.47100633]])"
      ]
     },
     "execution_count": 62,
     "metadata": {},
     "output_type": "execute_result"
    }
   ],
   "source": [
    "# Get the probabilities that, given a particular team rating, the result will be a win or a loss\n",
    "model.predict_proba(X[[\"Intercept\", \"Rating\"]])"
   ]
  },
  {
   "cell_type": "code",
   "execution_count": 63,
   "metadata": {
    "collapsed": false
   },
   "outputs": [
    {
     "name": "stdout",
     "output_type": "stream",
     "text": [
      "Predictions:  [1 1 1 ..., 1 0 0]\n"
     ]
    }
   ],
   "source": [
    "# Based on this model, attempt to correctly predict the \"IsWinner\" feature based on in-sample data\n",
    "predictions = model.predict(X[[\"Intercept\", \"Rating\"]])\n",
    "print(\"Predictions: \", predictions)"
   ]
  },
  {
   "cell_type": "code",
   "execution_count": 64,
   "metadata": {
    "collapsed": false
   },
   "outputs": [
    {
     "data": {
      "text/plain": [
       "0.51271377137713769"
      ]
     },
     "execution_count": 64,
     "metadata": {},
     "output_type": "execute_result"
    }
   ],
   "source": [
    "# Get the score, indicating the percentage of times that our model correctly predits the outcome\n",
    "model.score(X[[\"Intercept\", \"Rating\"]], y)"
   ]
  },
  {
   "cell_type": "code",
   "execution_count": 65,
   "metadata": {
    "collapsed": false
   },
   "outputs": [
    {
     "name": "stdout",
     "output_type": "stream",
     "text": [
      "Accuracy:  0.512713771377\n",
      "Confusion matrix: \n",
      " [[2427 2017]\n",
      " [2314 2130]]\n",
      "Classification report:\n",
      "               precision    recall  f1-score   support\n",
      "\n",
      "          0       0.51      0.55      0.53      4444\n",
      "          1       0.51      0.48      0.50      4444\n",
      "\n",
      "avg / total       0.51      0.51      0.51      8888\n",
      "\n"
     ]
    }
   ],
   "source": [
    "# Get more detailed information\n",
    "print(\"Accuracy: \", metrics.accuracy_score(y, predictions))\n",
    "print(\"Confusion matrix: \\n\", metrics.confusion_matrix(y, predictions))\n",
    "print(\"Classification report:\\n \", metrics.classification_report(y, predictions))"
   ]
  },
  {
   "cell_type": "markdown",
   "metadata": {},
   "source": [
    "## Normalise continuous feature \"Rating\"\n",
    "\n",
    "\"Rating\" is a continuous feature with no set range.\n",
    "\n",
    "Here we normalise it so that the lowest value is represented as -1 and the highest value is represented as +1\n",
    "\n",
    "Everything in between is adjusted accordingly."
   ]
  },
  {
   "cell_type": "code",
   "execution_count": 66,
   "metadata": {
    "collapsed": false
   },
   "outputs": [
    {
     "data": {
      "text/plain": [
       "0    0.424501\n",
       "1    0.000000\n",
       "2    0.532194\n",
       "3    0.238746\n",
       "4   -0.287749\n",
       "Name: Rating, dtype: float64"
      ]
     },
     "execution_count": 66,
     "metadata": {},
     "output_type": "execute_result"
    }
   ],
   "source": [
    "# Create a dataframe for just the continuous descriptive features that we are interested in -> \"Rating\"\n",
    "df_cont = model_df[\"Rating\"]\n",
    "df_norm = (df_cont - df_cont.min()) / (df_cont.max() - df_cont.min())\n",
    "df_norm = df_norm * 2 - 1\n",
    "df_norm.head()"
   ]
  },
  {
   "cell_type": "code",
   "execution_count": 67,
   "metadata": {
    "collapsed": false
   },
   "outputs": [
    {
     "data": {
      "text/html": [
       "<div>\n",
       "<table border=\"1\" class=\"dataframe\">\n",
       "  <thead>\n",
       "    <tr style=\"text-align: right;\">\n",
       "      <th></th>\n",
       "      <th>Intercept</th>\n",
       "      <th>Rating</th>\n",
       "      <th>IsWinner</th>\n",
       "      <th>COMP_AAAAA</th>\n",
       "      <th>COMP_AAAAS</th>\n",
       "      <th>COMP_AAAASp</th>\n",
       "      <th>COMP_AAAAW</th>\n",
       "      <th>COMP_AAASS</th>\n",
       "      <th>COMP_AAASW</th>\n",
       "      <th>COMP_AAASpS</th>\n",
       "      <th>...</th>\n",
       "      <th>COMP_SpSSSW</th>\n",
       "      <th>COMP_SpSSWW</th>\n",
       "      <th>COMP_SpSWWW</th>\n",
       "      <th>COMP_SpSpSSS</th>\n",
       "      <th>COMP_SpSpSSW</th>\n",
       "      <th>COMP_SpSpSWW</th>\n",
       "      <th>COMP_SpSpSpSW</th>\n",
       "      <th>COMP_SpSpSpSpS</th>\n",
       "      <th>COMP_SpSpSpSpW</th>\n",
       "      <th>COMP_SpSpSpWW</th>\n",
       "    </tr>\n",
       "  </thead>\n",
       "  <tbody>\n",
       "    <tr>\n",
       "      <th>0</th>\n",
       "      <td>1.0</td>\n",
       "      <td>0.424501</td>\n",
       "      <td>1</td>\n",
       "      <td>0.0</td>\n",
       "      <td>0.0</td>\n",
       "      <td>0.0</td>\n",
       "      <td>0.0</td>\n",
       "      <td>0.0</td>\n",
       "      <td>0.0</td>\n",
       "      <td>0.0</td>\n",
       "      <td>...</td>\n",
       "      <td>0.0</td>\n",
       "      <td>0.0</td>\n",
       "      <td>0.0</td>\n",
       "      <td>0.0</td>\n",
       "      <td>0.0</td>\n",
       "      <td>0.0</td>\n",
       "      <td>0.0</td>\n",
       "      <td>0.0</td>\n",
       "      <td>0.0</td>\n",
       "      <td>0.0</td>\n",
       "    </tr>\n",
       "    <tr>\n",
       "      <th>1</th>\n",
       "      <td>1.0</td>\n",
       "      <td>0.000000</td>\n",
       "      <td>0</td>\n",
       "      <td>0.0</td>\n",
       "      <td>0.0</td>\n",
       "      <td>0.0</td>\n",
       "      <td>0.0</td>\n",
       "      <td>0.0</td>\n",
       "      <td>0.0</td>\n",
       "      <td>0.0</td>\n",
       "      <td>...</td>\n",
       "      <td>0.0</td>\n",
       "      <td>0.0</td>\n",
       "      <td>0.0</td>\n",
       "      <td>0.0</td>\n",
       "      <td>0.0</td>\n",
       "      <td>0.0</td>\n",
       "      <td>0.0</td>\n",
       "      <td>0.0</td>\n",
       "      <td>0.0</td>\n",
       "      <td>0.0</td>\n",
       "    </tr>\n",
       "    <tr>\n",
       "      <th>2</th>\n",
       "      <td>1.0</td>\n",
       "      <td>0.532194</td>\n",
       "      <td>1</td>\n",
       "      <td>0.0</td>\n",
       "      <td>0.0</td>\n",
       "      <td>0.0</td>\n",
       "      <td>0.0</td>\n",
       "      <td>0.0</td>\n",
       "      <td>0.0</td>\n",
       "      <td>0.0</td>\n",
       "      <td>...</td>\n",
       "      <td>0.0</td>\n",
       "      <td>0.0</td>\n",
       "      <td>0.0</td>\n",
       "      <td>0.0</td>\n",
       "      <td>0.0</td>\n",
       "      <td>0.0</td>\n",
       "      <td>0.0</td>\n",
       "      <td>0.0</td>\n",
       "      <td>0.0</td>\n",
       "      <td>0.0</td>\n",
       "    </tr>\n",
       "    <tr>\n",
       "      <th>3</th>\n",
       "      <td>1.0</td>\n",
       "      <td>0.238746</td>\n",
       "      <td>0</td>\n",
       "      <td>0.0</td>\n",
       "      <td>0.0</td>\n",
       "      <td>0.0</td>\n",
       "      <td>0.0</td>\n",
       "      <td>0.0</td>\n",
       "      <td>0.0</td>\n",
       "      <td>0.0</td>\n",
       "      <td>...</td>\n",
       "      <td>0.0</td>\n",
       "      <td>0.0</td>\n",
       "      <td>0.0</td>\n",
       "      <td>0.0</td>\n",
       "      <td>0.0</td>\n",
       "      <td>0.0</td>\n",
       "      <td>0.0</td>\n",
       "      <td>0.0</td>\n",
       "      <td>0.0</td>\n",
       "      <td>0.0</td>\n",
       "    </tr>\n",
       "    <tr>\n",
       "      <th>4</th>\n",
       "      <td>1.0</td>\n",
       "      <td>-0.287749</td>\n",
       "      <td>1</td>\n",
       "      <td>0.0</td>\n",
       "      <td>0.0</td>\n",
       "      <td>0.0</td>\n",
       "      <td>0.0</td>\n",
       "      <td>0.0</td>\n",
       "      <td>0.0</td>\n",
       "      <td>0.0</td>\n",
       "      <td>...</td>\n",
       "      <td>0.0</td>\n",
       "      <td>0.0</td>\n",
       "      <td>0.0</td>\n",
       "      <td>0.0</td>\n",
       "      <td>0.0</td>\n",
       "      <td>0.0</td>\n",
       "      <td>0.0</td>\n",
       "      <td>0.0</td>\n",
       "      <td>0.0</td>\n",
       "      <td>0.0</td>\n",
       "    </tr>\n",
       "    <tr>\n",
       "      <th>5</th>\n",
       "      <td>1.0</td>\n",
       "      <td>-0.426781</td>\n",
       "      <td>0</td>\n",
       "      <td>0.0</td>\n",
       "      <td>0.0</td>\n",
       "      <td>0.0</td>\n",
       "      <td>0.0</td>\n",
       "      <td>0.0</td>\n",
       "      <td>1.0</td>\n",
       "      <td>0.0</td>\n",
       "      <td>...</td>\n",
       "      <td>0.0</td>\n",
       "      <td>0.0</td>\n",
       "      <td>0.0</td>\n",
       "      <td>0.0</td>\n",
       "      <td>0.0</td>\n",
       "      <td>0.0</td>\n",
       "      <td>0.0</td>\n",
       "      <td>0.0</td>\n",
       "      <td>0.0</td>\n",
       "      <td>0.0</td>\n",
       "    </tr>\n",
       "    <tr>\n",
       "      <th>6</th>\n",
       "      <td>1.0</td>\n",
       "      <td>-0.222792</td>\n",
       "      <td>1</td>\n",
       "      <td>0.0</td>\n",
       "      <td>0.0</td>\n",
       "      <td>0.0</td>\n",
       "      <td>0.0</td>\n",
       "      <td>0.0</td>\n",
       "      <td>0.0</td>\n",
       "      <td>0.0</td>\n",
       "      <td>...</td>\n",
       "      <td>0.0</td>\n",
       "      <td>0.0</td>\n",
       "      <td>0.0</td>\n",
       "      <td>0.0</td>\n",
       "      <td>0.0</td>\n",
       "      <td>0.0</td>\n",
       "      <td>0.0</td>\n",
       "      <td>0.0</td>\n",
       "      <td>0.0</td>\n",
       "      <td>0.0</td>\n",
       "    </tr>\n",
       "    <tr>\n",
       "      <th>7</th>\n",
       "      <td>1.0</td>\n",
       "      <td>-0.220513</td>\n",
       "      <td>0</td>\n",
       "      <td>0.0</td>\n",
       "      <td>0.0</td>\n",
       "      <td>0.0</td>\n",
       "      <td>0.0</td>\n",
       "      <td>0.0</td>\n",
       "      <td>0.0</td>\n",
       "      <td>0.0</td>\n",
       "      <td>...</td>\n",
       "      <td>0.0</td>\n",
       "      <td>0.0</td>\n",
       "      <td>0.0</td>\n",
       "      <td>0.0</td>\n",
       "      <td>0.0</td>\n",
       "      <td>0.0</td>\n",
       "      <td>0.0</td>\n",
       "      <td>0.0</td>\n",
       "      <td>0.0</td>\n",
       "      <td>0.0</td>\n",
       "    </tr>\n",
       "    <tr>\n",
       "      <th>8</th>\n",
       "      <td>1.0</td>\n",
       "      <td>-0.214245</td>\n",
       "      <td>1</td>\n",
       "      <td>0.0</td>\n",
       "      <td>0.0</td>\n",
       "      <td>0.0</td>\n",
       "      <td>0.0</td>\n",
       "      <td>0.0</td>\n",
       "      <td>1.0</td>\n",
       "      <td>0.0</td>\n",
       "      <td>...</td>\n",
       "      <td>0.0</td>\n",
       "      <td>0.0</td>\n",
       "      <td>0.0</td>\n",
       "      <td>0.0</td>\n",
       "      <td>0.0</td>\n",
       "      <td>0.0</td>\n",
       "      <td>0.0</td>\n",
       "      <td>0.0</td>\n",
       "      <td>0.0</td>\n",
       "      <td>0.0</td>\n",
       "    </tr>\n",
       "    <tr>\n",
       "      <th>9</th>\n",
       "      <td>1.0</td>\n",
       "      <td>-0.027350</td>\n",
       "      <td>0</td>\n",
       "      <td>0.0</td>\n",
       "      <td>0.0</td>\n",
       "      <td>0.0</td>\n",
       "      <td>0.0</td>\n",
       "      <td>0.0</td>\n",
       "      <td>0.0</td>\n",
       "      <td>0.0</td>\n",
       "      <td>...</td>\n",
       "      <td>0.0</td>\n",
       "      <td>0.0</td>\n",
       "      <td>0.0</td>\n",
       "      <td>0.0</td>\n",
       "      <td>0.0</td>\n",
       "      <td>0.0</td>\n",
       "      <td>0.0</td>\n",
       "      <td>0.0</td>\n",
       "      <td>0.0</td>\n",
       "      <td>0.0</td>\n",
       "    </tr>\n",
       "  </tbody>\n",
       "</table>\n",
       "<p>10 rows × 47 columns</p>\n",
       "</div>"
      ],
      "text/plain": [
       "   Intercept    Rating  IsWinner  COMP_AAAAA  COMP_AAAAS  COMP_AAAASp  \\\n",
       "0        1.0  0.424501         1         0.0         0.0          0.0   \n",
       "1        1.0  0.000000         0         0.0         0.0          0.0   \n",
       "2        1.0  0.532194         1         0.0         0.0          0.0   \n",
       "3        1.0  0.238746         0         0.0         0.0          0.0   \n",
       "4        1.0 -0.287749         1         0.0         0.0          0.0   \n",
       "5        1.0 -0.426781         0         0.0         0.0          0.0   \n",
       "6        1.0 -0.222792         1         0.0         0.0          0.0   \n",
       "7        1.0 -0.220513         0         0.0         0.0          0.0   \n",
       "8        1.0 -0.214245         1         0.0         0.0          0.0   \n",
       "9        1.0 -0.027350         0         0.0         0.0          0.0   \n",
       "\n",
       "   COMP_AAAAW  COMP_AAASS  COMP_AAASW  COMP_AAASpS      ...        \\\n",
       "0         0.0         0.0         0.0          0.0      ...         \n",
       "1         0.0         0.0         0.0          0.0      ...         \n",
       "2         0.0         0.0         0.0          0.0      ...         \n",
       "3         0.0         0.0         0.0          0.0      ...         \n",
       "4         0.0         0.0         0.0          0.0      ...         \n",
       "5         0.0         0.0         1.0          0.0      ...         \n",
       "6         0.0         0.0         0.0          0.0      ...         \n",
       "7         0.0         0.0         0.0          0.0      ...         \n",
       "8         0.0         0.0         1.0          0.0      ...         \n",
       "9         0.0         0.0         0.0          0.0      ...         \n",
       "\n",
       "   COMP_SpSSSW  COMP_SpSSWW  COMP_SpSWWW  COMP_SpSpSSS  COMP_SpSpSSW  \\\n",
       "0          0.0          0.0          0.0           0.0           0.0   \n",
       "1          0.0          0.0          0.0           0.0           0.0   \n",
       "2          0.0          0.0          0.0           0.0           0.0   \n",
       "3          0.0          0.0          0.0           0.0           0.0   \n",
       "4          0.0          0.0          0.0           0.0           0.0   \n",
       "5          0.0          0.0          0.0           0.0           0.0   \n",
       "6          0.0          0.0          0.0           0.0           0.0   \n",
       "7          0.0          0.0          0.0           0.0           0.0   \n",
       "8          0.0          0.0          0.0           0.0           0.0   \n",
       "9          0.0          0.0          0.0           0.0           0.0   \n",
       "\n",
       "   COMP_SpSpSWW  COMP_SpSpSpSW  COMP_SpSpSpSpS  COMP_SpSpSpSpW  COMP_SpSpSpWW  \n",
       "0           0.0            0.0             0.0             0.0            0.0  \n",
       "1           0.0            0.0             0.0             0.0            0.0  \n",
       "2           0.0            0.0             0.0             0.0            0.0  \n",
       "3           0.0            0.0             0.0             0.0            0.0  \n",
       "4           0.0            0.0             0.0             0.0            0.0  \n",
       "5           0.0            0.0             0.0             0.0            0.0  \n",
       "6           0.0            0.0             0.0             0.0            0.0  \n",
       "7           0.0            0.0             0.0             0.0            0.0  \n",
       "8           0.0            0.0             0.0             0.0            0.0  \n",
       "9           0.0            0.0             0.0             0.0            0.0  \n",
       "\n",
       "[10 rows x 47 columns]"
      ]
     },
     "execution_count": 67,
     "metadata": {},
     "output_type": "execute_result"
    }
   ],
   "source": [
    "# Create dataframe as before, with intercept, but replacing the rating values\n",
    "no_rating = model_df.drop(\"Rating\", axis=1)\n",
    "DF_Normalised = pd.concat([intercept, df_norm, no_rating], axis=1)\n",
    "DF_Normalised.head(10)"
   ]
  },
  {
   "cell_type": "markdown",
   "metadata": {},
   "source": [
    "## Retraining model using normalised continuous features, and additional features\n",
    "We train the model again using the normalised values for the \"Rating\" feature, and now also include the \"Team Composition\" features, represented in binary form"
   ]
  },
  {
   "cell_type": "code",
   "execution_count": 68,
   "metadata": {
    "collapsed": false
   },
   "outputs": [
    {
     "name": "stdout",
     "output_type": "stream",
     "text": [
      "[[-0.07476318  0.25409149  0.93427155 -0.23314207 -0.43557589 -0.03281093\n",
      "  -0.21576509  0.10927711  0.04035293  0.33528477 -0.22808854  0.45232898\n",
      "   0.45000805 -0.03420324  0.06896043  0.03866077  0.22078809 -0.18068819\n",
      "   0.75376012 -0.26914599 -0.44758239 -0.35368051 -0.77279375  0.38463857\n",
      "  -0.21583659 -0.61169186  0.05053286  0.0646983  -0.09656732  0.39979792\n",
      "  -0.18218916 -0.36544713  0.50683477 -0.12907947 -0.1999036   0.40818465\n",
      "   0.92282104 -0.13078763 -0.8170273  -0.34392031  0.14809065  0.01347309\n",
      "   0.22842819 -0.39064154  0.44796997 -0.3673575 ]]\n"
     ]
    }
   ],
   "source": [
    "# Set up X and y again\n",
    "# This time include the team composition features\n",
    "X2 = DF_Normalised.drop(\"IsWinner\", axis=1)\n",
    "y2 = DF_Normalised.IsWinner\n",
    "\n",
    "logreg = LogisticRegression().fit(X2, y2)\n",
    "print(logreg.coef_)"
   ]
  },
  {
   "cell_type": "code",
   "execution_count": 69,
   "metadata": {
    "collapsed": false
   },
   "outputs": [
    {
     "name": "stdout",
     "output_type": "stream",
     "text": [
      "Predictions:  [1 1 1 ..., 1 0 0]\n"
     ]
    }
   ],
   "source": [
    "# Run predictions again\n",
    "predictions2 = logreg.predict(X2)\n",
    "print(\"Predictions: \", predictions2)"
   ]
  },
  {
   "cell_type": "code",
   "execution_count": 70,
   "metadata": {
    "collapsed": false
   },
   "outputs": [
    {
     "name": "stdout",
     "output_type": "stream",
     "text": [
      "Accuracy:  0.532628262826\n",
      "Confusion matrix: \n",
      " [[2332 2112]\n",
      " [2042 2402]]\n",
      "Classification report:\n",
      "               precision    recall  f1-score   support\n",
      "\n",
      "          0       0.53      0.52      0.53      4444\n",
      "          1       0.53      0.54      0.54      4444\n",
      "\n",
      "avg / total       0.53      0.53      0.53      8888\n",
      "\n"
     ]
    }
   ],
   "source": [
    "# Print information on results\n",
    "print(\"Accuracy: \", metrics.accuracy_score(DF_Normalised['IsWinner'], predictions2))\n",
    "print(\"Confusion matrix: \\n\", metrics.confusion_matrix(DF_Normalised['IsWinner'], predictions2))\n",
    "print(\"Classification report:\\n \", metrics.classification_report(DF_Normalised['IsWinner'], predictions2))"
   ]
  },
  {
   "cell_type": "markdown",
   "metadata": {},
   "source": [
    "While the predictive power of the model still seems quite low, there is a minor improvement to be noted when using more than just the \"Rating\" feature for our predictions"
   ]
  },
  {
   "cell_type": "markdown",
   "metadata": {},
   "source": [
    "## Train Test Split - Model evaluation with out-of-sample data"
   ]
  },
  {
   "cell_type": "code",
   "execution_count": 71,
   "metadata": {
    "collapsed": true
   },
   "outputs": [],
   "source": [
    "# Split our data 70:30 (training:test)\n",
    "X_train, X_test, y_train, y_test = train_test_split(X2, y2, test_size=0.3)"
   ]
  },
  {
   "cell_type": "code",
   "execution_count": 72,
   "metadata": {
    "collapsed": false
   },
   "outputs": [
    {
     "name": "stdout",
     "output_type": "stream",
     "text": [
      "[[-0.0869472   0.23402479  0.74347992 -0.76899953 -0.11269056  0.16174176\n",
      "  -0.59304074  0.10345256 -0.09061227  0.10723528 -0.23954907  0.12506734\n",
      "   0.45348827 -0.03992224  0.08213085  0.0326005   0.22696745  0.00932585\n",
      "   0.45499812 -0.13074532 -0.47158914  0.         -0.43300636  0.24449525\n",
      "   0.04792149 -0.35748731  0.02857289  0.12119476 -0.16274656  0.42369402\n",
      "  -0.25663798 -0.36155776  0.78437554  0.33950101  0.08902778  0.\n",
      "   0.43258824 -0.11330253 -0.34697774 -0.34179184  0.11117062  0.17611394\n",
      "  -0.26906355 -0.38466783  0.4516085  -0.36331078]]\n"
     ]
    }
   ],
   "source": [
    "# Train our model on the training set\n",
    "logreg_train = LogisticRegression().fit(X_train, y_train)\n",
    "print(logreg_train.coef_)"
   ]
  },
  {
   "cell_type": "code",
   "execution_count": 73,
   "metadata": {
    "collapsed": false
   },
   "outputs": [
    {
     "name": "stdout",
     "output_type": "stream",
     "text": [
      "[[ 0.41494913  0.58505087]\n",
      " [ 0.52366009  0.47633991]\n",
      " [ 0.45187745  0.54812255]\n",
      " ..., \n",
      " [ 0.54826299  0.45173701]\n",
      " [ 0.49039997  0.50960003]\n",
      " [ 0.49996647  0.50003353]]\n"
     ]
    }
   ],
   "source": [
    "# Print the predicted probabilities for each outcome of a game\n",
    "print(logreg_train.predict_proba(X_test))"
   ]
  },
  {
   "cell_type": "code",
   "execution_count": 74,
   "metadata": {
    "collapsed": false
   },
   "outputs": [
    {
     "name": "stdout",
     "output_type": "stream",
     "text": [
      "[1 0 1 ..., 0 1 1]\n"
     ]
    }
   ],
   "source": [
    "# Estimate the \"IsWinner\" category that each row in the test data will fall into\n",
    "# 1 => Victory\n",
    "# 0 => Loss\n",
    "predicted = logreg_train.predict(X_test)\n",
    "print(predicted)"
   ]
  },
  {
   "cell_type": "code",
   "execution_count": 75,
   "metadata": {
    "collapsed": false
   },
   "outputs": [
    {
     "name": "stdout",
     "output_type": "stream",
     "text": [
      "0.527934008249\n"
     ]
    }
   ],
   "source": [
    "# Print model score\n",
    "print(metrics.accuracy_score(y_test, predicted))"
   ]
  },
  {
   "cell_type": "code",
   "execution_count": 76,
   "metadata": {
    "collapsed": false
   },
   "outputs": [
    {
     "name": "stdout",
     "output_type": "stream",
     "text": [
      "[ 0.52294197  0.52734639  0.52937205]\n",
      "0.526553467934\n"
     ]
    }
   ],
   "source": [
    "# Further evaluation of the model using 3-fold cross validation\n",
    "scores = cross_val_score(LogisticRegression(), X2, y2, scoring='accuracy', cv=3)\n",
    "print(scores)\n",
    "print(scores.mean())"
   ]
  },
  {
   "cell_type": "markdown",
   "metadata": {},
   "source": [
    "# Evaluation\n",
    "\n",
    "After training and retraining the model and examining its predictive power on in-sample versus out-of-sample data, we still achieve a final accuracy rating of roughly 52%.\n",
    "\n",
    "This indicates that our model, given the information of \"Team Composition\" and \"Rating\", will correctly predict the outcome of a game just over half of the time.\n",
    "\n",
    "Given that there are only 2 possible outcomes to every game (win or lose), this indicates that our model is not very strong.\n",
    "\n",
    "It is possible that a stronger predictive model may be generated given additional data on each of the individual players, and using this in combination with what we have created up to this point."
   ]
  },
  {
   "cell_type": "markdown",
   "metadata": {},
   "source": [
    "## Analysing impact of maps\n",
    "\n",
    "The maps used were selected for the distinctiveness of their mechanics, as there is some overlap between game-modes. Limiting our analysis to maps representative of a particular play-style should emphasise the impact of the feature on whether a match is won or lost by a particular composition. \n",
    "\n",
    "Let's look at two maps with very distinct mechanisms in terms of team objective.  \n",
    "* <b>Garden of Terror</b> emphasizes on capturing resources to gain damage support.\n",
    "* <b>Sky Temple</b> focuses on capture specific points on the map to deal damages to enemy's team.  "
   ]
  },
  {
   "cell_type": "code",
   "execution_count": 77,
   "metadata": {
    "collapsed": false
   },
   "outputs": [
    {
     "data": {
      "text/plain": [
       "(44440, 10)"
      ]
     },
     "execution_count": 77,
     "metadata": {},
     "output_type": "execute_result"
    }
   ],
   "source": [
    "DataFrame.shape"
   ]
  },
  {
   "cell_type": "code",
   "execution_count": 78,
   "metadata": {
    "collapsed": false
   },
   "outputs": [
    {
     "data": {
      "text/plain": [
       "ReplayID        6410\n",
       "Map             6410\n",
       "ReplayLength    6410\n",
       "Hero            6410\n",
       "HeroLevel       6410\n",
       "IsWinner        6410\n",
       "MMRbefore       6410\n",
       "Group           6410\n",
       "Composition     6410\n",
       "Rating          6410\n",
       "dtype: int64"
      ]
     },
     "execution_count": 78,
     "metadata": {},
     "output_type": "execute_result"
    }
   ],
   "source": [
    "DataFrame[DataFrame.Map == 'Garden of Terror'].count()\n",
    "# DataFrame[DataFrame.Map == \"Sky Temple\"].count()"
   ]
  },
  {
   "cell_type": "code",
   "execution_count": 79,
   "metadata": {
    "collapsed": false
   },
   "outputs": [
    {
     "data": {
      "text/plain": [
       "array(['Garden of Terror', 'Haunted Mines', \"Blackheart's Bay\",\n",
       "       'Sky Temple', 'Dragon Shire', 'Tomb of the Spider Queen',\n",
       "       'Cursed Hollow'], dtype=object)"
      ]
     },
     "execution_count": 79,
     "metadata": {},
     "output_type": "execute_result"
    }
   ],
   "source": [
    "DataFrame.Map.unique()"
   ]
  },
  {
   "cell_type": "code",
   "execution_count": 80,
   "metadata": {
    "collapsed": true
   },
   "outputs": [],
   "source": [
    "import numpy as np\n",
    "import pandas as pd\n",
    "import matplotlib.pyplot as plt\n",
    "from patsy import dmatrices\n",
    "from sklearn.linear_model import LogisticRegression\n",
    "from sklearn.cross_validation import train_test_split\n",
    "from sklearn import metrics\n",
    "from sklearn.cross_validation import cross_val_score"
   ]
  },
  {
   "cell_type": "markdown",
   "metadata": {},
   "source": [
    "# Garden of Terror Map"
   ]
  },
  {
   "cell_type": "code",
   "execution_count": 81,
   "metadata": {
    "collapsed": false
   },
   "outputs": [
    {
     "data": {
      "text/plain": [
       "(1282, 6)"
      ]
     },
     "execution_count": 81,
     "metadata": {},
     "output_type": "execute_result"
    }
   ],
   "source": [
    "GardenTerror = DF_Teams[DF_Teams['Map'] == 'Garden of Terror']\n",
    "GardenTerror.shape"
   ]
  },
  {
   "cell_type": "code",
   "execution_count": 82,
   "metadata": {
    "collapsed": false
   },
   "outputs": [
    {
     "data": {
      "text/plain": [
       "(1282,)"
      ]
     },
     "execution_count": 82,
     "metadata": {},
     "output_type": "execute_result"
    }
   ],
   "source": [
    "GardenTerror.ReplayLength.shape"
   ]
  },
  {
   "cell_type": "code",
   "execution_count": 83,
   "metadata": {
    "collapsed": false
   },
   "outputs": [
    {
     "data": {
      "text/html": [
       "<div>\n",
       "<table border=\"1\" class=\"dataframe\">\n",
       "  <thead>\n",
       "    <tr style=\"text-align: right;\">\n",
       "      <th></th>\n",
       "      <th>Intercept</th>\n",
       "    </tr>\n",
       "  </thead>\n",
       "  <tbody>\n",
       "    <tr>\n",
       "      <th>0</th>\n",
       "      <td>1.0</td>\n",
       "    </tr>\n",
       "    <tr>\n",
       "      <th>1</th>\n",
       "      <td>1.0</td>\n",
       "    </tr>\n",
       "    <tr>\n",
       "      <th>2</th>\n",
       "      <td>1.0</td>\n",
       "    </tr>\n",
       "    <tr>\n",
       "      <th>3</th>\n",
       "      <td>1.0</td>\n",
       "    </tr>\n",
       "    <tr>\n",
       "      <th>4</th>\n",
       "      <td>1.0</td>\n",
       "    </tr>\n",
       "  </tbody>\n",
       "</table>\n",
       "</div>"
      ],
      "text/plain": [
       "   Intercept\n",
       "0        1.0\n",
       "1        1.0\n",
       "2        1.0\n",
       "3        1.0\n",
       "4        1.0"
      ]
     },
     "execution_count": 83,
     "metadata": {},
     "output_type": "execute_result"
    }
   ],
   "source": [
    "# Prepare an intercept term that adds a 1 to each example.\n",
    "# Scikit-learn does not use an intercept by default.\n",
    "intercept = pd.DataFrame({'Intercept': np.ones(len(GardenTerror))})\n",
    "intercept.head()"
   ]
  },
  {
   "cell_type": "code",
   "execution_count": 86,
   "metadata": {
    "collapsed": false
   },
   "outputs": [
    {
     "data": {
      "text/html": [
       "<div>\n",
       "<table border=\"1\" class=\"dataframe\">\n",
       "  <thead>\n",
       "    <tr style=\"text-align: right;\">\n",
       "      <th></th>\n",
       "      <th>ReplayID</th>\n",
       "      <th>Map</th>\n",
       "      <th>ReplayLength</th>\n",
       "      <th>IsWinner</th>\n",
       "      <th>Composition</th>\n",
       "      <th>Rating</th>\n",
       "    </tr>\n",
       "  </thead>\n",
       "  <tbody>\n",
       "    <tr>\n",
       "      <th>0</th>\n",
       "      <td>23812009</td>\n",
       "      <td>Garden of Terror</td>\n",
       "      <td>814.0</td>\n",
       "      <td>1</td>\n",
       "      <td>AASpSW</td>\n",
       "      <td>2936.0</td>\n",
       "    </tr>\n",
       "    <tr>\n",
       "      <th>1</th>\n",
       "      <td>23812009</td>\n",
       "      <td>Garden of Terror</td>\n",
       "      <td>814.0</td>\n",
       "      <td>0</td>\n",
       "      <td>AASpSW</td>\n",
       "      <td>2191.0</td>\n",
       "    </tr>\n",
       "    <tr>\n",
       "      <th>4</th>\n",
       "      <td>23915740</td>\n",
       "      <td>Garden of Terror</td>\n",
       "      <td>1578.0</td>\n",
       "      <td>1</td>\n",
       "      <td>AASpSW</td>\n",
       "      <td>1686.0</td>\n",
       "    </tr>\n",
       "    <tr>\n",
       "      <th>5</th>\n",
       "      <td>23915740</td>\n",
       "      <td>Garden of Terror</td>\n",
       "      <td>1578.0</td>\n",
       "      <td>0</td>\n",
       "      <td>AAASW</td>\n",
       "      <td>1442.0</td>\n",
       "    </tr>\n",
       "    <tr>\n",
       "      <th>22</th>\n",
       "      <td>23916034</td>\n",
       "      <td>Garden of Terror</td>\n",
       "      <td>1644.0</td>\n",
       "      <td>1</td>\n",
       "      <td>ASpSpSW</td>\n",
       "      <td>2919.0</td>\n",
       "    </tr>\n",
       "  </tbody>\n",
       "</table>\n",
       "</div>"
      ],
      "text/plain": [
       "    ReplayID               Map  ReplayLength  IsWinner Composition  Rating\n",
       "0   23812009  Garden of Terror         814.0         1      AASpSW  2936.0\n",
       "1   23812009  Garden of Terror         814.0         0      AASpSW  2191.0\n",
       "4   23915740  Garden of Terror        1578.0         1      AASpSW  1686.0\n",
       "5   23915740  Garden of Terror        1578.0         0       AAASW  1442.0\n",
       "22  23916034  Garden of Terror        1644.0         1     ASpSpSW  2919.0"
      ]
     },
     "execution_count": 86,
     "metadata": {},
     "output_type": "execute_result"
    }
   ],
   "source": [
    "GardenTerror.head()"
   ]
  },
  {
   "cell_type": "code",
   "execution_count": 87,
   "metadata": {
    "collapsed": false
   },
   "outputs": [
    {
     "name": "stdout",
     "output_type": "stream",
     "text": [
      "(1282, 6)\n",
      "(1282, 6)\n",
      "Descriptive features:\n",
      "       Intercept  IsWinner Composition\n",
      "0           1.0       1.0      AASpSW\n",
      "1           1.0       0.0      AASpSW\n",
      "2           1.0       NaN         NaN\n",
      "3           1.0       NaN         NaN\n",
      "4           1.0       1.0      AASpSW\n",
      "5           1.0       0.0       AAASW\n",
      "6           1.0       NaN         NaN\n",
      "7           1.0       NaN         NaN\n",
      "8           1.0       NaN         NaN\n",
      "9           1.0       NaN         NaN\n",
      "10          1.0       NaN         NaN\n",
      "11          1.0       NaN         NaN\n",
      "12          1.0       NaN         NaN\n",
      "13          1.0       NaN         NaN\n",
      "14          1.0       NaN         NaN\n",
      "15          1.0       NaN         NaN\n",
      "16          1.0       NaN         NaN\n",
      "17          1.0       NaN         NaN\n",
      "18          1.0       NaN         NaN\n",
      "19          1.0       NaN         NaN\n",
      "20          1.0       NaN         NaN\n",
      "21          1.0       NaN         NaN\n",
      "22          1.0       1.0     ASpSpSW\n",
      "23          1.0       0.0       AASWW\n",
      "24          1.0       NaN         NaN\n",
      "25          1.0       NaN         NaN\n",
      "26          1.0       1.0       AASSW\n",
      "27          1.0       0.0      AASpSW\n",
      "28          1.0       NaN         NaN\n",
      "29          1.0       NaN         NaN\n",
      "...         ...       ...         ...\n",
      "8624        NaN       1.0      AASpWW\n",
      "8625        NaN       0.0     ASpSpSW\n",
      "8628        NaN       1.0      AASpSW\n",
      "8629        NaN       0.0       AAASW\n",
      "8632        NaN       1.0      AASpSW\n",
      "8633        NaN       0.0      AASpSW\n",
      "8638        NaN       1.0       AASWW\n",
      "8639        NaN       0.0      AASpSW\n",
      "8644        NaN       1.0       AAASW\n",
      "8645        NaN       0.0       AASSW\n",
      "8670        NaN       1.0       AAASW\n",
      "8671        NaN       0.0      AASpSW\n",
      "8676        NaN       1.0      AASpSW\n",
      "8677        NaN       0.0      AASpSW\n",
      "8700        NaN       1.0       AASWW\n",
      "8701        NaN       0.0      AASpSW\n",
      "8710        NaN       1.0       AAAWW\n",
      "8711        NaN       0.0       AASSW\n",
      "8718        NaN       1.0       AASWW\n",
      "8719        NaN       0.0      AASpSW\n",
      "8796        NaN       1.0     ASpSpSW\n",
      "8797        NaN       0.0       AAASW\n",
      "8816        NaN       1.0      AASpSW\n",
      "8817        NaN       0.0      ASpSWW\n",
      "8822        NaN       1.0      AASpSW\n",
      "8823        NaN       0.0      AASpSW\n",
      "8862        NaN       1.0       AAASW\n",
      "8863        NaN       0.0      ASpSSW\n",
      "8866        NaN       1.0      ASpSSW\n",
      "8867        NaN       0.0      AASpSW\n",
      "\n",
      "[2382 rows x 3 columns]\n",
      "\n",
      "Target feature:\n",
      " 0       1\n",
      "1       0\n",
      "4       1\n",
      "5       0\n",
      "22      1\n",
      "23      0\n",
      "26      1\n",
      "27      0\n",
      "42      1\n",
      "43      0\n",
      "44      1\n",
      "45      0\n",
      "48      1\n",
      "49      0\n",
      "86      1\n",
      "87      0\n",
      "142     1\n",
      "143     0\n",
      "146     1\n",
      "147     0\n",
      "148     1\n",
      "149     0\n",
      "160     1\n",
      "161     0\n",
      "174     1\n",
      "175     0\n",
      "176     1\n",
      "177     0\n",
      "192     1\n",
      "193     0\n",
      "       ..\n",
      "8624    1\n",
      "8625    0\n",
      "8628    1\n",
      "8629    0\n",
      "8632    1\n",
      "8633    0\n",
      "8638    1\n",
      "8639    0\n",
      "8644    1\n",
      "8645    0\n",
      "8670    1\n",
      "8671    0\n",
      "8676    1\n",
      "8677    0\n",
      "8700    1\n",
      "8701    0\n",
      "8710    1\n",
      "8711    0\n",
      "8718    1\n",
      "8719    0\n",
      "8796    1\n",
      "8797    0\n",
      "8816    1\n",
      "8817    0\n",
      "8822    1\n",
      "8823    0\n",
      "8862    1\n",
      "8863    0\n",
      "8866    1\n",
      "8867    0\n",
      "Name: IsWinner, dtype: int32\n"
     ]
    }
   ],
   "source": [
    "print(GardenTerror.shape)\n",
    "GardenTerror = GardenTerror.iloc[:5000]\n",
    "print(GardenTerror.shape)\n",
    "\n",
    "# Prepare the descriptive features\n",
    "X = pd.concat([intercept, GardenTerror[['IsWinner', 'Composition']]], axis=1)\n",
    "y = GardenTerror.IsWinner\n",
    "print(\"Descriptive features:\\n\", X)\n",
    "print(\"\\nTarget feature:\\n\", y)"
   ]
  },
  {
   "cell_type": "code",
   "execution_count": 89,
   "metadata": {
    "collapsed": false
   },
   "outputs": [
    {
     "data": {
      "text/html": [
       "<div>\n",
       "<table border=\"1\" class=\"dataframe\">\n",
       "  <thead>\n",
       "    <tr style=\"text-align: right;\">\n",
       "      <th></th>\n",
       "      <th>ReplayID</th>\n",
       "      <th>Map</th>\n",
       "      <th>ReplayLength</th>\n",
       "      <th>IsWinner</th>\n",
       "      <th>Composition</th>\n",
       "      <th>Rating</th>\n",
       "      <th>0</th>\n",
       "      <th>1</th>\n",
       "    </tr>\n",
       "  </thead>\n",
       "  <tbody>\n",
       "    <tr>\n",
       "      <th>0</th>\n",
       "      <td>23812009</td>\n",
       "      <td>Garden of Terror</td>\n",
       "      <td>814.0</td>\n",
       "      <td>1</td>\n",
       "      <td>AASpSW</td>\n",
       "      <td>2936.0</td>\n",
       "      <td>0.0</td>\n",
       "      <td>1.0</td>\n",
       "    </tr>\n",
       "    <tr>\n",
       "      <th>1</th>\n",
       "      <td>23812009</td>\n",
       "      <td>Garden of Terror</td>\n",
       "      <td>814.0</td>\n",
       "      <td>0</td>\n",
       "      <td>AASpSW</td>\n",
       "      <td>2191.0</td>\n",
       "      <td>1.0</td>\n",
       "      <td>0.0</td>\n",
       "    </tr>\n",
       "    <tr>\n",
       "      <th>4</th>\n",
       "      <td>23915740</td>\n",
       "      <td>Garden of Terror</td>\n",
       "      <td>1578.0</td>\n",
       "      <td>1</td>\n",
       "      <td>AASpSW</td>\n",
       "      <td>1686.0</td>\n",
       "      <td>0.0</td>\n",
       "      <td>1.0</td>\n",
       "    </tr>\n",
       "    <tr>\n",
       "      <th>5</th>\n",
       "      <td>23915740</td>\n",
       "      <td>Garden of Terror</td>\n",
       "      <td>1578.0</td>\n",
       "      <td>0</td>\n",
       "      <td>AAASW</td>\n",
       "      <td>1442.0</td>\n",
       "      <td>1.0</td>\n",
       "      <td>0.0</td>\n",
       "    </tr>\n",
       "    <tr>\n",
       "      <th>22</th>\n",
       "      <td>23916034</td>\n",
       "      <td>Garden of Terror</td>\n",
       "      <td>1644.0</td>\n",
       "      <td>1</td>\n",
       "      <td>ASpSpSW</td>\n",
       "      <td>2919.0</td>\n",
       "      <td>0.0</td>\n",
       "      <td>1.0</td>\n",
       "    </tr>\n",
       "    <tr>\n",
       "      <th>23</th>\n",
       "      <td>23916034</td>\n",
       "      <td>Garden of Terror</td>\n",
       "      <td>1644.0</td>\n",
       "      <td>0</td>\n",
       "      <td>AASWW</td>\n",
       "      <td>2802.0</td>\n",
       "      <td>1.0</td>\n",
       "      <td>0.0</td>\n",
       "    </tr>\n",
       "    <tr>\n",
       "      <th>26</th>\n",
       "      <td>23916090</td>\n",
       "      <td>Garden of Terror</td>\n",
       "      <td>1442.0</td>\n",
       "      <td>1</td>\n",
       "      <td>AASSW</td>\n",
       "      <td>2061.0</td>\n",
       "      <td>0.0</td>\n",
       "      <td>1.0</td>\n",
       "    </tr>\n",
       "    <tr>\n",
       "      <th>27</th>\n",
       "      <td>23916090</td>\n",
       "      <td>Garden of Terror</td>\n",
       "      <td>1442.0</td>\n",
       "      <td>0</td>\n",
       "      <td>AASpSW</td>\n",
       "      <td>2551.0</td>\n",
       "      <td>1.0</td>\n",
       "      <td>0.0</td>\n",
       "    </tr>\n",
       "    <tr>\n",
       "      <th>42</th>\n",
       "      <td>23916538</td>\n",
       "      <td>Garden of Terror</td>\n",
       "      <td>1132.0</td>\n",
       "      <td>1</td>\n",
       "      <td>AAASW</td>\n",
       "      <td>2104.0</td>\n",
       "      <td>0.0</td>\n",
       "      <td>1.0</td>\n",
       "    </tr>\n",
       "    <tr>\n",
       "      <th>43</th>\n",
       "      <td>23916538</td>\n",
       "      <td>Garden of Terror</td>\n",
       "      <td>1132.0</td>\n",
       "      <td>0</td>\n",
       "      <td>ASpSWW</td>\n",
       "      <td>2004.0</td>\n",
       "      <td>1.0</td>\n",
       "      <td>0.0</td>\n",
       "    </tr>\n",
       "  </tbody>\n",
       "</table>\n",
       "</div>"
      ],
      "text/plain": [
       "    ReplayID               Map  ReplayLength  IsWinner Composition  Rating  \\\n",
       "0   23812009  Garden of Terror         814.0         1      AASpSW  2936.0   \n",
       "1   23812009  Garden of Terror         814.0         0      AASpSW  2191.0   \n",
       "4   23915740  Garden of Terror        1578.0         1      AASpSW  1686.0   \n",
       "5   23915740  Garden of Terror        1578.0         0       AAASW  1442.0   \n",
       "22  23916034  Garden of Terror        1644.0         1     ASpSpSW  2919.0   \n",
       "23  23916034  Garden of Terror        1644.0         0       AASWW  2802.0   \n",
       "26  23916090  Garden of Terror        1442.0         1       AASSW  2061.0   \n",
       "27  23916090  Garden of Terror        1442.0         0      AASpSW  2551.0   \n",
       "42  23916538  Garden of Terror        1132.0         1       AAASW  2104.0   \n",
       "43  23916538  Garden of Terror        1132.0         0      ASpSWW  2004.0   \n",
       "\n",
       "      0    1  \n",
       "0   0.0  1.0  \n",
       "1   1.0  0.0  \n",
       "4   0.0  1.0  \n",
       "5   1.0  0.0  \n",
       "22  0.0  1.0  \n",
       "23  1.0  0.0  \n",
       "26  0.0  1.0  \n",
       "27  1.0  0.0  \n",
       "42  0.0  1.0  \n",
       "43  1.0  0.0  "
      ]
     },
     "execution_count": 89,
     "metadata": {},
     "output_type": "execute_result"
    }
   ],
   "source": [
    "#Create dummy values for Winner feature\n",
    "GardenTerror_IsWinner = pd.get_dummies(GardenTerror['IsWinner'])\n",
    "\n",
    "#GardenTerror_IsWinner.head()\n",
    "\n",
    "Winner_new = pd.concat([GardenTerror, GardenTerror_IsWinner], axis=1)\n",
    "\n",
    "Winner_new.head(10)"
   ]
  },
  {
   "cell_type": "code",
   "execution_count": 91,
   "metadata": {
    "collapsed": false
   },
   "outputs": [
    {
     "name": "stdout",
     "output_type": "stream",
     "text": [
      "Optimization terminated successfully.\n",
      "         Current function value: 0.692292\n",
      "         Iterations 3\n",
      "Intercept   -0.29794\n",
      "Rating       0.00014\n",
      "dtype: float64\n"
     ]
    }
   ],
   "source": [
    "#import the needed module\n",
    "import statsmodels.formula.api as sm\n",
    "\n",
    "logreg = sm.logit(formula=\"IsWinner ~ Rating\", data= Winner_new[['IsWinner', 'Rating']]).fit()\n",
    "\n",
    "# Print the model weights/parameters\n",
    "print(logreg.params)"
   ]
  },
  {
   "cell_type": "code",
   "execution_count": 92,
   "metadata": {
    "collapsed": false
   },
   "outputs": [
    {
     "data": {
      "text/plain": [
       "[<matplotlib.lines.Line2D at 0x1836dfd4cc0>]"
      ]
     },
     "execution_count": 92,
     "metadata": {},
     "output_type": "execute_result"
    },
    {
     "data": {
      "image/png": "[encoded data removed]",
      "text/plain": [
       "<matplotlib.figure.Figure at 0x1836df94470>"
      ]
     },
     "metadata": {},
     "output_type": "display_data"
    }
   ],
   "source": [
    "X_minmax = pd.DataFrame({'Rating': [Winner_new.Rating.min(), Winner_new.Rating.max()]})\n",
    "\n",
    "predictions = logreg.predict(Winner_new)\n",
    "\n",
    "# First, plot the observed data\n",
    "Winner_new.plot(kind='scatter', x='Rating', y='IsWinner')\n",
    "\n",
    "# Next, plot the logistic regression estimation, in red.\n",
    "plt.plot(Winner_new.ReplayLength, predictions, c='red', linewidth=2)\n",
    "\n",
    "# Plot the linear decision surface estimated by logistic regression\n",
    "plt.plot(X_minmax, logreg.predict(X_minmax), c='blue', linewidth=1, linestyle='dashed')"
   ]
  },
  {
   "cell_type": "markdown",
   "metadata": {},
   "source": [
    "Due to the design of the in-game matchmaking system, the difference in average MMR values between opposing teams is usually not significant (as the goal of the process is to avoid one-sided matches). This may explain the difficulty in capturing this relationship and therefore the shallow gradient of the best-fit line.\n"
   ]
  },
  {
   "cell_type": "markdown",
   "metadata": {},
   "source": [
    "# Sky Temple Map"
   ]
  },
  {
   "cell_type": "code",
   "execution_count": 94,
   "metadata": {
    "collapsed": false
   },
   "outputs": [
    {
     "name": "stdout",
     "output_type": "stream",
     "text": [
      "Optimization terminated successfully.\n",
      "         Current function value: 0.692135\n",
      "         Iterations 3\n",
      "Intercept   -0.336192\n",
      "Rating       0.000156\n",
      "dtype: float64\n"
     ]
    },
    {
     "data": {
      "text/plain": [
       "[<matplotlib.lines.Line2D at 0x1836dfdfda0>]"
      ]
     },
     "execution_count": 94,
     "metadata": {},
     "output_type": "execute_result"
    },
    {
     "data": {
      "image/png": "[encoded data removed]",
      "text/plain": [
       "<matplotlib.figure.Figure at 0x1836df7c5c0>"
      ]
     },
     "metadata": {},
     "output_type": "display_data"
    }
   ],
   "source": [
    "SkyTemple = DF_Teams.loc[DF_Teams['Map'] == 'Sky Temple']\n",
    "\n",
    "intercept = pd.DataFrame({'Intercept': np.ones(len(SkyTemple))})\n",
    "intercept.head()\n",
    "\n",
    "SkyTemple = SkyTemple.iloc[:5000]\n",
    "\n",
    "# Prepare the descriptive features\n",
    "X = pd.concat([intercept, SkyTemple[['IsWinner', 'Composition']]], axis=1)\n",
    "y = SkyTemple.IsWinner\n",
    "\n",
    "SkyTemple_IsWinner = pd.get_dummies(SkyTemple['IsWinner'])\n",
    "Winner_Sky = pd.concat([SkyTemple, SkyTemple_IsWinner], axis=1)\n",
    "\n",
    "logreg = sm.logit(formula=\"IsWinner ~ Rating\", data= Winner_Sky[['IsWinner', 'Rating']]).fit()\n",
    "\n",
    "# Print the model weights/parameters\n",
    "print(logreg.params)\n",
    "\n",
    "X_minmax = pd.DataFrame({'Rating': [Winner_Sky.Rating.min(), Winner_Sky.Rating.max()]})\n",
    "\n",
    "predictions = logreg.predict(Winner_Sky)\n",
    "\n",
    "# First, plot the observed data\n",
    "Winner_Sky.plot(kind='scatter', x='Rating', y='IsWinner')\n",
    "# Next, plot the logistic regression estimation, in red.\n",
    "plt.plot(Winner_Sky.ReplayLength, predictions, c='red', linewidth=2)\n",
    "# Plot the linear decision surface estimated by logistic regression\n",
    "plt.plot(X_minmax, logreg.predict(X_minmax), c='blue', linewidth=1, linestyle='dashed')"
   ]
  },
  {
   "cell_type": "markdown",
   "metadata": {},
   "source": [
    "## 1. Determine the most played heroes in each category:\n",
    "After looking at the most played 7 Heroes in the games across the data set, the results were as follows:\n",
    "* Support  \n",
    "Brightwing  \n",
    "Lili\n",
    "  \n",
    "  \n",
    "* Assassin  \n",
    "Valla  \n",
    "Jaina  \n",
    "-Kael'Thas\n",
    "  \n",
    "  \n",
    "* Warrior  \n",
    "E.T.C\n",
    "\n",
    "  \n",
    "* Specialist  \n",
    "Sylvanas\n",
    "\n",
    "#### Now to compare with the top 7 heroes by win rate:\n",
    "* Support  \n",
    "Brightwing\n",
    "  \n",
    "  \n",
    "* Assassin  \n",
    "Jaina\n",
    "  \n",
    "  \n",
    "* Warrior  \n",
    "Anub'Arak  \n",
    "Tyrael\n",
    "\n",
    "  \n",
    "* Specialist  \n",
    "The Lost Vikings  \n",
    "Sylvanas  \n",
    "Murky\n",
    "\n",
    "\n",
    "In the end only 3 out of the 7 most played heroes belong to the highest win-rate bracket, suggesting that popularity is not strongly linked to actual utility.\n",
    "\n",
    "\n",
    "## 2. Identify the various team compositions played\n",
    "After studying the dataset we have established that a total of <b>46 unique team compositions</b> have been played by users out of the 56 total combinations possible.  \n",
    "  See below\n",
    "\n",
    "## 3. Study the effect of team rating on the outcome of a match.\n",
    "\n",
    "Training our model on the average team rating feature gave an accuracy score of 51%, so the model was able to predict the outcome of a game just over half the time. \n",
    "\n",
    "As discussed above, the weakness of MMR as a predictor may be an outcome of the in-game matchmaking system working as designed and pairing teams with similar skill levels.\n",
    "\n",
    "## 4. Does team composition affect the outcome of a game?\n",
    "\n",
    "Updating the model to use the team composition feature improved the accuracy score to 52%. So our model suggests that team composition does affect the outcome of a game but unfortunately only with slightly more confidence we would expect from flipping a coin."
   ]
  },
  {
   "cell_type": "code",
   "execution_count": 95,
   "metadata": {
    "collapsed": false
   },
   "outputs": [
    {
     "name": "stdout",
     "output_type": "stream",
     "text": [
      "['Assassin', 'Assassin', 'Specialist', 'Support', 'Warrior'] ------ 3689\n",
      "['Assassin', 'Assassin', 'Assassin', 'Support', 'Warrior'] ------ 1374\n",
      "['Assassin', 'Specialist', 'Specialist', 'Support', 'Warrior'] ------ 958\n",
      "['Assassin', 'Specialist', 'Support', 'Support', 'Warrior'] ------ 735\n",
      "['Assassin', 'Specialist', 'Support', 'Warrior', 'Warrior'] ------ 360\n",
      "['Assassin', 'Assassin', 'Support', 'Support', 'Warrior'] ------ 860\n",
      "['Assassin', 'Assassin', 'Support', 'Warrior', 'Warrior'] ------ 377\n",
      "['Assassin', 'Assassin', 'Assassin', 'Specialist', 'Support'] ------ 52\n",
      "['Specialist', 'Specialist', 'Support', 'Warrior', 'Warrior'] ------ 24\n",
      "['Assassin', 'Assassin', 'Specialist', 'Specialist', 'Support'] ------ 52\n",
      "['Specialist', 'Specialist', 'Support', 'Support', 'Warrior'] ------ 46\n",
      "['Assassin', 'Assassin', 'Assassin', 'Assassin', 'Support'] ------ 13\n",
      "['Assassin', 'Support', 'Support', 'Warrior', 'Warrior'] ------ 53\n",
      "['Assassin', 'Specialist', 'Warrior', 'Warrior', 'Warrior'] ------ 3\n",
      "['Assassin', 'Assassin', 'Specialist', 'Specialist', 'Warrior'] ------ 37\n",
      "['Assassin', 'Specialist', 'Specialist', 'Specialist', 'Support'] ------ 8\n",
      "['Assassin', 'Assassin', 'Assassin', 'Specialist', 'Warrior'] ------ 44\n",
      "['Specialist', 'Specialist', 'Specialist', 'Support', 'Warrior'] ------ 32\n",
      "['Assassin', 'Support', 'Warrior', 'Warrior', 'Warrior'] ------ 3\n",
      "['Assassin', 'Assassin', 'Assassin', 'Assassin', 'Assassin'] ------ 3\n",
      "['Assassin', 'Assassin', 'Specialist', 'Support', 'Support'] ------ 34\n",
      "['Specialist', 'Support', 'Support', 'Warrior', 'Warrior'] ------ 12\n",
      "['Assassin', 'Assassin', 'Assassin', 'Assassin', 'Specialist'] ------ 7\n",
      "['Assassin', 'Assassin', 'Specialist', 'Warrior', 'Warrior'] ------ 30\n",
      "['Assassin', 'Specialist', 'Specialist', 'Specialist', 'Warrior'] ------ 6\n",
      "['Assassin', 'Assassin', 'Assassin', 'Assassin', 'Warrior'] ------ 7\n",
      "['Specialist', 'Specialist', 'Support', 'Support', 'Support'] ------ 1\n",
      "['Assassin', 'Assassin', 'Assassin', 'Support', 'Support'] ------ 13\n",
      "['Assassin', 'Assassin', 'Assassin', 'Specialist', 'Specialist'] ------ 5\n",
      "['Assassin', 'Specialist', 'Specialist', 'Support', 'Support'] ------ 14\n",
      "['Assassin', 'Support', 'Support', 'Support', 'Warrior'] ------ 6\n",
      "['Assassin', 'Assassin', 'Assassin', 'Warrior', 'Warrior'] ------ 8\n",
      "['Assassin', 'Assassin', 'Specialist', 'Specialist', 'Specialist'] ------ 2\n",
      "['Assassin', 'Specialist', 'Specialist', 'Warrior', 'Warrior'] ------ 5\n",
      "['Specialist', 'Specialist', 'Specialist', 'Specialist', 'Support'] ------ 1\n",
      "['Assassin', 'Specialist', 'Support', 'Support', 'Support'] ------ 2\n",
      "['Support', 'Support', 'Warrior', 'Warrior', 'Warrior'] ------ 1\n",
      "['Specialist', 'Support', 'Warrior', 'Warrior', 'Warrior'] ------ 3\n",
      "['Assassin', 'Assassin', 'Support', 'Support', 'Support'] ------ 1\n",
      "['Specialist', 'Support', 'Support', 'Support', 'Warrior'] ------ 3\n",
      "['Assassin', 'Assassin', 'Warrior', 'Warrior', 'Warrior'] ------ 1\n",
      "['Specialist', 'Specialist', 'Specialist', 'Specialist', 'Warrior'] ------ 1\n",
      "['Specialist', 'Specialist', 'Specialist', 'Warrior', 'Warrior'] ------ 1\n",
      "['Assassin', 'Specialist', 'Specialist', 'Specialist', 'Specialist'] ------ 1\n"
     ]
    }
   ],
   "source": [
    "# unique_comps is a list containing every unique team composition played in our dataset\n",
    "# composition_list is a list containing every team composition played, regardless of how many times\n",
    "# We can cycle through the lists and count the number of times each composition was played\n",
    "# From this we can determine the most popular selection of classes, and the least popular\n",
    "most_played_value = 0\n",
    "least_played_value = 9999\n",
    "most_played_team = []\n",
    "least_played_team = []\n",
    "\n",
    "for i in unique_comps:\n",
    "    if composition_list.count(i) > most_played_value:\n",
    "        most_played_value = composition_list.count(i)\n",
    "        most_played_team = i\n",
    "    if composition_list.count(i) < least_played_value:\n",
    "        least_played_value = composition_list.count(i)\n",
    "        least_played_team = i\n",
    "    print(i, \"------\", composition_list.count(i))"
   ]
  },
  {
   "cell_type": "code",
   "execution_count": 96,
   "metadata": {
    "collapsed": false
   },
   "outputs": [
    {
     "name": "stdout",
     "output_type": "stream",
     "text": [
      "Most Played\n",
      "['Assassin', 'Assassin', 'Specialist', 'Support', 'Warrior'] played 3689 times\n",
      "\n",
      "Least Played\n",
      "['Specialist', 'Specialist', 'Support', 'Support', 'Support'] played 1 time(s).\n"
     ]
    }
   ],
   "source": [
    "# Information on most and least commonly played compositions\n",
    "print(\"Most Played\")\n",
    "print(most_played_team,\"played\", most_played_value, \"times\")\n",
    "print(\"\\nLeast Played\")\n",
    "print(least_played_team,\"played\", least_played_value, \"time(s).\")"
   ]
  },
  {
   "cell_type": "markdown",
   "metadata": {
    "collapsed": true
   },
   "source": [
    "# Challenges encountered in the Analysis\n",
    "\n",
    "### 1- Zero-Sum Game of certain features\n",
    "As the game opposes two teams some features of the dataset looked at alone would not provide insightful knowledge. For example, looking at the effect of a ReplayLength on the outcome of the game would not make sense as for any one team that wins, one loses. \n",
    "\n",
    "### 2- Need to work with large dataset (several million records)\n",
    "It was a challenge to get the dataset to run in the Jupyter notebook on local machines due to the hardware limitation and the relatively impressive size of the dataset. It required a lot of deleting dataframe that were no longer useful in order to free up as much memory as possible to carry on the future operations on the remaining relevant dataframes.\n",
    "\n",
    "### 3- Choosing between StatsModels and SciKit-learn for the Logistic Regression part of Analysis\n",
    "Initially we planned to train our model using StatsModels for our all of our evaluations, but ran into issues with passing multiple descriptive features to the logisitic regression function.  We therefore decided to go with SciKit-Learn when examining Team Composition and Team Rating.  We used StatsModels when performing analysis on the different maps as planned."
   ]
  }
 ],
 "metadata": {
  "kernelspec": {
   "display_name": "Python 3",
   "language": "python",
   "name": "python3"
  },
  "language_info": {
   "codemirror_mode": {
    "name": "ipython",
    "version": 3
   },
   "file_extension": ".py",
   "mimetype": "text/x-python",
   "name": "python",
   "nbconvert_exporter": "python",
   "pygments_lexer": "ipython3",
   "version": "3.5.1"
  }
 },
 "nbformat": 4,
 "nbformat_minor": 0
}
